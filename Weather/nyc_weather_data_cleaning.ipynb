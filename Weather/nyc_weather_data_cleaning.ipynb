{
 "cells": [
  {
   "cell_type": "code",
   "execution_count": 2,
   "metadata": {},
   "outputs": [
    {
     "ename": "ModuleNotFoundError",
     "evalue": "No module named 'pytemperature'",
     "output_type": "error",
     "traceback": [
      "\u001b[0;31m---------------------------------------------------------------------------\u001b[0m",
      "\u001b[0;31mModuleNotFoundError\u001b[0m                       Traceback (most recent call last)",
      "\u001b[0;32m<ipython-input-2-18037abb0f4e>\u001b[0m in \u001b[0;36m<module>\u001b[0;34m\u001b[0m\n\u001b[1;32m      1\u001b[0m \u001b[0;32mimport\u001b[0m \u001b[0mpandas\u001b[0m \u001b[0;32mas\u001b[0m \u001b[0mpd\u001b[0m\u001b[0;34m\u001b[0m\u001b[0;34m\u001b[0m\u001b[0m\n\u001b[0;32m----> 2\u001b[0;31m \u001b[0;32mimport\u001b[0m \u001b[0mpytemperature\u001b[0m\u001b[0;34m\u001b[0m\u001b[0;34m\u001b[0m\u001b[0m\n\u001b[0m",
      "\u001b[0;31mModuleNotFoundError\u001b[0m: No module named 'pytemperature'"
     ]
    }
   ],
   "source": [
    "import pandas as pd\n",
    "import pytemperature"
   ]
  },
  {
   "cell_type": "code",
   "execution_count": null,
   "metadata": {},
   "outputs": [],
   "source": [
    "humidity = pd.read_csv('data/historical_hourly_weather_data/humidity.csv')"
   ]
  },
  {
   "cell_type": "code",
   "execution_count": 3,
   "metadata": {},
   "outputs": [
    {
     "data": {
      "text/html": [
       "<div>\n",
       "<style scoped>\n",
       "    .dataframe tbody tr th:only-of-type {\n",
       "        vertical-align: middle;\n",
       "    }\n",
       "\n",
       "    .dataframe tbody tr th {\n",
       "        vertical-align: top;\n",
       "    }\n",
       "\n",
       "    .dataframe thead th {\n",
       "        text-align: right;\n",
       "    }\n",
       "</style>\n",
       "<table border=\"1\" class=\"dataframe\">\n",
       "  <thead>\n",
       "    <tr style=\"text-align: right;\">\n",
       "      <th></th>\n",
       "      <th>datetime</th>\n",
       "      <th>Vancouver</th>\n",
       "      <th>Portland</th>\n",
       "      <th>San Francisco</th>\n",
       "      <th>Seattle</th>\n",
       "      <th>Los Angeles</th>\n",
       "      <th>San Diego</th>\n",
       "      <th>Las Vegas</th>\n",
       "      <th>Phoenix</th>\n",
       "      <th>Albuquerque</th>\n",
       "      <th>...</th>\n",
       "      <th>Philadelphia</th>\n",
       "      <th>New York</th>\n",
       "      <th>Montreal</th>\n",
       "      <th>Boston</th>\n",
       "      <th>Beersheba</th>\n",
       "      <th>Tel Aviv District</th>\n",
       "      <th>Eilat</th>\n",
       "      <th>Haifa</th>\n",
       "      <th>Nahariyya</th>\n",
       "      <th>Jerusalem</th>\n",
       "    </tr>\n",
       "  </thead>\n",
       "  <tbody>\n",
       "    <tr>\n",
       "      <th>0</th>\n",
       "      <td>2012-10-01 12:00:00</td>\n",
       "      <td>NaN</td>\n",
       "      <td>NaN</td>\n",
       "      <td>NaN</td>\n",
       "      <td>NaN</td>\n",
       "      <td>NaN</td>\n",
       "      <td>NaN</td>\n",
       "      <td>NaN</td>\n",
       "      <td>NaN</td>\n",
       "      <td>NaN</td>\n",
       "      <td>...</td>\n",
       "      <td>NaN</td>\n",
       "      <td>NaN</td>\n",
       "      <td>NaN</td>\n",
       "      <td>NaN</td>\n",
       "      <td>NaN</td>\n",
       "      <td>NaN</td>\n",
       "      <td>25.0</td>\n",
       "      <td>NaN</td>\n",
       "      <td>NaN</td>\n",
       "      <td>NaN</td>\n",
       "    </tr>\n",
       "    <tr>\n",
       "      <th>1</th>\n",
       "      <td>2012-10-01 13:00:00</td>\n",
       "      <td>76.0</td>\n",
       "      <td>81.0</td>\n",
       "      <td>88.0</td>\n",
       "      <td>81.0</td>\n",
       "      <td>88.0</td>\n",
       "      <td>82.0</td>\n",
       "      <td>22.0</td>\n",
       "      <td>23.0</td>\n",
       "      <td>50.0</td>\n",
       "      <td>...</td>\n",
       "      <td>71.0</td>\n",
       "      <td>58.0</td>\n",
       "      <td>93.0</td>\n",
       "      <td>68.0</td>\n",
       "      <td>50.0</td>\n",
       "      <td>63.0</td>\n",
       "      <td>22.0</td>\n",
       "      <td>51.0</td>\n",
       "      <td>51.0</td>\n",
       "      <td>50.0</td>\n",
       "    </tr>\n",
       "  </tbody>\n",
       "</table>\n",
       "<p>2 rows × 37 columns</p>\n",
       "</div>"
      ],
      "text/plain": [
       "              datetime  Vancouver  Portland  San Francisco  Seattle  \\\n",
       "0  2012-10-01 12:00:00        NaN       NaN            NaN      NaN   \n",
       "1  2012-10-01 13:00:00       76.0      81.0           88.0     81.0   \n",
       "\n",
       "   Los Angeles  San Diego  Las Vegas  Phoenix  Albuquerque  ...  Philadelphia  \\\n",
       "0          NaN        NaN        NaN      NaN          NaN  ...           NaN   \n",
       "1         88.0       82.0       22.0     23.0         50.0  ...          71.0   \n",
       "\n",
       "   New York  Montreal  Boston  Beersheba  Tel Aviv District  Eilat  Haifa  \\\n",
       "0       NaN       NaN     NaN        NaN                NaN   25.0    NaN   \n",
       "1      58.0      93.0    68.0       50.0               63.0   22.0   51.0   \n",
       "\n",
       "   Nahariyya  Jerusalem  \n",
       "0        NaN        NaN  \n",
       "1       51.0       50.0  \n",
       "\n",
       "[2 rows x 37 columns]"
      ]
     },
     "execution_count": 3,
     "metadata": {},
     "output_type": "execute_result"
    }
   ],
   "source": [
    "humidity.head(2)"
   ]
  },
  {
   "cell_type": "code",
   "execution_count": 4,
   "metadata": {},
   "outputs": [
    {
     "data": {
      "text/html": [
       "<div>\n",
       "<style scoped>\n",
       "    .dataframe tbody tr th:only-of-type {\n",
       "        vertical-align: middle;\n",
       "    }\n",
       "\n",
       "    .dataframe tbody tr th {\n",
       "        vertical-align: top;\n",
       "    }\n",
       "\n",
       "    .dataframe thead th {\n",
       "        text-align: right;\n",
       "    }\n",
       "</style>\n",
       "<table border=\"1\" class=\"dataframe\">\n",
       "  <thead>\n",
       "    <tr style=\"text-align: right;\">\n",
       "      <th></th>\n",
       "      <th>datetime</th>\n",
       "      <th>New York</th>\n",
       "    </tr>\n",
       "  </thead>\n",
       "  <tbody>\n",
       "    <tr>\n",
       "      <th>0</th>\n",
       "      <td>2012-10-01 12:00:00</td>\n",
       "      <td>NaN</td>\n",
       "    </tr>\n",
       "    <tr>\n",
       "      <th>1</th>\n",
       "      <td>2012-10-01 13:00:00</td>\n",
       "      <td>58.0</td>\n",
       "    </tr>\n",
       "    <tr>\n",
       "      <th>2</th>\n",
       "      <td>2012-10-01 14:00:00</td>\n",
       "      <td>57.0</td>\n",
       "    </tr>\n",
       "    <tr>\n",
       "      <th>3</th>\n",
       "      <td>2012-10-01 15:00:00</td>\n",
       "      <td>57.0</td>\n",
       "    </tr>\n",
       "    <tr>\n",
       "      <th>4</th>\n",
       "      <td>2012-10-01 16:00:00</td>\n",
       "      <td>57.0</td>\n",
       "    </tr>\n",
       "  </tbody>\n",
       "</table>\n",
       "</div>"
      ],
      "text/plain": [
       "              datetime  New York\n",
       "0  2012-10-01 12:00:00       NaN\n",
       "1  2012-10-01 13:00:00      58.0\n",
       "2  2012-10-01 14:00:00      57.0\n",
       "3  2012-10-01 15:00:00      57.0\n",
       "4  2012-10-01 16:00:00      57.0"
      ]
     },
     "execution_count": 4,
     "metadata": {},
     "output_type": "execute_result"
    }
   ],
   "source": [
    "humidity[['datetime', 'New York']].head()"
   ]
  },
  {
   "cell_type": "code",
   "execution_count": 5,
   "metadata": {},
   "outputs": [],
   "source": [
    "pressure = pd.read_csv('data/historical_hourly_weather_data/pressure.csv')"
   ]
  },
  {
   "cell_type": "code",
   "execution_count": 6,
   "metadata": {},
   "outputs": [],
   "source": [
    "temperature = pd.read_csv('data/historical_hourly_weather_data/temperature.csv')"
   ]
  },
  {
   "cell_type": "code",
   "execution_count": 7,
   "metadata": {},
   "outputs": [],
   "source": [
    "weather_des = pd.read_csv('data/historical_hourly_weather_data/weather_description.csv')"
   ]
  },
  {
   "cell_type": "code",
   "execution_count": 8,
   "metadata": {},
   "outputs": [],
   "source": [
    "wind_dir = pd.read_csv('data/historical_hourly_weather_data/wind_direction.csv')"
   ]
  },
  {
   "cell_type": "code",
   "execution_count": 9,
   "metadata": {},
   "outputs": [],
   "source": [
    "wind_speed = pd.read_csv('data/historical_hourly_weather_data/wind_speed.csv')"
   ]
  },
  {
   "cell_type": "code",
   "execution_count": 10,
   "metadata": {},
   "outputs": [],
   "source": [
    "df_list = [pressure, temperature, weather_des, wind_dir, wind_speed]"
   ]
  },
  {
   "cell_type": "code",
   "execution_count": 11,
   "metadata": {},
   "outputs": [],
   "source": [
    "df_names = ['pressure', 'temperature', 'weather_des', 'wind_dir', 'wind_speed']"
   ]
  },
  {
   "cell_type": "code",
   "execution_count": 12,
   "metadata": {},
   "outputs": [],
   "source": [
    "# for df in df_list:\n",
    "#     print(df.shape)\n",
    "#     print(df.head(2))"
   ]
  },
  {
   "cell_type": "code",
   "execution_count": 13,
   "metadata": {},
   "outputs": [],
   "source": [
    "merged_df = humidity[['datetime', 'New York']].rename(columns = {'datetime' : 'date', 'New York' : 'ny_humidity'})"
   ]
  },
  {
   "cell_type": "code",
   "execution_count": 14,
   "metadata": {},
   "outputs": [],
   "source": [
    "df_counter = 0\n",
    "for df in df_list:\n",
    "    # print(df_names[df_counter])\n",
    "    df_name = df_names[df_counter]\n",
    "    # print(df_name)\n",
    "    # print(df_name)\n",
    "    # print(df[['datetime', 'New York']].head(2))\n",
    "    # print('ny_' + df_name)\n",
    "#   new_name = 'ny_' + df_name\n",
    "#   print(new_name)\n",
    "    new_df = df[['datetime', 'New York']].rename(columns = {'datetime' : 'date', 'New York' : 'ny_' + df_name})\n",
    "    merged_df = merged_df.merge(new_df, how = 'right', on = 'date')\n",
    "#   print(new_name.head(2))\n",
    "    df_counter += 1\n",
    "    "
   ]
  },
  {
   "cell_type": "code",
   "execution_count": 15,
   "metadata": {},
   "outputs": [
    {
     "data": {
      "text/html": [
       "<div>\n",
       "<style scoped>\n",
       "    .dataframe tbody tr th:only-of-type {\n",
       "        vertical-align: middle;\n",
       "    }\n",
       "\n",
       "    .dataframe tbody tr th {\n",
       "        vertical-align: top;\n",
       "    }\n",
       "\n",
       "    .dataframe thead th {\n",
       "        text-align: right;\n",
       "    }\n",
       "</style>\n",
       "<table border=\"1\" class=\"dataframe\">\n",
       "  <thead>\n",
       "    <tr style=\"text-align: right;\">\n",
       "      <th></th>\n",
       "      <th>date</th>\n",
       "      <th>ny_humidity</th>\n",
       "      <th>ny_pressure</th>\n",
       "      <th>ny_temperature</th>\n",
       "      <th>ny_weather_des</th>\n",
       "      <th>ny_wind_dir</th>\n",
       "      <th>ny_wind_speed</th>\n",
       "    </tr>\n",
       "  </thead>\n",
       "  <tbody>\n",
       "    <tr>\n",
       "      <th>0</th>\n",
       "      <td>2012-10-01 12:00:00</td>\n",
       "      <td>NaN</td>\n",
       "      <td>NaN</td>\n",
       "      <td>NaN</td>\n",
       "      <td>NaN</td>\n",
       "      <td>NaN</td>\n",
       "      <td>NaN</td>\n",
       "    </tr>\n",
       "    <tr>\n",
       "      <th>1</th>\n",
       "      <td>2012-10-01 13:00:00</td>\n",
       "      <td>58.0</td>\n",
       "      <td>1012.0</td>\n",
       "      <td>288.220000</td>\n",
       "      <td>few clouds</td>\n",
       "      <td>260.0</td>\n",
       "      <td>7.0</td>\n",
       "    </tr>\n",
       "    <tr>\n",
       "      <th>2</th>\n",
       "      <td>2012-10-01 14:00:00</td>\n",
       "      <td>57.0</td>\n",
       "      <td>1012.0</td>\n",
       "      <td>288.247676</td>\n",
       "      <td>few clouds</td>\n",
       "      <td>260.0</td>\n",
       "      <td>7.0</td>\n",
       "    </tr>\n",
       "    <tr>\n",
       "      <th>3</th>\n",
       "      <td>2012-10-01 15:00:00</td>\n",
       "      <td>57.0</td>\n",
       "      <td>1012.0</td>\n",
       "      <td>288.326940</td>\n",
       "      <td>few clouds</td>\n",
       "      <td>260.0</td>\n",
       "      <td>7.0</td>\n",
       "    </tr>\n",
       "    <tr>\n",
       "      <th>4</th>\n",
       "      <td>2012-10-01 16:00:00</td>\n",
       "      <td>57.0</td>\n",
       "      <td>1012.0</td>\n",
       "      <td>288.406203</td>\n",
       "      <td>few clouds</td>\n",
       "      <td>260.0</td>\n",
       "      <td>7.0</td>\n",
       "    </tr>\n",
       "  </tbody>\n",
       "</table>\n",
       "</div>"
      ],
      "text/plain": [
       "                  date  ny_humidity  ny_pressure  ny_temperature  \\\n",
       "0  2012-10-01 12:00:00          NaN          NaN             NaN   \n",
       "1  2012-10-01 13:00:00         58.0       1012.0      288.220000   \n",
       "2  2012-10-01 14:00:00         57.0       1012.0      288.247676   \n",
       "3  2012-10-01 15:00:00         57.0       1012.0      288.326940   \n",
       "4  2012-10-01 16:00:00         57.0       1012.0      288.406203   \n",
       "\n",
       "  ny_weather_des  ny_wind_dir  ny_wind_speed  \n",
       "0            NaN          NaN            NaN  \n",
       "1     few clouds        260.0            7.0  \n",
       "2     few clouds        260.0            7.0  \n",
       "3     few clouds        260.0            7.0  \n",
       "4     few clouds        260.0            7.0  "
      ]
     },
     "execution_count": 15,
     "metadata": {},
     "output_type": "execute_result"
    }
   ],
   "source": [
    "merged_df.head()"
   ]
  },
  {
   "cell_type": "code",
   "execution_count": 16,
   "metadata": {},
   "outputs": [],
   "source": [
    "merged_df['date'] = pd.to_datetime(merged_df['date'])"
   ]
  },
  {
   "cell_type": "code",
   "execution_count": 17,
   "metadata": {},
   "outputs": [
    {
     "data": {
      "text/plain": [
       "date              datetime64[ns]\n",
       "ny_humidity              float64\n",
       "ny_pressure              float64\n",
       "ny_temperature           float64\n",
       "ny_weather_des            object\n",
       "ny_wind_dir              float64\n",
       "ny_wind_speed            float64\n",
       "dtype: object"
      ]
     },
     "execution_count": 17,
     "metadata": {},
     "output_type": "execute_result"
    }
   ],
   "source": [
    "merged_df.dtypes"
   ]
  },
  {
   "cell_type": "code",
   "execution_count": 18,
   "metadata": {},
   "outputs": [
    {
     "data": {
      "text/plain": [
       "(45253, 7)"
      ]
     },
     "execution_count": 18,
     "metadata": {},
     "output_type": "execute_result"
    }
   ],
   "source": [
    "merged_df.shape"
   ]
  },
  {
   "cell_type": "code",
   "execution_count": 19,
   "metadata": {},
   "outputs": [
    {
     "data": {
      "text/plain": [
       "(43609, 7)"
      ]
     },
     "execution_count": 19,
     "metadata": {},
     "output_type": "execute_result"
    }
   ],
   "source": [
    "merged_df.dropna().shape"
   ]
  },
  {
   "cell_type": "code",
   "execution_count": 20,
   "metadata": {},
   "outputs": [],
   "source": [
    "# for i in range(45253):\n",
    "#     print(i, merged_df['ny_temperature'].iloc[i])"
   ]
  },
  {
   "cell_type": "code",
   "execution_count": 21,
   "metadata": {},
   "outputs": [
    {
     "data": {
      "text/html": [
       "<div>\n",
       "<style scoped>\n",
       "    .dataframe tbody tr th:only-of-type {\n",
       "        vertical-align: middle;\n",
       "    }\n",
       "\n",
       "    .dataframe tbody tr th {\n",
       "        vertical-align: top;\n",
       "    }\n",
       "\n",
       "    .dataframe thead th {\n",
       "        text-align: right;\n",
       "    }\n",
       "</style>\n",
       "<table border=\"1\" class=\"dataframe\">\n",
       "  <thead>\n",
       "    <tr style=\"text-align: right;\">\n",
       "      <th></th>\n",
       "      <th>date</th>\n",
       "      <th>ny_humidity</th>\n",
       "      <th>ny_pressure</th>\n",
       "      <th>ny_temperature</th>\n",
       "      <th>ny_weather_des</th>\n",
       "      <th>ny_wind_dir</th>\n",
       "      <th>ny_wind_speed</th>\n",
       "    </tr>\n",
       "  </thead>\n",
       "  <tbody>\n",
       "    <tr>\n",
       "      <th>0</th>\n",
       "      <td>2012-10-01 12:00:00</td>\n",
       "      <td>NaN</td>\n",
       "      <td>NaN</td>\n",
       "      <td>NaN</td>\n",
       "      <td>NaN</td>\n",
       "      <td>NaN</td>\n",
       "      <td>NaN</td>\n",
       "    </tr>\n",
       "    <tr>\n",
       "      <th>1</th>\n",
       "      <td>2012-10-01 13:00:00</td>\n",
       "      <td>58.0</td>\n",
       "      <td>1012.0</td>\n",
       "      <td>288.22</td>\n",
       "      <td>few clouds</td>\n",
       "      <td>260.0</td>\n",
       "      <td>7.0</td>\n",
       "    </tr>\n",
       "  </tbody>\n",
       "</table>\n",
       "</div>"
      ],
      "text/plain": [
       "                 date  ny_humidity  ny_pressure  ny_temperature  \\\n",
       "0 2012-10-01 12:00:00          NaN          NaN             NaN   \n",
       "1 2012-10-01 13:00:00         58.0       1012.0          288.22   \n",
       "\n",
       "  ny_weather_des  ny_wind_dir  ny_wind_speed  \n",
       "0            NaN          NaN            NaN  \n",
       "1     few clouds        260.0            7.0  "
      ]
     },
     "execution_count": 21,
     "metadata": {},
     "output_type": "execute_result"
    }
   ],
   "source": [
    "merged_df.head(2)"
   ]
  },
  {
   "cell_type": "code",
   "execution_count": 22,
   "metadata": {},
   "outputs": [],
   "source": [
    "merged_df.to_csv('data/new_york_weather.csv', index = False)"
   ]
  },
  {
   "cell_type": "code",
   "execution_count": 23,
   "metadata": {},
   "outputs": [
    {
     "name": "stdout",
     "output_type": "stream",
     "text": [
      "0\n",
      "1624\n",
      "1041\n",
      "793\n",
      "793\n",
      "793\n",
      "793\n"
     ]
    }
   ],
   "source": [
    "for column in merged_df.columns:\n",
    "    print(merged_df[column].isnull().sum())"
   ]
  },
  {
   "cell_type": "code",
   "execution_count": 24,
   "metadata": {},
   "outputs": [],
   "source": [
    "merged_df = merged_df.drop(columns = ['ny_humidity', 'ny_pressure'])"
   ]
  },
  {
   "cell_type": "code",
   "execution_count": 25,
   "metadata": {},
   "outputs": [],
   "source": [
    "merged_df.to_csv('data/new_york_weather_dropped_col.csv', index = False)"
   ]
  },
  {
   "cell_type": "code",
   "execution_count": 26,
   "metadata": {},
   "outputs": [
    {
     "data": {
      "text/plain": [
       "(45253, 5)"
      ]
     },
     "execution_count": 26,
     "metadata": {},
     "output_type": "execute_result"
    }
   ],
   "source": [
    "merged_df.shape"
   ]
  },
  {
   "cell_type": "code",
   "execution_count": 27,
   "metadata": {},
   "outputs": [],
   "source": [
    "# for i in range(45253):\n",
    "#     print(i, merged_df['ny_weather_des'].iloc[i])"
   ]
  },
  {
   "cell_type": "code",
   "execution_count": 28,
   "metadata": {},
   "outputs": [],
   "source": [
    "merged_df = merged_df.iloc[1:44461]"
   ]
  },
  {
   "cell_type": "code",
   "execution_count": 29,
   "metadata": {},
   "outputs": [
    {
     "data": {
      "text/plain": [
       "(44460, 5)"
      ]
     },
     "execution_count": 29,
     "metadata": {},
     "output_type": "execute_result"
    }
   ],
   "source": [
    "merged_df.shape"
   ]
  },
  {
   "cell_type": "code",
   "execution_count": 30,
   "metadata": {},
   "outputs": [
    {
     "data": {
      "text/plain": [
       "date              0\n",
       "ny_temperature    0\n",
       "ny_weather_des    0\n",
       "ny_wind_dir       0\n",
       "ny_wind_speed     0\n",
       "dtype: int64"
      ]
     },
     "execution_count": 30,
     "metadata": {},
     "output_type": "execute_result"
    }
   ],
   "source": [
    "merged_df.isnull().sum()"
   ]
  },
  {
   "cell_type": "code",
   "execution_count": 31,
   "metadata": {},
   "outputs": [],
   "source": [
    "merged_df = merged_df.set_index('date').sort_index()"
   ]
  },
  {
   "cell_type": "code",
   "execution_count": 32,
   "metadata": {},
   "outputs": [
    {
     "data": {
      "text/html": [
       "<div>\n",
       "<style scoped>\n",
       "    .dataframe tbody tr th:only-of-type {\n",
       "        vertical-align: middle;\n",
       "    }\n",
       "\n",
       "    .dataframe tbody tr th {\n",
       "        vertical-align: top;\n",
       "    }\n",
       "\n",
       "    .dataframe thead th {\n",
       "        text-align: right;\n",
       "    }\n",
       "</style>\n",
       "<table border=\"1\" class=\"dataframe\">\n",
       "  <thead>\n",
       "    <tr style=\"text-align: right;\">\n",
       "      <th></th>\n",
       "      <th>ny_temperature</th>\n",
       "      <th>ny_wind_dir</th>\n",
       "      <th>ny_wind_speed</th>\n",
       "    </tr>\n",
       "  </thead>\n",
       "  <tbody>\n",
       "    <tr>\n",
       "      <th>count</th>\n",
       "      <td>44460.000000</td>\n",
       "      <td>44460.000000</td>\n",
       "      <td>44460.000000</td>\n",
       "    </tr>\n",
       "    <tr>\n",
       "      <th>mean</th>\n",
       "      <td>285.400406</td>\n",
       "      <td>196.250247</td>\n",
       "      <td>3.210954</td>\n",
       "    </tr>\n",
       "    <tr>\n",
       "      <th>std</th>\n",
       "      <td>10.220932</td>\n",
       "      <td>107.433676</td>\n",
       "      <td>2.189716</td>\n",
       "    </tr>\n",
       "    <tr>\n",
       "      <th>min</th>\n",
       "      <td>250.774000</td>\n",
       "      <td>0.000000</td>\n",
       "      <td>0.000000</td>\n",
       "    </tr>\n",
       "    <tr>\n",
       "      <th>25%</th>\n",
       "      <td>277.370000</td>\n",
       "      <td>104.000000</td>\n",
       "      <td>2.000000</td>\n",
       "    </tr>\n",
       "    <tr>\n",
       "      <th>50%</th>\n",
       "      <td>285.870000</td>\n",
       "      <td>220.000000</td>\n",
       "      <td>3.000000</td>\n",
       "    </tr>\n",
       "    <tr>\n",
       "      <th>75%</th>\n",
       "      <td>293.760000</td>\n",
       "      <td>289.000000</td>\n",
       "      <td>4.000000</td>\n",
       "    </tr>\n",
       "    <tr>\n",
       "      <th>max</th>\n",
       "      <td>310.240000</td>\n",
       "      <td>360.000000</td>\n",
       "      <td>25.000000</td>\n",
       "    </tr>\n",
       "  </tbody>\n",
       "</table>\n",
       "</div>"
      ],
      "text/plain": [
       "       ny_temperature   ny_wind_dir  ny_wind_speed\n",
       "count    44460.000000  44460.000000   44460.000000\n",
       "mean       285.400406    196.250247       3.210954\n",
       "std         10.220932    107.433676       2.189716\n",
       "min        250.774000      0.000000       0.000000\n",
       "25%        277.370000    104.000000       2.000000\n",
       "50%        285.870000    220.000000       3.000000\n",
       "75%        293.760000    289.000000       4.000000\n",
       "max        310.240000    360.000000      25.000000"
      ]
     },
     "execution_count": 32,
     "metadata": {},
     "output_type": "execute_result"
    }
   ],
   "source": [
    "merged_df.describe()"
   ]
  },
  {
   "cell_type": "code",
   "execution_count": 33,
   "metadata": {},
   "outputs": [
    {
     "data": {
      "text/html": [
       "<div>\n",
       "<style scoped>\n",
       "    .dataframe tbody tr th:only-of-type {\n",
       "        vertical-align: middle;\n",
       "    }\n",
       "\n",
       "    .dataframe tbody tr th {\n",
       "        vertical-align: top;\n",
       "    }\n",
       "\n",
       "    .dataframe thead th {\n",
       "        text-align: right;\n",
       "    }\n",
       "</style>\n",
       "<table border=\"1\" class=\"dataframe\">\n",
       "  <thead>\n",
       "    <tr style=\"text-align: right;\">\n",
       "      <th></th>\n",
       "      <th>ny_temperature</th>\n",
       "      <th>ny_weather_des</th>\n",
       "      <th>ny_wind_dir</th>\n",
       "      <th>ny_wind_speed</th>\n",
       "    </tr>\n",
       "    <tr>\n",
       "      <th>date</th>\n",
       "      <th></th>\n",
       "      <th></th>\n",
       "      <th></th>\n",
       "      <th></th>\n",
       "    </tr>\n",
       "  </thead>\n",
       "  <tbody>\n",
       "    <tr>\n",
       "      <th>2012-10-01 13:00:00</th>\n",
       "      <td>288.220000</td>\n",
       "      <td>few clouds</td>\n",
       "      <td>260.0</td>\n",
       "      <td>7.0</td>\n",
       "    </tr>\n",
       "    <tr>\n",
       "      <th>2012-10-01 14:00:00</th>\n",
       "      <td>288.247676</td>\n",
       "      <td>few clouds</td>\n",
       "      <td>260.0</td>\n",
       "      <td>7.0</td>\n",
       "    </tr>\n",
       "  </tbody>\n",
       "</table>\n",
       "</div>"
      ],
      "text/plain": [
       "                     ny_temperature ny_weather_des  ny_wind_dir  ny_wind_speed\n",
       "date                                                                          \n",
       "2012-10-01 13:00:00      288.220000     few clouds        260.0            7.0\n",
       "2012-10-01 14:00:00      288.247676     few clouds        260.0            7.0"
      ]
     },
     "execution_count": 33,
     "metadata": {},
     "output_type": "execute_result"
    }
   ],
   "source": [
    "merged_df.head(2)"
   ]
  },
  {
   "cell_type": "code",
   "execution_count": 34,
   "metadata": {},
   "outputs": [],
   "source": [
    "merged_df.to_csv('data/new_york_weather_date_index.csv')"
   ]
  },
  {
   "cell_type": "code",
   "execution_count": null,
   "metadata": {},
   "outputs": [],
   "source": []
  },
  {
   "cell_type": "code",
   "execution_count": 35,
   "metadata": {},
   "outputs": [],
   "source": [
    "# https://pypi.org/project/pytemperature/\n",
    "merged_df['ny_temperature'] = pytemperature.k2f(merged_df['ny_temperature'])"
   ]
  },
  {
   "cell_type": "code",
   "execution_count": 36,
   "metadata": {},
   "outputs": [
    {
     "data": {
      "text/html": [
       "<div>\n",
       "<style scoped>\n",
       "    .dataframe tbody tr th:only-of-type {\n",
       "        vertical-align: middle;\n",
       "    }\n",
       "\n",
       "    .dataframe tbody tr th {\n",
       "        vertical-align: top;\n",
       "    }\n",
       "\n",
       "    .dataframe thead th {\n",
       "        text-align: right;\n",
       "    }\n",
       "</style>\n",
       "<table border=\"1\" class=\"dataframe\">\n",
       "  <thead>\n",
       "    <tr style=\"text-align: right;\">\n",
       "      <th></th>\n",
       "      <th>ny_temperature</th>\n",
       "      <th>ny_weather_des</th>\n",
       "      <th>ny_wind_dir</th>\n",
       "      <th>ny_wind_speed</th>\n",
       "    </tr>\n",
       "    <tr>\n",
       "      <th>date</th>\n",
       "      <th></th>\n",
       "      <th></th>\n",
       "      <th></th>\n",
       "      <th></th>\n",
       "    </tr>\n",
       "  </thead>\n",
       "  <tbody>\n",
       "    <tr>\n",
       "      <th>2012-10-01 13:00:00</th>\n",
       "      <td>59.11</td>\n",
       "      <td>few clouds</td>\n",
       "      <td>260.0</td>\n",
       "      <td>7.0</td>\n",
       "    </tr>\n",
       "    <tr>\n",
       "      <th>2012-10-01 14:00:00</th>\n",
       "      <td>59.16</td>\n",
       "      <td>few clouds</td>\n",
       "      <td>260.0</td>\n",
       "      <td>7.0</td>\n",
       "    </tr>\n",
       "    <tr>\n",
       "      <th>2012-10-01 15:00:00</th>\n",
       "      <td>59.30</td>\n",
       "      <td>few clouds</td>\n",
       "      <td>260.0</td>\n",
       "      <td>7.0</td>\n",
       "    </tr>\n",
       "    <tr>\n",
       "      <th>2012-10-01 16:00:00</th>\n",
       "      <td>59.44</td>\n",
       "      <td>few clouds</td>\n",
       "      <td>260.0</td>\n",
       "      <td>7.0</td>\n",
       "    </tr>\n",
       "    <tr>\n",
       "      <th>2012-10-01 17:00:00</th>\n",
       "      <td>59.58</td>\n",
       "      <td>few clouds</td>\n",
       "      <td>261.0</td>\n",
       "      <td>6.0</td>\n",
       "    </tr>\n",
       "  </tbody>\n",
       "</table>\n",
       "</div>"
      ],
      "text/plain": [
       "                     ny_temperature ny_weather_des  ny_wind_dir  ny_wind_speed\n",
       "date                                                                          \n",
       "2012-10-01 13:00:00           59.11     few clouds        260.0            7.0\n",
       "2012-10-01 14:00:00           59.16     few clouds        260.0            7.0\n",
       "2012-10-01 15:00:00           59.30     few clouds        260.0            7.0\n",
       "2012-10-01 16:00:00           59.44     few clouds        260.0            7.0\n",
       "2012-10-01 17:00:00           59.58     few clouds        261.0            6.0"
      ]
     },
     "execution_count": 36,
     "metadata": {},
     "output_type": "execute_result"
    }
   ],
   "source": [
    "merged_df.head()"
   ]
  },
  {
   "cell_type": "code",
   "execution_count": 37,
   "metadata": {},
   "outputs": [],
   "source": [
    "merged_df.to_csv('data/new_york_weather_with_fahrenheit.csv')"
   ]
  },
  {
   "cell_type": "code",
   "execution_count": 38,
   "metadata": {},
   "outputs": [
    {
     "data": {
      "text/plain": [
       "sky is clear                           11601\n",
       "broken clouds                           6263\n",
       "mist                                    5415\n",
       "scattered clouds                        4595\n",
       "overcast clouds                         4481\n",
       "light rain                              4002\n",
       "few clouds                              3329\n",
       "fog                                     1085\n",
       "moderate rain                            950\n",
       "haze                                     691\n",
       "light intensity drizzle                  408\n",
       "light snow                               383\n",
       "heavy intensity rain                     372\n",
       "drizzle                                  224\n",
       "heavy snow                               130\n",
       "proximity thunderstorm                   114\n",
       "snow                                      99\n",
       "very heavy rain                           94\n",
       "thunderstorm                              74\n",
       "thunderstorm with light rain              36\n",
       "dust                                      21\n",
       "heavy intensity drizzle                   20\n",
       "thunderstorm with rain                    20\n",
       "thunderstorm with heavy rain              12\n",
       "light rain and snow                       11\n",
       "smoke                                      9\n",
       "freezing rain                              6\n",
       "squalls                                    4\n",
       "proximity thunderstorm with rain           3\n",
       "thunderstorm with light drizzle            2\n",
       "shower rain                                1\n",
       "proximity thunderstorm with drizzle        1\n",
       "light intensity shower rain                1\n",
       "sand                                       1\n",
       "heavy thunderstorm                         1\n",
       "sand/dust whirls                           1\n",
       "Name: ny_weather_des, dtype: int64"
      ]
     },
     "execution_count": 38,
     "metadata": {},
     "output_type": "execute_result"
    }
   ],
   "source": [
    "merged_df.ny_weather_des.value_counts()"
   ]
  },
  {
   "cell_type": "code",
   "execution_count": 39,
   "metadata": {},
   "outputs": [
    {
     "data": {
      "text/plain": [
       "36"
      ]
     },
     "execution_count": 39,
     "metadata": {},
     "output_type": "execute_result"
    }
   ],
   "source": [
    "merged_df.ny_weather_des.nunique()"
   ]
  },
  {
   "cell_type": "code",
   "execution_count": 40,
   "metadata": {},
   "outputs": [],
   "source": [
    "dummy_variables = pd.get_dummies(merged_df['ny_weather_des'])"
   ]
  },
  {
   "cell_type": "code",
   "execution_count": 41,
   "metadata": {},
   "outputs": [],
   "source": [
    "numerical_df = merged_df.merge(dummy_variables, how = 'left', on = 'date')"
   ]
  },
  {
   "cell_type": "code",
   "execution_count": 42,
   "metadata": {},
   "outputs": [],
   "source": [
    "numerical_df.drop(columns ='ny_weather_des', inplace = True)"
   ]
  },
  {
   "cell_type": "code",
   "execution_count": 43,
   "metadata": {},
   "outputs": [
    {
     "data": {
      "text/plain": [
       "(44460, 39)"
      ]
     },
     "execution_count": 43,
     "metadata": {},
     "output_type": "execute_result"
    }
   ],
   "source": [
    "numerical_df.shape"
   ]
  },
  {
   "cell_type": "code",
   "execution_count": 44,
   "metadata": {},
   "outputs": [],
   "source": [
    "numerical_df.to_csv('data/new_york_weather_all_numerical.csv')"
   ]
  },
  {
   "cell_type": "code",
   "execution_count": 45,
   "metadata": {},
   "outputs": [
    {
     "data": {
      "text/plain": [
       "361"
      ]
     },
     "execution_count": 45,
     "metadata": {},
     "output_type": "execute_result"
    }
   ],
   "source": [
    "numerical_df.ny_wind_dir.nunique()"
   ]
  },
  {
   "cell_type": "code",
   "execution_count": 46,
   "metadata": {},
   "outputs": [],
   "source": [
    "def convert_mph(meters_ps):\n",
    "    miles = meters_ps / 1609.344\n",
    "    miles_ph = miles * 3600\n",
    "    \n",
    "    return int(miles_ph)"
   ]
  },
  {
   "cell_type": "code",
   "execution_count": 47,
   "metadata": {},
   "outputs": [
    {
     "data": {
      "text/plain": [
       "2.0"
      ]
     },
     "execution_count": 47,
     "metadata": {},
     "output_type": "execute_result"
    }
   ],
   "source": [
    "numerical_df.ny_wind_speed[200]"
   ]
  },
  {
   "cell_type": "code",
   "execution_count": 48,
   "metadata": {},
   "outputs": [
    {
     "data": {
      "text/plain": [
       "4"
      ]
     },
     "execution_count": 48,
     "metadata": {},
     "output_type": "execute_result"
    }
   ],
   "source": [
    "convert_mph(numerical_df.ny_wind_speed[200])"
   ]
  },
  {
   "cell_type": "code",
   "execution_count": 49,
   "metadata": {},
   "outputs": [],
   "source": [
    "numerical_df.ny_wind_speed = numerical_df.ny_wind_speed.map(lambda cell: convert_mph(cell))\n",
    " "
   ]
  },
  {
   "cell_type": "code",
   "execution_count": 50,
   "metadata": {},
   "outputs": [
    {
     "data": {
      "text/html": [
       "<div>\n",
       "<style scoped>\n",
       "    .dataframe tbody tr th:only-of-type {\n",
       "        vertical-align: middle;\n",
       "    }\n",
       "\n",
       "    .dataframe tbody tr th {\n",
       "        vertical-align: top;\n",
       "    }\n",
       "\n",
       "    .dataframe thead th {\n",
       "        text-align: right;\n",
       "    }\n",
       "</style>\n",
       "<table border=\"1\" class=\"dataframe\">\n",
       "  <thead>\n",
       "    <tr style=\"text-align: right;\">\n",
       "      <th></th>\n",
       "      <th>ny_temperature</th>\n",
       "      <th>ny_wind_dir</th>\n",
       "      <th>ny_wind_speed</th>\n",
       "      <th>broken clouds</th>\n",
       "      <th>drizzle</th>\n",
       "      <th>dust</th>\n",
       "      <th>few clouds</th>\n",
       "      <th>fog</th>\n",
       "      <th>freezing rain</th>\n",
       "      <th>haze</th>\n",
       "      <th>...</th>\n",
       "      <th>sky is clear</th>\n",
       "      <th>smoke</th>\n",
       "      <th>snow</th>\n",
       "      <th>squalls</th>\n",
       "      <th>thunderstorm</th>\n",
       "      <th>thunderstorm with heavy rain</th>\n",
       "      <th>thunderstorm with light drizzle</th>\n",
       "      <th>thunderstorm with light rain</th>\n",
       "      <th>thunderstorm with rain</th>\n",
       "      <th>very heavy rain</th>\n",
       "    </tr>\n",
       "    <tr>\n",
       "      <th>date</th>\n",
       "      <th></th>\n",
       "      <th></th>\n",
       "      <th></th>\n",
       "      <th></th>\n",
       "      <th></th>\n",
       "      <th></th>\n",
       "      <th></th>\n",
       "      <th></th>\n",
       "      <th></th>\n",
       "      <th></th>\n",
       "      <th></th>\n",
       "      <th></th>\n",
       "      <th></th>\n",
       "      <th></th>\n",
       "      <th></th>\n",
       "      <th></th>\n",
       "      <th></th>\n",
       "      <th></th>\n",
       "      <th></th>\n",
       "      <th></th>\n",
       "      <th></th>\n",
       "    </tr>\n",
       "  </thead>\n",
       "  <tbody>\n",
       "    <tr>\n",
       "      <th>2012-10-01 13:00:00</th>\n",
       "      <td>59.11</td>\n",
       "      <td>260.0</td>\n",
       "      <td>15</td>\n",
       "      <td>0</td>\n",
       "      <td>0</td>\n",
       "      <td>0</td>\n",
       "      <td>1</td>\n",
       "      <td>0</td>\n",
       "      <td>0</td>\n",
       "      <td>0</td>\n",
       "      <td>...</td>\n",
       "      <td>0</td>\n",
       "      <td>0</td>\n",
       "      <td>0</td>\n",
       "      <td>0</td>\n",
       "      <td>0</td>\n",
       "      <td>0</td>\n",
       "      <td>0</td>\n",
       "      <td>0</td>\n",
       "      <td>0</td>\n",
       "      <td>0</td>\n",
       "    </tr>\n",
       "    <tr>\n",
       "      <th>2012-10-01 14:00:00</th>\n",
       "      <td>59.16</td>\n",
       "      <td>260.0</td>\n",
       "      <td>15</td>\n",
       "      <td>0</td>\n",
       "      <td>0</td>\n",
       "      <td>0</td>\n",
       "      <td>1</td>\n",
       "      <td>0</td>\n",
       "      <td>0</td>\n",
       "      <td>0</td>\n",
       "      <td>...</td>\n",
       "      <td>0</td>\n",
       "      <td>0</td>\n",
       "      <td>0</td>\n",
       "      <td>0</td>\n",
       "      <td>0</td>\n",
       "      <td>0</td>\n",
       "      <td>0</td>\n",
       "      <td>0</td>\n",
       "      <td>0</td>\n",
       "      <td>0</td>\n",
       "    </tr>\n",
       "  </tbody>\n",
       "</table>\n",
       "<p>2 rows × 39 columns</p>\n",
       "</div>"
      ],
      "text/plain": [
       "                     ny_temperature  ny_wind_dir  ny_wind_speed  \\\n",
       "date                                                              \n",
       "2012-10-01 13:00:00           59.11        260.0             15   \n",
       "2012-10-01 14:00:00           59.16        260.0             15   \n",
       "\n",
       "                     broken clouds  drizzle  dust  few clouds  fog  \\\n",
       "date                                                                 \n",
       "2012-10-01 13:00:00              0        0     0           1    0   \n",
       "2012-10-01 14:00:00              0        0     0           1    0   \n",
       "\n",
       "                     freezing rain  haze  ...  sky is clear  smoke  snow  \\\n",
       "date                                      ...                              \n",
       "2012-10-01 13:00:00              0     0  ...             0      0     0   \n",
       "2012-10-01 14:00:00              0     0  ...             0      0     0   \n",
       "\n",
       "                     squalls  thunderstorm  thunderstorm with heavy rain  \\\n",
       "date                                                                       \n",
       "2012-10-01 13:00:00        0             0                             0   \n",
       "2012-10-01 14:00:00        0             0                             0   \n",
       "\n",
       "                     thunderstorm with light drizzle  \\\n",
       "date                                                   \n",
       "2012-10-01 13:00:00                                0   \n",
       "2012-10-01 14:00:00                                0   \n",
       "\n",
       "                     thunderstorm with light rain  thunderstorm with rain  \\\n",
       "date                                                                        \n",
       "2012-10-01 13:00:00                             0                       0   \n",
       "2012-10-01 14:00:00                             0                       0   \n",
       "\n",
       "                     very heavy rain  \n",
       "date                                  \n",
       "2012-10-01 13:00:00                0  \n",
       "2012-10-01 14:00:00                0  \n",
       "\n",
       "[2 rows x 39 columns]"
      ]
     },
     "execution_count": 50,
     "metadata": {},
     "output_type": "execute_result"
    }
   ],
   "source": [
    "numerical_df.head(2)"
   ]
  },
  {
   "cell_type": "code",
   "execution_count": 51,
   "metadata": {},
   "outputs": [],
   "source": [
    "numerical_df.rename(columns = {\n",
    "    'ny_temperature' : 'temperature_f',\n",
    "    'ny_wind_dir'   : 'wind_dir_degrees',\n",
    "    'ny_wind_speed'  : 'wind_speed_mph'\n",
    "}, inplace = True)"
   ]
  },
  {
   "cell_type": "code",
   "execution_count": 52,
   "metadata": {},
   "outputs": [],
   "source": [
    "column_new_names = []\n",
    "for column in numerical_df.columns:\n",
    "    new_name = column.replace(' ', '_')\n",
    "    column_new_names.append(new_name)"
   ]
  },
  {
   "cell_type": "code",
   "execution_count": 53,
   "metadata": {},
   "outputs": [
    {
     "data": {
      "text/plain": [
       "['drizzle', 'dust', 'few_clouds', 'fog']"
      ]
     },
     "execution_count": 53,
     "metadata": {},
     "output_type": "execute_result"
    }
   ],
   "source": [
    "column_new_names[4:8]"
   ]
  },
  {
   "cell_type": "code",
   "execution_count": 54,
   "metadata": {},
   "outputs": [
    {
     "data": {
      "text/html": [
       "<div>\n",
       "<style scoped>\n",
       "    .dataframe tbody tr th:only-of-type {\n",
       "        vertical-align: middle;\n",
       "    }\n",
       "\n",
       "    .dataframe tbody tr th {\n",
       "        vertical-align: top;\n",
       "    }\n",
       "\n",
       "    .dataframe thead th {\n",
       "        text-align: right;\n",
       "    }\n",
       "</style>\n",
       "<table border=\"1\" class=\"dataframe\">\n",
       "  <thead>\n",
       "    <tr style=\"text-align: right;\">\n",
       "      <th></th>\n",
       "      <th>temperature_f</th>\n",
       "      <th>wind_dir_degrees</th>\n",
       "      <th>wind_speed_mph</th>\n",
       "      <th>broken clouds</th>\n",
       "      <th>drizzle</th>\n",
       "      <th>dust</th>\n",
       "      <th>few clouds</th>\n",
       "      <th>fog</th>\n",
       "      <th>freezing rain</th>\n",
       "      <th>haze</th>\n",
       "      <th>...</th>\n",
       "      <th>sky is clear</th>\n",
       "      <th>smoke</th>\n",
       "      <th>snow</th>\n",
       "      <th>squalls</th>\n",
       "      <th>thunderstorm</th>\n",
       "      <th>thunderstorm with heavy rain</th>\n",
       "      <th>thunderstorm with light drizzle</th>\n",
       "      <th>thunderstorm with light rain</th>\n",
       "      <th>thunderstorm with rain</th>\n",
       "      <th>very heavy rain</th>\n",
       "    </tr>\n",
       "    <tr>\n",
       "      <th>date</th>\n",
       "      <th></th>\n",
       "      <th></th>\n",
       "      <th></th>\n",
       "      <th></th>\n",
       "      <th></th>\n",
       "      <th></th>\n",
       "      <th></th>\n",
       "      <th></th>\n",
       "      <th></th>\n",
       "      <th></th>\n",
       "      <th></th>\n",
       "      <th></th>\n",
       "      <th></th>\n",
       "      <th></th>\n",
       "      <th></th>\n",
       "      <th></th>\n",
       "      <th></th>\n",
       "      <th></th>\n",
       "      <th></th>\n",
       "      <th></th>\n",
       "      <th></th>\n",
       "    </tr>\n",
       "  </thead>\n",
       "  <tbody>\n",
       "    <tr>\n",
       "      <th>2012-10-01 13:00:00</th>\n",
       "      <td>59.11</td>\n",
       "      <td>260.0</td>\n",
       "      <td>15</td>\n",
       "      <td>0</td>\n",
       "      <td>0</td>\n",
       "      <td>0</td>\n",
       "      <td>1</td>\n",
       "      <td>0</td>\n",
       "      <td>0</td>\n",
       "      <td>0</td>\n",
       "      <td>...</td>\n",
       "      <td>0</td>\n",
       "      <td>0</td>\n",
       "      <td>0</td>\n",
       "      <td>0</td>\n",
       "      <td>0</td>\n",
       "      <td>0</td>\n",
       "      <td>0</td>\n",
       "      <td>0</td>\n",
       "      <td>0</td>\n",
       "      <td>0</td>\n",
       "    </tr>\n",
       "    <tr>\n",
       "      <th>2012-10-01 14:00:00</th>\n",
       "      <td>59.16</td>\n",
       "      <td>260.0</td>\n",
       "      <td>15</td>\n",
       "      <td>0</td>\n",
       "      <td>0</td>\n",
       "      <td>0</td>\n",
       "      <td>1</td>\n",
       "      <td>0</td>\n",
       "      <td>0</td>\n",
       "      <td>0</td>\n",
       "      <td>...</td>\n",
       "      <td>0</td>\n",
       "      <td>0</td>\n",
       "      <td>0</td>\n",
       "      <td>0</td>\n",
       "      <td>0</td>\n",
       "      <td>0</td>\n",
       "      <td>0</td>\n",
       "      <td>0</td>\n",
       "      <td>0</td>\n",
       "      <td>0</td>\n",
       "    </tr>\n",
       "  </tbody>\n",
       "</table>\n",
       "<p>2 rows × 39 columns</p>\n",
       "</div>"
      ],
      "text/plain": [
       "                     temperature_f  wind_dir_degrees  wind_speed_mph  \\\n",
       "date                                                                   \n",
       "2012-10-01 13:00:00          59.11             260.0              15   \n",
       "2012-10-01 14:00:00          59.16             260.0              15   \n",
       "\n",
       "                     broken clouds  drizzle  dust  few clouds  fog  \\\n",
       "date                                                                 \n",
       "2012-10-01 13:00:00              0        0     0           1    0   \n",
       "2012-10-01 14:00:00              0        0     0           1    0   \n",
       "\n",
       "                     freezing rain  haze  ...  sky is clear  smoke  snow  \\\n",
       "date                                      ...                              \n",
       "2012-10-01 13:00:00              0     0  ...             0      0     0   \n",
       "2012-10-01 14:00:00              0     0  ...             0      0     0   \n",
       "\n",
       "                     squalls  thunderstorm  thunderstorm with heavy rain  \\\n",
       "date                                                                       \n",
       "2012-10-01 13:00:00        0             0                             0   \n",
       "2012-10-01 14:00:00        0             0                             0   \n",
       "\n",
       "                     thunderstorm with light drizzle  \\\n",
       "date                                                   \n",
       "2012-10-01 13:00:00                                0   \n",
       "2012-10-01 14:00:00                                0   \n",
       "\n",
       "                     thunderstorm with light rain  thunderstorm with rain  \\\n",
       "date                                                                        \n",
       "2012-10-01 13:00:00                             0                       0   \n",
       "2012-10-01 14:00:00                             0                       0   \n",
       "\n",
       "                     very heavy rain  \n",
       "date                                  \n",
       "2012-10-01 13:00:00                0  \n",
       "2012-10-01 14:00:00                0  \n",
       "\n",
       "[2 rows x 39 columns]"
      ]
     },
     "execution_count": 54,
     "metadata": {},
     "output_type": "execute_result"
    }
   ],
   "source": [
    "numerical_df.head(2)"
   ]
  },
  {
   "cell_type": "code",
   "execution_count": 55,
   "metadata": {},
   "outputs": [],
   "source": [
    "numerical_df.columns = column_new_names"
   ]
  },
  {
   "cell_type": "code",
   "execution_count": 58,
   "metadata": {
    "scrolled": false
   },
   "outputs": [
    {
     "data": {
      "text/html": [
       "<div>\n",
       "<style scoped>\n",
       "    .dataframe tbody tr th:only-of-type {\n",
       "        vertical-align: middle;\n",
       "    }\n",
       "\n",
       "    .dataframe tbody tr th {\n",
       "        vertical-align: top;\n",
       "    }\n",
       "\n",
       "    .dataframe thead th {\n",
       "        text-align: right;\n",
       "    }\n",
       "</style>\n",
       "<table border=\"1\" class=\"dataframe\">\n",
       "  <thead>\n",
       "    <tr style=\"text-align: right;\">\n",
       "      <th></th>\n",
       "      <th>temperature_f</th>\n",
       "      <th>wind_dir_degrees</th>\n",
       "      <th>wind_speed_mph</th>\n",
       "      <th>broken_clouds</th>\n",
       "      <th>drizzle</th>\n",
       "      <th>dust</th>\n",
       "      <th>few_clouds</th>\n",
       "      <th>fog</th>\n",
       "      <th>freezing_rain</th>\n",
       "      <th>haze</th>\n",
       "      <th>...</th>\n",
       "      <th>sky_is_clear</th>\n",
       "      <th>smoke</th>\n",
       "      <th>snow</th>\n",
       "      <th>squalls</th>\n",
       "      <th>thunderstorm</th>\n",
       "      <th>thunderstorm_with_heavy_rain</th>\n",
       "      <th>thunderstorm_with_light_drizzle</th>\n",
       "      <th>thunderstorm_with_light_rain</th>\n",
       "      <th>thunderstorm_with_rain</th>\n",
       "      <th>very_heavy_rain</th>\n",
       "    </tr>\n",
       "    <tr>\n",
       "      <th>date</th>\n",
       "      <th></th>\n",
       "      <th></th>\n",
       "      <th></th>\n",
       "      <th></th>\n",
       "      <th></th>\n",
       "      <th></th>\n",
       "      <th></th>\n",
       "      <th></th>\n",
       "      <th></th>\n",
       "      <th></th>\n",
       "      <th></th>\n",
       "      <th></th>\n",
       "      <th></th>\n",
       "      <th></th>\n",
       "      <th></th>\n",
       "      <th></th>\n",
       "      <th></th>\n",
       "      <th></th>\n",
       "      <th></th>\n",
       "      <th></th>\n",
       "      <th></th>\n",
       "    </tr>\n",
       "  </thead>\n",
       "  <tbody>\n",
       "    <tr>\n",
       "      <th>2012-10-01 13:00:00</th>\n",
       "      <td>59.11</td>\n",
       "      <td>260.0</td>\n",
       "      <td>15</td>\n",
       "      <td>0</td>\n",
       "      <td>0</td>\n",
       "      <td>0</td>\n",
       "      <td>1</td>\n",
       "      <td>0</td>\n",
       "      <td>0</td>\n",
       "      <td>0</td>\n",
       "      <td>...</td>\n",
       "      <td>0</td>\n",
       "      <td>0</td>\n",
       "      <td>0</td>\n",
       "      <td>0</td>\n",
       "      <td>0</td>\n",
       "      <td>0</td>\n",
       "      <td>0</td>\n",
       "      <td>0</td>\n",
       "      <td>0</td>\n",
       "      <td>0</td>\n",
       "    </tr>\n",
       "    <tr>\n",
       "      <th>2012-10-01 14:00:00</th>\n",
       "      <td>59.16</td>\n",
       "      <td>260.0</td>\n",
       "      <td>15</td>\n",
       "      <td>0</td>\n",
       "      <td>0</td>\n",
       "      <td>0</td>\n",
       "      <td>1</td>\n",
       "      <td>0</td>\n",
       "      <td>0</td>\n",
       "      <td>0</td>\n",
       "      <td>...</td>\n",
       "      <td>0</td>\n",
       "      <td>0</td>\n",
       "      <td>0</td>\n",
       "      <td>0</td>\n",
       "      <td>0</td>\n",
       "      <td>0</td>\n",
       "      <td>0</td>\n",
       "      <td>0</td>\n",
       "      <td>0</td>\n",
       "      <td>0</td>\n",
       "    </tr>\n",
       "  </tbody>\n",
       "</table>\n",
       "<p>2 rows × 39 columns</p>\n",
       "</div>"
      ],
      "text/plain": [
       "                     temperature_f  wind_dir_degrees  wind_speed_mph  \\\n",
       "date                                                                   \n",
       "2012-10-01 13:00:00          59.11             260.0              15   \n",
       "2012-10-01 14:00:00          59.16             260.0              15   \n",
       "\n",
       "                     broken_clouds  drizzle  dust  few_clouds  fog  \\\n",
       "date                                                                 \n",
       "2012-10-01 13:00:00              0        0     0           1    0   \n",
       "2012-10-01 14:00:00              0        0     0           1    0   \n",
       "\n",
       "                     freezing_rain  haze  ...  sky_is_clear  smoke  snow  \\\n",
       "date                                      ...                              \n",
       "2012-10-01 13:00:00              0     0  ...             0      0     0   \n",
       "2012-10-01 14:00:00              0     0  ...             0      0     0   \n",
       "\n",
       "                     squalls  thunderstorm  thunderstorm_with_heavy_rain  \\\n",
       "date                                                                       \n",
       "2012-10-01 13:00:00        0             0                             0   \n",
       "2012-10-01 14:00:00        0             0                             0   \n",
       "\n",
       "                     thunderstorm_with_light_drizzle  \\\n",
       "date                                                   \n",
       "2012-10-01 13:00:00                                0   \n",
       "2012-10-01 14:00:00                                0   \n",
       "\n",
       "                     thunderstorm_with_light_rain  thunderstorm_with_rain  \\\n",
       "date                                                                        \n",
       "2012-10-01 13:00:00                             0                       0   \n",
       "2012-10-01 14:00:00                             0                       0   \n",
       "\n",
       "                     very_heavy_rain  \n",
       "date                                  \n",
       "2012-10-01 13:00:00                0  \n",
       "2012-10-01 14:00:00                0  \n",
       "\n",
       "[2 rows x 39 columns]"
      ]
     },
     "execution_count": 58,
     "metadata": {},
     "output_type": "execute_result"
    }
   ],
   "source": [
    "numerical_df.head(2)"
   ]
  },
  {
   "cell_type": "code",
   "execution_count": 59,
   "metadata": {
    "scrolled": true
   },
   "outputs": [
    {
     "data": {
      "text/plain": [
       "DatetimeIndex(['2012-10-01 13:00:00', '2012-10-01 14:00:00',\n",
       "               '2012-10-01 15:00:00', '2012-10-01 16:00:00',\n",
       "               '2012-10-01 17:00:00', '2012-10-01 18:00:00',\n",
       "               '2012-10-01 19:00:00', '2012-10-01 20:00:00',\n",
       "               '2012-10-01 21:00:00', '2012-10-01 22:00:00',\n",
       "               ...\n",
       "               '2017-10-27 15:00:00', '2017-10-27 16:00:00',\n",
       "               '2017-10-27 17:00:00', '2017-10-27 18:00:00',\n",
       "               '2017-10-27 19:00:00', '2017-10-27 20:00:00',\n",
       "               '2017-10-27 21:00:00', '2017-10-27 22:00:00',\n",
       "               '2017-10-27 23:00:00', '2017-10-28 00:00:00'],\n",
       "              dtype='datetime64[ns]', name='date', length=44460, freq=None)"
      ]
     },
     "execution_count": 59,
     "metadata": {},
     "output_type": "execute_result"
    }
   ],
   "source": [
    "numerical_df.index"
   ]
  },
  {
   "cell_type": "code",
   "execution_count": 57,
   "metadata": {},
   "outputs": [],
   "source": [
    "numerical_df.to_csv('data/weather_clean.csv')"
   ]
  }
 ],
 "metadata": {
  "kernelspec": {
   "display_name": "Python 3",
   "language": "python",
   "name": "python3"
  },
  "language_info": {
   "codemirror_mode": {
    "name": "ipython",
    "version": 3
   },
   "file_extension": ".py",
   "mimetype": "text/x-python",
   "name": "python",
   "nbconvert_exporter": "python",
   "pygments_lexer": "ipython3",
   "version": "3.6.8"
  },
  "varInspector": {
   "cols": {
    "lenName": 16,
    "lenType": 16,
    "lenVar": 40
   },
   "kernels_config": {
    "python": {
     "delete_cmd_postfix": "",
     "delete_cmd_prefix": "del ",
     "library": "var_list.py",
     "varRefreshCmd": "print(var_dic_list())"
    },
    "r": {
     "delete_cmd_postfix": ") ",
     "delete_cmd_prefix": "rm(",
     "library": "var_list.r",
     "varRefreshCmd": "cat(var_dic_list()) "
    }
   },
   "types_to_exclude": [
    "module",
    "function",
    "builtin_function_or_method",
    "instance",
    "_Feature"
   ],
   "window_display": false
  }
 },
 "nbformat": 4,
 "nbformat_minor": 2
}
