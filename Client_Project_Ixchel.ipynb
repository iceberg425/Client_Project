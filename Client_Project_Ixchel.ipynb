{
 "cells": [
  {
   "cell_type": "markdown",
   "metadata": {},
   "source": [
    "# Data Collection"
   ]
  },
  {
   "cell_type": "markdown",
   "metadata": {},
   "source": [
    "### Possible Sources\n",
    "\n",
    "- Past Data of Outages\n",
    "    - http://insideenergy.org/2014/08/18/data-explore-15-years-of-power-outages/\n",
    "    - https://www.eia.gov/electricity/monthly/epm_table_grapher.php?t=epmt_b_1\n",
    "    - https://www.sciencedirect.com/science/article/pii/S2352340918307182\n",
    "    - https://catalog.data.gov/dataset/utility-outage-information-d1896\n",
    "    - http://www.nooutage.com/Archives.htm\n",
    "\n",
    "- Local News\n",
    "    - https://www.50states.com/news/\n",
    "    - http://www.onlinenewspapers.com/usstate/usnewyor.htm"
   ]
  }
 ],
 "metadata": {
  "kernelspec": {
   "display_name": "Python 3",
   "language": "python",
   "name": "python3"
  },
  "language_info": {
   "codemirror_mode": {
    "name": "ipython",
    "version": 3
   },
   "file_extension": ".py",
   "mimetype": "text/x-python",
   "name": "python",
   "nbconvert_exporter": "python",
   "pygments_lexer": "ipython3",
   "version": "3.6.8"
  },
  "varInspector": {
   "cols": {
    "lenName": 16,
    "lenType": 16,
    "lenVar": 40
   },
   "kernels_config": {
    "python": {
     "delete_cmd_postfix": "",
     "delete_cmd_prefix": "del ",
     "library": "var_list.py",
     "varRefreshCmd": "print(var_dic_list())"
    },
    "r": {
     "delete_cmd_postfix": ") ",
     "delete_cmd_prefix": "rm(",
     "library": "var_list.r",
     "varRefreshCmd": "cat(var_dic_list()) "
    }
   },
   "types_to_exclude": [
    "module",
    "function",
    "builtin_function_or_method",
    "instance",
    "_Feature"
   ],
   "window_display": false
  }
 },
 "nbformat": 4,
 "nbformat_minor": 2
}
