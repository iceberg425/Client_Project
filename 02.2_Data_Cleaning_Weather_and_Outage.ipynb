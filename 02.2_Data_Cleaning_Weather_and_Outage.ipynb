{
 "cells": [
  {
   "cell_type": "markdown",
   "metadata": {},
   "source": [
    "# Contents\n",
    "1. [Data Cleaning (Weather)](#1.-Data-Cleaning-(Weather))\n",
    "2. [Data Cleaning (Power Outages)](#2.-Data-Cleaning-(Power-Outages))\n",
    "3. [Model Prep](#3.-Model-Prep)\n",
    "4. [NLP Exploration](#4.-NLP-Exploration)\n",
    "5. [Final Cleanup Before Merging with Weather](#5.-Final-Cleanup-Before-Merge)"
   ]
  },
  {
   "cell_type": "code",
   "execution_count": 1,
   "metadata": {},
   "outputs": [],
   "source": [
    "# Load libraries.\n",
    "import numpy as np\n",
    "import pandas as pd\n",
    "import matplotlib.pyplot as plt\n",
    "import seaborn as sns\n",
    "import pytemperature\n",
    "\n",
    "# Python magic to display matplolib plots in the notebook.\n",
    "%matplotlib inline"
   ]
  },
  {
   "cell_type": "markdown",
   "metadata": {},
   "source": [
    "## 1. Data Cleaning (Weather)"
   ]
  },
  {
   "cell_type": "markdown",
   "metadata": {},
   "source": [
    "#### Loading weather data downloaded from [Kaggle's Historic Hourly Weather](https://www.kaggle.com/selfishgene/historical-hourly-weather-data)."
   ]
  },
  {
   "cell_type": "code",
   "execution_count": 2,
   "metadata": {},
   "outputs": [],
   "source": [
    "# Load weather data from multiple CSV files.\n",
    "humidity = pd.read_csv('data/kaggle_weather_datasets/humidity.csv')\n",
    "pressure = pd.read_csv('data/kaggle_weather_datasets/pressure.csv')\n",
    "temperature = pd.read_csv('data/kaggle_weather_datasets/temperature.csv')\n",
    "weather_des = pd.read_csv('data/kaggle_weather_datasets/weather_description.csv')\n",
    "wind_dir = pd.read_csv('data/kaggle_weather_datasets/wind_direction.csv')\n",
    "wind_speed = pd.read_csv('data/kaggle_weather_datasets/wind_speed.csv')"
   ]
  },
  {
   "cell_type": "code",
   "execution_count": 3,
   "metadata": {
    "scrolled": true
   },
   "outputs": [
    {
     "data": {
      "text/html": [
       "<div>\n",
       "<style scoped>\n",
       "    .dataframe tbody tr th:only-of-type {\n",
       "        vertical-align: middle;\n",
       "    }\n",
       "\n",
       "    .dataframe tbody tr th {\n",
       "        vertical-align: top;\n",
       "    }\n",
       "\n",
       "    .dataframe thead th {\n",
       "        text-align: right;\n",
       "    }\n",
       "</style>\n",
       "<table border=\"1\" class=\"dataframe\">\n",
       "  <thead>\n",
       "    <tr style=\"text-align: right;\">\n",
       "      <th></th>\n",
       "      <th>datetime</th>\n",
       "      <th>Vancouver</th>\n",
       "      <th>Portland</th>\n",
       "      <th>San Francisco</th>\n",
       "      <th>Seattle</th>\n",
       "      <th>Los Angeles</th>\n",
       "      <th>San Diego</th>\n",
       "      <th>Las Vegas</th>\n",
       "      <th>Phoenix</th>\n",
       "      <th>Albuquerque</th>\n",
       "      <th>...</th>\n",
       "      <th>Philadelphia</th>\n",
       "      <th>New York</th>\n",
       "      <th>Montreal</th>\n",
       "      <th>Boston</th>\n",
       "      <th>Beersheba</th>\n",
       "      <th>Tel Aviv District</th>\n",
       "      <th>Eilat</th>\n",
       "      <th>Haifa</th>\n",
       "      <th>Nahariyya</th>\n",
       "      <th>Jerusalem</th>\n",
       "    </tr>\n",
       "  </thead>\n",
       "  <tbody>\n",
       "    <tr>\n",
       "      <th>0</th>\n",
       "      <td>2012-10-01 12:00:00</td>\n",
       "      <td>NaN</td>\n",
       "      <td>NaN</td>\n",
       "      <td>NaN</td>\n",
       "      <td>NaN</td>\n",
       "      <td>NaN</td>\n",
       "      <td>NaN</td>\n",
       "      <td>NaN</td>\n",
       "      <td>NaN</td>\n",
       "      <td>NaN</td>\n",
       "      <td>...</td>\n",
       "      <td>NaN</td>\n",
       "      <td>NaN</td>\n",
       "      <td>NaN</td>\n",
       "      <td>NaN</td>\n",
       "      <td>NaN</td>\n",
       "      <td>NaN</td>\n",
       "      <td>309.10</td>\n",
       "      <td>NaN</td>\n",
       "      <td>NaN</td>\n",
       "      <td>NaN</td>\n",
       "    </tr>\n",
       "    <tr>\n",
       "      <th>1</th>\n",
       "      <td>2012-10-01 13:00:00</td>\n",
       "      <td>284.63</td>\n",
       "      <td>282.08</td>\n",
       "      <td>289.48</td>\n",
       "      <td>281.8</td>\n",
       "      <td>291.87</td>\n",
       "      <td>291.53</td>\n",
       "      <td>293.41</td>\n",
       "      <td>296.6</td>\n",
       "      <td>285.12</td>\n",
       "      <td>...</td>\n",
       "      <td>285.63</td>\n",
       "      <td>288.22</td>\n",
       "      <td>285.83</td>\n",
       "      <td>287.17</td>\n",
       "      <td>307.59</td>\n",
       "      <td>305.47</td>\n",
       "      <td>310.58</td>\n",
       "      <td>304.4</td>\n",
       "      <td>304.4</td>\n",
       "      <td>303.5</td>\n",
       "    </tr>\n",
       "  </tbody>\n",
       "</table>\n",
       "<p>2 rows × 37 columns</p>\n",
       "</div>"
      ],
      "text/plain": [
       "              datetime  Vancouver  Portland  San Francisco  Seattle  \\\n",
       "0  2012-10-01 12:00:00        NaN       NaN            NaN      NaN   \n",
       "1  2012-10-01 13:00:00     284.63    282.08         289.48    281.8   \n",
       "\n",
       "   Los Angeles  San Diego  Las Vegas  Phoenix  Albuquerque  ...  Philadelphia  \\\n",
       "0          NaN        NaN        NaN      NaN          NaN  ...           NaN   \n",
       "1       291.87     291.53     293.41    296.6       285.12  ...        285.63   \n",
       "\n",
       "   New York  Montreal  Boston  Beersheba  Tel Aviv District   Eilat  Haifa  \\\n",
       "0       NaN       NaN     NaN        NaN                NaN  309.10    NaN   \n",
       "1    288.22    285.83  287.17     307.59             305.47  310.58  304.4   \n",
       "\n",
       "   Nahariyya  Jerusalem  \n",
       "0        NaN        NaN  \n",
       "1      304.4      303.5  \n",
       "\n",
       "[2 rows x 37 columns]"
      ]
     },
     "execution_count": 3,
     "metadata": {},
     "output_type": "execute_result"
    }
   ],
   "source": [
    "# Check format of datasets. \n",
    "temperature.head(2)"
   ]
  },
  {
   "cell_type": "markdown",
   "metadata": {},
   "source": [
    "#### Merging weather datasets."
   ]
  },
  {
   "cell_type": "code",
   "execution_count": 4,
   "metadata": {},
   "outputs": [
    {
     "name": "stdout",
     "output_type": "stream",
     "text": [
      "Merged dataset has 45253 rows and 7 columns.\n"
     ]
    },
    {
     "data": {
      "text/html": [
       "<div>\n",
       "<style scoped>\n",
       "    .dataframe tbody tr th:only-of-type {\n",
       "        vertical-align: middle;\n",
       "    }\n",
       "\n",
       "    .dataframe tbody tr th {\n",
       "        vertical-align: top;\n",
       "    }\n",
       "\n",
       "    .dataframe thead th {\n",
       "        text-align: right;\n",
       "    }\n",
       "</style>\n",
       "<table border=\"1\" class=\"dataframe\">\n",
       "  <thead>\n",
       "    <tr style=\"text-align: right;\">\n",
       "      <th></th>\n",
       "      <th>datetime</th>\n",
       "      <th>ny_humidity</th>\n",
       "      <th>ny_pressure</th>\n",
       "      <th>ny_temperature</th>\n",
       "      <th>ny_weather_des</th>\n",
       "      <th>ny_wind_dir</th>\n",
       "      <th>ny_wind_speed</th>\n",
       "    </tr>\n",
       "  </thead>\n",
       "  <tbody>\n",
       "    <tr>\n",
       "      <th>0</th>\n",
       "      <td>2012-10-01 12:00:00</td>\n",
       "      <td>NaN</td>\n",
       "      <td>NaN</td>\n",
       "      <td>NaN</td>\n",
       "      <td>NaN</td>\n",
       "      <td>NaN</td>\n",
       "      <td>NaN</td>\n",
       "    </tr>\n",
       "    <tr>\n",
       "      <th>1</th>\n",
       "      <td>2012-10-01 13:00:00</td>\n",
       "      <td>58.0</td>\n",
       "      <td>1012.0</td>\n",
       "      <td>288.220000</td>\n",
       "      <td>few clouds</td>\n",
       "      <td>260.0</td>\n",
       "      <td>7.0</td>\n",
       "    </tr>\n",
       "    <tr>\n",
       "      <th>2</th>\n",
       "      <td>2012-10-01 14:00:00</td>\n",
       "      <td>57.0</td>\n",
       "      <td>1012.0</td>\n",
       "      <td>288.247676</td>\n",
       "      <td>few clouds</td>\n",
       "      <td>260.0</td>\n",
       "      <td>7.0</td>\n",
       "    </tr>\n",
       "    <tr>\n",
       "      <th>3</th>\n",
       "      <td>2012-10-01 15:00:00</td>\n",
       "      <td>57.0</td>\n",
       "      <td>1012.0</td>\n",
       "      <td>288.326940</td>\n",
       "      <td>few clouds</td>\n",
       "      <td>260.0</td>\n",
       "      <td>7.0</td>\n",
       "    </tr>\n",
       "    <tr>\n",
       "      <th>4</th>\n",
       "      <td>2012-10-01 16:00:00</td>\n",
       "      <td>57.0</td>\n",
       "      <td>1012.0</td>\n",
       "      <td>288.406203</td>\n",
       "      <td>few clouds</td>\n",
       "      <td>260.0</td>\n",
       "      <td>7.0</td>\n",
       "    </tr>\n",
       "  </tbody>\n",
       "</table>\n",
       "</div>"
      ],
      "text/plain": [
       "              datetime  ny_humidity  ny_pressure  ny_temperature  \\\n",
       "0  2012-10-01 12:00:00          NaN          NaN             NaN   \n",
       "1  2012-10-01 13:00:00         58.0       1012.0      288.220000   \n",
       "2  2012-10-01 14:00:00         57.0       1012.0      288.247676   \n",
       "3  2012-10-01 15:00:00         57.0       1012.0      288.326940   \n",
       "4  2012-10-01 16:00:00         57.0       1012.0      288.406203   \n",
       "\n",
       "  ny_weather_des  ny_wind_dir  ny_wind_speed  \n",
       "0            NaN          NaN            NaN  \n",
       "1     few clouds        260.0            7.0  \n",
       "2     few clouds        260.0            7.0  \n",
       "3     few clouds        260.0            7.0  \n",
       "4     few clouds        260.0            7.0  "
      ]
     },
     "execution_count": 4,
     "metadata": {},
     "output_type": "execute_result"
    }
   ],
   "source": [
    "# Merge datasets, keeping only New York weather information.\n",
    "\n",
    "df_list = [pressure, temperature, weather_des, wind_dir, wind_speed]\n",
    "df_names = ['pressure', 'temperature', 'weather_des', 'wind_dir', 'wind_speed']\n",
    "\n",
    "## Create \"merged_df\" variable with humidity dataset.\n",
    "merged_df = humidity[['datetime', 'New York']].rename(columns = {'New York' : 'ny_humidity'})\n",
    "\n",
    "## For loop to add remaining datasets to \"merged_df\".\n",
    "df_counter = 0\n",
    "for df in df_list:\n",
    "    df_name = df_names[df_counter]\n",
    "    new_df = df[['datetime', 'New York']].rename(columns = {'New York' : 'ny_' + df_name})\n",
    "    merged_df = merged_df.merge(new_df, how = 'right', on = 'datetime')\n",
    "    df_counter += 1\n",
    "    \n",
    "## Check shape of merged dataframes.\n",
    "print('Merged dataset has {} rows and {} columns.'.format(merged_df.shape[0], merged_df.shape[1]))\n",
    "## Check \"merged_df\"\n",
    "merged_df.head()"
   ]
  },
  {
   "cell_type": "markdown",
   "metadata": {},
   "source": [
    "#### Changing format, datatypes, dropping nulls,  and re-setting index."
   ]
  },
  {
   "cell_type": "code",
   "execution_count": 5,
   "metadata": {},
   "outputs": [],
   "source": [
    "# Change datatype of \"datetime\" column from object to datetime.\n",
    "merged_df['datetime'] = pd.to_datetime(merged_df['datetime'])"
   ]
  },
  {
   "cell_type": "code",
   "execution_count": 6,
   "metadata": {},
   "outputs": [],
   "source": [
    "# Dropped humidity and pressure data, due to assumption that there is no strong correlation between these and power outages.\n",
    "merged_df = merged_df.drop(columns = ['ny_humidity', 'ny_pressure'])"
   ]
  },
  {
   "cell_type": "code",
   "execution_count": 7,
   "metadata": {},
   "outputs": [],
   "source": [
    "# Drop null values by indexing. Null values are located only at beginning of dataframe and end of dataframe.\n",
    "# This allows for no gaps in between 10/1/2012 2 PM - 10/28/2017 12 AM.\n",
    "\n",
    "merged_df = merged_df.iloc[1:44461]"
   ]
  },
  {
   "cell_type": "code",
   "execution_count": 8,
   "metadata": {
    "scrolled": true
   },
   "outputs": [],
   "source": [
    "# Set \"datetime\" column as index\n",
    "merged_df = merged_df.set_index('datetime').sort_index()"
   ]
  },
  {
   "cell_type": "code",
   "execution_count": 9,
   "metadata": {},
   "outputs": [],
   "source": [
    "# Change temperature data from Kelvin to Fahrenheit.\n",
    "# https://pypi.org/project/pytemperature/\n",
    "merged_df['ny_temperature'] = pytemperature.k2f(merged_df['ny_temperature'])"
   ]
  },
  {
   "cell_type": "code",
   "execution_count": 10,
   "metadata": {},
   "outputs": [],
   "source": [
    "# Function to convert meters per second to miles per hour.\n",
    "def convert_mph(meters_ps):\n",
    "    miles = meters_ps / 1609.344\n",
    "    miles_ph = miles * 3600\n",
    "    \n",
    "    return int(miles_ph)\n",
    "\n",
    "# Convert \"ny_wind_speed\" (wind speed) from meters per second to miles per hour. \n",
    "merged_df.ny_wind_speed = merged_df.ny_wind_speed.map(lambda cell: convert_mph(cell))"
   ]
  },
  {
   "cell_type": "code",
   "execution_count": 11,
   "metadata": {},
   "outputs": [],
   "source": [
    "# Rename columns to reflect units.\n",
    "merged_df.rename(columns = {\n",
    "    'ny_temperature' : 'temperature_f',\n",
    "    'ny_wind_dir'    : 'wind_dir_degrees',\n",
    "    'ny_wind_speed'  : 'wind_speed_mph'\n",
    "}, inplace = True)\n",
    "\n",
    "# Change format of column names; spaces replaced by underscores.\n",
    "column_new_names = []\n",
    "for column in merged_df.columns:\n",
    "    new_name = column.replace(' ', '_')\n",
    "    column_new_names.append(new_name)\n",
    "merged_df.columns = column_new_names"
   ]
  },
  {
   "cell_type": "markdown",
   "metadata": {},
   "source": [
    "#### Creating dummy variables for wind descriptions."
   ]
  },
  {
   "cell_type": "code",
   "execution_count": 13,
   "metadata": {},
   "outputs": [
    {
     "name": "stdout",
     "output_type": "stream",
     "text": [
      "36 unique weather description values.\n"
     ]
    }
   ],
   "source": [
    "# Create dummy features for text values in \"ny_weather_des\" (weather descriptions).\n",
    "\n",
    "## Check how many unique values for weather descriptions.\n",
    "print('{} unique weather description values.'.format(merged_df.ny_weather_des.nunique()))\n",
    "\n",
    "## Create dummy variables. \n",
    "dummy_variables = pd.get_dummies(merged_df['ny_weather_des'])\n",
    "\n",
    "## Merge dummy variables with merged_df that holds other weather features.\n",
    "numerical_df = merged_df.merge(dummy_variables, how = 'left', on = 'datetime')\n",
    "\n",
    "## Drop text/object dtype column \"ny_weather_des\" (weather descriptions).\n",
    "numerical_df.drop(columns ='ny_weather_des', inplace = True)"
   ]
  },
  {
   "cell_type": "markdown",
   "metadata": {},
   "source": [
    "#### Final cleaned weather dataframe."
   ]
  },
  {
   "cell_type": "code",
   "execution_count": 15,
   "metadata": {
    "scrolled": false
   },
   "outputs": [
    {
     "name": "stdout",
     "output_type": "stream",
     "text": [
      "Merged dataset has 44460 rows and 39 columns.\n"
     ]
    },
    {
     "data": {
      "text/html": [
       "<div>\n",
       "<style scoped>\n",
       "    .dataframe tbody tr th:only-of-type {\n",
       "        vertical-align: middle;\n",
       "    }\n",
       "\n",
       "    .dataframe tbody tr th {\n",
       "        vertical-align: top;\n",
       "    }\n",
       "\n",
       "    .dataframe thead th {\n",
       "        text-align: right;\n",
       "    }\n",
       "</style>\n",
       "<table border=\"1\" class=\"dataframe\">\n",
       "  <thead>\n",
       "    <tr style=\"text-align: right;\">\n",
       "      <th></th>\n",
       "      <th>temperature_f</th>\n",
       "      <th>wind_dir_degrees</th>\n",
       "      <th>wind_speed_mph</th>\n",
       "      <th>broken clouds</th>\n",
       "      <th>drizzle</th>\n",
       "      <th>dust</th>\n",
       "      <th>few clouds</th>\n",
       "      <th>fog</th>\n",
       "      <th>freezing rain</th>\n",
       "      <th>haze</th>\n",
       "      <th>...</th>\n",
       "      <th>sky is clear</th>\n",
       "      <th>smoke</th>\n",
       "      <th>snow</th>\n",
       "      <th>squalls</th>\n",
       "      <th>thunderstorm</th>\n",
       "      <th>thunderstorm with heavy rain</th>\n",
       "      <th>thunderstorm with light drizzle</th>\n",
       "      <th>thunderstorm with light rain</th>\n",
       "      <th>thunderstorm with rain</th>\n",
       "      <th>very heavy rain</th>\n",
       "    </tr>\n",
       "    <tr>\n",
       "      <th>datetime</th>\n",
       "      <th></th>\n",
       "      <th></th>\n",
       "      <th></th>\n",
       "      <th></th>\n",
       "      <th></th>\n",
       "      <th></th>\n",
       "      <th></th>\n",
       "      <th></th>\n",
       "      <th></th>\n",
       "      <th></th>\n",
       "      <th></th>\n",
       "      <th></th>\n",
       "      <th></th>\n",
       "      <th></th>\n",
       "      <th></th>\n",
       "      <th></th>\n",
       "      <th></th>\n",
       "      <th></th>\n",
       "      <th></th>\n",
       "      <th></th>\n",
       "      <th></th>\n",
       "    </tr>\n",
       "  </thead>\n",
       "  <tbody>\n",
       "    <tr>\n",
       "      <th>2012-10-01 13:00:00</th>\n",
       "      <td>59.11</td>\n",
       "      <td>260.0</td>\n",
       "      <td>15</td>\n",
       "      <td>0</td>\n",
       "      <td>0</td>\n",
       "      <td>0</td>\n",
       "      <td>1</td>\n",
       "      <td>0</td>\n",
       "      <td>0</td>\n",
       "      <td>0</td>\n",
       "      <td>...</td>\n",
       "      <td>0</td>\n",
       "      <td>0</td>\n",
       "      <td>0</td>\n",
       "      <td>0</td>\n",
       "      <td>0</td>\n",
       "      <td>0</td>\n",
       "      <td>0</td>\n",
       "      <td>0</td>\n",
       "      <td>0</td>\n",
       "      <td>0</td>\n",
       "    </tr>\n",
       "    <tr>\n",
       "      <th>2012-10-01 14:00:00</th>\n",
       "      <td>59.16</td>\n",
       "      <td>260.0</td>\n",
       "      <td>15</td>\n",
       "      <td>0</td>\n",
       "      <td>0</td>\n",
       "      <td>0</td>\n",
       "      <td>1</td>\n",
       "      <td>0</td>\n",
       "      <td>0</td>\n",
       "      <td>0</td>\n",
       "      <td>...</td>\n",
       "      <td>0</td>\n",
       "      <td>0</td>\n",
       "      <td>0</td>\n",
       "      <td>0</td>\n",
       "      <td>0</td>\n",
       "      <td>0</td>\n",
       "      <td>0</td>\n",
       "      <td>0</td>\n",
       "      <td>0</td>\n",
       "      <td>0</td>\n",
       "    </tr>\n",
       "    <tr>\n",
       "      <th>2012-10-01 15:00:00</th>\n",
       "      <td>59.30</td>\n",
       "      <td>260.0</td>\n",
       "      <td>15</td>\n",
       "      <td>0</td>\n",
       "      <td>0</td>\n",
       "      <td>0</td>\n",
       "      <td>1</td>\n",
       "      <td>0</td>\n",
       "      <td>0</td>\n",
       "      <td>0</td>\n",
       "      <td>...</td>\n",
       "      <td>0</td>\n",
       "      <td>0</td>\n",
       "      <td>0</td>\n",
       "      <td>0</td>\n",
       "      <td>0</td>\n",
       "      <td>0</td>\n",
       "      <td>0</td>\n",
       "      <td>0</td>\n",
       "      <td>0</td>\n",
       "      <td>0</td>\n",
       "    </tr>\n",
       "  </tbody>\n",
       "</table>\n",
       "<p>3 rows × 39 columns</p>\n",
       "</div>"
      ],
      "text/plain": [
       "                     temperature_f  wind_dir_degrees  wind_speed_mph  \\\n",
       "datetime                                                               \n",
       "2012-10-01 13:00:00          59.11             260.0              15   \n",
       "2012-10-01 14:00:00          59.16             260.0              15   \n",
       "2012-10-01 15:00:00          59.30             260.0              15   \n",
       "\n",
       "                     broken clouds  drizzle  dust  few clouds  fog  \\\n",
       "datetime                                                             \n",
       "2012-10-01 13:00:00              0        0     0           1    0   \n",
       "2012-10-01 14:00:00              0        0     0           1    0   \n",
       "2012-10-01 15:00:00              0        0     0           1    0   \n",
       "\n",
       "                     freezing rain  haze  ...  sky is clear  smoke  snow  \\\n",
       "datetime                                  ...                              \n",
       "2012-10-01 13:00:00              0     0  ...             0      0     0   \n",
       "2012-10-01 14:00:00              0     0  ...             0      0     0   \n",
       "2012-10-01 15:00:00              0     0  ...             0      0     0   \n",
       "\n",
       "                     squalls  thunderstorm  thunderstorm with heavy rain  \\\n",
       "datetime                                                                   \n",
       "2012-10-01 13:00:00        0             0                             0   \n",
       "2012-10-01 14:00:00        0             0                             0   \n",
       "2012-10-01 15:00:00        0             0                             0   \n",
       "\n",
       "                     thunderstorm with light drizzle  \\\n",
       "datetime                                               \n",
       "2012-10-01 13:00:00                                0   \n",
       "2012-10-01 14:00:00                                0   \n",
       "2012-10-01 15:00:00                                0   \n",
       "\n",
       "                     thunderstorm with light rain  thunderstorm with rain  \\\n",
       "datetime                                                                    \n",
       "2012-10-01 13:00:00                             0                       0   \n",
       "2012-10-01 14:00:00                             0                       0   \n",
       "2012-10-01 15:00:00                             0                       0   \n",
       "\n",
       "                     very heavy rain  \n",
       "datetime                              \n",
       "2012-10-01 13:00:00                0  \n",
       "2012-10-01 14:00:00                0  \n",
       "2012-10-01 15:00:00                0  \n",
       "\n",
       "[3 rows x 39 columns]"
      ]
     },
     "execution_count": 15,
     "metadata": {},
     "output_type": "execute_result"
    }
   ],
   "source": [
    "# Check shape of cleaned weather data.\n",
    "print('Merged dataset has {} rows and {} columns.'.format(numerical_df.shape[0], numerical_df.shape[1]))\n",
    "#  Check \"numerical_df\".\n",
    "numerical_df.head(3)"
   ]
  },
  {
   "cell_type": "markdown",
   "metadata": {},
   "source": [
    "## 2. Data Cleaning (Power Outages)\n",
    "\n",
    "#### Loading power outage data downloaded from [NYC OpenData's OEM Emergency Notifications](https://data.cityofnewyork.us/Public-Safety/OEM-Emergency-Notifications/8vv7-7wx3/data)."
   ]
  },
  {
   "cell_type": "code",
   "execution_count": 19,
   "metadata": {},
   "outputs": [],
   "source": [
    "# Load outage data from multiple CSV files.\n",
    "open_nyc = pd.read_csv('./data/nyc_open_datasets/OEM_Emergency_Notifications.csv')\n",
    "non_outage = pd.read_csv('./data/nyc_open_datasets/OEM_Non_Outages.csv')"
   ]
  },
  {
   "cell_type": "code",
   "execution_count": 20,
   "metadata": {},
   "outputs": [
    {
     "data": {
      "text/html": [
       "<div>\n",
       "<style scoped>\n",
       "    .dataframe tbody tr th:only-of-type {\n",
       "        vertical-align: middle;\n",
       "    }\n",
       "\n",
       "    .dataframe tbody tr th {\n",
       "        vertical-align: top;\n",
       "    }\n",
       "\n",
       "    .dataframe thead th {\n",
       "        text-align: right;\n",
       "    }\n",
       "</style>\n",
       "<table border=\"1\" class=\"dataframe\">\n",
       "  <thead>\n",
       "    <tr style=\"text-align: right;\">\n",
       "      <th></th>\n",
       "      <th>Record ID</th>\n",
       "      <th>Date and Time</th>\n",
       "      <th>NotificationType</th>\n",
       "      <th>Notification Title</th>\n",
       "      <th>Email Body</th>\n",
       "    </tr>\n",
       "  </thead>\n",
       "  <tbody>\n",
       "    <tr>\n",
       "      <th>0</th>\n",
       "      <td>11993</td>\n",
       "      <td>12/27/2018 01:42:00 PM</td>\n",
       "      <td>Utility</td>\n",
       "      <td>Con Edison Power Outage - Gravesend (BK)</td>\n",
       "      <td>Notification issued 12-27-2018 at 1:42 PM. Con...</td>\n",
       "    </tr>\n",
       "    <tr>\n",
       "      <th>1</th>\n",
       "      <td>11948</td>\n",
       "      <td>12/21/2018 03:20:00 PM</td>\n",
       "      <td>Utility</td>\n",
       "      <td>Power Outage - Breezy Point &amp; Roxbury (QN)</td>\n",
       "      <td>Notification issued 12-21-2018 at 3:20 PM. PSE...</td>\n",
       "    </tr>\n",
       "  </tbody>\n",
       "</table>\n",
       "</div>"
      ],
      "text/plain": [
       "   Record ID           Date and Time NotificationType  \\\n",
       "0      11993  12/27/2018 01:42:00 PM          Utility   \n",
       "1      11948  12/21/2018 03:20:00 PM          Utility   \n",
       "\n",
       "                           Notification Title  \\\n",
       "0    Con Edison Power Outage - Gravesend (BK)   \n",
       "1  Power Outage - Breezy Point & Roxbury (QN)   \n",
       "\n",
       "                                          Email Body  \n",
       "0  Notification issued 12-27-2018 at 1:42 PM. Con...  \n",
       "1  Notification issued 12-21-2018 at 3:20 PM. PSE...  "
      ]
     },
     "execution_count": 20,
     "metadata": {},
     "output_type": "execute_result"
    }
   ],
   "source": [
    "# Check format of datasets.\n",
    "open_nyc.head(2)"
   ]
  },
  {
   "cell_type": "code",
   "execution_count": 21,
   "metadata": {},
   "outputs": [
    {
     "data": {
      "text/html": [
       "<div>\n",
       "<style scoped>\n",
       "    .dataframe tbody tr th:only-of-type {\n",
       "        vertical-align: middle;\n",
       "    }\n",
       "\n",
       "    .dataframe tbody tr th {\n",
       "        vertical-align: top;\n",
       "    }\n",
       "\n",
       "    .dataframe thead th {\n",
       "        text-align: right;\n",
       "    }\n",
       "</style>\n",
       "<table border=\"1\" class=\"dataframe\">\n",
       "  <thead>\n",
       "    <tr style=\"text-align: right;\">\n",
       "      <th></th>\n",
       "      <th>Record ID</th>\n",
       "      <th>Date and Time</th>\n",
       "      <th>NotificationType</th>\n",
       "      <th>Notification Title</th>\n",
       "      <th>Email Body</th>\n",
       "    </tr>\n",
       "  </thead>\n",
       "  <tbody>\n",
       "    <tr>\n",
       "      <th>0</th>\n",
       "      <td>9601</td>\n",
       "      <td>10/28/2017 10:22:00 PM</td>\n",
       "      <td>Road Closure</td>\n",
       "      <td>Traffic Delays - FDR Drive at 34th Street (MN)</td>\n",
       "      <td>Notification issued 10/28/17 at 10:22 PM. Due ...</td>\n",
       "    </tr>\n",
       "    <tr>\n",
       "      <th>1</th>\n",
       "      <td>9600</td>\n",
       "      <td>10/28/2017 03:30:00 PM</td>\n",
       "      <td>Weather</td>\n",
       "      <td>High Wind Watch - 10/29-10/30 (CW)</td>\n",
       "      <td>Notification issued 10/28/17 at 3:30 PM. The N...</td>\n",
       "    </tr>\n",
       "  </tbody>\n",
       "</table>\n",
       "</div>"
      ],
      "text/plain": [
       "   Record ID           Date and Time NotificationType  \\\n",
       "0       9601  10/28/2017 10:22:00 PM     Road Closure   \n",
       "1       9600  10/28/2017 03:30:00 PM          Weather   \n",
       "\n",
       "                               Notification Title  \\\n",
       "0  Traffic Delays - FDR Drive at 34th Street (MN)   \n",
       "1              High Wind Watch - 10/29-10/30 (CW)   \n",
       "\n",
       "                                          Email Body  \n",
       "0  Notification issued 10/28/17 at 10:22 PM. Due ...  \n",
       "1  Notification issued 10/28/17 at 3:30 PM. The N...  "
      ]
     },
     "execution_count": 21,
     "metadata": {},
     "output_type": "execute_result"
    }
   ],
   "source": [
    "non_outage.head(2)"
   ]
  },
  {
   "cell_type": "code",
   "execution_count": 23,
   "metadata": {},
   "outputs": [
    {
     "name": "stdout",
     "output_type": "stream",
     "text": [
      "open_nyc dataset has 579 rows and 5 columns.\n",
      "non_outages dataset has 6721 rows and 5 columns.\n"
     ]
    }
   ],
   "source": [
    "# Check shape of \"open_nyc\" and \"non_outage\" dataframes.\n",
    "print('open_nyc dataset has {} rows and {} columns.'.format(open_nyc.shape[0], open_nyc.shape[1]))\n",
    "print('non_outages dataset has {} rows and {} columns.'.format(non_outage.shape[0], non_outage.shape[1]))"
   ]
  },
  {
   "cell_type": "markdown",
   "metadata": {},
   "source": [
    "#### Creating new label / \"outage\" column ."
   ]
  },
  {
   "cell_type": "code",
   "execution_count": 24,
   "metadata": {},
   "outputs": [],
   "source": [
    "# https://pandas.pydata.org/pandas-docs/stable/reference/api/pandas.DataFrame.insert.html\n",
    "open_nyc.insert(5, 'outage', 1)\n",
    "non_outage.insert(5, 'outage', 0)"
   ]
  },
  {
   "cell_type": "markdown",
   "metadata": {},
   "source": [
    "#### Merge power outage and non-outage notifications dataframes."
   ]
  },
  {
   "cell_type": "code",
   "execution_count": 28,
   "metadata": {},
   "outputs": [
    {
     "name": "stdout",
     "output_type": "stream",
     "text": [
      "merged_outage dataset has 7300 rows and 6 columns.\n"
     ]
    },
    {
     "data": {
      "text/html": [
       "<div>\n",
       "<style scoped>\n",
       "    .dataframe tbody tr th:only-of-type {\n",
       "        vertical-align: middle;\n",
       "    }\n",
       "\n",
       "    .dataframe tbody tr th {\n",
       "        vertical-align: top;\n",
       "    }\n",
       "\n",
       "    .dataframe thead th {\n",
       "        text-align: right;\n",
       "    }\n",
       "</style>\n",
       "<table border=\"1\" class=\"dataframe\">\n",
       "  <thead>\n",
       "    <tr style=\"text-align: right;\">\n",
       "      <th></th>\n",
       "      <th>Record ID</th>\n",
       "      <th>Date and Time</th>\n",
       "      <th>NotificationType</th>\n",
       "      <th>Notification Title</th>\n",
       "      <th>Email Body</th>\n",
       "      <th>outage</th>\n",
       "    </tr>\n",
       "  </thead>\n",
       "  <tbody>\n",
       "    <tr>\n",
       "      <th>0</th>\n",
       "      <td>11993</td>\n",
       "      <td>12/27/2018 01:42:00 PM</td>\n",
       "      <td>Utility</td>\n",
       "      <td>Con Edison Power Outage - Gravesend (BK)</td>\n",
       "      <td>Notification issued 12-27-2018 at 1:42 PM. Con...</td>\n",
       "      <td>1</td>\n",
       "    </tr>\n",
       "    <tr>\n",
       "      <th>1</th>\n",
       "      <td>11948</td>\n",
       "      <td>12/21/2018 03:20:00 PM</td>\n",
       "      <td>Utility</td>\n",
       "      <td>Power Outage - Breezy Point &amp; Roxbury (QN)</td>\n",
       "      <td>Notification issued 12-21-2018 at 3:20 PM. PSE...</td>\n",
       "      <td>1</td>\n",
       "    </tr>\n",
       "  </tbody>\n",
       "</table>\n",
       "</div>"
      ],
      "text/plain": [
       "   Record ID           Date and Time NotificationType  \\\n",
       "0      11993  12/27/2018 01:42:00 PM          Utility   \n",
       "1      11948  12/21/2018 03:20:00 PM          Utility   \n",
       "\n",
       "                           Notification Title  \\\n",
       "0    Con Edison Power Outage - Gravesend (BK)   \n",
       "1  Power Outage - Breezy Point & Roxbury (QN)   \n",
       "\n",
       "                                          Email Body  outage  \n",
       "0  Notification issued 12-27-2018 at 1:42 PM. Con...       1  \n",
       "1  Notification issued 12-21-2018 at 3:20 PM. PSE...       1  "
      ]
     },
     "execution_count": 28,
     "metadata": {},
     "output_type": "execute_result"
    }
   ],
   "source": [
    "merged_outage = pd.concat([open_nyc, non_outage])\n",
    "\n",
    "# Check head and shape of \"merged_outage\" dataframe. \n",
    "print('merged_outage dataset has {} rows and {} columns.'.format(merged_outage.shape[0], merged_outage.shape[1]))\n",
    "merged_outage.head(2)"
   ]
  },
  {
   "cell_type": "code",
   "execution_count": 29,
   "metadata": {},
   "outputs": [
    {
     "data": {
      "text/html": [
       "<div>\n",
       "<style scoped>\n",
       "    .dataframe tbody tr th:only-of-type {\n",
       "        vertical-align: middle;\n",
       "    }\n",
       "\n",
       "    .dataframe tbody tr th {\n",
       "        vertical-align: top;\n",
       "    }\n",
       "\n",
       "    .dataframe thead th {\n",
       "        text-align: right;\n",
       "    }\n",
       "</style>\n",
       "<table border=\"1\" class=\"dataframe\">\n",
       "  <thead>\n",
       "    <tr style=\"text-align: right;\">\n",
       "      <th></th>\n",
       "      <th>Record ID</th>\n",
       "      <th>Date and Time</th>\n",
       "      <th>NotificationType</th>\n",
       "      <th>Notification Title</th>\n",
       "      <th>Email Body</th>\n",
       "      <th>outage</th>\n",
       "    </tr>\n",
       "  </thead>\n",
       "  <tbody>\n",
       "    <tr>\n",
       "      <th>6719</th>\n",
       "      <td>2440</td>\n",
       "      <td>10/02/2012 03:39:00 AM</td>\n",
       "      <td>Road Closure</td>\n",
       "      <td>All Lanes Re-opened - Whitestone Bridge</td>\n",
       "      <td>Notification issued 10/2/2012 at 3:39 AM. Afte...</td>\n",
       "      <td>0</td>\n",
       "    </tr>\n",
       "    <tr>\n",
       "      <th>6720</th>\n",
       "      <td>2439</td>\n",
       "      <td>10/02/2012 12:07:00 AM</td>\n",
       "      <td>Road Closure</td>\n",
       "      <td>All Lanes Closed  - Whitestone Bridge</td>\n",
       "      <td>Notification issued 10/2/2012 at 12:07 AM. Due...</td>\n",
       "      <td>0</td>\n",
       "    </tr>\n",
       "  </tbody>\n",
       "</table>\n",
       "</div>"
      ],
      "text/plain": [
       "      Record ID           Date and Time NotificationType  \\\n",
       "6719       2440  10/02/2012 03:39:00 AM     Road Closure   \n",
       "6720       2439  10/02/2012 12:07:00 AM     Road Closure   \n",
       "\n",
       "                           Notification Title  \\\n",
       "6719  All Lanes Re-opened - Whitestone Bridge   \n",
       "6720    All Lanes Closed  - Whitestone Bridge   \n",
       "\n",
       "                                             Email Body  outage  \n",
       "6719  Notification issued 10/2/2012 at 3:39 AM. Afte...       0  \n",
       "6720  Notification issued 10/2/2012 at 12:07 AM. Due...       0  "
      ]
     },
     "execution_count": 29,
     "metadata": {},
     "output_type": "execute_result"
    }
   ],
   "source": [
    "# Check tail of \"merged_outage\".\n",
    "merged_outage.tail(2)"
   ]
  },
  {
   "cell_type": "markdown",
   "metadata": {},
   "source": [
    "#### Dropping unecessary columns, formatting name of columns, changing datatypes, dropping duplicates and re-setting index."
   ]
  },
  {
   "cell_type": "code",
   "execution_count": 30,
   "metadata": {},
   "outputs": [],
   "source": [
    "# Drop \"Record ID\" column, not necessary. \n",
    "merged_outage.drop(columns = ['Record ID'], inplace = True)"
   ]
  },
  {
   "cell_type": "code",
   "execution_count": 33,
   "metadata": {},
   "outputs": [],
   "source": [
    "# Lowercase column names.\n",
    "new_cols = []\n",
    "for column in merged_outage.columns:\n",
    "    new_cols.append(column.lower())\n",
    "new_cols\n",
    "\n",
    "merged_outage.columns = new_cols"
   ]
  },
  {
   "cell_type": "code",
   "execution_count": 37,
   "metadata": {},
   "outputs": [],
   "source": [
    "# Replace spaces in column names with underscores.\n",
    "column_new_names = []\n",
    "for column in merged_outage.columns:\n",
    "    new_name = column.replace(' ', '_')\n",
    "    column_new_names.append(new_name)\n",
    "\n",
    "merged_outage.columns = column_new_names"
   ]
  },
  {
   "cell_type": "code",
   "execution_count": 38,
   "metadata": {},
   "outputs": [],
   "source": [
    "# Rename column names, including \"date_and_time\" to be same as \"datetime\" column in weather dataframe.\n",
    "merged_outage.rename(columns={'notificationtype': 'notification_type', 'date_and_time': 'datetime'}, inplace=True)"
   ]
  },
  {
   "cell_type": "code",
   "execution_count": 39,
   "metadata": {},
   "outputs": [],
   "source": [
    "# Change datatype of \"datetime\" column from object to datetime.\n",
    "merged_outage.datetime = pd.to_datetime(merged_outage.datetime)"
   ]
  },
  {
   "cell_type": "code",
   "execution_count": 40,
   "metadata": {},
   "outputs": [],
   "source": [
    "# Drop minute and second data from \"merged_outage\" dataframe, to match format of weather dataframe. \n",
    "merged_outage.datetime = merged_outage.datetime.map(lambda x: x.replace(minute=0, second=0))"
   ]
  },
  {
   "cell_type": "code",
   "execution_count": 47,
   "metadata": {},
   "outputs": [
    {
     "name": "stdout",
     "output_type": "stream",
     "text": [
      "There are 0 suplicate rows in original merged_outage dataframe.\n",
      "After drop duplicated method, 0 confirmed duplicate rows.\n"
     ]
    }
   ],
   "source": [
    "# Check for duplicate rows.\n",
    "print('There are {} suplicate rows in original merged_outage dataframe.'.format(merged_outage.duplicated('datetime').sum()))\n",
    "\n",
    "# Drop duplicate rows.\n",
    "merged_outage = merged_outage.drop_duplicates('datetime')\n",
    "\n",
    "# Re-check for duplicate rows.\n",
    "print('After drop duplicated method, {} confirmed duplicate rows.'.format(merged_outage.duplicated('datetime').sum()))"
   ]
  },
  {
   "cell_type": "code",
   "execution_count": 48,
   "metadata": {},
   "outputs": [],
   "source": [
    "# Set \"datetime\" as index.\n",
    "merged_outage = merged_outage.set_index('datetime').sort_index()"
   ]
  },
  {
   "cell_type": "markdown",
   "metadata": {},
   "source": [
    "#### Final clean power outages dataframe. "
   ]
  },
  {
   "cell_type": "code",
   "execution_count": 49,
   "metadata": {
    "scrolled": true
   },
   "outputs": [
    {
     "name": "stdout",
     "output_type": "stream",
     "text": [
      "merged_outage dataset has 6364 rows and 4 columns.\n"
     ]
    },
    {
     "data": {
      "text/html": [
       "<div>\n",
       "<style scoped>\n",
       "    .dataframe tbody tr th:only-of-type {\n",
       "        vertical-align: middle;\n",
       "    }\n",
       "\n",
       "    .dataframe tbody tr th {\n",
       "        vertical-align: top;\n",
       "    }\n",
       "\n",
       "    .dataframe thead th {\n",
       "        text-align: right;\n",
       "    }\n",
       "</style>\n",
       "<table border=\"1\" class=\"dataframe\">\n",
       "  <thead>\n",
       "    <tr style=\"text-align: right;\">\n",
       "      <th></th>\n",
       "      <th>notification_type</th>\n",
       "      <th>notification_title</th>\n",
       "      <th>email_body</th>\n",
       "      <th>outage</th>\n",
       "    </tr>\n",
       "    <tr>\n",
       "      <th>datetime</th>\n",
       "      <th></th>\n",
       "      <th></th>\n",
       "      <th></th>\n",
       "      <th></th>\n",
       "    </tr>\n",
       "  </thead>\n",
       "  <tbody>\n",
       "    <tr>\n",
       "      <th>2018-12-21 15:00:00</th>\n",
       "      <td>Utility</td>\n",
       "      <td>Power Outage - Breezy Point &amp; Roxbury (QN)</td>\n",
       "      <td>Notification issued 12-21-2018 at 3:20 PM. PSE...</td>\n",
       "      <td>1</td>\n",
       "    </tr>\n",
       "    <tr>\n",
       "      <th>2018-12-27 13:00:00</th>\n",
       "      <td>Utility</td>\n",
       "      <td>Con Edison Power Outage - Gravesend (BK)</td>\n",
       "      <td>Notification issued 12-27-2018 at 1:42 PM. Con...</td>\n",
       "      <td>1</td>\n",
       "    </tr>\n",
       "  </tbody>\n",
       "</table>\n",
       "</div>"
      ],
      "text/plain": [
       "                    notification_type  \\\n",
       "datetime                                \n",
       "2018-12-21 15:00:00           Utility   \n",
       "2018-12-27 13:00:00           Utility   \n",
       "\n",
       "                                             notification_title  \\\n",
       "datetime                                                          \n",
       "2018-12-21 15:00:00  Power Outage - Breezy Point & Roxbury (QN)   \n",
       "2018-12-27 13:00:00    Con Edison Power Outage - Gravesend (BK)   \n",
       "\n",
       "                                                            email_body  outage  \n",
       "datetime                                                                        \n",
       "2018-12-21 15:00:00  Notification issued 12-21-2018 at 3:20 PM. PSE...       1  \n",
       "2018-12-27 13:00:00  Notification issued 12-27-2018 at 1:42 PM. Con...       1  "
      ]
     },
     "execution_count": 49,
     "metadata": {},
     "output_type": "execute_result"
    }
   ],
   "source": [
    "# Check tail and shape of \"merged_outage\" dataframe. \n",
    "print('merged_outage dataset has {} rows and {} columns.'.format(merged_outage.shape[0], merged_outage.shape[1]))\n",
    "merged_outage.tail(2)"
   ]
  },
  {
   "cell_type": "code",
   "execution_count": null,
   "metadata": {},
   "outputs": [],
   "source": []
  }
 ],
 "metadata": {
  "kernelspec": {
   "display_name": "Python 3",
   "language": "python",
   "name": "python3"
  },
  "language_info": {
   "codemirror_mode": {
    "name": "ipython",
    "version": 3
   },
   "file_extension": ".py",
   "mimetype": "text/x-python",
   "name": "python",
   "nbconvert_exporter": "python",
   "pygments_lexer": "ipython3",
   "version": "3.6.8"
  },
  "varInspector": {
   "cols": {
    "lenName": 16,
    "lenType": 16,
    "lenVar": 40
   },
   "kernels_config": {
    "python": {
     "delete_cmd_postfix": "",
     "delete_cmd_prefix": "del ",
     "library": "var_list.py",
     "varRefreshCmd": "print(var_dic_list())"
    },
    "r": {
     "delete_cmd_postfix": ") ",
     "delete_cmd_prefix": "rm(",
     "library": "var_list.r",
     "varRefreshCmd": "cat(var_dic_list()) "
    }
   },
   "types_to_exclude": [
    "module",
    "function",
    "builtin_function_or_method",
    "instance",
    "_Feature"
   ],
   "window_display": false
  }
 },
 "nbformat": 4,
 "nbformat_minor": 2
}
