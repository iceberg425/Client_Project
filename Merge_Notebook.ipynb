{
 "cells": [
  {
   "cell_type": "code",
   "execution_count": 1,
   "metadata": {},
   "outputs": [
    {
     "name": "stdout",
     "output_type": "stream",
     "text": [
      "OEM_Emergency_Notifications.csv tweets_3.csv\r\n",
      "OEM_Non_Outages.csv             tweets_pseg_dec13_sep20.csv\r\n",
      "non_outages.csv                 tweets_pseg_jun27_apr06.csv\r\n",
      "open_nyc.csv                    tweets_pseg_sep6_july2\r\n",
      "target.csv                      weather_target_merged.csv\r\n",
      "tweets.csv                      working_df.csv\r\n",
      "tweets_2.csv\r\n"
     ]
    }
   ],
   "source": [
    "!ls ./data"
   ]
  },
  {
   "cell_type": "code",
   "execution_count": 2,
   "metadata": {},
   "outputs": [],
   "source": [
    "import numpy as np\n",
    "import pandas as pd"
   ]
  },
  {
   "cell_type": "code",
   "execution_count": 3,
   "metadata": {},
   "outputs": [],
   "source": [
    "outages = pd.read_csv('./data/open_nyc.csv', index_col=0)"
   ]
  },
  {
   "cell_type": "code",
   "execution_count": 4,
   "metadata": {},
   "outputs": [
    {
     "data": {
      "text/html": [
       "<div>\n",
       "<style scoped>\n",
       "    .dataframe tbody tr th:only-of-type {\n",
       "        vertical-align: middle;\n",
       "    }\n",
       "\n",
       "    .dataframe tbody tr th {\n",
       "        vertical-align: top;\n",
       "    }\n",
       "\n",
       "    .dataframe thead th {\n",
       "        text-align: right;\n",
       "    }\n",
       "</style>\n",
       "<table border=\"1\" class=\"dataframe\">\n",
       "  <thead>\n",
       "    <tr style=\"text-align: right;\">\n",
       "      <th></th>\n",
       "      <th>datetime</th>\n",
       "      <th>notification_type</th>\n",
       "      <th>notification_title</th>\n",
       "      <th>email_body</th>\n",
       "      <th>outage</th>\n",
       "    </tr>\n",
       "  </thead>\n",
       "  <tbody>\n",
       "    <tr>\n",
       "      <th>0</th>\n",
       "      <td>2018-12-27 13:00:00</td>\n",
       "      <td>Utility</td>\n",
       "      <td>Con Edison Power Outage - Gravesend (BK)</td>\n",
       "      <td>Notification issued 12-27-2018 at 1:42 PM. Con...</td>\n",
       "      <td>1</td>\n",
       "    </tr>\n",
       "    <tr>\n",
       "      <th>1</th>\n",
       "      <td>2018-12-21 15:00:00</td>\n",
       "      <td>Utility</td>\n",
       "      <td>Power Outage - Breezy Point &amp; Roxbury (QN)</td>\n",
       "      <td>Notification issued 12-21-2018 at 3:20 PM. PSE...</td>\n",
       "      <td>1</td>\n",
       "    </tr>\n",
       "    <tr>\n",
       "      <th>2</th>\n",
       "      <td>2018-12-20 22:00:00</td>\n",
       "      <td>Utility</td>\n",
       "      <td>Power Outage - Far Rockaway Sectiojn (QN)</td>\n",
       "      <td>Notification issued 12-20-2018 at 10:50 PM. PS...</td>\n",
       "      <td>1</td>\n",
       "    </tr>\n",
       "    <tr>\n",
       "      <th>3</th>\n",
       "      <td>2018-12-20 12:00:00</td>\n",
       "      <td>Utility</td>\n",
       "      <td>Power Outage - Pelham Parkway (BX)</td>\n",
       "      <td>Notification issued 12-20-2018 at 12:40 PM. Co...</td>\n",
       "      <td>1</td>\n",
       "    </tr>\n",
       "    <tr>\n",
       "      <th>4</th>\n",
       "      <td>2018-12-10 05:00:00</td>\n",
       "      <td>Utility</td>\n",
       "      <td>Con Edison Power Outage - Hollis Section (QN)</td>\n",
       "      <td>Notification issued 12-10-2018 at 5:21 PM. Con...</td>\n",
       "      <td>1</td>\n",
       "    </tr>\n",
       "  </tbody>\n",
       "</table>\n",
       "</div>"
      ],
      "text/plain": [
       "              datetime notification_type  \\\n",
       "0  2018-12-27 13:00:00           Utility   \n",
       "1  2018-12-21 15:00:00           Utility   \n",
       "2  2018-12-20 22:00:00           Utility   \n",
       "3  2018-12-20 12:00:00           Utility   \n",
       "4  2018-12-10 05:00:00           Utility   \n",
       "\n",
       "                              notification_title  \\\n",
       "0       Con Edison Power Outage - Gravesend (BK)   \n",
       "1     Power Outage - Breezy Point & Roxbury (QN)   \n",
       "2      Power Outage - Far Rockaway Sectiojn (QN)   \n",
       "3             Power Outage - Pelham Parkway (BX)   \n",
       "4  Con Edison Power Outage - Hollis Section (QN)   \n",
       "\n",
       "                                          email_body  outage  \n",
       "0  Notification issued 12-27-2018 at 1:42 PM. Con...       1  \n",
       "1  Notification issued 12-21-2018 at 3:20 PM. PSE...       1  \n",
       "2  Notification issued 12-20-2018 at 10:50 PM. PS...       1  \n",
       "3  Notification issued 12-20-2018 at 12:40 PM. Co...       1  \n",
       "4  Notification issued 12-10-2018 at 5:21 PM. Con...       1  "
      ]
     },
     "execution_count": 4,
     "metadata": {},
     "output_type": "execute_result"
    }
   ],
   "source": [
    "outages.head()"
   ]
  },
  {
   "cell_type": "code",
   "execution_count": 5,
   "metadata": {},
   "outputs": [
    {
     "data": {
      "text/plain": [
       "(567, 5)"
      ]
     },
     "execution_count": 5,
     "metadata": {},
     "output_type": "execute_result"
    }
   ],
   "source": [
    "outages.shape"
   ]
  },
  {
   "cell_type": "code",
   "execution_count": 6,
   "metadata": {},
   "outputs": [],
   "source": [
    "non_outages = pd.read_csv('./data/non_outages.csv', index_col=0)"
   ]
  },
  {
   "cell_type": "code",
   "execution_count": 7,
   "metadata": {},
   "outputs": [
    {
     "data": {
      "text/html": [
       "<div>\n",
       "<style scoped>\n",
       "    .dataframe tbody tr th:only-of-type {\n",
       "        vertical-align: middle;\n",
       "    }\n",
       "\n",
       "    .dataframe tbody tr th {\n",
       "        vertical-align: top;\n",
       "    }\n",
       "\n",
       "    .dataframe thead th {\n",
       "        text-align: right;\n",
       "    }\n",
       "</style>\n",
       "<table border=\"1\" class=\"dataframe\">\n",
       "  <thead>\n",
       "    <tr style=\"text-align: right;\">\n",
       "      <th></th>\n",
       "      <th>datetime</th>\n",
       "      <th>notification_type</th>\n",
       "      <th>notification_title</th>\n",
       "      <th>email_body</th>\n",
       "      <th>outage</th>\n",
       "    </tr>\n",
       "  </thead>\n",
       "  <tbody>\n",
       "    <tr>\n",
       "      <th>0</th>\n",
       "      <td>2017-10-28 22:00:00</td>\n",
       "      <td>Road Closure</td>\n",
       "      <td>Traffic Delays - FDR Drive at 34th Street (MN)</td>\n",
       "      <td>Notification issued 10/28/17 at 10:22 PM. Due ...</td>\n",
       "      <td>0</td>\n",
       "    </tr>\n",
       "    <tr>\n",
       "      <th>1</th>\n",
       "      <td>2017-10-28 15:00:00</td>\n",
       "      <td>Weather</td>\n",
       "      <td>High Wind Watch - 10/29-10/30 (CW)</td>\n",
       "      <td>Notification issued 10/28/17 at 3:30 PM. The N...</td>\n",
       "      <td>0</td>\n",
       "    </tr>\n",
       "    <tr>\n",
       "      <th>3</th>\n",
       "      <td>2017-10-28 09:00:00</td>\n",
       "      <td>Weather</td>\n",
       "      <td>Flash Flood Watch - 10/29 - 10/30 (CW)</td>\n",
       "      <td>Notification issued 10/28/17 at 9:00 AM. The N...</td>\n",
       "      <td>0</td>\n",
       "    </tr>\n",
       "    <tr>\n",
       "      <th>4</th>\n",
       "      <td>2017-10-27 20:00:00</td>\n",
       "      <td>Road Closure</td>\n",
       "      <td>Traffic Delays - Cross Bronx Expressway at 3rd...</td>\n",
       "      <td>Notification issued 10/27/17 at 8:32 PM. Due t...</td>\n",
       "      <td>0</td>\n",
       "    </tr>\n",
       "    <tr>\n",
       "      <th>6</th>\n",
       "      <td>2017-10-27 17:00:00</td>\n",
       "      <td>Road Closure</td>\n",
       "      <td>Traffic Delays - Lincoln Tunnel (MN)</td>\n",
       "      <td>Notification issued 10/27/17 at 5:44 PM. Due t...</td>\n",
       "      <td>0</td>\n",
       "    </tr>\n",
       "  </tbody>\n",
       "</table>\n",
       "</div>"
      ],
      "text/plain": [
       "              datetime notification_type  \\\n",
       "0  2017-10-28 22:00:00      Road Closure   \n",
       "1  2017-10-28 15:00:00           Weather   \n",
       "3  2017-10-28 09:00:00           Weather   \n",
       "4  2017-10-27 20:00:00      Road Closure   \n",
       "6  2017-10-27 17:00:00      Road Closure   \n",
       "\n",
       "                                  notification_title  \\\n",
       "0     Traffic Delays - FDR Drive at 34th Street (MN)   \n",
       "1                 High Wind Watch - 10/29-10/30 (CW)   \n",
       "3             Flash Flood Watch - 10/29 - 10/30 (CW)   \n",
       "4  Traffic Delays - Cross Bronx Expressway at 3rd...   \n",
       "6               Traffic Delays - Lincoln Tunnel (MN)   \n",
       "\n",
       "                                          email_body  outage  \n",
       "0  Notification issued 10/28/17 at 10:22 PM. Due ...       0  \n",
       "1  Notification issued 10/28/17 at 3:30 PM. The N...       0  \n",
       "3  Notification issued 10/28/17 at 9:00 AM. The N...       0  \n",
       "4  Notification issued 10/27/17 at 8:32 PM. Due t...       0  \n",
       "6  Notification issued 10/27/17 at 5:44 PM. Due t...       0  "
      ]
     },
     "execution_count": 7,
     "metadata": {},
     "output_type": "execute_result"
    }
   ],
   "source": [
    "non_outages.head()"
   ]
  },
  {
   "cell_type": "code",
   "execution_count": 8,
   "metadata": {},
   "outputs": [
    {
     "data": {
      "text/plain": [
       "(5871, 5)"
      ]
     },
     "execution_count": 8,
     "metadata": {},
     "output_type": "execute_result"
    }
   ],
   "source": [
    "non_outages.shape"
   ]
  },
  {
   "cell_type": "code",
   "execution_count": 9,
   "metadata": {},
   "outputs": [
    {
     "data": {
      "text/plain": [
       "datetime               0\n",
       "notification_type      0\n",
       "notification_title     0\n",
       "email_body            82\n",
       "outage                 0\n",
       "dtype: int64"
      ]
     },
     "execution_count": 9,
     "metadata": {},
     "output_type": "execute_result"
    }
   ],
   "source": [
    "non_outages.isnull().sum()"
   ]
  },
  {
   "cell_type": "code",
   "execution_count": 10,
   "metadata": {
    "scrolled": true
   },
   "outputs": [],
   "source": [
    "# non_outages.duplicated('datetime').sum()"
   ]
  },
  {
   "cell_type": "code",
   "execution_count": 11,
   "metadata": {},
   "outputs": [],
   "source": [
    "# non_outages = non_outages.drop_duplicates('datetime')"
   ]
  },
  {
   "cell_type": "code",
   "execution_count": 12,
   "metadata": {},
   "outputs": [],
   "source": [
    "# non_outages.head()"
   ]
  },
  {
   "cell_type": "code",
   "execution_count": 13,
   "metadata": {},
   "outputs": [],
   "source": [
    "merged_df = pd.concat([outages, non_outages])"
   ]
  },
  {
   "cell_type": "code",
   "execution_count": 14,
   "metadata": {
    "scrolled": true
   },
   "outputs": [
    {
     "data": {
      "text/plain": [
       "(6438, 5)"
      ]
     },
     "execution_count": 14,
     "metadata": {},
     "output_type": "execute_result"
    }
   ],
   "source": [
    "merged_df.shape"
   ]
  },
  {
   "cell_type": "code",
   "execution_count": 15,
   "metadata": {},
   "outputs": [
    {
     "data": {
      "text/plain": [
       "74"
      ]
     },
     "execution_count": 15,
     "metadata": {},
     "output_type": "execute_result"
    }
   ],
   "source": [
    "merged_df.duplicated('datetime').sum()"
   ]
  },
  {
   "cell_type": "code",
   "execution_count": 16,
   "metadata": {},
   "outputs": [],
   "source": [
    "# merged_df[merged_df.duplicated('datetime', keep=False) == True]"
   ]
  },
  {
   "cell_type": "code",
   "execution_count": 17,
   "metadata": {},
   "outputs": [],
   "source": [
    "merged_df = merged_df.drop_duplicates('datetime')"
   ]
  },
  {
   "cell_type": "code",
   "execution_count": 18,
   "metadata": {
    "scrolled": false
   },
   "outputs": [],
   "source": [
    "# merged_df.iloc[1144]"
   ]
  },
  {
   "cell_type": "code",
   "execution_count": 19,
   "metadata": {},
   "outputs": [
    {
     "data": {
      "text/plain": [
       "0"
      ]
     },
     "execution_count": 19,
     "metadata": {},
     "output_type": "execute_result"
    }
   ],
   "source": [
    "merged_df.duplicated('datetime').sum()"
   ]
  },
  {
   "cell_type": "code",
   "execution_count": 20,
   "metadata": {},
   "outputs": [
    {
     "data": {
      "text/plain": [
       "datetime               0\n",
       "notification_type      0\n",
       "notification_title     0\n",
       "email_body            80\n",
       "outage                 0\n",
       "dtype: int64"
      ]
     },
     "execution_count": 20,
     "metadata": {},
     "output_type": "execute_result"
    }
   ],
   "source": [
    "merged_df.isnull().sum()"
   ]
  },
  {
   "cell_type": "code",
   "execution_count": 21,
   "metadata": {
    "scrolled": true
   },
   "outputs": [
    {
     "data": {
      "text/html": [
       "<div>\n",
       "<style scoped>\n",
       "    .dataframe tbody tr th:only-of-type {\n",
       "        vertical-align: middle;\n",
       "    }\n",
       "\n",
       "    .dataframe tbody tr th {\n",
       "        vertical-align: top;\n",
       "    }\n",
       "\n",
       "    .dataframe thead th {\n",
       "        text-align: right;\n",
       "    }\n",
       "</style>\n",
       "<table border=\"1\" class=\"dataframe\">\n",
       "  <thead>\n",
       "    <tr style=\"text-align: right;\">\n",
       "      <th></th>\n",
       "      <th>datetime</th>\n",
       "      <th>notification_type</th>\n",
       "      <th>notification_title</th>\n",
       "      <th>email_body</th>\n",
       "      <th>outage</th>\n",
       "    </tr>\n",
       "  </thead>\n",
       "  <tbody>\n",
       "    <tr>\n",
       "      <th>0</th>\n",
       "      <td>2018-12-27 13:00:00</td>\n",
       "      <td>Utility</td>\n",
       "      <td>Con Edison Power Outage - Gravesend (BK)</td>\n",
       "      <td>Notification issued 12-27-2018 at 1:42 PM. Con...</td>\n",
       "      <td>1</td>\n",
       "    </tr>\n",
       "    <tr>\n",
       "      <th>1</th>\n",
       "      <td>2018-12-21 15:00:00</td>\n",
       "      <td>Utility</td>\n",
       "      <td>Power Outage - Breezy Point &amp; Roxbury (QN)</td>\n",
       "      <td>Notification issued 12-21-2018 at 3:20 PM. PSE...</td>\n",
       "      <td>1</td>\n",
       "    </tr>\n",
       "    <tr>\n",
       "      <th>2</th>\n",
       "      <td>2018-12-20 22:00:00</td>\n",
       "      <td>Utility</td>\n",
       "      <td>Power Outage - Far Rockaway Sectiojn (QN)</td>\n",
       "      <td>Notification issued 12-20-2018 at 10:50 PM. PS...</td>\n",
       "      <td>1</td>\n",
       "    </tr>\n",
       "    <tr>\n",
       "      <th>3</th>\n",
       "      <td>2018-12-20 12:00:00</td>\n",
       "      <td>Utility</td>\n",
       "      <td>Power Outage - Pelham Parkway (BX)</td>\n",
       "      <td>Notification issued 12-20-2018 at 12:40 PM. Co...</td>\n",
       "      <td>1</td>\n",
       "    </tr>\n",
       "    <tr>\n",
       "      <th>4</th>\n",
       "      <td>2018-12-10 05:00:00</td>\n",
       "      <td>Utility</td>\n",
       "      <td>Con Edison Power Outage - Hollis Section (QN)</td>\n",
       "      <td>Notification issued 12-10-2018 at 5:21 PM. Con...</td>\n",
       "      <td>1</td>\n",
       "    </tr>\n",
       "  </tbody>\n",
       "</table>\n",
       "</div>"
      ],
      "text/plain": [
       "              datetime notification_type  \\\n",
       "0  2018-12-27 13:00:00           Utility   \n",
       "1  2018-12-21 15:00:00           Utility   \n",
       "2  2018-12-20 22:00:00           Utility   \n",
       "3  2018-12-20 12:00:00           Utility   \n",
       "4  2018-12-10 05:00:00           Utility   \n",
       "\n",
       "                              notification_title  \\\n",
       "0       Con Edison Power Outage - Gravesend (BK)   \n",
       "1     Power Outage - Breezy Point & Roxbury (QN)   \n",
       "2      Power Outage - Far Rockaway Sectiojn (QN)   \n",
       "3             Power Outage - Pelham Parkway (BX)   \n",
       "4  Con Edison Power Outage - Hollis Section (QN)   \n",
       "\n",
       "                                          email_body  outage  \n",
       "0  Notification issued 12-27-2018 at 1:42 PM. Con...       1  \n",
       "1  Notification issued 12-21-2018 at 3:20 PM. PSE...       1  \n",
       "2  Notification issued 12-20-2018 at 10:50 PM. PS...       1  \n",
       "3  Notification issued 12-20-2018 at 12:40 PM. Co...       1  \n",
       "4  Notification issued 12-10-2018 at 5:21 PM. Con...       1  "
      ]
     },
     "execution_count": 21,
     "metadata": {},
     "output_type": "execute_result"
    }
   ],
   "source": [
    "merged_df.head()"
   ]
  },
  {
   "cell_type": "code",
   "execution_count": 22,
   "metadata": {},
   "outputs": [],
   "source": [
    "merged_df['datetime'] = pd.to_datetime(merged_df['datetime'])"
   ]
  },
  {
   "cell_type": "code",
   "execution_count": 23,
   "metadata": {},
   "outputs": [
    {
     "data": {
      "text/plain": [
       "datetime              datetime64[ns]\n",
       "notification_type             object\n",
       "notification_title            object\n",
       "email_body                    object\n",
       "outage                         int64\n",
       "dtype: object"
      ]
     },
     "execution_count": 23,
     "metadata": {},
     "output_type": "execute_result"
    }
   ],
   "source": [
    "merged_df.dtypes"
   ]
  },
  {
   "cell_type": "code",
   "execution_count": 24,
   "metadata": {},
   "outputs": [],
   "source": [
    "merged_df.to_csv('./data/target.csv', index=False)"
   ]
  },
  {
   "cell_type": "markdown",
   "metadata": {},
   "source": [
    "## Merge Weather & Target"
   ]
  },
  {
   "cell_type": "code",
   "execution_count": 25,
   "metadata": {},
   "outputs": [],
   "source": [
    "target = pd.read_csv('./data/target.csv')"
   ]
  },
  {
   "cell_type": "code",
   "execution_count": 26,
   "metadata": {},
   "outputs": [
    {
     "data": {
      "text/html": [
       "<div>\n",
       "<style scoped>\n",
       "    .dataframe tbody tr th:only-of-type {\n",
       "        vertical-align: middle;\n",
       "    }\n",
       "\n",
       "    .dataframe tbody tr th {\n",
       "        vertical-align: top;\n",
       "    }\n",
       "\n",
       "    .dataframe thead th {\n",
       "        text-align: right;\n",
       "    }\n",
       "</style>\n",
       "<table border=\"1\" class=\"dataframe\">\n",
       "  <thead>\n",
       "    <tr style=\"text-align: right;\">\n",
       "      <th></th>\n",
       "      <th>datetime</th>\n",
       "      <th>notification_type</th>\n",
       "      <th>notification_title</th>\n",
       "      <th>email_body</th>\n",
       "      <th>outage</th>\n",
       "    </tr>\n",
       "  </thead>\n",
       "  <tbody>\n",
       "    <tr>\n",
       "      <th>0</th>\n",
       "      <td>2018-12-27 13:00:00</td>\n",
       "      <td>Utility</td>\n",
       "      <td>Con Edison Power Outage - Gravesend (BK)</td>\n",
       "      <td>Notification issued 12-27-2018 at 1:42 PM. Con...</td>\n",
       "      <td>1</td>\n",
       "    </tr>\n",
       "    <tr>\n",
       "      <th>1</th>\n",
       "      <td>2018-12-21 15:00:00</td>\n",
       "      <td>Utility</td>\n",
       "      <td>Power Outage - Breezy Point &amp; Roxbury (QN)</td>\n",
       "      <td>Notification issued 12-21-2018 at 3:20 PM. PSE...</td>\n",
       "      <td>1</td>\n",
       "    </tr>\n",
       "    <tr>\n",
       "      <th>2</th>\n",
       "      <td>2018-12-20 22:00:00</td>\n",
       "      <td>Utility</td>\n",
       "      <td>Power Outage - Far Rockaway Sectiojn (QN)</td>\n",
       "      <td>Notification issued 12-20-2018 at 10:50 PM. PS...</td>\n",
       "      <td>1</td>\n",
       "    </tr>\n",
       "    <tr>\n",
       "      <th>3</th>\n",
       "      <td>2018-12-20 12:00:00</td>\n",
       "      <td>Utility</td>\n",
       "      <td>Power Outage - Pelham Parkway (BX)</td>\n",
       "      <td>Notification issued 12-20-2018 at 12:40 PM. Co...</td>\n",
       "      <td>1</td>\n",
       "    </tr>\n",
       "    <tr>\n",
       "      <th>4</th>\n",
       "      <td>2018-12-10 05:00:00</td>\n",
       "      <td>Utility</td>\n",
       "      <td>Con Edison Power Outage - Hollis Section (QN)</td>\n",
       "      <td>Notification issued 12-10-2018 at 5:21 PM. Con...</td>\n",
       "      <td>1</td>\n",
       "    </tr>\n",
       "  </tbody>\n",
       "</table>\n",
       "</div>"
      ],
      "text/plain": [
       "              datetime notification_type  \\\n",
       "0  2018-12-27 13:00:00           Utility   \n",
       "1  2018-12-21 15:00:00           Utility   \n",
       "2  2018-12-20 22:00:00           Utility   \n",
       "3  2018-12-20 12:00:00           Utility   \n",
       "4  2018-12-10 05:00:00           Utility   \n",
       "\n",
       "                              notification_title  \\\n",
       "0       Con Edison Power Outage - Gravesend (BK)   \n",
       "1     Power Outage - Breezy Point & Roxbury (QN)   \n",
       "2      Power Outage - Far Rockaway Sectiojn (QN)   \n",
       "3             Power Outage - Pelham Parkway (BX)   \n",
       "4  Con Edison Power Outage - Hollis Section (QN)   \n",
       "\n",
       "                                          email_body  outage  \n",
       "0  Notification issued 12-27-2018 at 1:42 PM. Con...       1  \n",
       "1  Notification issued 12-21-2018 at 3:20 PM. PSE...       1  \n",
       "2  Notification issued 12-20-2018 at 10:50 PM. PS...       1  \n",
       "3  Notification issued 12-20-2018 at 12:40 PM. Co...       1  \n",
       "4  Notification issued 12-10-2018 at 5:21 PM. Con...       1  "
      ]
     },
     "execution_count": 26,
     "metadata": {},
     "output_type": "execute_result"
    }
   ],
   "source": [
    "target.head()"
   ]
  },
  {
   "cell_type": "code",
   "execution_count": 27,
   "metadata": {},
   "outputs": [
    {
     "data": {
      "text/plain": [
       "datetime              object\n",
       "notification_type     object\n",
       "notification_title    object\n",
       "email_body            object\n",
       "outage                 int64\n",
       "dtype: object"
      ]
     },
     "execution_count": 27,
     "metadata": {},
     "output_type": "execute_result"
    }
   ],
   "source": [
    "target.dtypes"
   ]
  },
  {
   "cell_type": "code",
   "execution_count": 28,
   "metadata": {},
   "outputs": [],
   "source": [
    "target['datetime'] = pd.to_datetime(target['datetime'])"
   ]
  },
  {
   "cell_type": "code",
   "execution_count": 29,
   "metadata": {},
   "outputs": [
    {
     "data": {
      "text/plain": [
       "datetime              datetime64[ns]\n",
       "notification_type             object\n",
       "notification_title            object\n",
       "email_body                    object\n",
       "outage                         int64\n",
       "dtype: object"
      ]
     },
     "execution_count": 29,
     "metadata": {},
     "output_type": "execute_result"
    }
   ],
   "source": [
    "target.dtypes"
   ]
  },
  {
   "cell_type": "code",
   "execution_count": null,
   "metadata": {},
   "outputs": [],
   "source": []
  },
  {
   "cell_type": "code",
   "execution_count": 30,
   "metadata": {},
   "outputs": [],
   "source": [
    "# target.datetime = target.datetime.map(lambda x: x.replace(minute=0, second=0))"
   ]
  },
  {
   "cell_type": "code",
   "execution_count": 31,
   "metadata": {},
   "outputs": [
    {
     "data": {
      "text/plain": [
       "0"
      ]
     },
     "execution_count": 31,
     "metadata": {},
     "output_type": "execute_result"
    }
   ],
   "source": [
    "target.duplicated('datetime').sum()"
   ]
  },
  {
   "cell_type": "code",
   "execution_count": 32,
   "metadata": {},
   "outputs": [],
   "source": [
    "# target[target.duplicated('datetime', keep=False) == True]"
   ]
  },
  {
   "cell_type": "code",
   "execution_count": 33,
   "metadata": {},
   "outputs": [
    {
     "name": "stdout",
     "output_type": "stream",
     "text": [
      "\u001b[34mhistorical_hourly_weather_data\u001b[m\u001b[m       new_york_weather_dropped_col.csv\r\n",
      "new_york_weather.csv                 new_york_weather_with_fahrenheit.csv\r\n",
      "new_york_weather_all_numerical.csv   weather_clean.csv\r\n",
      "new_york_weather_date_index.csv\r\n"
     ]
    }
   ],
   "source": [
    "!ls Weather/data"
   ]
  },
  {
   "cell_type": "code",
   "execution_count": 34,
   "metadata": {},
   "outputs": [],
   "source": [
    "weather = pd.read_csv('./Weather/data/weather_clean.csv')"
   ]
  },
  {
   "cell_type": "code",
   "execution_count": 35,
   "metadata": {},
   "outputs": [
    {
     "data": {
      "text/html": [
       "<div>\n",
       "<style scoped>\n",
       "    .dataframe tbody tr th:only-of-type {\n",
       "        vertical-align: middle;\n",
       "    }\n",
       "\n",
       "    .dataframe tbody tr th {\n",
       "        vertical-align: top;\n",
       "    }\n",
       "\n",
       "    .dataframe thead th {\n",
       "        text-align: right;\n",
       "    }\n",
       "</style>\n",
       "<table border=\"1\" class=\"dataframe\">\n",
       "  <thead>\n",
       "    <tr style=\"text-align: right;\">\n",
       "      <th></th>\n",
       "      <th>date</th>\n",
       "      <th>temperature_f</th>\n",
       "      <th>wind_dir_degrees</th>\n",
       "      <th>wind_speed_mph</th>\n",
       "      <th>broken_clouds</th>\n",
       "      <th>drizzle</th>\n",
       "      <th>dust</th>\n",
       "      <th>few_clouds</th>\n",
       "      <th>fog</th>\n",
       "      <th>freezing_rain</th>\n",
       "      <th>...</th>\n",
       "      <th>sky_is_clear</th>\n",
       "      <th>smoke</th>\n",
       "      <th>snow</th>\n",
       "      <th>squalls</th>\n",
       "      <th>thunderstorm</th>\n",
       "      <th>thunderstorm_with_heavy_rain</th>\n",
       "      <th>thunderstorm_with_light_drizzle</th>\n",
       "      <th>thunderstorm_with_light_rain</th>\n",
       "      <th>thunderstorm_with_rain</th>\n",
       "      <th>very_heavy_rain</th>\n",
       "    </tr>\n",
       "  </thead>\n",
       "  <tbody>\n",
       "    <tr>\n",
       "      <th>0</th>\n",
       "      <td>2012-10-01 13:00:00</td>\n",
       "      <td>59.11</td>\n",
       "      <td>260.0</td>\n",
       "      <td>15</td>\n",
       "      <td>0</td>\n",
       "      <td>0</td>\n",
       "      <td>0</td>\n",
       "      <td>1</td>\n",
       "      <td>0</td>\n",
       "      <td>0</td>\n",
       "      <td>...</td>\n",
       "      <td>0</td>\n",
       "      <td>0</td>\n",
       "      <td>0</td>\n",
       "      <td>0</td>\n",
       "      <td>0</td>\n",
       "      <td>0</td>\n",
       "      <td>0</td>\n",
       "      <td>0</td>\n",
       "      <td>0</td>\n",
       "      <td>0</td>\n",
       "    </tr>\n",
       "    <tr>\n",
       "      <th>1</th>\n",
       "      <td>2012-10-01 14:00:00</td>\n",
       "      <td>59.16</td>\n",
       "      <td>260.0</td>\n",
       "      <td>15</td>\n",
       "      <td>0</td>\n",
       "      <td>0</td>\n",
       "      <td>0</td>\n",
       "      <td>1</td>\n",
       "      <td>0</td>\n",
       "      <td>0</td>\n",
       "      <td>...</td>\n",
       "      <td>0</td>\n",
       "      <td>0</td>\n",
       "      <td>0</td>\n",
       "      <td>0</td>\n",
       "      <td>0</td>\n",
       "      <td>0</td>\n",
       "      <td>0</td>\n",
       "      <td>0</td>\n",
       "      <td>0</td>\n",
       "      <td>0</td>\n",
       "    </tr>\n",
       "    <tr>\n",
       "      <th>2</th>\n",
       "      <td>2012-10-01 15:00:00</td>\n",
       "      <td>59.30</td>\n",
       "      <td>260.0</td>\n",
       "      <td>15</td>\n",
       "      <td>0</td>\n",
       "      <td>0</td>\n",
       "      <td>0</td>\n",
       "      <td>1</td>\n",
       "      <td>0</td>\n",
       "      <td>0</td>\n",
       "      <td>...</td>\n",
       "      <td>0</td>\n",
       "      <td>0</td>\n",
       "      <td>0</td>\n",
       "      <td>0</td>\n",
       "      <td>0</td>\n",
       "      <td>0</td>\n",
       "      <td>0</td>\n",
       "      <td>0</td>\n",
       "      <td>0</td>\n",
       "      <td>0</td>\n",
       "    </tr>\n",
       "    <tr>\n",
       "      <th>3</th>\n",
       "      <td>2012-10-01 16:00:00</td>\n",
       "      <td>59.44</td>\n",
       "      <td>260.0</td>\n",
       "      <td>15</td>\n",
       "      <td>0</td>\n",
       "      <td>0</td>\n",
       "      <td>0</td>\n",
       "      <td>1</td>\n",
       "      <td>0</td>\n",
       "      <td>0</td>\n",
       "      <td>...</td>\n",
       "      <td>0</td>\n",
       "      <td>0</td>\n",
       "      <td>0</td>\n",
       "      <td>0</td>\n",
       "      <td>0</td>\n",
       "      <td>0</td>\n",
       "      <td>0</td>\n",
       "      <td>0</td>\n",
       "      <td>0</td>\n",
       "      <td>0</td>\n",
       "    </tr>\n",
       "    <tr>\n",
       "      <th>4</th>\n",
       "      <td>2012-10-01 17:00:00</td>\n",
       "      <td>59.58</td>\n",
       "      <td>261.0</td>\n",
       "      <td>13</td>\n",
       "      <td>0</td>\n",
       "      <td>0</td>\n",
       "      <td>0</td>\n",
       "      <td>1</td>\n",
       "      <td>0</td>\n",
       "      <td>0</td>\n",
       "      <td>...</td>\n",
       "      <td>0</td>\n",
       "      <td>0</td>\n",
       "      <td>0</td>\n",
       "      <td>0</td>\n",
       "      <td>0</td>\n",
       "      <td>0</td>\n",
       "      <td>0</td>\n",
       "      <td>0</td>\n",
       "      <td>0</td>\n",
       "      <td>0</td>\n",
       "    </tr>\n",
       "  </tbody>\n",
       "</table>\n",
       "<p>5 rows × 40 columns</p>\n",
       "</div>"
      ],
      "text/plain": [
       "                  date  temperature_f  wind_dir_degrees  wind_speed_mph  \\\n",
       "0  2012-10-01 13:00:00          59.11             260.0              15   \n",
       "1  2012-10-01 14:00:00          59.16             260.0              15   \n",
       "2  2012-10-01 15:00:00          59.30             260.0              15   \n",
       "3  2012-10-01 16:00:00          59.44             260.0              15   \n",
       "4  2012-10-01 17:00:00          59.58             261.0              13   \n",
       "\n",
       "   broken_clouds  drizzle  dust  few_clouds  fog  freezing_rain  ...  \\\n",
       "0              0        0     0           1    0              0  ...   \n",
       "1              0        0     0           1    0              0  ...   \n",
       "2              0        0     0           1    0              0  ...   \n",
       "3              0        0     0           1    0              0  ...   \n",
       "4              0        0     0           1    0              0  ...   \n",
       "\n",
       "   sky_is_clear  smoke  snow  squalls  thunderstorm  \\\n",
       "0             0      0     0        0             0   \n",
       "1             0      0     0        0             0   \n",
       "2             0      0     0        0             0   \n",
       "3             0      0     0        0             0   \n",
       "4             0      0     0        0             0   \n",
       "\n",
       "   thunderstorm_with_heavy_rain  thunderstorm_with_light_drizzle  \\\n",
       "0                             0                                0   \n",
       "1                             0                                0   \n",
       "2                             0                                0   \n",
       "3                             0                                0   \n",
       "4                             0                                0   \n",
       "\n",
       "   thunderstorm_with_light_rain  thunderstorm_with_rain  very_heavy_rain  \n",
       "0                             0                       0                0  \n",
       "1                             0                       0                0  \n",
       "2                             0                       0                0  \n",
       "3                             0                       0                0  \n",
       "4                             0                       0                0  \n",
       "\n",
       "[5 rows x 40 columns]"
      ]
     },
     "execution_count": 35,
     "metadata": {},
     "output_type": "execute_result"
    }
   ],
   "source": [
    "weather.head()"
   ]
  },
  {
   "cell_type": "code",
   "execution_count": 36,
   "metadata": {},
   "outputs": [],
   "source": [
    "weather.rename(columns={'date': 'datetime'}, inplace = True)"
   ]
  },
  {
   "cell_type": "code",
   "execution_count": 37,
   "metadata": {},
   "outputs": [
    {
     "data": {
      "text/plain": [
       "datetime             object\n",
       "temperature_f       float64\n",
       "wind_dir_degrees    float64\n",
       "wind_speed_mph        int64\n",
       "broken_clouds         int64\n",
       "dtype: object"
      ]
     },
     "execution_count": 37,
     "metadata": {},
     "output_type": "execute_result"
    }
   ],
   "source": [
    "weather.dtypes[:5]"
   ]
  },
  {
   "cell_type": "code",
   "execution_count": 38,
   "metadata": {},
   "outputs": [],
   "source": [
    "weather.datetime = pd.to_datetime(weather.datetime)"
   ]
  },
  {
   "cell_type": "code",
   "execution_count": 39,
   "metadata": {},
   "outputs": [
    {
     "data": {
      "text/plain": [
       "datetime            datetime64[ns]\n",
       "temperature_f              float64\n",
       "wind_dir_degrees           float64\n",
       "wind_speed_mph               int64\n",
       "broken_clouds                int64\n",
       "dtype: object"
      ]
     },
     "execution_count": 39,
     "metadata": {},
     "output_type": "execute_result"
    }
   ],
   "source": [
    "weather.dtypes[:5]"
   ]
  },
  {
   "cell_type": "code",
   "execution_count": 40,
   "metadata": {},
   "outputs": [
    {
     "name": "stdout",
     "output_type": "stream",
     "text": [
      "(6364, 5)\n",
      "(44460, 40)\n"
     ]
    }
   ],
   "source": [
    "print(target.shape)\n",
    "print(weather.shape)"
   ]
  },
  {
   "cell_type": "code",
   "execution_count": 41,
   "metadata": {},
   "outputs": [],
   "source": [
    "wt_merge = weather.merge(target)"
   ]
  },
  {
   "cell_type": "code",
   "execution_count": 42,
   "metadata": {},
   "outputs": [
    {
     "data": {
      "text/plain": [
       "(6215, 44)"
      ]
     },
     "execution_count": 42,
     "metadata": {},
     "output_type": "execute_result"
    }
   ],
   "source": [
    "wt_merge.shape"
   ]
  },
  {
   "cell_type": "code",
   "execution_count": 43,
   "metadata": {},
   "outputs": [
    {
     "data": {
      "text/plain": [
       "0"
      ]
     },
     "execution_count": 43,
     "metadata": {},
     "output_type": "execute_result"
    }
   ],
   "source": [
    "wt_merge.duplicated('datetime').sum()"
   ]
  },
  {
   "cell_type": "code",
   "execution_count": 44,
   "metadata": {},
   "outputs": [
    {
     "data": {
      "text/plain": [
       "datetime                                0\n",
       "temperature_f                           0\n",
       "wind_dir_degrees                        0\n",
       "wind_speed_mph                          0\n",
       "broken_clouds                           0\n",
       "drizzle                                 0\n",
       "dust                                    0\n",
       "few_clouds                              0\n",
       "fog                                     0\n",
       "freezing_rain                           0\n",
       "haze                                    0\n",
       "heavy_intensity_drizzle                 0\n",
       "heavy_intensity_rain                    0\n",
       "heavy_snow                              0\n",
       "heavy_thunderstorm                      0\n",
       "light_intensity_drizzle                 0\n",
       "light_intensity_shower_rain             0\n",
       "light_rain                              0\n",
       "light_rain_and_snow                     0\n",
       "light_snow                              0\n",
       "mist                                    0\n",
       "moderate_rain                           0\n",
       "overcast_clouds                         0\n",
       "proximity_thunderstorm                  0\n",
       "proximity_thunderstorm_with_drizzle     0\n",
       "proximity_thunderstorm_with_rain        0\n",
       "sand                                    0\n",
       "sand/dust_whirls                        0\n",
       "scattered_clouds                        0\n",
       "shower_rain                             0\n",
       "sky_is_clear                            0\n",
       "smoke                                   0\n",
       "snow                                    0\n",
       "squalls                                 0\n",
       "thunderstorm                            0\n",
       "thunderstorm_with_heavy_rain            0\n",
       "thunderstorm_with_light_drizzle         0\n",
       "thunderstorm_with_light_rain            0\n",
       "thunderstorm_with_rain                  0\n",
       "very_heavy_rain                         0\n",
       "notification_type                       0\n",
       "notification_title                      0\n",
       "email_body                             80\n",
       "outage                                  0\n",
       "dtype: int64"
      ]
     },
     "execution_count": 44,
     "metadata": {},
     "output_type": "execute_result"
    }
   ],
   "source": [
    "wt_merge.isnull().sum()"
   ]
  },
  {
   "cell_type": "code",
   "execution_count": 45,
   "metadata": {},
   "outputs": [
    {
     "name": "stdout",
     "output_type": "stream",
     "text": [
      "2012-10-02 00:00:00\n",
      "2017-10-27 20:00:00\n"
     ]
    }
   ],
   "source": [
    "print(wt_merge.datetime.sort_values().iloc[0])\n",
    "print(wt_merge.datetime.sort_values().iloc[-1])"
   ]
  },
  {
   "cell_type": "code",
   "execution_count": 46,
   "metadata": {},
   "outputs": [],
   "source": [
    "wt_merge.set_index('datetime', inplace=True)"
   ]
  },
  {
   "cell_type": "code",
   "execution_count": 47,
   "metadata": {},
   "outputs": [],
   "source": [
    "weather_target_df = wt_merge.sort_index()"
   ]
  },
  {
   "cell_type": "code",
   "execution_count": 48,
   "metadata": {
    "scrolled": true
   },
   "outputs": [
    {
     "data": {
      "text/html": [
       "<div>\n",
       "<style scoped>\n",
       "    .dataframe tbody tr th:only-of-type {\n",
       "        vertical-align: middle;\n",
       "    }\n",
       "\n",
       "    .dataframe tbody tr th {\n",
       "        vertical-align: top;\n",
       "    }\n",
       "\n",
       "    .dataframe thead th {\n",
       "        text-align: right;\n",
       "    }\n",
       "</style>\n",
       "<table border=\"1\" class=\"dataframe\">\n",
       "  <thead>\n",
       "    <tr style=\"text-align: right;\">\n",
       "      <th></th>\n",
       "      <th>temperature_f</th>\n",
       "      <th>wind_dir_degrees</th>\n",
       "      <th>wind_speed_mph</th>\n",
       "      <th>broken_clouds</th>\n",
       "      <th>drizzle</th>\n",
       "      <th>dust</th>\n",
       "      <th>few_clouds</th>\n",
       "      <th>fog</th>\n",
       "      <th>freezing_rain</th>\n",
       "      <th>haze</th>\n",
       "      <th>...</th>\n",
       "      <th>thunderstorm</th>\n",
       "      <th>thunderstorm_with_heavy_rain</th>\n",
       "      <th>thunderstorm_with_light_drizzle</th>\n",
       "      <th>thunderstorm_with_light_rain</th>\n",
       "      <th>thunderstorm_with_rain</th>\n",
       "      <th>very_heavy_rain</th>\n",
       "      <th>notification_type</th>\n",
       "      <th>notification_title</th>\n",
       "      <th>email_body</th>\n",
       "      <th>outage</th>\n",
       "    </tr>\n",
       "    <tr>\n",
       "      <th>datetime</th>\n",
       "      <th></th>\n",
       "      <th></th>\n",
       "      <th></th>\n",
       "      <th></th>\n",
       "      <th></th>\n",
       "      <th></th>\n",
       "      <th></th>\n",
       "      <th></th>\n",
       "      <th></th>\n",
       "      <th></th>\n",
       "      <th></th>\n",
       "      <th></th>\n",
       "      <th></th>\n",
       "      <th></th>\n",
       "      <th></th>\n",
       "      <th></th>\n",
       "      <th></th>\n",
       "      <th></th>\n",
       "      <th></th>\n",
       "      <th></th>\n",
       "      <th></th>\n",
       "    </tr>\n",
       "  </thead>\n",
       "  <tbody>\n",
       "    <tr>\n",
       "      <th>2012-10-02 00:00:00</th>\n",
       "      <td>60.58</td>\n",
       "      <td>264.0</td>\n",
       "      <td>13</td>\n",
       "      <td>0</td>\n",
       "      <td>0</td>\n",
       "      <td>0</td>\n",
       "      <td>1</td>\n",
       "      <td>0</td>\n",
       "      <td>0</td>\n",
       "      <td>0</td>\n",
       "      <td>...</td>\n",
       "      <td>0</td>\n",
       "      <td>0</td>\n",
       "      <td>0</td>\n",
       "      <td>0</td>\n",
       "      <td>0</td>\n",
       "      <td>0</td>\n",
       "      <td>Road Closure</td>\n",
       "      <td>All Lanes Closed  - Whitestone Bridge</td>\n",
       "      <td>Notification issued 10/2/2012 at 12:07 AM. Due...</td>\n",
       "      <td>0</td>\n",
       "    </tr>\n",
       "    <tr>\n",
       "      <th>2012-10-02 03:00:00</th>\n",
       "      <td>61.01</td>\n",
       "      <td>265.0</td>\n",
       "      <td>13</td>\n",
       "      <td>0</td>\n",
       "      <td>0</td>\n",
       "      <td>0</td>\n",
       "      <td>1</td>\n",
       "      <td>0</td>\n",
       "      <td>0</td>\n",
       "      <td>0</td>\n",
       "      <td>...</td>\n",
       "      <td>0</td>\n",
       "      <td>0</td>\n",
       "      <td>0</td>\n",
       "      <td>0</td>\n",
       "      <td>0</td>\n",
       "      <td>0</td>\n",
       "      <td>Road Closure</td>\n",
       "      <td>All Lanes Re-opened - Whitestone Bridge</td>\n",
       "      <td>Notification issued 10/2/2012 at 3:39 AM. Afte...</td>\n",
       "      <td>0</td>\n",
       "    </tr>\n",
       "  </tbody>\n",
       "</table>\n",
       "<p>2 rows × 43 columns</p>\n",
       "</div>"
      ],
      "text/plain": [
       "                     temperature_f  wind_dir_degrees  wind_speed_mph  \\\n",
       "datetime                                                               \n",
       "2012-10-02 00:00:00          60.58             264.0              13   \n",
       "2012-10-02 03:00:00          61.01             265.0              13   \n",
       "\n",
       "                     broken_clouds  drizzle  dust  few_clouds  fog  \\\n",
       "datetime                                                             \n",
       "2012-10-02 00:00:00              0        0     0           1    0   \n",
       "2012-10-02 03:00:00              0        0     0           1    0   \n",
       "\n",
       "                     freezing_rain  haze  ...  thunderstorm  \\\n",
       "datetime                                  ...                 \n",
       "2012-10-02 00:00:00              0     0  ...             0   \n",
       "2012-10-02 03:00:00              0     0  ...             0   \n",
       "\n",
       "                     thunderstorm_with_heavy_rain  \\\n",
       "datetime                                            \n",
       "2012-10-02 00:00:00                             0   \n",
       "2012-10-02 03:00:00                             0   \n",
       "\n",
       "                     thunderstorm_with_light_drizzle  \\\n",
       "datetime                                               \n",
       "2012-10-02 00:00:00                                0   \n",
       "2012-10-02 03:00:00                                0   \n",
       "\n",
       "                     thunderstorm_with_light_rain  thunderstorm_with_rain  \\\n",
       "datetime                                                                    \n",
       "2012-10-02 00:00:00                             0                       0   \n",
       "2012-10-02 03:00:00                             0                       0   \n",
       "\n",
       "                     very_heavy_rain  notification_type  \\\n",
       "datetime                                                  \n",
       "2012-10-02 00:00:00                0       Road Closure   \n",
       "2012-10-02 03:00:00                0       Road Closure   \n",
       "\n",
       "                                          notification_title  \\\n",
       "datetime                                                       \n",
       "2012-10-02 00:00:00    All Lanes Closed  - Whitestone Bridge   \n",
       "2012-10-02 03:00:00  All Lanes Re-opened - Whitestone Bridge   \n",
       "\n",
       "                                                            email_body  outage  \n",
       "datetime                                                                        \n",
       "2012-10-02 00:00:00  Notification issued 10/2/2012 at 12:07 AM. Due...       0  \n",
       "2012-10-02 03:00:00  Notification issued 10/2/2012 at 3:39 AM. Afte...       0  \n",
       "\n",
       "[2 rows x 43 columns]"
      ]
     },
     "execution_count": 48,
     "metadata": {},
     "output_type": "execute_result"
    }
   ],
   "source": [
    "weather_target_df.head(2)"
   ]
  },
  {
   "cell_type": "code",
   "execution_count": 49,
   "metadata": {},
   "outputs": [],
   "source": [
    "weather_target_df.to_csv('./data/weather_target_merged.csv')"
   ]
  }
 ],
 "metadata": {
  "kernelspec": {
   "display_name": "Python 3",
   "language": "python",
   "name": "python3"
  },
  "language_info": {
   "codemirror_mode": {
    "name": "ipython",
    "version": 3
   },
   "file_extension": ".py",
   "mimetype": "text/x-python",
   "name": "python",
   "nbconvert_exporter": "python",
   "pygments_lexer": "ipython3",
   "version": "3.6.8"
  },
  "varInspector": {
   "cols": {
    "lenName": 16,
    "lenType": 16,
    "lenVar": 40
   },
   "kernels_config": {
    "python": {
     "delete_cmd_postfix": "",
     "delete_cmd_prefix": "del ",
     "library": "var_list.py",
     "varRefreshCmd": "print(var_dic_list())"
    },
    "r": {
     "delete_cmd_postfix": ") ",
     "delete_cmd_prefix": "rm(",
     "library": "var_list.r",
     "varRefreshCmd": "cat(var_dic_list()) "
    }
   },
   "types_to_exclude": [
    "module",
    "function",
    "builtin_function_or_method",
    "instance",
    "_Feature"
   ],
   "window_display": false
  }
 },
 "nbformat": 4,
 "nbformat_minor": 2
}
