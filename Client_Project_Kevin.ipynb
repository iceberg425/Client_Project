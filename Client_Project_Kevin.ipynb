{
 "cells": [
  {
   "cell_type": "code",
   "execution_count": 1,
   "metadata": {},
   "outputs": [
    {
     "name": "stdout",
     "output_type": "stream",
     "text": [
      "07.28.17_to_08.22.17.csv\r\n",
      "08.23.17_to_09.24.17.csv\r\n",
      "10.12.2017_to_11.21.2017\r\n",
      "11.23.17_to_12_31_17.csv\r\n",
      "Client_Project_Ixchel.ipynb\r\n",
      "Client_Project_John.ipynb\r\n",
      "Client_Project_Kevin.ipynb\r\n",
      "Untitled.pdf\r\n",
      "\u001b[34mdata\u001b[m\u001b[m\r\n",
      "mycsv.csv\r\n",
      "ny_temperature_Jan1.2017_Oct28.2017.ipynb\r\n",
      "saved_tweets.csv\r\n",
      "\u001b[34mtweet\u001b[m\u001b[m\r\n",
      "twitter_credentials.json\r\n"
     ]
    }
   ],
   "source": [
    "!ls"
   ]
  },
  {
   "cell_type": "code",
   "execution_count": null,
   "metadata": {},
   "outputs": [],
   "source": []
  }
 ],
 "metadata": {
  "kernelspec": {
   "display_name": "Python 3",
   "language": "python",
   "name": "python3"
  },
  "language_info": {
   "codemirror_mode": {
    "name": "ipython",
    "version": 3
   },
   "file_extension": ".py",
   "mimetype": "text/x-python",
   "name": "python",
   "nbconvert_exporter": "python",
   "pygments_lexer": "ipython3",
   "version": "3.6.8"
  }
 },
 "nbformat": 4,
 "nbformat_minor": 2
}
