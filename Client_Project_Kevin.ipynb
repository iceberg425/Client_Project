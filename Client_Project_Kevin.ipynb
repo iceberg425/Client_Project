{
 "cells": [
  {
   "cell_type": "code",
   "execution_count": 1,
   "metadata": {
    "scrolled": true
   },
   "outputs": [
    {
     "name": "stdout",
     "output_type": "stream",
     "text": [
      "Client_Project_Ixchel.ipynb\r\n",
      "Client_Project_John.ipynb\r\n",
      "Client_Project_Kevin.ipynb\r\n",
      "Ixchel_Twitter.ipynb\r\n",
      "NotifyNYC_tweets.csv\r\n",
      "\u001b[34mWeather\u001b[m\u001b[m\r\n",
      "converting-text-files-to-combined-dictionary.ipynb\r\n",
      "\u001b[34mdata\u001b[m\u001b[m\r\n",
      "mycsv.csv\r\n",
      "\u001b[34mraw_tweets\u001b[m\u001b[m\r\n",
      "saved_tweets.csv\r\n",
      "twitter_credentials.json\r\n",
      "working_df.csv\r\n"
     ]
    }
   ],
   "source": [
    "!ls"
   ]
  },
  {
   "cell_type": "code",
   "execution_count": 2,
   "metadata": {},
   "outputs": [],
   "source": [
    "import pandas as pd"
   ]
  },
  {
   "cell_type": "code",
   "execution_count": 3,
   "metadata": {},
   "outputs": [],
   "source": [
    "df = pd.read_csv('./raw_tweets/raw_tweets.csv')"
   ]
  },
  {
   "cell_type": "code",
   "execution_count": 4,
   "metadata": {},
   "outputs": [],
   "source": [
    "df.drop(columns='Unnamed: 0', inplace=True)"
   ]
  },
  {
   "cell_type": "code",
   "execution_count": 5,
   "metadata": {},
   "outputs": [
    {
     "data": {
      "text/html": [
       "<div>\n",
       "<style scoped>\n",
       "    .dataframe tbody tr th:only-of-type {\n",
       "        vertical-align: middle;\n",
       "    }\n",
       "\n",
       "    .dataframe tbody tr th {\n",
       "        vertical-align: top;\n",
       "    }\n",
       "\n",
       "    .dataframe thead th {\n",
       "        text-align: right;\n",
       "    }\n",
       "</style>\n",
       "<table border=\"1\" class=\"dataframe\">\n",
       "  <thead>\n",
       "    <tr style=\"text-align: right;\">\n",
       "      <th></th>\n",
       "      <th>ID</th>\n",
       "      <th>datetime</th>\n",
       "      <th>has_media</th>\n",
       "      <th>is_reply</th>\n",
       "      <th>is_retweet</th>\n",
       "      <th>medias</th>\n",
       "      <th>nbr_favorite</th>\n",
       "      <th>nbr_reply</th>\n",
       "      <th>nbr_retweet</th>\n",
       "      <th>text</th>\n",
       "      <th>url</th>\n",
       "      <th>user_id</th>\n",
       "      <th>usernameTweet</th>\n",
       "    </tr>\n",
       "  </thead>\n",
       "  <tbody>\n",
       "    <tr>\n",
       "      <th>0</th>\n",
       "      <td>267716394043465728</td>\n",
       "      <td>2012-11-11 14:52:16</td>\n",
       "      <td>NaN</td>\n",
       "      <td>False</td>\n",
       "      <td>False</td>\n",
       "      <td>NaN</td>\n",
       "      <td>0.0</td>\n",
       "      <td>0.0</td>\n",
       "      <td>0.0</td>\n",
       "      <td>ConEd : NY Sandy  power   outages  slip; costs...</td>\n",
       "      <td>/RealJezzy/status/267716394043465728</td>\n",
       "      <td>504279674.0</td>\n",
       "      <td>RealJezzy</td>\n",
       "    </tr>\n",
       "    <tr>\n",
       "      <th>1</th>\n",
       "      <td>298660085255770112</td>\n",
       "      <td>2013-02-05 00:11:27</td>\n",
       "      <td>NaN</td>\n",
       "      <td>False</td>\n",
       "      <td>False</td>\n",
       "      <td>NaN</td>\n",
       "      <td>0.0</td>\n",
       "      <td>0.0</td>\n",
       "      <td>0.0</td>\n",
       "      <td>@ ConEdison  \\n Power   outage  in queens</td>\n",
       "      <td>/meirBGNY/status/298660085255770112</td>\n",
       "      <td>909594764.0</td>\n",
       "      <td>meirBGNY</td>\n",
       "    </tr>\n",
       "    <tr>\n",
       "      <th>2</th>\n",
       "      <td>21860028236</td>\n",
       "      <td>2010-08-22 17:33:44</td>\n",
       "      <td>NaN</td>\n",
       "      <td>False</td>\n",
       "      <td>False</td>\n",
       "      <td>NaN</td>\n",
       "      <td>0.0</td>\n",
       "      <td>0.0</td>\n",
       "      <td>0.0</td>\n",
       "      <td>Power   outage  in the Whitestone section of Q...</td>\n",
       "      <td>/olgushka1/status/21860028236</td>\n",
       "      <td>68886571.0</td>\n",
       "      <td>olgushka1</td>\n",
       "    </tr>\n",
       "    <tr>\n",
       "      <th>3</th>\n",
       "      <td>1069021302667833344</td>\n",
       "      <td>2018-12-01 19:11:54</td>\n",
       "      <td>NaN</td>\n",
       "      <td>False</td>\n",
       "      <td>False</td>\n",
       "      <td>NaN</td>\n",
       "      <td>0.0</td>\n",
       "      <td>1.0</td>\n",
       "      <td>0.0</td>\n",
       "      <td>about that  power   outage  that is now over.....</td>\n",
       "      <td>/jimcasale/status/1069021302667833344</td>\n",
       "      <td>12393522.0</td>\n",
       "      <td>jimcasale</td>\n",
       "    </tr>\n",
       "    <tr>\n",
       "      <th>4</th>\n",
       "      <td>767077182124486656</td>\n",
       "      <td>2016-08-20 15:13:46</td>\n",
       "      <td>NaN</td>\n",
       "      <td>False</td>\n",
       "      <td>False</td>\n",
       "      <td>NaN</td>\n",
       "      <td>3.0</td>\n",
       "      <td>0.0</td>\n",
       "      <td>7.0</td>\n",
       "      <td>.@ConEdison  is responding to a  power   outag...</td>\n",
       "      <td>/NotifyNYC/status/767077182124486656</td>\n",
       "      <td>16145875.0</td>\n",
       "      <td>NotifyNYC</td>\n",
       "    </tr>\n",
       "  </tbody>\n",
       "</table>\n",
       "</div>"
      ],
      "text/plain": [
       "                    ID             datetime has_media is_reply is_retweet  \\\n",
       "0   267716394043465728  2012-11-11 14:52:16       NaN    False      False   \n",
       "1   298660085255770112  2013-02-05 00:11:27       NaN    False      False   \n",
       "2          21860028236  2010-08-22 17:33:44       NaN    False      False   \n",
       "3  1069021302667833344  2018-12-01 19:11:54       NaN    False      False   \n",
       "4   767077182124486656  2016-08-20 15:13:46       NaN    False      False   \n",
       "\n",
       "  medias  nbr_favorite  nbr_reply  nbr_retweet  \\\n",
       "0    NaN           0.0        0.0          0.0   \n",
       "1    NaN           0.0        0.0          0.0   \n",
       "2    NaN           0.0        0.0          0.0   \n",
       "3    NaN           0.0        1.0          0.0   \n",
       "4    NaN           3.0        0.0          7.0   \n",
       "\n",
       "                                                text  \\\n",
       "0  ConEd : NY Sandy  power   outages  slip; costs...   \n",
       "1          @ ConEdison  \\n Power   outage  in queens   \n",
       "2  Power   outage  in the Whitestone section of Q...   \n",
       "3  about that  power   outage  that is now over.....   \n",
       "4  .@ConEdison  is responding to a  power   outag...   \n",
       "\n",
       "                                     url      user_id usernameTweet  \n",
       "0   /RealJezzy/status/267716394043465728  504279674.0     RealJezzy  \n",
       "1    /meirBGNY/status/298660085255770112  909594764.0      meirBGNY  \n",
       "2          /olgushka1/status/21860028236   68886571.0     olgushka1  \n",
       "3  /jimcasale/status/1069021302667833344   12393522.0     jimcasale  \n",
       "4   /NotifyNYC/status/767077182124486656   16145875.0     NotifyNYC  "
      ]
     },
     "execution_count": 5,
     "metadata": {},
     "output_type": "execute_result"
    }
   ],
   "source": [
    "df.head()"
   ]
  },
  {
   "cell_type": "code",
   "execution_count": 6,
   "metadata": {},
   "outputs": [
    {
     "name": "stdout",
     "output_type": "stream",
     "text": [
      "<class 'pandas.core.frame.DataFrame'>\n",
      "RangeIndex: 4375 entries, 0 to 4374\n",
      "Data columns (total 13 columns):\n",
      "ID               4375 non-null object\n",
      "datetime         4375 non-null object\n",
      "has_media        150 non-null object\n",
      "is_reply         4374 non-null object\n",
      "is_retweet       4374 non-null object\n",
      "medias           149 non-null object\n",
      "nbr_favorite     4374 non-null float64\n",
      "nbr_reply        4374 non-null float64\n",
      "nbr_retweet      4374 non-null float64\n",
      "text             4374 non-null object\n",
      "url              4373 non-null object\n",
      "user_id          4373 non-null float64\n",
      "usernameTweet    4373 non-null object\n",
      "dtypes: float64(4), object(9)\n",
      "memory usage: 444.4+ KB\n"
     ]
    }
   ],
   "source": [
    "df.info()"
   ]
  },
  {
   "cell_type": "code",
   "execution_count": 7,
   "metadata": {},
   "outputs": [
    {
     "data": {
      "text/plain": [
       "ID                object\n",
       "datetime          object\n",
       "has_media         object\n",
       "is_reply          object\n",
       "is_retweet        object\n",
       "medias            object\n",
       "nbr_favorite     float64\n",
       "nbr_reply        float64\n",
       "nbr_retweet      float64\n",
       "text              object\n",
       "url               object\n",
       "user_id          float64\n",
       "usernameTweet     object\n",
       "dtype: object"
      ]
     },
     "execution_count": 7,
     "metadata": {},
     "output_type": "execute_result"
    }
   ],
   "source": [
    "# check datatypes\n",
    "df.dtypes"
   ]
  },
  {
   "cell_type": "code",
   "execution_count": 8,
   "metadata": {},
   "outputs": [],
   "source": [
    "# converting the datetime column to datetime format\n",
    "# won't work because there there not all of the cells are formatted correctly\n",
    "\n",
    "#pd.to_datetime(df['datetime']).head()\n",
    "\n",
    "# returns 'ValueError: month must be in 1..12'"
   ]
  },
  {
   "cell_type": "code",
   "execution_count": 9,
   "metadata": {},
   "outputs": [
    {
     "name": "stdout",
     "output_type": "stream",
     "text": [
      "20567184\n"
     ]
    }
   ],
   "source": [
    "# locate the datetime value that is not in the correct format\n",
    "for i in df.datetime:\n",
    "    if i[5:7] not in ['01', '02', '03', '04', '05', '06', '07', '08', '09', '10', '11', '12']:\n",
    "        print(i)"
   ]
  },
  {
   "cell_type": "code",
   "execution_count": 10,
   "metadata": {},
   "outputs": [
    {
     "data": {
      "text/html": [
       "<div>\n",
       "<style scoped>\n",
       "    .dataframe tbody tr th:only-of-type {\n",
       "        vertical-align: middle;\n",
       "    }\n",
       "\n",
       "    .dataframe tbody tr th {\n",
       "        vertical-align: top;\n",
       "    }\n",
       "\n",
       "    .dataframe thead th {\n",
       "        text-align: right;\n",
       "    }\n",
       "</style>\n",
       "<table border=\"1\" class=\"dataframe\">\n",
       "  <thead>\n",
       "    <tr style=\"text-align: right;\">\n",
       "      <th></th>\n",
       "      <th>ID</th>\n",
       "      <th>datetime</th>\n",
       "      <th>has_media</th>\n",
       "      <th>is_reply</th>\n",
       "      <th>is_retweet</th>\n",
       "      <th>medias</th>\n",
       "      <th>nbr_favorite</th>\n",
       "      <th>nbr_reply</th>\n",
       "      <th>nbr_retweet</th>\n",
       "      <th>text</th>\n",
       "      <th>url</th>\n",
       "      <th>user_id</th>\n",
       "      <th>usernameTweet</th>\n",
       "    </tr>\n",
       "  </thead>\n",
       "  <tbody>\n",
       "    <tr>\n",
       "      <th>2808</th>\n",
       "      <td>/Maggie4Obama/status/108170030474203136</td>\n",
       "      <td>20567184</td>\n",
       "      <td>Maggie4Obama</td>\n",
       "      <td>NaN</td>\n",
       "      <td>NaN</td>\n",
       "      <td>NaN</td>\n",
       "      <td>NaN</td>\n",
       "      <td>NaN</td>\n",
       "      <td>NaN</td>\n",
       "      <td>NaN</td>\n",
       "      <td>NaN</td>\n",
       "      <td>NaN</td>\n",
       "      <td>NaN</td>\n",
       "    </tr>\n",
       "  </tbody>\n",
       "</table>\n",
       "</div>"
      ],
      "text/plain": [
       "                                           ID  datetime     has_media  \\\n",
       "2808  /Maggie4Obama/status/108170030474203136  20567184  Maggie4Obama   \n",
       "\n",
       "     is_reply is_retweet medias  nbr_favorite  nbr_reply  nbr_retweet text  \\\n",
       "2808      NaN        NaN    NaN           NaN        NaN          NaN  NaN   \n",
       "\n",
       "      url  user_id usernameTweet  \n",
       "2808  NaN      NaN           NaN  "
      ]
     },
     "execution_count": 10,
     "metadata": {},
     "output_type": "execute_result"
    }
   ],
   "source": [
    "# locate the index number of that value\n",
    "df[df.datetime == '20567184']"
   ]
  },
  {
   "cell_type": "code",
   "execution_count": 11,
   "metadata": {},
   "outputs": [
    {
     "data": {
      "text/plain": [
       "ID               /Maggie4Obama/status/108170030474203136\n",
       "datetime                                        20567184\n",
       "has_media                                   Maggie4Obama\n",
       "is_reply                                             NaN\n",
       "is_retweet                                           NaN\n",
       "medias                                               NaN\n",
       "nbr_favorite                                         NaN\n",
       "nbr_reply                                            NaN\n",
       "nbr_retweet                                          NaN\n",
       "text                                                 NaN\n",
       "url                                                  NaN\n",
       "user_id                                              NaN\n",
       "usernameTweet                                        NaN\n",
       "Name: 2808, dtype: object"
      ]
     },
     "execution_count": 11,
     "metadata": {},
     "output_type": "execute_result"
    }
   ],
   "source": [
    "# inspect the item\n",
    "df.iloc[2808]"
   ]
  },
  {
   "cell_type": "code",
   "execution_count": 12,
   "metadata": {},
   "outputs": [],
   "source": [
    "# drop that row since it is mostly bad data\n",
    "df.drop(index=2808, inplace=True)"
   ]
  },
  {
   "cell_type": "code",
   "execution_count": 13,
   "metadata": {},
   "outputs": [],
   "source": [
    "# try converting the 'datetime' column to datetime again\n",
    "df.datetime = pd.to_datetime(df.datetime)"
   ]
  },
  {
   "cell_type": "code",
   "execution_count": 14,
   "metadata": {},
   "outputs": [
    {
     "data": {
      "text/plain": [
       "ID                       object\n",
       "datetime         datetime64[ns]\n",
       "has_media                object\n",
       "is_reply                 object\n",
       "is_retweet               object\n",
       "medias                   object\n",
       "nbr_favorite            float64\n",
       "nbr_reply               float64\n",
       "nbr_retweet             float64\n",
       "text                     object\n",
       "url                      object\n",
       "user_id                 float64\n",
       "usernameTweet            object\n",
       "dtype: object"
      ]
     },
     "execution_count": 14,
     "metadata": {},
     "output_type": "execute_result"
    }
   ],
   "source": [
    "# check that it worked\n",
    "df.dtypes"
   ]
  },
  {
   "cell_type": "code",
   "execution_count": 15,
   "metadata": {},
   "outputs": [
    {
     "data": {
      "text/plain": [
       "ID                  0\n",
       "datetime            0\n",
       "has_media        4225\n",
       "is_reply            0\n",
       "is_retweet          0\n",
       "medias           4225\n",
       "nbr_favorite        0\n",
       "nbr_reply           0\n",
       "nbr_retweet         0\n",
       "text                0\n",
       "url                 1\n",
       "user_id             1\n",
       "usernameTweet       1\n",
       "dtype: int64"
      ]
     },
     "execution_count": 15,
     "metadata": {},
     "output_type": "execute_result"
    }
   ],
   "source": [
    "# check nulls\n",
    "df.isnull().sum()"
   ]
  },
  {
   "cell_type": "code",
   "execution_count": 16,
   "metadata": {},
   "outputs": [
    {
     "data": {
      "text/plain": [
       "ID               0\n",
       "datetime         0\n",
       "has_media        0\n",
       "is_reply         0\n",
       "is_retweet       0\n",
       "medias           0\n",
       "nbr_favorite     0\n",
       "nbr_reply        0\n",
       "nbr_retweet      0\n",
       "text             0\n",
       "url              1\n",
       "user_id          1\n",
       "usernameTweet    1\n",
       "dtype: int64"
      ]
     },
     "execution_count": 16,
     "metadata": {},
     "output_type": "execute_result"
    }
   ],
   "source": [
    "# impute 'no media' for the null media columns\n",
    "df['has_media'] = df.has_media.fillna('no media')\n",
    "df['medias'] = df.has_media.fillna('no media')\n",
    "df.isnull().sum()"
   ]
  },
  {
   "cell_type": "code",
   "execution_count": 30,
   "metadata": {},
   "outputs": [
    {
     "data": {
      "text/html": [
       "<div>\n",
       "<style scoped>\n",
       "    .dataframe tbody tr th:only-of-type {\n",
       "        vertical-align: middle;\n",
       "    }\n",
       "\n",
       "    .dataframe tbody tr th {\n",
       "        vertical-align: top;\n",
       "    }\n",
       "\n",
       "    .dataframe thead th {\n",
       "        text-align: right;\n",
       "    }\n",
       "</style>\n",
       "<table border=\"1\" class=\"dataframe\">\n",
       "  <thead>\n",
       "    <tr style=\"text-align: right;\">\n",
       "      <th></th>\n",
       "      <th>ID</th>\n",
       "      <th>datetime</th>\n",
       "      <th>has_media</th>\n",
       "      <th>is_reply</th>\n",
       "      <th>is_retweet</th>\n",
       "      <th>medias</th>\n",
       "      <th>nbr_favorite</th>\n",
       "      <th>nbr_reply</th>\n",
       "      <th>nbr_retweet</th>\n",
       "      <th>text</th>\n",
       "      <th>url</th>\n",
       "      <th>user_id</th>\n",
       "      <th>usernameTweet</th>\n",
       "    </tr>\n",
       "  </thead>\n",
       "  <tbody>\n",
       "    <tr>\n",
       "      <th>2807</th>\n",
       "      <td>108170030474203136</td>\n",
       "      <td>2011-08-29 09:31:59</td>\n",
       "      <td>no media</td>\n",
       "      <td>False</td>\n",
       "      <td>False</td>\n",
       "      <td>no media</td>\n",
       "      <td>0.0</td>\n",
       "      <td>0.0</td>\n",
       "      <td>0.0</td>\n",
       "      <td>TomSmolka Tom Smolka</td>\n",
       "      <td>NaN</td>\n",
       "      <td>NaN</td>\n",
       "      <td>NaN</td>\n",
       "    </tr>\n",
       "  </tbody>\n",
       "</table>\n",
       "</div>"
      ],
      "text/plain": [
       "                      ID            datetime has_media is_reply is_retweet  \\\n",
       "2807  108170030474203136 2011-08-29 09:31:59  no media    False      False   \n",
       "\n",
       "        medias  nbr_favorite  nbr_reply  nbr_retweet                  text  \\\n",
       "2807  no media           0.0        0.0          0.0  TomSmolka Tom Smolka   \n",
       "\n",
       "      url  user_id usernameTweet  \n",
       "2807  NaN      NaN           NaN  "
      ]
     },
     "execution_count": 30,
     "metadata": {},
     "output_type": "execute_result"
    }
   ],
   "source": [
    "#check out the null url\n",
    "df[df.url.isnull()]"
   ]
  },
  {
   "cell_type": "code",
   "execution_count": 31,
   "metadata": {},
   "outputs": [],
   "source": [
    "# drop that row since it is mostly bad data\n",
    "df.drop(index=2807, inplace=True)"
   ]
  },
  {
   "cell_type": "code",
   "execution_count": 33,
   "metadata": {},
   "outputs": [
    {
     "data": {
      "text/plain": [
       "ID               0\n",
       "datetime         0\n",
       "has_media        0\n",
       "is_reply         0\n",
       "is_retweet       0\n",
       "medias           0\n",
       "nbr_favorite     0\n",
       "nbr_reply        0\n",
       "nbr_retweet      0\n",
       "text             0\n",
       "url              0\n",
       "user_id          0\n",
       "usernameTweet    0\n",
       "dtype: int64"
      ]
     },
     "execution_count": 33,
     "metadata": {},
     "output_type": "execute_result"
    }
   ],
   "source": [
    "df.isnull().sum()"
   ]
  },
  {
   "cell_type": "markdown",
   "metadata": {},
   "source": [
    "#### Unique Values"
   ]
  },
  {
   "cell_type": "code",
   "execution_count": 17,
   "metadata": {},
   "outputs": [
    {
     "data": {
      "text/html": [
       "<div>\n",
       "<style scoped>\n",
       "    .dataframe tbody tr th:only-of-type {\n",
       "        vertical-align: middle;\n",
       "    }\n",
       "\n",
       "    .dataframe tbody tr th {\n",
       "        vertical-align: top;\n",
       "    }\n",
       "\n",
       "    .dataframe thead th {\n",
       "        text-align: right;\n",
       "    }\n",
       "</style>\n",
       "<table border=\"1\" class=\"dataframe\">\n",
       "  <thead>\n",
       "    <tr style=\"text-align: right;\">\n",
       "      <th></th>\n",
       "      <th>column</th>\n",
       "      <th>unique values</th>\n",
       "    </tr>\n",
       "  </thead>\n",
       "  <tbody>\n",
       "    <tr>\n",
       "      <th>0</th>\n",
       "      <td>ID</td>\n",
       "      <td>4374</td>\n",
       "    </tr>\n",
       "    <tr>\n",
       "      <th>1</th>\n",
       "      <td>datetime</td>\n",
       "      <td>4254</td>\n",
       "    </tr>\n",
       "    <tr>\n",
       "      <th>2</th>\n",
       "      <td>has_media</td>\n",
       "      <td>2</td>\n",
       "    </tr>\n",
       "    <tr>\n",
       "      <th>3</th>\n",
       "      <td>is_reply</td>\n",
       "      <td>2</td>\n",
       "    </tr>\n",
       "    <tr>\n",
       "      <th>4</th>\n",
       "      <td>is_retweet</td>\n",
       "      <td>1</td>\n",
       "    </tr>\n",
       "    <tr>\n",
       "      <th>5</th>\n",
       "      <td>medias</td>\n",
       "      <td>2</td>\n",
       "    </tr>\n",
       "    <tr>\n",
       "      <th>6</th>\n",
       "      <td>nbr_favorite</td>\n",
       "      <td>33</td>\n",
       "    </tr>\n",
       "    <tr>\n",
       "      <th>7</th>\n",
       "      <td>nbr_reply</td>\n",
       "      <td>19</td>\n",
       "    </tr>\n",
       "    <tr>\n",
       "      <th>8</th>\n",
       "      <td>nbr_retweet</td>\n",
       "      <td>45</td>\n",
       "    </tr>\n",
       "    <tr>\n",
       "      <th>9</th>\n",
       "      <td>text</td>\n",
       "      <td>4116</td>\n",
       "    </tr>\n",
       "    <tr>\n",
       "      <th>10</th>\n",
       "      <td>url</td>\n",
       "      <td>4373</td>\n",
       "    </tr>\n",
       "    <tr>\n",
       "      <th>11</th>\n",
       "      <td>user_id</td>\n",
       "      <td>2533</td>\n",
       "    </tr>\n",
       "    <tr>\n",
       "      <th>12</th>\n",
       "      <td>usernameTweet</td>\n",
       "      <td>2533</td>\n",
       "    </tr>\n",
       "  </tbody>\n",
       "</table>\n",
       "</div>"
      ],
      "text/plain": [
       "           column  unique values\n",
       "0              ID           4374\n",
       "1        datetime           4254\n",
       "2       has_media              2\n",
       "3        is_reply              2\n",
       "4      is_retweet              1\n",
       "5          medias              2\n",
       "6    nbr_favorite             33\n",
       "7       nbr_reply             19\n",
       "8     nbr_retweet             45\n",
       "9            text           4116\n",
       "10            url           4373\n",
       "11        user_id           2533\n",
       "12  usernameTweet           2533"
      ]
     },
     "execution_count": 17,
     "metadata": {},
     "output_type": "execute_result"
    }
   ],
   "source": [
    "unique = []\n",
    "for i in df.columns:\n",
    "    uniques = {}\n",
    "    uniques['column'] = i \n",
    "    uniques['unique values'] = df[i].nunique()\n",
    "    unique.append(uniques)\n",
    "pd.DataFrame(unique)"
   ]
  },
  {
   "cell_type": "markdown",
   "metadata": {},
   "source": [
    "#### Consider The Most Common Twitter Handles\n",
    "There are many handles that have multiple tweets. These include official handles and news organizations.\n",
    "\n",
    "We can consider using some of these as target indicators, particularly those that are official handles that are sharing information the utility would already know about.  \n",
    "\n",
    "We will also want to consider extracting these from the dataframe before parsing for language, since they're likely to bias any model looking for common language (i.e. many of the tweets from NotifyNYC follow a format along the lines of \"@Conedison is responding to a power outage in {zip-code})."
   ]
  },
  {
   "cell_type": "code",
   "execution_count": 18,
   "metadata": {},
   "outputs": [
    {
     "data": {
      "text/plain": [
       "NotifyNYC         641\n",
       "EastCoast911IA    135\n",
       "ConEdison         113\n",
       "Shield1631         95\n",
       "outagetracker      31\n",
       "NYCityAlerts       20\n",
       "WHCREBT            16\n",
       "BNNnews            14\n",
       "NYGovCuomo         14\n",
       "StatenIslUSA       14\n",
       "BreakingNewsNY     13\n",
       "nyc311             13\n",
       "res7cuefox5        13\n",
       "BreakingNewsUS     13\n",
       "bnndesk            12\n",
       "yonkersoem40       11\n",
       "TalkoftheSound     11\n",
       "fox5ny             11\n",
       "AlwaysActions      11\n",
       "JoshuaRockoff      10\n",
       "Name: usernameTweet, dtype: int64"
      ]
     },
     "execution_count": 18,
     "metadata": {},
     "output_type": "execute_result"
    }
   ],
   "source": [
    "df.usernameTweet.value_counts()[:20]"
   ]
  },
  {
   "cell_type": "code",
   "execution_count": 19,
   "metadata": {},
   "outputs": [
    {
     "data": {
      "text/html": [
       "<div>\n",
       "<style scoped>\n",
       "    .dataframe tbody tr th:only-of-type {\n",
       "        vertical-align: middle;\n",
       "    }\n",
       "\n",
       "    .dataframe tbody tr th {\n",
       "        vertical-align: top;\n",
       "    }\n",
       "\n",
       "    .dataframe thead th {\n",
       "        text-align: right;\n",
       "    }\n",
       "</style>\n",
       "<table border=\"1\" class=\"dataframe\">\n",
       "  <thead>\n",
       "    <tr style=\"text-align: right;\">\n",
       "      <th></th>\n",
       "      <th>ID</th>\n",
       "      <th>datetime</th>\n",
       "      <th>has_media</th>\n",
       "      <th>is_reply</th>\n",
       "      <th>is_retweet</th>\n",
       "      <th>medias</th>\n",
       "      <th>nbr_favorite</th>\n",
       "      <th>nbr_reply</th>\n",
       "      <th>nbr_retweet</th>\n",
       "      <th>text</th>\n",
       "      <th>url</th>\n",
       "      <th>user_id</th>\n",
       "      <th>usernameTweet</th>\n",
       "    </tr>\n",
       "  </thead>\n",
       "  <tbody>\n",
       "    <tr>\n",
       "      <th>4</th>\n",
       "      <td>767077182124486656</td>\n",
       "      <td>2016-08-20 15:13:46</td>\n",
       "      <td>no media</td>\n",
       "      <td>False</td>\n",
       "      <td>False</td>\n",
       "      <td>no media</td>\n",
       "      <td>3.0</td>\n",
       "      <td>0.0</td>\n",
       "      <td>7.0</td>\n",
       "      <td>.@ConEdison  is responding to a  power   outag...</td>\n",
       "      <td>/NotifyNYC/status/767077182124486656</td>\n",
       "      <td>16145875.0</td>\n",
       "      <td>NotifyNYC</td>\n",
       "    </tr>\n",
       "  </tbody>\n",
       "</table>\n",
       "</div>"
      ],
      "text/plain": [
       "                   ID            datetime has_media is_reply is_retweet  \\\n",
       "4  767077182124486656 2016-08-20 15:13:46  no media    False      False   \n",
       "\n",
       "     medias  nbr_favorite  nbr_reply  nbr_retweet  \\\n",
       "4  no media           3.0        0.0          7.0   \n",
       "\n",
       "                                                text  \\\n",
       "4  .@ConEdison  is responding to a  power   outag...   \n",
       "\n",
       "                                    url     user_id usernameTweet  \n",
       "4  /NotifyNYC/status/767077182124486656  16145875.0     NotifyNYC  "
      ]
     },
     "execution_count": 19,
     "metadata": {},
     "output_type": "execute_result"
    }
   ],
   "source": [
    "df[df.usernameTweet == 'NotifyNYC'].head(1)"
   ]
  },
  {
   "cell_type": "code",
   "execution_count": 20,
   "metadata": {},
   "outputs": [
    {
     "data": {
      "text/html": [
       "<div>\n",
       "<style scoped>\n",
       "    .dataframe tbody tr th:only-of-type {\n",
       "        vertical-align: middle;\n",
       "    }\n",
       "\n",
       "    .dataframe tbody tr th {\n",
       "        vertical-align: top;\n",
       "    }\n",
       "\n",
       "    .dataframe thead th {\n",
       "        text-align: right;\n",
       "    }\n",
       "</style>\n",
       "<table border=\"1\" class=\"dataframe\">\n",
       "  <thead>\n",
       "    <tr style=\"text-align: right;\">\n",
       "      <th></th>\n",
       "      <th>ID</th>\n",
       "      <th>datetime</th>\n",
       "      <th>has_media</th>\n",
       "      <th>is_reply</th>\n",
       "      <th>is_retweet</th>\n",
       "      <th>medias</th>\n",
       "      <th>nbr_favorite</th>\n",
       "      <th>nbr_reply</th>\n",
       "      <th>nbr_retweet</th>\n",
       "      <th>text</th>\n",
       "      <th>url</th>\n",
       "      <th>user_id</th>\n",
       "      <th>usernameTweet</th>\n",
       "    </tr>\n",
       "  </thead>\n",
       "  <tbody>\n",
       "    <tr>\n",
       "      <th>7</th>\n",
       "      <td>764563820354408448</td>\n",
       "      <td>2016-08-13 16:46:34</td>\n",
       "      <td>no media</td>\n",
       "      <td>False</td>\n",
       "      <td>False</td>\n",
       "      <td>no media</td>\n",
       "      <td>0.0</td>\n",
       "      <td>0.0</td>\n",
       "      <td>0.0</td>\n",
       "      <td>NotifyNYC: .ConEdison is responding to a  powe...</td>\n",
       "      <td>/EastCoast911IA/status/764563820354408448</td>\n",
       "      <td>2.778990e+09</td>\n",
       "      <td>EastCoast911IA</td>\n",
       "    </tr>\n",
       "  </tbody>\n",
       "</table>\n",
       "</div>"
      ],
      "text/plain": [
       "                   ID            datetime has_media is_reply is_retweet  \\\n",
       "7  764563820354408448 2016-08-13 16:46:34  no media    False      False   \n",
       "\n",
       "     medias  nbr_favorite  nbr_reply  nbr_retweet  \\\n",
       "7  no media           0.0        0.0          0.0   \n",
       "\n",
       "                                                text  \\\n",
       "7  NotifyNYC: .ConEdison is responding to a  powe...   \n",
       "\n",
       "                                         url       user_id   usernameTweet  \n",
       "7  /EastCoast911IA/status/764563820354408448  2.778990e+09  EastCoast911IA  "
      ]
     },
     "execution_count": 20,
     "metadata": {},
     "output_type": "execute_result"
    }
   ],
   "source": [
    "df[df.usernameTweet == 'EastCoast911IA'][:1]"
   ]
  },
  {
   "cell_type": "code",
   "execution_count": 22,
   "metadata": {},
   "outputs": [
    {
     "data": {
      "text/html": [
       "<div>\n",
       "<style scoped>\n",
       "    .dataframe tbody tr th:only-of-type {\n",
       "        vertical-align: middle;\n",
       "    }\n",
       "\n",
       "    .dataframe tbody tr th {\n",
       "        vertical-align: top;\n",
       "    }\n",
       "\n",
       "    .dataframe thead th {\n",
       "        text-align: right;\n",
       "    }\n",
       "</style>\n",
       "<table border=\"1\" class=\"dataframe\">\n",
       "  <thead>\n",
       "    <tr style=\"text-align: right;\">\n",
       "      <th></th>\n",
       "      <th>ID</th>\n",
       "      <th>datetime</th>\n",
       "      <th>has_media</th>\n",
       "      <th>is_reply</th>\n",
       "      <th>is_retweet</th>\n",
       "      <th>medias</th>\n",
       "      <th>nbr_favorite</th>\n",
       "      <th>nbr_reply</th>\n",
       "      <th>nbr_retweet</th>\n",
       "      <th>text</th>\n",
       "      <th>url</th>\n",
       "      <th>user_id</th>\n",
       "      <th>usernameTweet</th>\n",
       "    </tr>\n",
       "  </thead>\n",
       "  <tbody>\n",
       "    <tr>\n",
       "      <th>122</th>\n",
       "      <td>997027507995140096</td>\n",
       "      <td>2018-05-17 04:14:16</td>\n",
       "      <td>no media</td>\n",
       "      <td>False</td>\n",
       "      <td>False</td>\n",
       "      <td>no media</td>\n",
       "      <td>0.0</td>\n",
       "      <td>0.0</td>\n",
       "      <td>0.0</td>\n",
       "      <td>.ConEdison is responding to a  power   outage ...</td>\n",
       "      <td>/Shield1631/status/997027507995140096</td>\n",
       "      <td>3.493897e+09</td>\n",
       "      <td>Shield1631</td>\n",
       "    </tr>\n",
       "  </tbody>\n",
       "</table>\n",
       "</div>"
      ],
      "text/plain": [
       "                     ID            datetime has_media is_reply is_retweet  \\\n",
       "122  997027507995140096 2018-05-17 04:14:16  no media    False      False   \n",
       "\n",
       "       medias  nbr_favorite  nbr_reply  nbr_retweet  \\\n",
       "122  no media           0.0        0.0          0.0   \n",
       "\n",
       "                                                  text  \\\n",
       "122  .ConEdison is responding to a  power   outage ...   \n",
       "\n",
       "                                       url       user_id usernameTweet  \n",
       "122  /Shield1631/status/997027507995140096  3.493897e+09    Shield1631  "
      ]
     },
     "execution_count": 22,
     "metadata": {},
     "output_type": "execute_result"
    }
   ],
   "source": [
    "df[df.usernameTweet == 'Shield1631'].head(1)"
   ]
  },
  {
   "cell_type": "markdown",
   "metadata": {},
   "source": [
    "Looks like many (if not all) of the tweets from 'EastCoast911IA' and 'Shield1631' are just restating NotifyNYC tweets"
   ]
  },
  {
   "cell_type": "code",
   "execution_count": 21,
   "metadata": {},
   "outputs": [
    {
     "data": {
      "text/html": [
       "<div>\n",
       "<style scoped>\n",
       "    .dataframe tbody tr th:only-of-type {\n",
       "        vertical-align: middle;\n",
       "    }\n",
       "\n",
       "    .dataframe tbody tr th {\n",
       "        vertical-align: top;\n",
       "    }\n",
       "\n",
       "    .dataframe thead th {\n",
       "        text-align: right;\n",
       "    }\n",
       "</style>\n",
       "<table border=\"1\" class=\"dataframe\">\n",
       "  <thead>\n",
       "    <tr style=\"text-align: right;\">\n",
       "      <th></th>\n",
       "      <th>ID</th>\n",
       "      <th>datetime</th>\n",
       "      <th>has_media</th>\n",
       "      <th>is_reply</th>\n",
       "      <th>is_retweet</th>\n",
       "      <th>medias</th>\n",
       "      <th>nbr_favorite</th>\n",
       "      <th>nbr_reply</th>\n",
       "      <th>nbr_retweet</th>\n",
       "      <th>text</th>\n",
       "      <th>url</th>\n",
       "      <th>user_id</th>\n",
       "      <th>usernameTweet</th>\n",
       "    </tr>\n",
       "  </thead>\n",
       "  <tbody>\n",
       "    <tr>\n",
       "      <th>24</th>\n",
       "      <td>384683458410201088</td>\n",
       "      <td>2013-09-30 10:17:38</td>\n",
       "      <td>no media</td>\n",
       "      <td>False</td>\n",
       "      <td>False</td>\n",
       "      <td>no media</td>\n",
       "      <td>1.0</td>\n",
       "      <td>0.0</td>\n",
       "      <td>0.0</td>\n",
       "      <td>MT @NotifyNYC   Power   outage  in Lighthouse ...</td>\n",
       "      <td>/fox5ny/status/384683458410201088</td>\n",
       "      <td>9229672.0</td>\n",
       "      <td>fox5ny</td>\n",
       "    </tr>\n",
       "  </tbody>\n",
       "</table>\n",
       "</div>"
      ],
      "text/plain": [
       "                    ID            datetime has_media is_reply is_retweet  \\\n",
       "24  384683458410201088 2013-09-30 10:17:38  no media    False      False   \n",
       "\n",
       "      medias  nbr_favorite  nbr_reply  nbr_retweet  \\\n",
       "24  no media           1.0        0.0          0.0   \n",
       "\n",
       "                                                 text  \\\n",
       "24  MT @NotifyNYC   Power   outage  in Lighthouse ...   \n",
       "\n",
       "                                  url    user_id usernameTweet  \n",
       "24  /fox5ny/status/384683458410201088  9229672.0        fox5ny  "
      ]
     },
     "execution_count": 21,
     "metadata": {},
     "output_type": "execute_result"
    }
   ],
   "source": [
    "df[df.usernameTweet == 'fox5ny'].head(1)"
   ]
  },
  {
   "cell_type": "markdown",
   "metadata": {},
   "source": [
    "It turns out that many groups, particulatly news organizations, retweet @NotifyNYC. These are almost definitely duplicate tweets, so we want to exclude them from our analysis. Below we accomplish this using various masks to identify the retweets and systematically pair down the dataframe. "
   ]
  },
  {
   "cell_type": "code",
   "execution_count": 23,
   "metadata": {},
   "outputs": [],
   "source": [
    "# first, extract NotifyNYC so that we don't accidentally remove tweets from that handle\n",
    "df_with_only_NotifyNYC = df[df.usernameTweet == 'NotifyNYC']\n",
    "\n",
    "# save that to a csv\n",
    "df_with_only_NotifyNYC.to_csv('NotifyNYC_tweets.csv')\n",
    "\n",
    "# and create a dataframe without NotifyNYC that can be paired down\n",
    "df_without_NotifyNYC = df[df.usernameTweet != 'NotifyNYC']"
   ]
  },
  {
   "cell_type": "code",
   "execution_count": 24,
   "metadata": {},
   "outputs": [
    {
     "name": "stdout",
     "output_type": "stream",
     "text": [
      "361 retweets in the mask\n",
      "\n",
      "ConEdison        113\n",
      "Shield1631        95\n",
      "outagetracker     28\n",
      "NYCityAlerts      19\n",
      "BNNnews           14\n",
      "Name: usernameTweet, dtype: int64\n"
     ]
    }
   ],
   "source": [
    "# create a mask to identify \"retweets\" of NotifyNYC\n",
    "retweets_notify = df_without_NotifyNYC.text.str.contains('NotifyNYC')\n",
    "\n",
    "# print the number of tweets in the mask\n",
    "print(f'{len(df_without_NotifyNYC[retweets_notify])} retweets in the mask')\n",
    "print('')\n",
    "\n",
    "# save a new dataframe that excludes these tweets\n",
    "df_without_notify_retweets = df_without_NotifyNYC[~retweets_notify]\n",
    "\n",
    "# print out the top twitter handles after removing the retweets\n",
    "print(df_without_notify_retweets.usernameTweet.value_counts()[:5])"
   ]
  },
  {
   "cell_type": "code",
   "execution_count": 25,
   "metadata": {},
   "outputs": [
    {
     "name": "stdout",
     "output_type": "stream",
     "text": [
      "95 retweets in the mask\n",
      "\n",
      "ConEdison        113\n",
      "outagetracker     28\n",
      "NYCityAlerts      19\n",
      "BNNnews           14\n",
      "NYGovCuomo        14\n",
      "Name: usernameTweet, dtype: int64\n"
     ]
    },
    {
     "name": "stderr",
     "output_type": "stream",
     "text": [
      "/Users/kevinc/anaconda3/lib/python3.6/site-packages/ipykernel_launcher.py:6: UserWarning: Boolean Series key will be reindexed to match DataFrame index.\n",
      "  \n",
      "/Users/kevinc/anaconda3/lib/python3.6/site-packages/ipykernel_launcher.py:10: UserWarning: Boolean Series key will be reindexed to match DataFrame index.\n",
      "  # Remove the CWD from sys.path while we load stuff.\n"
     ]
    }
   ],
   "source": [
    "# create a mask to identify \"retweets\" of NotifyNYC\n",
    "# noting that every 'Shild1631' tweet in our dataframe was a NotifyNYC retweet\n",
    "retweets_notify = df_without_NotifyNYC.usernameTweet == 'Shield1631'\n",
    "\n",
    "# print the number of tweets in the mask\n",
    "print(f'{len(df_without_notify_retweets[retweets_notify])} retweets in the mask')\n",
    "print('')\n",
    "\n",
    "# save a new dataframe that excludes these tweets\n",
    "df_without_notify_retweets = df_without_notify_retweets[~retweets_notify]\n",
    "\n",
    "# print out the top twitter handles after removing the retweets\n",
    "print(df_without_notify_retweets.usernameTweet.value_counts()[:5])"
   ]
  },
  {
   "cell_type": "code",
   "execution_count": 26,
   "metadata": {},
   "outputs": [
    {
     "name": "stdout",
     "output_type": "stream",
     "text": [
      "57 retweets in the mask\n",
      "\n",
      "ConEdison        113\n",
      "outagetracker     28\n",
      "NYCityAlerts      19\n",
      "NYGovCuomo        14\n",
      "BNNnews           14\n",
      "Name: usernameTweet, dtype: int64\n"
     ]
    }
   ],
   "source": [
    "# create a mask to identify \"retweets\" of NotifyNYC\n",
    "# taking advantage of the strange character spacing in some of the tweets\n",
    "retweets_notify = df_without_notify_retweets.text.str.contains('is responding to a  p')\n",
    "\n",
    "# print the number of tweets in the mask\n",
    "print(f'{len(df_without_notify_retweets[retweets_notify])} retweets in the mask')\n",
    "print('')\n",
    "\n",
    "# save a new dataframe that excludes these tweets\n",
    "df_without_notify_retweets = df_without_notify_retweets[~retweets_notify]\n",
    "\n",
    "# print out the top twitter handles after removing the retweets\n",
    "print(df_without_notify_retweets.usernameTweet.value_counts()[:5])"
   ]
  },
  {
   "cell_type": "code",
   "execution_count": null,
   "metadata": {},
   "outputs": [],
   "source": []
  },
  {
   "cell_type": "code",
   "execution_count": null,
   "metadata": {},
   "outputs": [],
   "source": []
  },
  {
   "cell_type": "code",
   "execution_count": null,
   "metadata": {},
   "outputs": [],
   "source": [
    "print(len(df_no_notifyNYC[df_no_notifyNYC.text.str.contains('ConEdison is responding to a  power')]))\n",
    "print(len(df_no_notifyNYC[df_no_notifyNYC.text.str.contains('ConEdison is responding to a')]))\n",
    "print(len(df_no_notifyNYC[df_no_notifyNYC.text.str.contains('Retweet')]))"
   ]
  },
  {
   "cell_type": "markdown",
   "metadata": {},
   "source": [
    "# Pre-Processing"
   ]
  },
  {
   "cell_type": "markdown",
   "metadata": {},
   "source": [
    "### TweetTokenize and Lemmatize all of the Titles"
   ]
  },
  {
   "cell_type": "code",
   "execution_count": null,
   "metadata": {},
   "outputs": [],
   "source": [
    "# import tokenizer and stemmer\n",
    "from nltk import word_tokenize, TweetTokenizer\n",
    "from nltk.stem import PorterStemmer, WordNetLemmatizer"
   ]
  },
  {
   "cell_type": "code",
   "execution_count": null,
   "metadata": {},
   "outputs": [],
   "source": [
    "# define a function that takes in a tweet\n",
    "# and tokenizes and stems that tweet\n",
    "def stem_title(tweet):    \n",
    "    stm = PorterStemmer()\n",
    "    tokenized = word_tokenize(tweet)\n",
    "    stem_tokes = []\n",
    "    for toke in tokenized:\n",
    "        stem_tokes.append(stm.stem(toke))\n",
    "    stem_tokes\n",
    "\n",
    "    comb = ''\n",
    "    for stemmed in stem_tokes:\n",
    "        comb += stemmed + ' '\n",
    "    return comb\n",
    "\n",
    "# define a function that takes in a tweet\n",
    "# and tweet_tokenizes and lemmatizes that tweet\n",
    "def lem_tweet(tweet):    \n",
    "    lem = WordNetLemmatizer()\n",
    "    tokenizer = TweetTokenizer()\n",
    "    tokenized = tokenizer.tokenize(tweet)\n",
    "    lemmed_tokes = []\n",
    "    for toke in tokenized:\n",
    "        lemmed_tokes.append(lem.lemmatize(toke))\n",
    "    lemmed_tokes\n",
    "\n",
    "    comb = ''\n",
    "    for lemmed in lemmed_tokes:\n",
    "        comb += lemmed + ' '\n",
    "    return comb"
   ]
  },
  {
   "cell_type": "code",
   "execution_count": null,
   "metadata": {},
   "outputs": [],
   "source": [
    "# check that the function works\n",
    "lem_tweet(df.text[3])"
   ]
  },
  {
   "cell_type": "code",
   "execution_count": null,
   "metadata": {},
   "outputs": [],
   "source": [
    "# create a new column by applying the function to the title column\n",
    "# and check out the head to see if it worked\n",
    "df['lemmed_tweet'] = df.text.apply(lem_tweet)\n",
    "df.head()"
   ]
  },
  {
   "cell_type": "code",
   "execution_count": null,
   "metadata": {},
   "outputs": [],
   "source": [
    "# check out the tail, too\n",
    "df.tail()"
   ]
  },
  {
   "cell_type": "code",
   "execution_count": null,
   "metadata": {},
   "outputs": [],
   "source": [
    "#df.to_csv('working_df.csv')"
   ]
  },
  {
   "cell_type": "markdown",
   "metadata": {},
   "source": [
    "## Model Prep"
   ]
  },
  {
   "cell_type": "markdown",
   "metadata": {},
   "source": [
    "### CountVectorize from Unlemmed"
   ]
  },
  {
   "cell_type": "code",
   "execution_count": null,
   "metadata": {},
   "outputs": [],
   "source": [
    "from sklearn.feature_extraction.text import CountVectorizer"
   ]
  },
  {
   "cell_type": "code",
   "execution_count": null,
   "metadata": {},
   "outputs": [],
   "source": [
    "# Instantiate\n",
    "cv = CountVectorizer(stop_words='english', \n",
    "                     ngram_range=(1,1)\n",
    "                    )"
   ]
  },
  {
   "cell_type": "code",
   "execution_count": null,
   "metadata": {},
   "outputs": [],
   "source": [
    "# Fit and Transform\n",
    "sparse_df_unlemmed = cv.fit_transform(df.text)"
   ]
  },
  {
   "cell_type": "code",
   "execution_count": null,
   "metadata": {},
   "outputs": [],
   "source": [
    "dense_df_unlemmed = pd.DataFrame(sparse_df_unlemmed.todense(), columns=cv.get_feature_names())\n",
    "dense_df_unlemmed.head()"
   ]
  },
  {
   "cell_type": "code",
   "execution_count": null,
   "metadata": {},
   "outputs": [],
   "source": [
    "len(cv.get_feature_names())"
   ]
  },
  {
   "cell_type": "markdown",
   "metadata": {},
   "source": [
    "### CountVectorize from Lemmed"
   ]
  },
  {
   "cell_type": "code",
   "execution_count": null,
   "metadata": {},
   "outputs": [],
   "source": [
    "from sklearn.feature_extraction.text import CountVectorizer"
   ]
  },
  {
   "cell_type": "code",
   "execution_count": null,
   "metadata": {},
   "outputs": [],
   "source": [
    "# Instantiate\n",
    "cv = CountVectorizer(stop_words='english', \n",
    "                     ngram_range=(1,1)\n",
    "                    )"
   ]
  },
  {
   "cell_type": "code",
   "execution_count": null,
   "metadata": {},
   "outputs": [],
   "source": [
    "# Fit and Transform\n",
    "sparse_df_lemmed = cv.fit_transform(df.lemmed_tweet)"
   ]
  },
  {
   "cell_type": "code",
   "execution_count": null,
   "metadata": {},
   "outputs": [],
   "source": [
    "dense_df_lemmed = pd.DataFrame(sparse_df_lemmed.todense(), columns=cv.get_feature_names())\n",
    "dense_df_lemmed.head()"
   ]
  },
  {
   "cell_type": "code",
   "execution_count": null,
   "metadata": {},
   "outputs": [],
   "source": [
    "len(cv.get_feature_names())"
   ]
  },
  {
   "cell_type": "code",
   "execution_count": null,
   "metadata": {},
   "outputs": [],
   "source": [
    "cv.get_feature_names()[6000:6008]"
   ]
  },
  {
   "cell_type": "markdown",
   "metadata": {},
   "source": [
    "## Clustering"
   ]
  },
  {
   "cell_type": "code",
   "execution_count": null,
   "metadata": {},
   "outputs": [],
   "source": [
    "from sklearn.cluster import KMeans\n",
    "from sklearn.preprocessing import StandardScaler\n",
    "ss = StandardScaler()\n",
    "km = KMeans(n_clusters=3, random_state=42)"
   ]
  },
  {
   "cell_type": "code",
   "execution_count": null,
   "metadata": {},
   "outputs": [],
   "source": [
    "X_sc = ss.fit_transform(dense_df_lemmed)\n",
    "km.fit(X_sc)"
   ]
  },
  {
   "cell_type": "code",
   "execution_count": null,
   "metadata": {},
   "outputs": [],
   "source": [
    "from sklearn.metrics import silhouette_score"
   ]
  },
  {
   "cell_type": "code",
   "execution_count": null,
   "metadata": {},
   "outputs": [],
   "source": [
    "silhouette_score(X_sc, km.labels_)"
   ]
  },
  {
   "cell_type": "code",
   "execution_count": null,
   "metadata": {},
   "outputs": [],
   "source": [
    "len(df[km.labels_ == 0])"
   ]
  },
  {
   "cell_type": "code",
   "execution_count": null,
   "metadata": {},
   "outputs": [],
   "source": [
    "len(df[km.labels_ == 1])"
   ]
  },
  {
   "cell_type": "code",
   "execution_count": null,
   "metadata": {},
   "outputs": [],
   "source": [
    "len(df[km.labels_ == 2])"
   ]
  },
  {
   "cell_type": "markdown",
   "metadata": {},
   "source": [
    "# Spacy Processing"
   ]
  },
  {
   "cell_type": "code",
   "execution_count": null,
   "metadata": {},
   "outputs": [],
   "source": [
    "import spacy\n",
    "nlp = spacy.load('en')\n",
    "doc1 = nlp(df.lemmed_tweet[2])\n",
    "print(doc1)"
   ]
  },
  {
   "cell_type": "markdown",
   "metadata": {},
   "source": [
    "## Part-of-Speech Tagging"
   ]
  },
  {
   "cell_type": "code",
   "execution_count": null,
   "metadata": {},
   "outputs": [],
   "source": [
    "# check out what this can do\n",
    "\n",
    "for token in doc1:\n",
    "    print('{} - {}'.format(token, token.pos_))"
   ]
  },
  {
   "cell_type": "markdown",
   "metadata": {},
   "source": [
    "#### Extract Nouns from Tweets"
   ]
  },
  {
   "cell_type": "code",
   "execution_count": null,
   "metadata": {},
   "outputs": [],
   "source": [
    "# define a function to extract a tweet's nouns \n",
    "# and return them in a single string,\n",
    "# so that the string can then be added back into the dataframe\n",
    "\n",
    "def extract_NOUN(tweet):\n",
    "    doc = nlp(tweet)\n",
    "    NOUNS = []\n",
    "    for token in doc:\n",
    "        if token.pos_ == 'NOUN':\n",
    "            NOUNS.append(str(token))   \n",
    "    #print(NOUNS)\n",
    "    comb = ''\n",
    "    for token in NOUNS:\n",
    "        comb += token + ' '\n",
    "    return comb"
   ]
  },
  {
   "cell_type": "code",
   "execution_count": null,
   "metadata": {},
   "outputs": [],
   "source": [
    "# test out the function\n",
    "\n",
    "extract_NOUN(df.lemmed_tweet[28])"
   ]
  },
  {
   "cell_type": "code",
   "execution_count": null,
   "metadata": {},
   "outputs": [],
   "source": [
    "# apply the function to every lemmed tweet to create a new 'nouns' column\n",
    "\n",
    "df['nouns'] = df.lemmed_tweet.apply(extract_NOUN)\n",
    "df.head()"
   ]
  },
  {
   "cell_type": "markdown",
   "metadata": {},
   "source": [
    "#### Extract Proper Nouns from Tweets"
   ]
  },
  {
   "cell_type": "code",
   "execution_count": null,
   "metadata": {},
   "outputs": [],
   "source": [
    "# define a function to extract a tweet's proper nouns \n",
    "# and return them in a single string,\n",
    "# so that the string can then be added back into the dataframe\n",
    "\n",
    "def extract_PROPN(tweet):\n",
    "    doc = nlp(tweet)\n",
    "    PROPN = []\n",
    "    for token in doc:\n",
    "        if token.pos_ == 'PROPN':\n",
    "            PROPN.append(str(token))   \n",
    "    #print(PROPN)\n",
    "    comb = ''\n",
    "    for token in PROPN:\n",
    "        comb += token + ' '\n",
    "    return comb"
   ]
  },
  {
   "cell_type": "code",
   "execution_count": null,
   "metadata": {},
   "outputs": [],
   "source": [
    "# test the function\n",
    "extract_PROPN(df.lemmed_tweet[28])"
   ]
  },
  {
   "cell_type": "code",
   "execution_count": null,
   "metadata": {},
   "outputs": [],
   "source": [
    "# apply the function to every lemmed tweet to create a new 'proper_nouns' column\n",
    "df['proper_nouns'] = df.lemmed_tweet.apply(extract_PROPN)\n",
    "df.head()"
   ]
  },
  {
   "cell_type": "markdown",
   "metadata": {},
   "source": [
    "## Noun-Phrase-Chunking"
   ]
  },
  {
   "cell_type": "code",
   "execution_count": null,
   "metadata": {},
   "outputs": [],
   "source": [
    "for chunk in doc1.noun_chunks:\n",
    "    print('{} - {}'.format(chunk, chunk.label_))"
   ]
  },
  {
   "cell_type": "markdown",
   "metadata": {},
   "source": [
    "#### Extract Noun Phrase Chunks from Tweets"
   ]
  },
  {
   "cell_type": "code",
   "execution_count": null,
   "metadata": {},
   "outputs": [],
   "source": [
    "for tweet in df.lemmed_tweet[:30]:\n",
    "    #print(nlp(i))\n",
    "    doc = nlp(tweet)\n",
    "    NP = []\n",
    "    for chunk in doc.noun_chunks:\n",
    "        NP.append(str(chunk))   \n",
    "    print(NP)"
   ]
  },
  {
   "cell_type": "markdown",
   "metadata": {},
   "source": [
    "## Named-Entity-Recognition"
   ]
  },
  {
   "cell_type": "code",
   "execution_count": null,
   "metadata": {},
   "outputs": [],
   "source": [
    "for ent in doc1.ents:\n",
    "    print(ent.text, '-', ent.label_)"
   ]
  },
  {
   "cell_type": "markdown",
   "metadata": {},
   "source": [
    "#### Create a new column that contains Geopolitical Entities from Tweets"
   ]
  },
  {
   "cell_type": "code",
   "execution_count": null,
   "metadata": {},
   "outputs": [],
   "source": [
    "# define a function that takes in a tweet and returns a single string\n",
    "# that contains only the Geopolitical Entities from that tweet\n",
    "def extract_GPE(tweet):\n",
    "    doc = nlp(tweet)\n",
    "    GPE = []\n",
    "    for ent in doc.ents:\n",
    "        if ent.label_ == 'GPE':\n",
    "            GPE.append(str(ent.text))   \n",
    "    #print(GPE)\n",
    "    comb = ''\n",
    "    for token in GPE:\n",
    "        comb += token + ' '\n",
    "    return comb"
   ]
  },
  {
   "cell_type": "code",
   "execution_count": null,
   "metadata": {},
   "outputs": [],
   "source": [
    "# check that the function works\n",
    "extract_GPE(df.lemmed_tweet[28])"
   ]
  },
  {
   "cell_type": "code",
   "execution_count": null,
   "metadata": {},
   "outputs": [],
   "source": [
    "# apply the function to every lemmed tweet to create a new 'geopolitical_ents' column\n",
    "df['geopolitical_ents'] = df.lemmed_tweet.apply(extract_GPE)\n",
    "df.head()"
   ]
  },
  {
   "cell_type": "markdown",
   "metadata": {},
   "source": [
    "### Dependency Parsing\n",
    "Can we use this to get items like \"Lighthouse Hill\" that aren't recognized by Named-Entity-Recognition?"
   ]
  },
  {
   "cell_type": "code",
   "execution_count": null,
   "metadata": {},
   "outputs": [],
   "source": [
    "df.lemmed_tweet[24]"
   ]
  },
  {
   "cell_type": "code",
   "execution_count": null,
   "metadata": {},
   "outputs": [],
   "source": [
    "from spacy import displacy\n",
    "\n",
    "nlp = spacy.load(\"en_core_web_sm\")\n",
    "doc = nlp(df.lemmed_tweet[24])\n",
    "displacy.render(doc, style='dep')"
   ]
  },
  {
   "cell_type": "code",
   "execution_count": null,
   "metadata": {},
   "outputs": [],
   "source": []
  },
  {
   "cell_type": "code",
   "execution_count": null,
   "metadata": {},
   "outputs": [],
   "source": [
    "df.head()"
   ]
  },
  {
   "cell_type": "code",
   "execution_count": null,
   "metadata": {},
   "outputs": [],
   "source": [
    "df.sort_values('datetime')"
   ]
  },
  {
   "cell_type": "code",
   "execution_count": null,
   "metadata": {},
   "outputs": [],
   "source": []
  }
 ],
 "metadata": {
  "kernelspec": {
   "display_name": "Python 3",
   "language": "python",
   "name": "python3"
  },
  "language_info": {
   "codemirror_mode": {
    "name": "ipython",
    "version": 3
   },
   "file_extension": ".py",
   "mimetype": "text/x-python",
   "name": "python",
   "nbconvert_exporter": "python",
   "pygments_lexer": "ipython3",
   "version": "3.6.8"
  },
  "varInspector": {
   "cols": {
    "lenName": 16,
    "lenType": 16,
    "lenVar": 40
   },
   "kernels_config": {
    "python": {
     "delete_cmd_postfix": "",
     "delete_cmd_prefix": "del ",
     "library": "var_list.py",
     "varRefreshCmd": "print(var_dic_list())"
    },
    "r": {
     "delete_cmd_postfix": ") ",
     "delete_cmd_prefix": "rm(",
     "library": "var_list.r",
     "varRefreshCmd": "cat(var_dic_list()) "
    }
   },
   "types_to_exclude": [
    "module",
    "function",
    "builtin_function_or_method",
    "instance",
    "_Feature"
   ],
   "window_display": false
  }
 },
 "nbformat": 4,
 "nbformat_minor": 2
}
