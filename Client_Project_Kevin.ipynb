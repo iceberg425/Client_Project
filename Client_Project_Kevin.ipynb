{
 "cells": [
  {
   "cell_type": "code",
   "execution_count": 234,
   "metadata": {
    "scrolled": true
   },
   "outputs": [
    {
     "name": "stdout",
     "output_type": "stream",
     "text": [
      "Client_Project_Ixchel.ipynb\r\n",
      "Client_Project_John.ipynb\r\n",
      "Client_Project_Kevin.ipynb\r\n",
      "Ixchel_Twitter.ipynb\r\n",
      "\u001b[34mWeather\u001b[m\u001b[m\r\n",
      "converting-text-files-to-combined-dictionary.ipynb\r\n",
      "\u001b[34mdata\u001b[m\u001b[m\r\n",
      "mycsv.csv\r\n",
      "saved_tweets.csv\r\n",
      "\u001b[34mtweet\u001b[m\u001b[m\r\n",
      "tweets_scrape_first_df.csv\r\n",
      "twitter_credentials.json\r\n",
      "working_df.csv\r\n"
     ]
    }
   ],
   "source": [
    "!ls"
   ]
  },
  {
   "cell_type": "code",
   "execution_count": 235,
   "metadata": {},
   "outputs": [],
   "source": [
    "import pandas as pd"
   ]
  },
  {
   "cell_type": "code",
   "execution_count": 236,
   "metadata": {},
   "outputs": [],
   "source": [
    "df = pd.read_csv('tweets_scrape_first_df.csv')"
   ]
  },
  {
   "cell_type": "code",
   "execution_count": 237,
   "metadata": {},
   "outputs": [],
   "source": [
    "df.drop(columns='Unnamed: 0', inplace=True)"
   ]
  },
  {
   "cell_type": "code",
   "execution_count": 238,
   "metadata": {},
   "outputs": [
    {
     "data": {
      "text/html": [
       "<div>\n",
       "<style scoped>\n",
       "    .dataframe tbody tr th:only-of-type {\n",
       "        vertical-align: middle;\n",
       "    }\n",
       "\n",
       "    .dataframe tbody tr th {\n",
       "        vertical-align: top;\n",
       "    }\n",
       "\n",
       "    .dataframe thead th {\n",
       "        text-align: right;\n",
       "    }\n",
       "</style>\n",
       "<table border=\"1\" class=\"dataframe\">\n",
       "  <thead>\n",
       "    <tr style=\"text-align: right;\">\n",
       "      <th></th>\n",
       "      <th>ID</th>\n",
       "      <th>datetime</th>\n",
       "      <th>has_media</th>\n",
       "      <th>is_reply</th>\n",
       "      <th>is_retweet</th>\n",
       "      <th>medias</th>\n",
       "      <th>nbr_favorite</th>\n",
       "      <th>nbr_reply</th>\n",
       "      <th>nbr_retweet</th>\n",
       "      <th>text</th>\n",
       "      <th>url</th>\n",
       "      <th>user_id</th>\n",
       "      <th>usernameTweet</th>\n",
       "    </tr>\n",
       "  </thead>\n",
       "  <tbody>\n",
       "    <tr>\n",
       "      <th>0</th>\n",
       "      <td>267716394043465728</td>\n",
       "      <td>2012-11-11 14:52:16</td>\n",
       "      <td>NaN</td>\n",
       "      <td>False</td>\n",
       "      <td>False</td>\n",
       "      <td>NaN</td>\n",
       "      <td>0.0</td>\n",
       "      <td>0.0</td>\n",
       "      <td>0.0</td>\n",
       "      <td>ConEd : NY Sandy  power   outages  slip; costs...</td>\n",
       "      <td>/RealJezzy/status/267716394043465728</td>\n",
       "      <td>504279674.0</td>\n",
       "      <td>RealJezzy</td>\n",
       "    </tr>\n",
       "    <tr>\n",
       "      <th>1</th>\n",
       "      <td>298660085255770112</td>\n",
       "      <td>2013-02-05 00:11:27</td>\n",
       "      <td>NaN</td>\n",
       "      <td>False</td>\n",
       "      <td>False</td>\n",
       "      <td>NaN</td>\n",
       "      <td>0.0</td>\n",
       "      <td>0.0</td>\n",
       "      <td>0.0</td>\n",
       "      <td>@ ConEdison  \\n Power   outage  in queens</td>\n",
       "      <td>/meirBGNY/status/298660085255770112</td>\n",
       "      <td>909594764.0</td>\n",
       "      <td>meirBGNY</td>\n",
       "    </tr>\n",
       "    <tr>\n",
       "      <th>2</th>\n",
       "      <td>21860028236</td>\n",
       "      <td>2010-08-22 17:33:44</td>\n",
       "      <td>NaN</td>\n",
       "      <td>False</td>\n",
       "      <td>False</td>\n",
       "      <td>NaN</td>\n",
       "      <td>0.0</td>\n",
       "      <td>0.0</td>\n",
       "      <td>0.0</td>\n",
       "      <td>Power   outage  in the Whitestone section of Q...</td>\n",
       "      <td>/olgushka1/status/21860028236</td>\n",
       "      <td>68886571.0</td>\n",
       "      <td>olgushka1</td>\n",
       "    </tr>\n",
       "    <tr>\n",
       "      <th>3</th>\n",
       "      <td>1069021302667833344</td>\n",
       "      <td>2018-12-01 19:11:54</td>\n",
       "      <td>NaN</td>\n",
       "      <td>False</td>\n",
       "      <td>False</td>\n",
       "      <td>NaN</td>\n",
       "      <td>0.0</td>\n",
       "      <td>1.0</td>\n",
       "      <td>0.0</td>\n",
       "      <td>about that  power   outage  that is now over.....</td>\n",
       "      <td>/jimcasale/status/1069021302667833344</td>\n",
       "      <td>12393522.0</td>\n",
       "      <td>jimcasale</td>\n",
       "    </tr>\n",
       "    <tr>\n",
       "      <th>4</th>\n",
       "      <td>767077182124486656</td>\n",
       "      <td>2016-08-20 15:13:46</td>\n",
       "      <td>NaN</td>\n",
       "      <td>False</td>\n",
       "      <td>False</td>\n",
       "      <td>NaN</td>\n",
       "      <td>3.0</td>\n",
       "      <td>0.0</td>\n",
       "      <td>7.0</td>\n",
       "      <td>.@ConEdison  is responding to a  power   outag...</td>\n",
       "      <td>/NotifyNYC/status/767077182124486656</td>\n",
       "      <td>16145875.0</td>\n",
       "      <td>NotifyNYC</td>\n",
       "    </tr>\n",
       "  </tbody>\n",
       "</table>\n",
       "</div>"
      ],
      "text/plain": [
       "                    ID             datetime has_media is_reply is_retweet  \\\n",
       "0   267716394043465728  2012-11-11 14:52:16       NaN    False      False   \n",
       "1   298660085255770112  2013-02-05 00:11:27       NaN    False      False   \n",
       "2          21860028236  2010-08-22 17:33:44       NaN    False      False   \n",
       "3  1069021302667833344  2018-12-01 19:11:54       NaN    False      False   \n",
       "4   767077182124486656  2016-08-20 15:13:46       NaN    False      False   \n",
       "\n",
       "  medias  nbr_favorite  nbr_reply  nbr_retweet  \\\n",
       "0    NaN           0.0        0.0          0.0   \n",
       "1    NaN           0.0        0.0          0.0   \n",
       "2    NaN           0.0        0.0          0.0   \n",
       "3    NaN           0.0        1.0          0.0   \n",
       "4    NaN           3.0        0.0          7.0   \n",
       "\n",
       "                                                text  \\\n",
       "0  ConEd : NY Sandy  power   outages  slip; costs...   \n",
       "1          @ ConEdison  \\n Power   outage  in queens   \n",
       "2  Power   outage  in the Whitestone section of Q...   \n",
       "3  about that  power   outage  that is now over.....   \n",
       "4  .@ConEdison  is responding to a  power   outag...   \n",
       "\n",
       "                                     url      user_id usernameTweet  \n",
       "0   /RealJezzy/status/267716394043465728  504279674.0     RealJezzy  \n",
       "1    /meirBGNY/status/298660085255770112  909594764.0      meirBGNY  \n",
       "2          /olgushka1/status/21860028236   68886571.0     olgushka1  \n",
       "3  /jimcasale/status/1069021302667833344   12393522.0     jimcasale  \n",
       "4   /NotifyNYC/status/767077182124486656   16145875.0     NotifyNYC  "
      ]
     },
     "execution_count": 238,
     "metadata": {},
     "output_type": "execute_result"
    }
   ],
   "source": [
    "df.head()"
   ]
  },
  {
   "cell_type": "code",
   "execution_count": 239,
   "metadata": {},
   "outputs": [
    {
     "data": {
      "text/plain": [
       "ID                object\n",
       "datetime          object\n",
       "has_media         object\n",
       "is_reply          object\n",
       "is_retweet        object\n",
       "medias            object\n",
       "nbr_favorite     float64\n",
       "nbr_reply        float64\n",
       "nbr_retweet      float64\n",
       "text              object\n",
       "url               object\n",
       "user_id          float64\n",
       "usernameTweet     object\n",
       "dtype: object"
      ]
     },
     "execution_count": 239,
     "metadata": {},
     "output_type": "execute_result"
    }
   ],
   "source": [
    "df.dtypes"
   ]
  },
  {
   "cell_type": "code",
   "execution_count": 240,
   "metadata": {},
   "outputs": [
    {
     "data": {
      "text/plain": [
       "0    2012-11-11 14:52:16\n",
       "1    2013-02-05 00:11:27\n",
       "2    2010-08-22 17:33:44\n",
       "3    2018-12-01 19:11:54\n",
       "4    2016-08-20 15:13:46\n",
       "5    2012-10-28 12:22:46\n",
       "6    2018-03-02 22:08:23\n",
       "7    2016-08-13 16:46:34\n",
       "8    2016-08-13 16:38:28\n",
       "9    2012-10-29 18:16:23\n",
       "10   2012-10-31 04:19:06\n",
       "11   2012-10-30 17:30:20\n",
       "Name: datetime, dtype: datetime64[ns]"
      ]
     },
     "execution_count": 240,
     "metadata": {},
     "output_type": "execute_result"
    }
   ],
   "source": [
    "pd.to_datetime(df['datetime'][:12])"
   ]
  },
  {
   "cell_type": "code",
   "execution_count": 241,
   "metadata": {},
   "outputs": [
    {
     "name": "stdout",
     "output_type": "stream",
     "text": [
      "20567184\n"
     ]
    }
   ],
   "source": [
    "for i in df.datetime:\n",
    "    if i[5:7] not in ['01', '02', '03', '04', '05', '06', '07', '08', '09', '10', '11', '12']:\n",
    "        print(i)"
   ]
  },
  {
   "cell_type": "code",
   "execution_count": 242,
   "metadata": {},
   "outputs": [
    {
     "data": {
      "text/html": [
       "<div>\n",
       "<style scoped>\n",
       "    .dataframe tbody tr th:only-of-type {\n",
       "        vertical-align: middle;\n",
       "    }\n",
       "\n",
       "    .dataframe tbody tr th {\n",
       "        vertical-align: top;\n",
       "    }\n",
       "\n",
       "    .dataframe thead th {\n",
       "        text-align: right;\n",
       "    }\n",
       "</style>\n",
       "<table border=\"1\" class=\"dataframe\">\n",
       "  <thead>\n",
       "    <tr style=\"text-align: right;\">\n",
       "      <th></th>\n",
       "      <th>ID</th>\n",
       "      <th>datetime</th>\n",
       "      <th>has_media</th>\n",
       "      <th>is_reply</th>\n",
       "      <th>is_retweet</th>\n",
       "      <th>medias</th>\n",
       "      <th>nbr_favorite</th>\n",
       "      <th>nbr_reply</th>\n",
       "      <th>nbr_retweet</th>\n",
       "      <th>text</th>\n",
       "      <th>url</th>\n",
       "      <th>user_id</th>\n",
       "      <th>usernameTweet</th>\n",
       "    </tr>\n",
       "  </thead>\n",
       "  <tbody>\n",
       "    <tr>\n",
       "      <th>2808</th>\n",
       "      <td>/Maggie4Obama/status/108170030474203136</td>\n",
       "      <td>20567184</td>\n",
       "      <td>Maggie4Obama</td>\n",
       "      <td>NaN</td>\n",
       "      <td>NaN</td>\n",
       "      <td>NaN</td>\n",
       "      <td>NaN</td>\n",
       "      <td>NaN</td>\n",
       "      <td>NaN</td>\n",
       "      <td>NaN</td>\n",
       "      <td>NaN</td>\n",
       "      <td>NaN</td>\n",
       "      <td>NaN</td>\n",
       "    </tr>\n",
       "  </tbody>\n",
       "</table>\n",
       "</div>"
      ],
      "text/plain": [
       "                                           ID  datetime     has_media  \\\n",
       "2808  /Maggie4Obama/status/108170030474203136  20567184  Maggie4Obama   \n",
       "\n",
       "     is_reply is_retweet medias  nbr_favorite  nbr_reply  nbr_retweet text  \\\n",
       "2808      NaN        NaN    NaN           NaN        NaN          NaN  NaN   \n",
       "\n",
       "      url  user_id usernameTweet  \n",
       "2808  NaN      NaN           NaN  "
      ]
     },
     "execution_count": 242,
     "metadata": {},
     "output_type": "execute_result"
    }
   ],
   "source": [
    "df[df.datetime == '20567184']"
   ]
  },
  {
   "cell_type": "code",
   "execution_count": 243,
   "metadata": {},
   "outputs": [
    {
     "data": {
      "text/plain": [
       "ID               /Maggie4Obama/status/108170030474203136\n",
       "datetime                                        20567184\n",
       "has_media                                   Maggie4Obama\n",
       "is_reply                                             NaN\n",
       "is_retweet                                           NaN\n",
       "medias                                               NaN\n",
       "nbr_favorite                                         NaN\n",
       "nbr_reply                                            NaN\n",
       "nbr_retweet                                          NaN\n",
       "text                                                 NaN\n",
       "url                                                  NaN\n",
       "user_id                                              NaN\n",
       "usernameTweet                                        NaN\n",
       "Name: 2808, dtype: object"
      ]
     },
     "execution_count": 243,
     "metadata": {},
     "output_type": "execute_result"
    }
   ],
   "source": [
    "df.iloc[2808]"
   ]
  },
  {
   "cell_type": "code",
   "execution_count": 244,
   "metadata": {},
   "outputs": [],
   "source": [
    "df.drop(index=2808, inplace=True)"
   ]
  },
  {
   "cell_type": "code",
   "execution_count": 245,
   "metadata": {},
   "outputs": [
    {
     "data": {
      "text/html": [
       "<div>\n",
       "<style scoped>\n",
       "    .dataframe tbody tr th:only-of-type {\n",
       "        vertical-align: middle;\n",
       "    }\n",
       "\n",
       "    .dataframe tbody tr th {\n",
       "        vertical-align: top;\n",
       "    }\n",
       "\n",
       "    .dataframe thead th {\n",
       "        text-align: right;\n",
       "    }\n",
       "</style>\n",
       "<table border=\"1\" class=\"dataframe\">\n",
       "  <thead>\n",
       "    <tr style=\"text-align: right;\">\n",
       "      <th></th>\n",
       "      <th>ID</th>\n",
       "      <th>datetime</th>\n",
       "      <th>has_media</th>\n",
       "      <th>is_reply</th>\n",
       "      <th>is_retweet</th>\n",
       "      <th>medias</th>\n",
       "      <th>nbr_favorite</th>\n",
       "      <th>nbr_reply</th>\n",
       "      <th>nbr_retweet</th>\n",
       "      <th>text</th>\n",
       "      <th>url</th>\n",
       "      <th>user_id</th>\n",
       "      <th>usernameTweet</th>\n",
       "    </tr>\n",
       "  </thead>\n",
       "  <tbody>\n",
       "  </tbody>\n",
       "</table>\n",
       "</div>"
      ],
      "text/plain": [
       "Empty DataFrame\n",
       "Columns: [ID, datetime, has_media, is_reply, is_retweet, medias, nbr_favorite, nbr_reply, nbr_retweet, text, url, user_id, usernameTweet]\n",
       "Index: []"
      ]
     },
     "execution_count": 245,
     "metadata": {},
     "output_type": "execute_result"
    }
   ],
   "source": [
    "df[df.datetime == '20567184']"
   ]
  },
  {
   "cell_type": "code",
   "execution_count": 246,
   "metadata": {},
   "outputs": [],
   "source": [
    "df.datetime = pd.to_datetime(df.datetime)"
   ]
  },
  {
   "cell_type": "code",
   "execution_count": 247,
   "metadata": {},
   "outputs": [
    {
     "data": {
      "text/plain": [
       "ID                       object\n",
       "datetime         datetime64[ns]\n",
       "has_media                object\n",
       "is_reply                 object\n",
       "is_retweet               object\n",
       "medias                   object\n",
       "nbr_favorite            float64\n",
       "nbr_reply               float64\n",
       "nbr_retweet             float64\n",
       "text                     object\n",
       "url                      object\n",
       "user_id                 float64\n",
       "usernameTweet            object\n",
       "dtype: object"
      ]
     },
     "execution_count": 247,
     "metadata": {},
     "output_type": "execute_result"
    }
   ],
   "source": [
    "df.dtypes"
   ]
  },
  {
   "cell_type": "code",
   "execution_count": 248,
   "metadata": {},
   "outputs": [
    {
     "data": {
      "text/plain": [
       "ID                  0\n",
       "datetime            0\n",
       "has_media        4225\n",
       "is_reply            0\n",
       "is_retweet          0\n",
       "medias           4225\n",
       "nbr_favorite        0\n",
       "nbr_reply           0\n",
       "nbr_retweet         0\n",
       "text                0\n",
       "url                 1\n",
       "user_id             1\n",
       "usernameTweet       1\n",
       "dtype: int64"
      ]
     },
     "execution_count": 248,
     "metadata": {},
     "output_type": "execute_result"
    }
   ],
   "source": [
    "df.isnull().sum()"
   ]
  },
  {
   "cell_type": "markdown",
   "metadata": {},
   "source": [
    "#### Unique Values"
   ]
  },
  {
   "cell_type": "code",
   "execution_count": 249,
   "metadata": {},
   "outputs": [
    {
     "data": {
      "text/html": [
       "<div>\n",
       "<style scoped>\n",
       "    .dataframe tbody tr th:only-of-type {\n",
       "        vertical-align: middle;\n",
       "    }\n",
       "\n",
       "    .dataframe tbody tr th {\n",
       "        vertical-align: top;\n",
       "    }\n",
       "\n",
       "    .dataframe thead th {\n",
       "        text-align: right;\n",
       "    }\n",
       "</style>\n",
       "<table border=\"1\" class=\"dataframe\">\n",
       "  <thead>\n",
       "    <tr style=\"text-align: right;\">\n",
       "      <th></th>\n",
       "      <th>column</th>\n",
       "      <th>unique values</th>\n",
       "    </tr>\n",
       "  </thead>\n",
       "  <tbody>\n",
       "    <tr>\n",
       "      <th>0</th>\n",
       "      <td>ID</td>\n",
       "      <td>4374</td>\n",
       "    </tr>\n",
       "    <tr>\n",
       "      <th>1</th>\n",
       "      <td>datetime</td>\n",
       "      <td>4254</td>\n",
       "    </tr>\n",
       "    <tr>\n",
       "      <th>2</th>\n",
       "      <td>has_media</td>\n",
       "      <td>1</td>\n",
       "    </tr>\n",
       "    <tr>\n",
       "      <th>3</th>\n",
       "      <td>is_reply</td>\n",
       "      <td>2</td>\n",
       "    </tr>\n",
       "    <tr>\n",
       "      <th>4</th>\n",
       "      <td>is_retweet</td>\n",
       "      <td>1</td>\n",
       "    </tr>\n",
       "    <tr>\n",
       "      <th>5</th>\n",
       "      <td>medias</td>\n",
       "      <td>49</td>\n",
       "    </tr>\n",
       "    <tr>\n",
       "      <th>6</th>\n",
       "      <td>nbr_favorite</td>\n",
       "      <td>33</td>\n",
       "    </tr>\n",
       "    <tr>\n",
       "      <th>7</th>\n",
       "      <td>nbr_reply</td>\n",
       "      <td>19</td>\n",
       "    </tr>\n",
       "    <tr>\n",
       "      <th>8</th>\n",
       "      <td>nbr_retweet</td>\n",
       "      <td>45</td>\n",
       "    </tr>\n",
       "    <tr>\n",
       "      <th>9</th>\n",
       "      <td>text</td>\n",
       "      <td>4116</td>\n",
       "    </tr>\n",
       "    <tr>\n",
       "      <th>10</th>\n",
       "      <td>url</td>\n",
       "      <td>4373</td>\n",
       "    </tr>\n",
       "    <tr>\n",
       "      <th>11</th>\n",
       "      <td>user_id</td>\n",
       "      <td>2533</td>\n",
       "    </tr>\n",
       "    <tr>\n",
       "      <th>12</th>\n",
       "      <td>usernameTweet</td>\n",
       "      <td>2533</td>\n",
       "    </tr>\n",
       "  </tbody>\n",
       "</table>\n",
       "</div>"
      ],
      "text/plain": [
       "           column  unique values\n",
       "0              ID           4374\n",
       "1        datetime           4254\n",
       "2       has_media              1\n",
       "3        is_reply              2\n",
       "4      is_retweet              1\n",
       "5          medias             49\n",
       "6    nbr_favorite             33\n",
       "7       nbr_reply             19\n",
       "8     nbr_retweet             45\n",
       "9            text           4116\n",
       "10            url           4373\n",
       "11        user_id           2533\n",
       "12  usernameTweet           2533"
      ]
     },
     "execution_count": 249,
     "metadata": {},
     "output_type": "execute_result"
    }
   ],
   "source": [
    "unique = []\n",
    "for i in df.columns:\n",
    "    uniques = {}\n",
    "    uniques['column'] = i \n",
    "    uniques['unique values'] = df[i].nunique()\n",
    "    unique.append(uniques)\n",
    "pd.DataFrame(unique)"
   ]
  },
  {
   "cell_type": "code",
   "execution_count": null,
   "metadata": {},
   "outputs": [],
   "source": []
  },
  {
   "cell_type": "markdown",
   "metadata": {},
   "source": [
    "# Pre-Processing"
   ]
  },
  {
   "cell_type": "markdown",
   "metadata": {},
   "source": [
    "### TweetTokenize and Lemmatize all of the Titles"
   ]
  },
  {
   "cell_type": "code",
   "execution_count": 250,
   "metadata": {},
   "outputs": [],
   "source": [
    "# import tokenizer and stemmer\n",
    "from nltk import word_tokenize, TweetTokenizer\n",
    "from nltk.stem import PorterStemmer, WordNetLemmatizer"
   ]
  },
  {
   "cell_type": "code",
   "execution_count": 251,
   "metadata": {},
   "outputs": [],
   "source": [
    "# define a function that takes in a tweet\n",
    "# and tokenizes and stems that tweet\n",
    "def stem_title(tweet):    \n",
    "    stm = PorterStemmer()\n",
    "    tokenized = word_tokenize(tweet)\n",
    "    stem_tokes = []\n",
    "    for toke in tokenized:\n",
    "        stem_tokes.append(stm.stem(toke))\n",
    "    stem_tokes\n",
    "\n",
    "    comb = ''\n",
    "    for stemmed in stem_tokes:\n",
    "        comb += stemmed + ' '\n",
    "    return comb\n",
    "\n",
    "# define a function that takes in a tweet\n",
    "# and tweet_tokenizes and lemmatizes that tweet\n",
    "def lem_tweet(tweet):    \n",
    "    lem = WordNetLemmatizer()\n",
    "    tokenizer = TweetTokenizer()\n",
    "    tokenized = tokenizer.tokenize(tweet)\n",
    "    lemmed_tokes = []\n",
    "    for toke in tokenized:\n",
    "        lemmed_tokes.append(lem.lemmatize(toke))\n",
    "    lemmed_tokes\n",
    "\n",
    "    comb = ''\n",
    "    for lemmed in lemmed_tokes:\n",
    "        comb += lemmed + ' '\n",
    "    return comb"
   ]
  },
  {
   "cell_type": "code",
   "execution_count": 252,
   "metadata": {},
   "outputs": [
    {
     "data": {
      "text/plain": [
       "'about that power outage that is now over ... From @Verizon \" The commercial power issue in your area may have been cleared . If you still have issue with your Verizon service , click here . \" From @ConEdison <crickets> '"
      ]
     },
     "execution_count": 252,
     "metadata": {},
     "output_type": "execute_result"
    }
   ],
   "source": [
    "# check that the function works\n",
    "lem_tweet(df.text[3])"
   ]
  },
  {
   "cell_type": "code",
   "execution_count": 253,
   "metadata": {},
   "outputs": [
    {
     "data": {
      "text/html": [
       "<div>\n",
       "<style scoped>\n",
       "    .dataframe tbody tr th:only-of-type {\n",
       "        vertical-align: middle;\n",
       "    }\n",
       "\n",
       "    .dataframe tbody tr th {\n",
       "        vertical-align: top;\n",
       "    }\n",
       "\n",
       "    .dataframe thead th {\n",
       "        text-align: right;\n",
       "    }\n",
       "</style>\n",
       "<table border=\"1\" class=\"dataframe\">\n",
       "  <thead>\n",
       "    <tr style=\"text-align: right;\">\n",
       "      <th></th>\n",
       "      <th>ID</th>\n",
       "      <th>datetime</th>\n",
       "      <th>has_media</th>\n",
       "      <th>is_reply</th>\n",
       "      <th>is_retweet</th>\n",
       "      <th>medias</th>\n",
       "      <th>nbr_favorite</th>\n",
       "      <th>nbr_reply</th>\n",
       "      <th>nbr_retweet</th>\n",
       "      <th>text</th>\n",
       "      <th>url</th>\n",
       "      <th>user_id</th>\n",
       "      <th>usernameTweet</th>\n",
       "      <th>lemmed_tweet</th>\n",
       "    </tr>\n",
       "  </thead>\n",
       "  <tbody>\n",
       "    <tr>\n",
       "      <th>0</th>\n",
       "      <td>267716394043465728</td>\n",
       "      <td>2012-11-11 14:52:16</td>\n",
       "      <td>NaN</td>\n",
       "      <td>False</td>\n",
       "      <td>False</td>\n",
       "      <td>NaN</td>\n",
       "      <td>0.0</td>\n",
       "      <td>0.0</td>\n",
       "      <td>0.0</td>\n",
       "      <td>ConEd : NY Sandy  power   outages  slip; costs...</td>\n",
       "      <td>/RealJezzy/status/267716394043465728</td>\n",
       "      <td>504279674.0</td>\n",
       "      <td>RealJezzy</td>\n",
       "      <td>ConEd : NY Sandy power outage slip ; cost coul...</td>\n",
       "    </tr>\n",
       "    <tr>\n",
       "      <th>1</th>\n",
       "      <td>298660085255770112</td>\n",
       "      <td>2013-02-05 00:11:27</td>\n",
       "      <td>NaN</td>\n",
       "      <td>False</td>\n",
       "      <td>False</td>\n",
       "      <td>NaN</td>\n",
       "      <td>0.0</td>\n",
       "      <td>0.0</td>\n",
       "      <td>0.0</td>\n",
       "      <td>@ ConEdison  \\n Power   outage  in queens</td>\n",
       "      <td>/meirBGNY/status/298660085255770112</td>\n",
       "      <td>909594764.0</td>\n",
       "      <td>meirBGNY</td>\n",
       "      <td>@ ConEdison Power outage in queen</td>\n",
       "    </tr>\n",
       "    <tr>\n",
       "      <th>2</th>\n",
       "      <td>21860028236</td>\n",
       "      <td>2010-08-22 17:33:44</td>\n",
       "      <td>NaN</td>\n",
       "      <td>False</td>\n",
       "      <td>False</td>\n",
       "      <td>NaN</td>\n",
       "      <td>0.0</td>\n",
       "      <td>0.0</td>\n",
       "      <td>0.0</td>\n",
       "      <td>Power   outage  in the Whitestone section of Q...</td>\n",
       "      <td>/olgushka1/status/21860028236</td>\n",
       "      <td>68886571.0</td>\n",
       "      <td>olgushka1</td>\n",
       "      <td>Power outage in the Whitestone section of Quee...</td>\n",
       "    </tr>\n",
       "    <tr>\n",
       "      <th>3</th>\n",
       "      <td>1069021302667833344</td>\n",
       "      <td>2018-12-01 19:11:54</td>\n",
       "      <td>NaN</td>\n",
       "      <td>False</td>\n",
       "      <td>False</td>\n",
       "      <td>NaN</td>\n",
       "      <td>0.0</td>\n",
       "      <td>1.0</td>\n",
       "      <td>0.0</td>\n",
       "      <td>about that  power   outage  that is now over.....</td>\n",
       "      <td>/jimcasale/status/1069021302667833344</td>\n",
       "      <td>12393522.0</td>\n",
       "      <td>jimcasale</td>\n",
       "      <td>about that power outage that is now over ... F...</td>\n",
       "    </tr>\n",
       "    <tr>\n",
       "      <th>4</th>\n",
       "      <td>767077182124486656</td>\n",
       "      <td>2016-08-20 15:13:46</td>\n",
       "      <td>NaN</td>\n",
       "      <td>False</td>\n",
       "      <td>False</td>\n",
       "      <td>NaN</td>\n",
       "      <td>3.0</td>\n",
       "      <td>0.0</td>\n",
       "      <td>7.0</td>\n",
       "      <td>.@ConEdison  is responding to a  power   outag...</td>\n",
       "      <td>/NotifyNYC/status/767077182124486656</td>\n",
       "      <td>16145875.0</td>\n",
       "      <td>NotifyNYC</td>\n",
       "      <td>. @ConEdison is responding to a power outage i...</td>\n",
       "    </tr>\n",
       "  </tbody>\n",
       "</table>\n",
       "</div>"
      ],
      "text/plain": [
       "                    ID            datetime has_media is_reply is_retweet  \\\n",
       "0   267716394043465728 2012-11-11 14:52:16       NaN    False      False   \n",
       "1   298660085255770112 2013-02-05 00:11:27       NaN    False      False   \n",
       "2          21860028236 2010-08-22 17:33:44       NaN    False      False   \n",
       "3  1069021302667833344 2018-12-01 19:11:54       NaN    False      False   \n",
       "4   767077182124486656 2016-08-20 15:13:46       NaN    False      False   \n",
       "\n",
       "  medias  nbr_favorite  nbr_reply  nbr_retweet  \\\n",
       "0    NaN           0.0        0.0          0.0   \n",
       "1    NaN           0.0        0.0          0.0   \n",
       "2    NaN           0.0        0.0          0.0   \n",
       "3    NaN           0.0        1.0          0.0   \n",
       "4    NaN           3.0        0.0          7.0   \n",
       "\n",
       "                                                text  \\\n",
       "0  ConEd : NY Sandy  power   outages  slip; costs...   \n",
       "1          @ ConEdison  \\n Power   outage  in queens   \n",
       "2  Power   outage  in the Whitestone section of Q...   \n",
       "3  about that  power   outage  that is now over.....   \n",
       "4  .@ConEdison  is responding to a  power   outag...   \n",
       "\n",
       "                                     url      user_id usernameTweet  \\\n",
       "0   /RealJezzy/status/267716394043465728  504279674.0     RealJezzy   \n",
       "1    /meirBGNY/status/298660085255770112  909594764.0      meirBGNY   \n",
       "2          /olgushka1/status/21860028236   68886571.0     olgushka1   \n",
       "3  /jimcasale/status/1069021302667833344   12393522.0     jimcasale   \n",
       "4   /NotifyNYC/status/767077182124486656   16145875.0     NotifyNYC   \n",
       "\n",
       "                                        lemmed_tweet  \n",
       "0  ConEd : NY Sandy power outage slip ; cost coul...  \n",
       "1                 @ ConEdison Power outage in queen   \n",
       "2  Power outage in the Whitestone section of Quee...  \n",
       "3  about that power outage that is now over ... F...  \n",
       "4  . @ConEdison is responding to a power outage i...  "
      ]
     },
     "execution_count": 253,
     "metadata": {},
     "output_type": "execute_result"
    }
   ],
   "source": [
    "# create a new column by applying the function to the title column\n",
    "# and check out the head to see if it worked\n",
    "df['lemmed_tweet'] = df.text.apply(lem_tweet)\n",
    "df.head()"
   ]
  },
  {
   "cell_type": "code",
   "execution_count": 254,
   "metadata": {},
   "outputs": [
    {
     "data": {
      "text/html": [
       "<div>\n",
       "<style scoped>\n",
       "    .dataframe tbody tr th:only-of-type {\n",
       "        vertical-align: middle;\n",
       "    }\n",
       "\n",
       "    .dataframe tbody tr th {\n",
       "        vertical-align: top;\n",
       "    }\n",
       "\n",
       "    .dataframe thead th {\n",
       "        text-align: right;\n",
       "    }\n",
       "</style>\n",
       "<table border=\"1\" class=\"dataframe\">\n",
       "  <thead>\n",
       "    <tr style=\"text-align: right;\">\n",
       "      <th></th>\n",
       "      <th>ID</th>\n",
       "      <th>datetime</th>\n",
       "      <th>has_media</th>\n",
       "      <th>is_reply</th>\n",
       "      <th>is_retweet</th>\n",
       "      <th>medias</th>\n",
       "      <th>nbr_favorite</th>\n",
       "      <th>nbr_reply</th>\n",
       "      <th>nbr_retweet</th>\n",
       "      <th>text</th>\n",
       "      <th>url</th>\n",
       "      <th>user_id</th>\n",
       "      <th>usernameTweet</th>\n",
       "      <th>lemmed_tweet</th>\n",
       "    </tr>\n",
       "  </thead>\n",
       "  <tbody>\n",
       "    <tr>\n",
       "      <th>4370</th>\n",
       "      <td>204532926447226880</td>\n",
       "      <td>2012-05-21 07:23:44</td>\n",
       "      <td>NaN</td>\n",
       "      <td>False</td>\n",
       "      <td>False</td>\n",
       "      <td>NaN</td>\n",
       "      <td>1.0</td>\n",
       "      <td>0.0</td>\n",
       "      <td>9.0</td>\n",
       "      <td>ConEd  is responding to a  power   outage  in ...</td>\n",
       "      <td>/NotifyNYC/status/204532926447226880</td>\n",
       "      <td>1.614588e+07</td>\n",
       "      <td>NotifyNYC</td>\n",
       "      <td>ConEd is responding to a power outage in SI zi...</td>\n",
       "    </tr>\n",
       "    <tr>\n",
       "      <th>4371</th>\n",
       "      <td>264374015714553858</td>\n",
       "      <td>2012-11-02 10:30:51</td>\n",
       "      <td>NaN</td>\n",
       "      <td>True</td>\n",
       "      <td>False</td>\n",
       "      <td>NaN</td>\n",
       "      <td>0.0</td>\n",
       "      <td>0.0</td>\n",
       "      <td>1.0</td>\n",
       "      <td>@ hhertzof  Please check out our  outage  map ...</td>\n",
       "      <td>/ConEdison/status/264374015714553858</td>\n",
       "      <td>2.026208e+07</td>\n",
       "      <td>ConEdison</td>\n",
       "      <td>@ hhertzof Please check out our outage map at ...</td>\n",
       "    </tr>\n",
       "    <tr>\n",
       "      <th>4372</th>\n",
       "      <td>308557748671479808</td>\n",
       "      <td>2013-03-04 07:41:14</td>\n",
       "      <td>NaN</td>\n",
       "      <td>False</td>\n",
       "      <td>False</td>\n",
       "      <td>NaN</td>\n",
       "      <td>0.0</td>\n",
       "      <td>1.0</td>\n",
       "      <td>0.0</td>\n",
       "      <td>@ ConEdison  Partial  power   outage  in Green...</td>\n",
       "      <td>/curlycakes/status/308557748671479808</td>\n",
       "      <td>2.760942e+08</td>\n",
       "      <td>curlycakes</td>\n",
       "      <td>@ ConEdison Partial power outage in Greenwood ...</td>\n",
       "    </tr>\n",
       "    <tr>\n",
       "      <th>4373</th>\n",
       "      <td>969704423621648384</td>\n",
       "      <td>2018-03-02 17:42:05</td>\n",
       "      <td>NaN</td>\n",
       "      <td>False</td>\n",
       "      <td>False</td>\n",
       "      <td>NaN</td>\n",
       "      <td>0.0</td>\n",
       "      <td>1.0</td>\n",
       "      <td>0.0</td>\n",
       "      <td>Just out of curiosity @EversourceCT , will the...</td>\n",
       "      <td>/yelenadasher/status/969704423621648384</td>\n",
       "      <td>2.791989e+09</td>\n",
       "      <td>yelenadasher</td>\n",
       "      <td>Just out of curiosity @EversourceCT , will the...</td>\n",
       "    </tr>\n",
       "    <tr>\n",
       "      <th>4374</th>\n",
       "      <td>951772242203070464</td>\n",
       "      <td>2018-01-12 06:06:00</td>\n",
       "      <td>NaN</td>\n",
       "      <td>False</td>\n",
       "      <td>False</td>\n",
       "      <td>NaN</td>\n",
       "      <td>1.0</td>\n",
       "      <td>0.0</td>\n",
       "      <td>4.0</td>\n",
       "      <td>.@ConEdison  is responding to a  power   outag...</td>\n",
       "      <td>/NotifyNYC/status/951772242203070464</td>\n",
       "      <td>1.614588e+07</td>\n",
       "      <td>NotifyNYC</td>\n",
       "      <td>. @ConEdison is responding to a power outage i...</td>\n",
       "    </tr>\n",
       "  </tbody>\n",
       "</table>\n",
       "</div>"
      ],
      "text/plain": [
       "                      ID            datetime has_media is_reply is_retweet  \\\n",
       "4370  204532926447226880 2012-05-21 07:23:44       NaN    False      False   \n",
       "4371  264374015714553858 2012-11-02 10:30:51       NaN     True      False   \n",
       "4372  308557748671479808 2013-03-04 07:41:14       NaN    False      False   \n",
       "4373  969704423621648384 2018-03-02 17:42:05       NaN    False      False   \n",
       "4374  951772242203070464 2018-01-12 06:06:00       NaN    False      False   \n",
       "\n",
       "     medias  nbr_favorite  nbr_reply  nbr_retweet  \\\n",
       "4370    NaN           1.0        0.0          9.0   \n",
       "4371    NaN           0.0        0.0          1.0   \n",
       "4372    NaN           0.0        1.0          0.0   \n",
       "4373    NaN           0.0        1.0          0.0   \n",
       "4374    NaN           1.0        0.0          4.0   \n",
       "\n",
       "                                                   text  \\\n",
       "4370  ConEd  is responding to a  power   outage  in ...   \n",
       "4371  @ hhertzof  Please check out our  outage  map ...   \n",
       "4372  @ ConEdison  Partial  power   outage  in Green...   \n",
       "4373  Just out of curiosity @EversourceCT , will the...   \n",
       "4374  .@ConEdison  is responding to a  power   outag...   \n",
       "\n",
       "                                          url       user_id usernameTweet  \\\n",
       "4370     /NotifyNYC/status/204532926447226880  1.614588e+07     NotifyNYC   \n",
       "4371     /ConEdison/status/264374015714553858  2.026208e+07     ConEdison   \n",
       "4372    /curlycakes/status/308557748671479808  2.760942e+08    curlycakes   \n",
       "4373  /yelenadasher/status/969704423621648384  2.791989e+09  yelenadasher   \n",
       "4374     /NotifyNYC/status/951772242203070464  1.614588e+07     NotifyNYC   \n",
       "\n",
       "                                           lemmed_tweet  \n",
       "4370  ConEd is responding to a power outage in SI zi...  \n",
       "4371  @ hhertzof Please check out our outage map at ...  \n",
       "4372  @ ConEdison Partial power outage in Greenwood ...  \n",
       "4373  Just out of curiosity @EversourceCT , will the...  \n",
       "4374  . @ConEdison is responding to a power outage i...  "
      ]
     },
     "execution_count": 254,
     "metadata": {},
     "output_type": "execute_result"
    }
   ],
   "source": [
    "# check out the tail, too\n",
    "df.tail()"
   ]
  },
  {
   "cell_type": "code",
   "execution_count": 126,
   "metadata": {},
   "outputs": [],
   "source": [
    "#df.to_csv('working_df.csv')"
   ]
  },
  {
   "cell_type": "markdown",
   "metadata": {},
   "source": [
    "## Model Prep"
   ]
  },
  {
   "cell_type": "markdown",
   "metadata": {},
   "source": [
    "### CountVectorize from Unlemmed"
   ]
  },
  {
   "cell_type": "code",
   "execution_count": 255,
   "metadata": {},
   "outputs": [],
   "source": [
    "from sklearn.feature_extraction.text import CountVectorizer"
   ]
  },
  {
   "cell_type": "code",
   "execution_count": 256,
   "metadata": {},
   "outputs": [],
   "source": [
    "# Instantiate\n",
    "cv = CountVectorizer(stop_words='english', \n",
    "                     ngram_range=(1,1)\n",
    "                    )"
   ]
  },
  {
   "cell_type": "code",
   "execution_count": 261,
   "metadata": {},
   "outputs": [],
   "source": [
    "# Fit and Transform\n",
    "sparse_df_unlemmed = cv.fit_transform(df.text)"
   ]
  },
  {
   "cell_type": "code",
   "execution_count": 264,
   "metadata": {},
   "outputs": [
    {
     "data": {
      "text/html": [
       "<div>\n",
       "<style scoped>\n",
       "    .dataframe tbody tr th:only-of-type {\n",
       "        vertical-align: middle;\n",
       "    }\n",
       "\n",
       "    .dataframe tbody tr th {\n",
       "        vertical-align: top;\n",
       "    }\n",
       "\n",
       "    .dataframe thead th {\n",
       "        text-align: right;\n",
       "    }\n",
       "</style>\n",
       "<table border=\"1\" class=\"dataframe\">\n",
       "  <thead>\n",
       "    <tr style=\"text-align: right;\">\n",
       "      <th></th>\n",
       "      <th>000</th>\n",
       "      <th>0075</th>\n",
       "      <th>03</th>\n",
       "      <th>032</th>\n",
       "      <th>10</th>\n",
       "      <th>100</th>\n",
       "      <th>101</th>\n",
       "      <th>10301</th>\n",
       "      <th>10302</th>\n",
       "      <th>10304</th>\n",
       "      <th>...</th>\n",
       "      <th>yesterday</th>\n",
       "      <th>yhoo</th>\n",
       "      <th>yonker</th>\n",
       "      <th>york</th>\n",
       "      <th>yorker</th>\n",
       "      <th>yorktown</th>\n",
       "      <th>youtu</th>\n",
       "      <th>zajp7i</th>\n",
       "      <th>zip</th>\n",
       "      <th>zone</th>\n",
       "    </tr>\n",
       "  </thead>\n",
       "  <tbody>\n",
       "    <tr>\n",
       "      <th>0</th>\n",
       "      <td>0</td>\n",
       "      <td>0</td>\n",
       "      <td>0</td>\n",
       "      <td>0</td>\n",
       "      <td>0</td>\n",
       "      <td>0</td>\n",
       "      <td>0</td>\n",
       "      <td>0</td>\n",
       "      <td>0</td>\n",
       "      <td>0</td>\n",
       "      <td>...</td>\n",
       "      <td>0</td>\n",
       "      <td>0</td>\n",
       "      <td>0</td>\n",
       "      <td>0</td>\n",
       "      <td>0</td>\n",
       "      <td>0</td>\n",
       "      <td>0</td>\n",
       "      <td>0</td>\n",
       "      <td>0</td>\n",
       "      <td>0</td>\n",
       "    </tr>\n",
       "    <tr>\n",
       "      <th>1</th>\n",
       "      <td>0</td>\n",
       "      <td>0</td>\n",
       "      <td>0</td>\n",
       "      <td>0</td>\n",
       "      <td>0</td>\n",
       "      <td>0</td>\n",
       "      <td>0</td>\n",
       "      <td>0</td>\n",
       "      <td>0</td>\n",
       "      <td>0</td>\n",
       "      <td>...</td>\n",
       "      <td>0</td>\n",
       "      <td>0</td>\n",
       "      <td>0</td>\n",
       "      <td>0</td>\n",
       "      <td>0</td>\n",
       "      <td>0</td>\n",
       "      <td>0</td>\n",
       "      <td>0</td>\n",
       "      <td>0</td>\n",
       "      <td>0</td>\n",
       "    </tr>\n",
       "    <tr>\n",
       "      <th>2</th>\n",
       "      <td>0</td>\n",
       "      <td>0</td>\n",
       "      <td>0</td>\n",
       "      <td>0</td>\n",
       "      <td>0</td>\n",
       "      <td>0</td>\n",
       "      <td>0</td>\n",
       "      <td>0</td>\n",
       "      <td>0</td>\n",
       "      <td>0</td>\n",
       "      <td>...</td>\n",
       "      <td>0</td>\n",
       "      <td>0</td>\n",
       "      <td>0</td>\n",
       "      <td>0</td>\n",
       "      <td>0</td>\n",
       "      <td>0</td>\n",
       "      <td>0</td>\n",
       "      <td>0</td>\n",
       "      <td>0</td>\n",
       "      <td>0</td>\n",
       "    </tr>\n",
       "    <tr>\n",
       "      <th>3</th>\n",
       "      <td>0</td>\n",
       "      <td>0</td>\n",
       "      <td>0</td>\n",
       "      <td>0</td>\n",
       "      <td>0</td>\n",
       "      <td>0</td>\n",
       "      <td>0</td>\n",
       "      <td>0</td>\n",
       "      <td>0</td>\n",
       "      <td>0</td>\n",
       "      <td>...</td>\n",
       "      <td>0</td>\n",
       "      <td>0</td>\n",
       "      <td>0</td>\n",
       "      <td>0</td>\n",
       "      <td>0</td>\n",
       "      <td>0</td>\n",
       "      <td>0</td>\n",
       "      <td>0</td>\n",
       "      <td>0</td>\n",
       "      <td>0</td>\n",
       "    </tr>\n",
       "    <tr>\n",
       "      <th>4</th>\n",
       "      <td>0</td>\n",
       "      <td>0</td>\n",
       "      <td>0</td>\n",
       "      <td>0</td>\n",
       "      <td>0</td>\n",
       "      <td>0</td>\n",
       "      <td>0</td>\n",
       "      <td>0</td>\n",
       "      <td>0</td>\n",
       "      <td>0</td>\n",
       "      <td>...</td>\n",
       "      <td>0</td>\n",
       "      <td>0</td>\n",
       "      <td>0</td>\n",
       "      <td>0</td>\n",
       "      <td>0</td>\n",
       "      <td>0</td>\n",
       "      <td>0</td>\n",
       "      <td>0</td>\n",
       "      <td>1</td>\n",
       "      <td>0</td>\n",
       "    </tr>\n",
       "  </tbody>\n",
       "</table>\n",
       "<p>5 rows × 1000 columns</p>\n",
       "</div>"
      ],
      "text/plain": [
       "   000  0075  03  032  10  100  101  10301  10302  10304  ...  yesterday  \\\n",
       "0    0     0   0    0   0    0    0      0      0      0  ...          0   \n",
       "1    0     0   0    0   0    0    0      0      0      0  ...          0   \n",
       "2    0     0   0    0   0    0    0      0      0      0  ...          0   \n",
       "3    0     0   0    0   0    0    0      0      0      0  ...          0   \n",
       "4    0     0   0    0   0    0    0      0      0      0  ...          0   \n",
       "\n",
       "   yhoo  yonker  york  yorker  yorktown  youtu  zajp7i  zip  zone  \n",
       "0     0       0     0       0         0      0       0    0     0  \n",
       "1     0       0     0       0         0      0       0    0     0  \n",
       "2     0       0     0       0         0      0       0    0     0  \n",
       "3     0       0     0       0         0      0       0    0     0  \n",
       "4     0       0     0       0         0      0       0    1     0  \n",
       "\n",
       "[5 rows x 1000 columns]"
      ]
     },
     "execution_count": 264,
     "metadata": {},
     "output_type": "execute_result"
    }
   ],
   "source": [
    "dense_df_unlemmed = pd.DataFrame(sparse_df_unlemmed.todense(), columns=cv.get_feature_names())\n",
    "dense_df.head()"
   ]
  },
  {
   "cell_type": "code",
   "execution_count": 265,
   "metadata": {},
   "outputs": [
    {
     "data": {
      "text/plain": [
       "7011"
      ]
     },
     "execution_count": 265,
     "metadata": {},
     "output_type": "execute_result"
    }
   ],
   "source": [
    "len(cv.get_feature_names())"
   ]
  },
  {
   "cell_type": "markdown",
   "metadata": {},
   "source": [
    "### CountVectorize from Lemmed"
   ]
  },
  {
   "cell_type": "code",
   "execution_count": 266,
   "metadata": {},
   "outputs": [],
   "source": [
    "from sklearn.feature_extraction.text import CountVectorizer"
   ]
  },
  {
   "cell_type": "code",
   "execution_count": 267,
   "metadata": {},
   "outputs": [],
   "source": [
    "# Instantiate\n",
    "cv = CountVectorizer(stop_words='english', \n",
    "                     ngram_range=(1,1)\n",
    "                    )"
   ]
  },
  {
   "cell_type": "code",
   "execution_count": 268,
   "metadata": {},
   "outputs": [],
   "source": [
    "# Fit and Transform\n",
    "sparse_df_lemmed = cv.fit_transform(df.lemmed_tweet)"
   ]
  },
  {
   "cell_type": "code",
   "execution_count": 269,
   "metadata": {},
   "outputs": [
    {
     "data": {
      "text/html": [
       "<div>\n",
       "<style scoped>\n",
       "    .dataframe tbody tr th:only-of-type {\n",
       "        vertical-align: middle;\n",
       "    }\n",
       "\n",
       "    .dataframe tbody tr th {\n",
       "        vertical-align: top;\n",
       "    }\n",
       "\n",
       "    .dataframe thead th {\n",
       "        text-align: right;\n",
       "    }\n",
       "</style>\n",
       "<table border=\"1\" class=\"dataframe\">\n",
       "  <thead>\n",
       "    <tr style=\"text-align: right;\">\n",
       "      <th></th>\n",
       "      <th>000</th>\n",
       "      <th>0075</th>\n",
       "      <th>03</th>\n",
       "      <th>032</th>\n",
       "      <th>10</th>\n",
       "      <th>100</th>\n",
       "      <th>101</th>\n",
       "      <th>10301</th>\n",
       "      <th>10302</th>\n",
       "      <th>10304</th>\n",
       "      <th>...</th>\n",
       "      <th>yesterday</th>\n",
       "      <th>yhoo</th>\n",
       "      <th>yonker</th>\n",
       "      <th>york</th>\n",
       "      <th>yorker</th>\n",
       "      <th>yorktown</th>\n",
       "      <th>youtu</th>\n",
       "      <th>zajp7i</th>\n",
       "      <th>zip</th>\n",
       "      <th>zone</th>\n",
       "    </tr>\n",
       "  </thead>\n",
       "  <tbody>\n",
       "    <tr>\n",
       "      <th>0</th>\n",
       "      <td>0</td>\n",
       "      <td>0</td>\n",
       "      <td>0</td>\n",
       "      <td>0</td>\n",
       "      <td>0</td>\n",
       "      <td>0</td>\n",
       "      <td>0</td>\n",
       "      <td>0</td>\n",
       "      <td>0</td>\n",
       "      <td>0</td>\n",
       "      <td>...</td>\n",
       "      <td>0</td>\n",
       "      <td>0</td>\n",
       "      <td>0</td>\n",
       "      <td>0</td>\n",
       "      <td>0</td>\n",
       "      <td>0</td>\n",
       "      <td>0</td>\n",
       "      <td>0</td>\n",
       "      <td>0</td>\n",
       "      <td>0</td>\n",
       "    </tr>\n",
       "    <tr>\n",
       "      <th>1</th>\n",
       "      <td>0</td>\n",
       "      <td>0</td>\n",
       "      <td>0</td>\n",
       "      <td>0</td>\n",
       "      <td>0</td>\n",
       "      <td>0</td>\n",
       "      <td>0</td>\n",
       "      <td>0</td>\n",
       "      <td>0</td>\n",
       "      <td>0</td>\n",
       "      <td>...</td>\n",
       "      <td>0</td>\n",
       "      <td>0</td>\n",
       "      <td>0</td>\n",
       "      <td>0</td>\n",
       "      <td>0</td>\n",
       "      <td>0</td>\n",
       "      <td>0</td>\n",
       "      <td>0</td>\n",
       "      <td>0</td>\n",
       "      <td>0</td>\n",
       "    </tr>\n",
       "    <tr>\n",
       "      <th>2</th>\n",
       "      <td>0</td>\n",
       "      <td>0</td>\n",
       "      <td>0</td>\n",
       "      <td>0</td>\n",
       "      <td>0</td>\n",
       "      <td>0</td>\n",
       "      <td>0</td>\n",
       "      <td>0</td>\n",
       "      <td>0</td>\n",
       "      <td>0</td>\n",
       "      <td>...</td>\n",
       "      <td>0</td>\n",
       "      <td>0</td>\n",
       "      <td>0</td>\n",
       "      <td>0</td>\n",
       "      <td>0</td>\n",
       "      <td>0</td>\n",
       "      <td>0</td>\n",
       "      <td>0</td>\n",
       "      <td>0</td>\n",
       "      <td>0</td>\n",
       "    </tr>\n",
       "    <tr>\n",
       "      <th>3</th>\n",
       "      <td>0</td>\n",
       "      <td>0</td>\n",
       "      <td>0</td>\n",
       "      <td>0</td>\n",
       "      <td>0</td>\n",
       "      <td>0</td>\n",
       "      <td>0</td>\n",
       "      <td>0</td>\n",
       "      <td>0</td>\n",
       "      <td>0</td>\n",
       "      <td>...</td>\n",
       "      <td>0</td>\n",
       "      <td>0</td>\n",
       "      <td>0</td>\n",
       "      <td>0</td>\n",
       "      <td>0</td>\n",
       "      <td>0</td>\n",
       "      <td>0</td>\n",
       "      <td>0</td>\n",
       "      <td>0</td>\n",
       "      <td>0</td>\n",
       "    </tr>\n",
       "    <tr>\n",
       "      <th>4</th>\n",
       "      <td>0</td>\n",
       "      <td>0</td>\n",
       "      <td>0</td>\n",
       "      <td>0</td>\n",
       "      <td>0</td>\n",
       "      <td>0</td>\n",
       "      <td>0</td>\n",
       "      <td>0</td>\n",
       "      <td>0</td>\n",
       "      <td>0</td>\n",
       "      <td>...</td>\n",
       "      <td>0</td>\n",
       "      <td>0</td>\n",
       "      <td>0</td>\n",
       "      <td>0</td>\n",
       "      <td>0</td>\n",
       "      <td>0</td>\n",
       "      <td>0</td>\n",
       "      <td>0</td>\n",
       "      <td>1</td>\n",
       "      <td>0</td>\n",
       "    </tr>\n",
       "  </tbody>\n",
       "</table>\n",
       "<p>5 rows × 1000 columns</p>\n",
       "</div>"
      ],
      "text/plain": [
       "   000  0075  03  032  10  100  101  10301  10302  10304  ...  yesterday  \\\n",
       "0    0     0   0    0   0    0    0      0      0      0  ...          0   \n",
       "1    0     0   0    0   0    0    0      0      0      0  ...          0   \n",
       "2    0     0   0    0   0    0    0      0      0      0  ...          0   \n",
       "3    0     0   0    0   0    0    0      0      0      0  ...          0   \n",
       "4    0     0   0    0   0    0    0      0      0      0  ...          0   \n",
       "\n",
       "   yhoo  yonker  york  yorker  yorktown  youtu  zajp7i  zip  zone  \n",
       "0     0       0     0       0         0      0       0    0     0  \n",
       "1     0       0     0       0         0      0       0    0     0  \n",
       "2     0       0     0       0         0      0       0    0     0  \n",
       "3     0       0     0       0         0      0       0    0     0  \n",
       "4     0       0     0       0         0      0       0    1     0  \n",
       "\n",
       "[5 rows x 1000 columns]"
      ]
     },
     "execution_count": 269,
     "metadata": {},
     "output_type": "execute_result"
    }
   ],
   "source": [
    "dense_df_lemmed = pd.DataFrame(sparse_df_lemmed.todense(), columns=cv.get_feature_names())\n",
    "dense_df.head()"
   ]
  },
  {
   "cell_type": "code",
   "execution_count": 270,
   "metadata": {},
   "outputs": [
    {
     "data": {
      "text/plain": [
       "6880"
      ]
     },
     "execution_count": 270,
     "metadata": {},
     "output_type": "execute_result"
    }
   ],
   "source": [
    "len(cv.get_feature_names())"
   ]
  },
  {
   "cell_type": "code",
   "execution_count": 316,
   "metadata": {},
   "outputs": [
    {
     "data": {
      "text/plain": [
       "['superstormsandy',\n",
       " 'supervisor',\n",
       " 'supplier',\n",
       " 'supply',\n",
       " 'support',\n",
       " 'supposed',\n",
       " 'supposedly',\n",
       " 'sure']"
      ]
     },
     "execution_count": 316,
     "metadata": {},
     "output_type": "execute_result"
    }
   ],
   "source": [
    "cv.get_feature_names()[6000:6008]"
   ]
  },
  {
   "cell_type": "markdown",
   "metadata": {},
   "source": [
    "## Clustering"
   ]
  },
  {
   "cell_type": "code",
   "execution_count": 398,
   "metadata": {},
   "outputs": [],
   "source": [
    "from sklearn.cluster import KMeans\n",
    "from sklearn.preprocessing import StandardScaler\n",
    "ss = StandardScaler()\n",
    "km = KMeans(n_clusters=3, random_state=42)"
   ]
  },
  {
   "cell_type": "code",
   "execution_count": 399,
   "metadata": {},
   "outputs": [
    {
     "data": {
      "text/plain": [
       "KMeans(algorithm='auto', copy_x=True, init='k-means++', max_iter=300,\n",
       "    n_clusters=3, n_init=10, n_jobs=1, precompute_distances='auto',\n",
       "    random_state=42, tol=0.0001, verbose=0)"
      ]
     },
     "execution_count": 399,
     "metadata": {},
     "output_type": "execute_result"
    }
   ],
   "source": [
    "X_sc = ss.fit_transform(dense_df_lemmed)\n",
    "km.fit(X_sc)"
   ]
  },
  {
   "cell_type": "code",
   "execution_count": 400,
   "metadata": {},
   "outputs": [],
   "source": [
    "from sklearn.metrics import silhouette_score"
   ]
  },
  {
   "cell_type": "code",
   "execution_count": 401,
   "metadata": {},
   "outputs": [
    {
     "data": {
      "text/plain": [
       "0.5133360465681364"
      ]
     },
     "execution_count": 401,
     "metadata": {},
     "output_type": "execute_result"
    }
   ],
   "source": [
    "silhouette_score(X_sc, km.labels_)"
   ]
  },
  {
   "cell_type": "code",
   "execution_count": null,
   "metadata": {},
   "outputs": [],
   "source": []
  },
  {
   "cell_type": "markdown",
   "metadata": {},
   "source": [
    "# Spacy Processing"
   ]
  },
  {
   "cell_type": "code",
   "execution_count": 405,
   "metadata": {},
   "outputs": [
    {
     "name": "stdout",
     "output_type": "stream",
     "text": [
      "Power outage in the Whitestone section of Queens . To report a loss of electric service , contact Con Edison at 1-800- 75 - CONED \n"
     ]
    }
   ],
   "source": [
    "import spacy\n",
    "nlp = spacy.load('en')\n",
    "doc1 = nlp(df.lemmed_tweet[2])\n",
    "print(doc1)"
   ]
  },
  {
   "cell_type": "markdown",
   "metadata": {},
   "source": [
    "## Part-of-Speech Tagging"
   ]
  },
  {
   "cell_type": "code",
   "execution_count": 352,
   "metadata": {},
   "outputs": [
    {
     "name": "stdout",
     "output_type": "stream",
     "text": [
      "Power - NOUN\n",
      "outage - NOUN\n",
      "in - ADP\n",
      "the - DET\n",
      "Whitestone - PROPN\n",
      "section - NOUN\n",
      "of - ADP\n",
      "Queens - PROPN\n",
      ". - PUNCT\n",
      "To - PART\n",
      "report - VERB\n",
      "a - DET\n",
      "loss - NOUN\n",
      "of - ADP\n",
      "electric - ADJ\n",
      "service - NOUN\n",
      ", - PUNCT\n",
      "contact - NOUN\n",
      "Con - PROPN\n",
      "Edison - PROPN\n",
      "at - ADP\n",
      "1 - NUM\n",
      "- - PUNCT\n",
      "800- - NUM\n",
      "75 - NUM\n",
      "- - PUNCT\n",
      "CONED - NOUN\n"
     ]
    }
   ],
   "source": [
    "for token in doc:\n",
    "    print('{} - {}'.format(token, token.pos_))"
   ]
  },
  {
   "cell_type": "markdown",
   "metadata": {},
   "source": [
    "#### Extract Proper Nouns from Tweets"
   ]
  },
  {
   "cell_type": "code",
   "execution_count": 374,
   "metadata": {},
   "outputs": [
    {
     "name": "stdout",
     "output_type": "stream",
     "text": [
      "['NY', 'Sandy', 'dlvr.it/2Sss2H']\n",
      "['ConEdison', 'Power']\n",
      "['Whitestone', 'Queens', 'Con', 'Edison']\n",
      "['Verizon', '@ConEdison']\n",
      "['@ConEdison', 'BX']\n",
      "['ConEd', 'AQ', 'AAAA', '3ijeYFE', '~', 'Zup', '9nhRYBuHm1KS2tVqBGRDi67_ocWsu', 'Live', 'ConEd']\n",
      "['ConEdison', 'Harrison', 'NY']\n",
      "['NotifyNYC', 'ConEdison', 'SI', 'ZIP']\n",
      "['@ConEdison', 'SI', 'ZIP']\n",
      "['Handy', 'Sandy', 'Maps', 'cd37823361e17f570', 'ie', 'UTF', 'Current', 'ConEd', 'http']\n",
      "['Manhattan', 'Power', 'Outages']\n",
      "['Manhattan']\n",
      "[]\n",
      "['Queens', 'Sandy']\n",
      "['ConEdison', 'Friday']\n",
      "['Manor', 'Heights']\n",
      "['ConEd', 'Power', 'Outage', 'Map', 'Hurricane', 'Sandy']\n",
      "['RT', '@bbri1', '@ConEdison', 'Sts']\n",
      "['NYC', 'ConEd', 'St', 'Manhattan', 'Report']\n",
      "['BreakingNews', 'Power', 'Outage', 'Bronx', 'NY']\n",
      "['North', 'East', 'Bronx', '@ConEdison', 'http://www']\n",
      "['Bayside', 'QN', 'ZIP', 'ASL', 'http', ':/', 'bit.ly/1u2Z88W']\n",
      "['Lower', '#', 'Manhattan', 'NYC', 'Hurricane', 'Sandy']\n",
      "['@ConEdison']\n",
      "['MT', '@NotifyNYC', 'Lighthouse', 'Hill', 'SI', 'ConEd', 'http://www']\n",
      "['@ConEdison', 'Throggs', 'Neck', 'BX', 'ZIP']\n",
      "['QN', 'ZIP', 'http', ':/', 'bit.ly/1u2Z88W']\n",
      "['NY', 'Sandy', 'NEW', 'YORK', 'Reuters', 'Consolidated', 'Edison', 'Inc', 'http']\n",
      "['ConEdison', 'ConEd', 'Williamsbridge', 'BX']\n",
      "['RT', 'Country', 'Club', 'BX']\n"
     ]
    }
   ],
   "source": [
    "for tweet in df.lemmed_tweet[:30]:\n",
    "    #print(nlp(i))\n",
    "    doc = nlp(tweet)\n",
    "    PROPN = []\n",
    "    for token in doc:\n",
    "        if token.pos_ == 'PROPN':\n",
    "            PROPN.append(str(token))   \n",
    "    print(PROPN)"
   ]
  },
  {
   "cell_type": "markdown",
   "metadata": {},
   "source": [
    "## Noun-Phrase-Chunking"
   ]
  },
  {
   "cell_type": "code",
   "execution_count": 406,
   "metadata": {},
   "outputs": [
    {
     "name": "stdout",
     "output_type": "stream",
     "text": [
      "Power outage - NP\n",
      "the Whitestone section - NP\n",
      "Queens - NP\n",
      "a loss - NP\n",
      "electric service - NP\n",
      "- CONED - NP\n"
     ]
    }
   ],
   "source": [
    "for chunk in doc1.noun_chunks:\n",
    "    print('{} - {}'.format(chunk, chunk.label_))"
   ]
  },
  {
   "cell_type": "markdown",
   "metadata": {},
   "source": [
    "#### Extract Noun Phrase Chunks from Tweets"
   ]
  },
  {
   "cell_type": "code",
   "execution_count": 377,
   "metadata": {},
   "outputs": [
    {
     "name": "stdout",
     "output_type": "stream",
     "text": [
      "['NY Sandy power outage slip', 'cost', '/ dlvr.it/2Sss2H']\n",
      "['ConEdison Power outage', 'queen']\n",
      "['Power outage', 'the Whitestone section', 'Queens', 'a loss', 'electric service', '- CONED']\n",
      "['that power outage', '@Verizon', 'The commercial power issue', 'your area', 'you', 'issue', 'your Verizon service', '@ConEdison']\n",
      "['@ConEdison', 'a power outage', 'BX ZIPs', 'Report service loss', '1800-75- CONED']\n",
      "['a power outage', 'you', 'ConEd', 'bckey', 'AQ', 'bctid', '| Live ConEd outage map', 'reference', '/ apps.coned.com/stormcenter_ex ternal / default.html …']\n",
      "['ConEdison major power outage', 'Harrison NY']\n",
      "['NotifyNYC', 'ConEdison', 'a power outage', 'SI ZIP', 'Report service loss', '75 - CONED', 'http', ':/ / on.nyc.gov/22lyehC']\n",
      "['@ConEdison', 'a power outage', 'SI ZIP', 'Report service loss', '75 - CONED', 'http', ':/ / on.nyc.gov/22lyehC']\n",
      "['Sandy Maps', 'ConEd power shutdown warning', '0.0004 cd37823361e17f570', 'ie', 'UTF', '… Current ConEd outage', '/ apps.coned.com/stormcenter_ex ternal / default.html …']\n",
      "['Manhattan Power Outages', 'Days', 'ConEd']\n",
      "['Helpful link', '@ConEdison service outage map', '/ apps.coned.com/stormcenter_ex ternal / default.html … Power', 'estimated restoration time', 'Manhattan']\n",
      "['i', 'our power', 'no outage', 'you', 'your infrastructure']\n",
      "['# ConEd', '18,200 power outage', '#Queens', '#Sandy']\n",
      "['ConEdison', 'a friend', 'you', 'their street', 'the outage map', 'they', 'no power', 'you', 'them', 'the end', 'the line', 'They', 'power', 'Friday', 'Another example', 'your inability', 'the situation']\n",
      "['power outage', 'Manor Heights section', 'my district']\n",
      "['ConEd Power Outage Map', 'Hurricane Sandy', '/ bit.ly/U4f13n']\n",
      "['RT', '@ConEdison', 'Your outage map', 'It', 'no outage west', '8th', '23rd and 24th Sts', 'we', 'no power', '#inaccurate #joke']\n",
      "['Report', 'NYC', 'ConEd', 'power outage', '39th St', 'Manhattan', 'Report', 'transformer blowout', '13th']\n",
      "['# BreakingNews Power Outage - Bronx', 'ConEd', 'a power outage', 'the area']\n",
      "['Power outage', 'the North East section', 'The Bronx', 'a loss', 'electric service', '@ConEdison']\n",
      "['@ConEd', 'power outage', 'Bayside', 'QN ZIP', 'Report', '75 - CONED', 'http', 'ASL', 'http :/ / bit.ly/1u2Z88W']\n",
      "['ConEd', 'power \" @SRuhle', 'precautionary power outage', 'Lower #Manhattan', '#NYC flooding', '#Hurricane #Sandy']\n",
      "['@ConEdison', 'power outage', 'http']\n",
      "['MT @NotifyNYC Power outage', 'Lighthouse Hill section', 'SI', 'a loss', 'service']\n",
      "['@ConEdison', 'a power outage', 'Throggs Neck', 'BX', 'ZIP', 'Report service loss', '75 - CONED', 'http', ':/ / on.nyc.gov/22lyehC']\n",
      "['ConEd', 'power outage', 'QN ZIP', 'a loss', 'service', '75 - CONED', 'ASL', 'http :/ / bit.ly/1u2Z88W']\n",
      "['NY Sandy power outage slip', 'cost', '( Reuters', 'Consolidated Edison Inc', 'http', 'bit.ly/Scjo6o']\n",
      "['ConEdison ConEd', 'a power outage', 'Williamsbridge', 'BX', 'Report service loss', '75 - CONED', 'http', ':/ / on.nyc.gov/22lyehC']\n",
      "['Why I', 'RT @NotifyNYC', 'ConEd', 'a power outage', 'the Country Club section', 'The BX']\n"
     ]
    }
   ],
   "source": [
    "for tweet in df.lemmed_tweet[:30]:\n",
    "    #print(nlp(i))\n",
    "    doc = nlp(tweet)\n",
    "    NP = []\n",
    "    for chunk in doc.noun_chunks:\n",
    "        NP.append(str(chunk))   \n",
    "    print(NP)"
   ]
  },
  {
   "cell_type": "markdown",
   "metadata": {},
   "source": [
    "## Named-Entity-Recognition"
   ]
  },
  {
   "cell_type": "code",
   "execution_count": 407,
   "metadata": {},
   "outputs": [
    {
     "name": "stdout",
     "output_type": "stream",
     "text": [
      "Whitestone - GPE\n",
      "Queens - ORG\n",
      "Con Edison - PERSON\n",
      "1 - CARDINAL\n"
     ]
    }
   ],
   "source": [
    "for ent in doc1.ents:\n",
    "    print(ent.text, '-', ent.label_)"
   ]
  },
  {
   "cell_type": "markdown",
   "metadata": {},
   "source": [
    "#### Extract Geopolitical Entity from Tweet"
   ]
  },
  {
   "cell_type": "code",
   "execution_count": 375,
   "metadata": {},
   "outputs": [
    {
     "name": "stdout",
     "output_type": "stream",
     "text": [
      "[]\n",
      "[]\n",
      "['Whitestone']\n",
      "['Verizon']\n",
      "['BX']\n",
      "[]\n",
      "['Harrison NY']\n",
      "[]\n",
      "[]\n",
      "[]\n",
      "[]\n",
      "['Manhattan']\n",
      "[]\n",
      "[]\n",
      "[]\n",
      "['Manor Heights']\n",
      "[]\n",
      "['RT']\n",
      "['Manhattan']\n",
      "[]\n",
      "['Bronx']\n",
      "['Bayside']\n",
      "['Lower', 'Manhattan']\n",
      "[]\n",
      "['MT']\n",
      "['Throggs Neck', 'BX']\n",
      "['QN']\n",
      "['NEW YORK']\n",
      "['Williamsbridge', 'BX']\n",
      "[]\n"
     ]
    }
   ],
   "source": [
    "for tweet in df.lemmed_tweet[:30]:\n",
    "    #print(nlp(i))\n",
    "    doc = nlp(tweet)\n",
    "    GPE = []\n",
    "    for ent in doc.ents:\n",
    "        if ent.label_ == 'GPE':\n",
    "            GPE.append(str(ent.text))   \n",
    "    #print(doc)\n",
    "    print(GPE)"
   ]
  },
  {
   "cell_type": "markdown",
   "metadata": {},
   "source": [
    "### Dependency Parsing\n",
    "Can we use this to get items like \"Lighthouse Hill\" that aren't recognized by Named-Entity-Recognition?"
   ]
  },
  {
   "cell_type": "code",
   "execution_count": 427,
   "metadata": {},
   "outputs": [
    {
     "data": {
      "text/plain": [
       "'MT @NotifyNYC Power outage in Lighthouse Hill section of SI . To report a loss of service ConEd 1-800-752-6633 or http://www . coned.com '"
      ]
     },
     "execution_count": 427,
     "metadata": {},
     "output_type": "execute_result"
    }
   ],
   "source": [
    "df.lemmed_tweet[24]"
   ]
  },
  {
   "cell_type": "code",
   "execution_count": 428,
   "metadata": {},
   "outputs": [
    {
     "data": {
      "text/html": [
       "<svg xmlns=\"http://www.w3.org/2000/svg\" xmlns:xlink=\"http://www.w3.org/1999/xlink\" xml:lang=\"en\" id=\"6dca5be439434f828c1fcca76e459af2-0\" class=\"displacy\" width=\"4250\" height=\"574.5\" direction=\"ltr\" style=\"max-width: none; height: 574.5px; color: #000000; background: #ffffff; font-family: Arial; direction: ltr\">\n",
       "<text class=\"displacy-token\" fill=\"currentColor\" text-anchor=\"middle\" y=\"484.5\">\n",
       "    <tspan class=\"displacy-word\" fill=\"currentColor\" x=\"50\">MT</tspan>\n",
       "    <tspan class=\"displacy-tag\" dy=\"2em\" fill=\"currentColor\" x=\"50\">PROPN</tspan>\n",
       "</text>\n",
       "\n",
       "<text class=\"displacy-token\" fill=\"currentColor\" text-anchor=\"middle\" y=\"484.5\">\n",
       "    <tspan class=\"displacy-word\" fill=\"currentColor\" x=\"225\">@NotifyNYC</tspan>\n",
       "    <tspan class=\"displacy-tag\" dy=\"2em\" fill=\"currentColor\" x=\"225\">PROPN</tspan>\n",
       "</text>\n",
       "\n",
       "<text class=\"displacy-token\" fill=\"currentColor\" text-anchor=\"middle\" y=\"484.5\">\n",
       "    <tspan class=\"displacy-word\" fill=\"currentColor\" x=\"400\">Power</tspan>\n",
       "    <tspan class=\"displacy-tag\" dy=\"2em\" fill=\"currentColor\" x=\"400\">NOUN</tspan>\n",
       "</text>\n",
       "\n",
       "<text class=\"displacy-token\" fill=\"currentColor\" text-anchor=\"middle\" y=\"484.5\">\n",
       "    <tspan class=\"displacy-word\" fill=\"currentColor\" x=\"575\">outage</tspan>\n",
       "    <tspan class=\"displacy-tag\" dy=\"2em\" fill=\"currentColor\" x=\"575\">NOUN</tspan>\n",
       "</text>\n",
       "\n",
       "<text class=\"displacy-token\" fill=\"currentColor\" text-anchor=\"middle\" y=\"484.5\">\n",
       "    <tspan class=\"displacy-word\" fill=\"currentColor\" x=\"750\">in</tspan>\n",
       "    <tspan class=\"displacy-tag\" dy=\"2em\" fill=\"currentColor\" x=\"750\">ADP</tspan>\n",
       "</text>\n",
       "\n",
       "<text class=\"displacy-token\" fill=\"currentColor\" text-anchor=\"middle\" y=\"484.5\">\n",
       "    <tspan class=\"displacy-word\" fill=\"currentColor\" x=\"925\">Lighthouse</tspan>\n",
       "    <tspan class=\"displacy-tag\" dy=\"2em\" fill=\"currentColor\" x=\"925\">PROPN</tspan>\n",
       "</text>\n",
       "\n",
       "<text class=\"displacy-token\" fill=\"currentColor\" text-anchor=\"middle\" y=\"484.5\">\n",
       "    <tspan class=\"displacy-word\" fill=\"currentColor\" x=\"1100\">Hill</tspan>\n",
       "    <tspan class=\"displacy-tag\" dy=\"2em\" fill=\"currentColor\" x=\"1100\">PROPN</tspan>\n",
       "</text>\n",
       "\n",
       "<text class=\"displacy-token\" fill=\"currentColor\" text-anchor=\"middle\" y=\"484.5\">\n",
       "    <tspan class=\"displacy-word\" fill=\"currentColor\" x=\"1275\">section</tspan>\n",
       "    <tspan class=\"displacy-tag\" dy=\"2em\" fill=\"currentColor\" x=\"1275\">NOUN</tspan>\n",
       "</text>\n",
       "\n",
       "<text class=\"displacy-token\" fill=\"currentColor\" text-anchor=\"middle\" y=\"484.5\">\n",
       "    <tspan class=\"displacy-word\" fill=\"currentColor\" x=\"1450\">of</tspan>\n",
       "    <tspan class=\"displacy-tag\" dy=\"2em\" fill=\"currentColor\" x=\"1450\">ADP</tspan>\n",
       "</text>\n",
       "\n",
       "<text class=\"displacy-token\" fill=\"currentColor\" text-anchor=\"middle\" y=\"484.5\">\n",
       "    <tspan class=\"displacy-word\" fill=\"currentColor\" x=\"1625\">SI .</tspan>\n",
       "    <tspan class=\"displacy-tag\" dy=\"2em\" fill=\"currentColor\" x=\"1625\">PROPN</tspan>\n",
       "</text>\n",
       "\n",
       "<text class=\"displacy-token\" fill=\"currentColor\" text-anchor=\"middle\" y=\"484.5\">\n",
       "    <tspan class=\"displacy-word\" fill=\"currentColor\" x=\"1800\">To</tspan>\n",
       "    <tspan class=\"displacy-tag\" dy=\"2em\" fill=\"currentColor\" x=\"1800\">PART</tspan>\n",
       "</text>\n",
       "\n",
       "<text class=\"displacy-token\" fill=\"currentColor\" text-anchor=\"middle\" y=\"484.5\">\n",
       "    <tspan class=\"displacy-word\" fill=\"currentColor\" x=\"1975\">report</tspan>\n",
       "    <tspan class=\"displacy-tag\" dy=\"2em\" fill=\"currentColor\" x=\"1975\">VERB</tspan>\n",
       "</text>\n",
       "\n",
       "<text class=\"displacy-token\" fill=\"currentColor\" text-anchor=\"middle\" y=\"484.5\">\n",
       "    <tspan class=\"displacy-word\" fill=\"currentColor\" x=\"2150\">a</tspan>\n",
       "    <tspan class=\"displacy-tag\" dy=\"2em\" fill=\"currentColor\" x=\"2150\">DET</tspan>\n",
       "</text>\n",
       "\n",
       "<text class=\"displacy-token\" fill=\"currentColor\" text-anchor=\"middle\" y=\"484.5\">\n",
       "    <tspan class=\"displacy-word\" fill=\"currentColor\" x=\"2325\">loss</tspan>\n",
       "    <tspan class=\"displacy-tag\" dy=\"2em\" fill=\"currentColor\" x=\"2325\">NOUN</tspan>\n",
       "</text>\n",
       "\n",
       "<text class=\"displacy-token\" fill=\"currentColor\" text-anchor=\"middle\" y=\"484.5\">\n",
       "    <tspan class=\"displacy-word\" fill=\"currentColor\" x=\"2500\">of</tspan>\n",
       "    <tspan class=\"displacy-tag\" dy=\"2em\" fill=\"currentColor\" x=\"2500\">ADP</tspan>\n",
       "</text>\n",
       "\n",
       "<text class=\"displacy-token\" fill=\"currentColor\" text-anchor=\"middle\" y=\"484.5\">\n",
       "    <tspan class=\"displacy-word\" fill=\"currentColor\" x=\"2675\">service</tspan>\n",
       "    <tspan class=\"displacy-tag\" dy=\"2em\" fill=\"currentColor\" x=\"2675\">NOUN</tspan>\n",
       "</text>\n",
       "\n",
       "<text class=\"displacy-token\" fill=\"currentColor\" text-anchor=\"middle\" y=\"484.5\">\n",
       "    <tspan class=\"displacy-word\" fill=\"currentColor\" x=\"2850\">ConEd</tspan>\n",
       "    <tspan class=\"displacy-tag\" dy=\"2em\" fill=\"currentColor\" x=\"2850\">PROPN</tspan>\n",
       "</text>\n",
       "\n",
       "<text class=\"displacy-token\" fill=\"currentColor\" text-anchor=\"middle\" y=\"484.5\">\n",
       "    <tspan class=\"displacy-word\" fill=\"currentColor\" x=\"3025\">1-</tspan>\n",
       "    <tspan class=\"displacy-tag\" dy=\"2em\" fill=\"currentColor\" x=\"3025\">NUM</tspan>\n",
       "</text>\n",
       "\n",
       "<text class=\"displacy-token\" fill=\"currentColor\" text-anchor=\"middle\" y=\"484.5\">\n",
       "    <tspan class=\"displacy-word\" fill=\"currentColor\" x=\"3200\">800-</tspan>\n",
       "    <tspan class=\"displacy-tag\" dy=\"2em\" fill=\"currentColor\" x=\"3200\">NUM</tspan>\n",
       "</text>\n",
       "\n",
       "<text class=\"displacy-token\" fill=\"currentColor\" text-anchor=\"middle\" y=\"484.5\">\n",
       "    <tspan class=\"displacy-word\" fill=\"currentColor\" x=\"3375\">752-</tspan>\n",
       "    <tspan class=\"displacy-tag\" dy=\"2em\" fill=\"currentColor\" x=\"3375\">NUM</tspan>\n",
       "</text>\n",
       "\n",
       "<text class=\"displacy-token\" fill=\"currentColor\" text-anchor=\"middle\" y=\"484.5\">\n",
       "    <tspan class=\"displacy-word\" fill=\"currentColor\" x=\"3550\">6633</tspan>\n",
       "    <tspan class=\"displacy-tag\" dy=\"2em\" fill=\"currentColor\" x=\"3550\">NUM</tspan>\n",
       "</text>\n",
       "\n",
       "<text class=\"displacy-token\" fill=\"currentColor\" text-anchor=\"middle\" y=\"484.5\">\n",
       "    <tspan class=\"displacy-word\" fill=\"currentColor\" x=\"3725\">or</tspan>\n",
       "    <tspan class=\"displacy-tag\" dy=\"2em\" fill=\"currentColor\" x=\"3725\">CCONJ</tspan>\n",
       "</text>\n",
       "\n",
       "<text class=\"displacy-token\" fill=\"currentColor\" text-anchor=\"middle\" y=\"484.5\">\n",
       "    <tspan class=\"displacy-word\" fill=\"currentColor\" x=\"3900\">http://www .</tspan>\n",
       "    <tspan class=\"displacy-tag\" dy=\"2em\" fill=\"currentColor\" x=\"3900\">PROPN</tspan>\n",
       "</text>\n",
       "\n",
       "<text class=\"displacy-token\" fill=\"currentColor\" text-anchor=\"middle\" y=\"484.5\">\n",
       "    <tspan class=\"displacy-word\" fill=\"currentColor\" x=\"4075\">coned.com</tspan>\n",
       "    <tspan class=\"displacy-tag\" dy=\"2em\" fill=\"currentColor\" x=\"4075\">X</tspan>\n",
       "</text>\n",
       "\n",
       "<g class=\"displacy-arrow\">\n",
       "    <path class=\"displacy-arc\" id=\"arrow-6dca5be439434f828c1fcca76e459af2-0-0\" stroke-width=\"2px\" d=\"M70,439.5 C70,264.5 385.0,264.5 385.0,439.5\" fill=\"none\" stroke=\"currentColor\"/>\n",
       "    <text dy=\"1.25em\" style=\"font-size: 0.8em; letter-spacing: 1px\">\n",
       "        <textPath xlink:href=\"#arrow-6dca5be439434f828c1fcca76e459af2-0-0\" class=\"displacy-label\" startOffset=\"50%\" side=\"left\" fill=\"currentColor\" text-anchor=\"middle\">compound</textPath>\n",
       "    </text>\n",
       "    <path class=\"displacy-arrowhead\" d=\"M70,441.5 L62,429.5 78,429.5\" fill=\"currentColor\"/>\n",
       "</g>\n",
       "\n",
       "<g class=\"displacy-arrow\">\n",
       "    <path class=\"displacy-arc\" id=\"arrow-6dca5be439434f828c1fcca76e459af2-0-1\" stroke-width=\"2px\" d=\"M245,439.5 C245,352.0 380.0,352.0 380.0,439.5\" fill=\"none\" stroke=\"currentColor\"/>\n",
       "    <text dy=\"1.25em\" style=\"font-size: 0.8em; letter-spacing: 1px\">\n",
       "        <textPath xlink:href=\"#arrow-6dca5be439434f828c1fcca76e459af2-0-1\" class=\"displacy-label\" startOffset=\"50%\" side=\"left\" fill=\"currentColor\" text-anchor=\"middle\">compound</textPath>\n",
       "    </text>\n",
       "    <path class=\"displacy-arrowhead\" d=\"M245,441.5 L237,429.5 253,429.5\" fill=\"currentColor\"/>\n",
       "</g>\n",
       "\n",
       "<g class=\"displacy-arrow\">\n",
       "    <path class=\"displacy-arc\" id=\"arrow-6dca5be439434f828c1fcca76e459af2-0-2\" stroke-width=\"2px\" d=\"M420,439.5 C420,352.0 555.0,352.0 555.0,439.5\" fill=\"none\" stroke=\"currentColor\"/>\n",
       "    <text dy=\"1.25em\" style=\"font-size: 0.8em; letter-spacing: 1px\">\n",
       "        <textPath xlink:href=\"#arrow-6dca5be439434f828c1fcca76e459af2-0-2\" class=\"displacy-label\" startOffset=\"50%\" side=\"left\" fill=\"currentColor\" text-anchor=\"middle\">compound</textPath>\n",
       "    </text>\n",
       "    <path class=\"displacy-arrowhead\" d=\"M420,441.5 L412,429.5 428,429.5\" fill=\"currentColor\"/>\n",
       "</g>\n",
       "\n",
       "<g class=\"displacy-arrow\">\n",
       "    <path class=\"displacy-arc\" id=\"arrow-6dca5be439434f828c1fcca76e459af2-0-3\" stroke-width=\"2px\" d=\"M595,439.5 C595,352.0 730.0,352.0 730.0,439.5\" fill=\"none\" stroke=\"currentColor\"/>\n",
       "    <text dy=\"1.25em\" style=\"font-size: 0.8em; letter-spacing: 1px\">\n",
       "        <textPath xlink:href=\"#arrow-6dca5be439434f828c1fcca76e459af2-0-3\" class=\"displacy-label\" startOffset=\"50%\" side=\"left\" fill=\"currentColor\" text-anchor=\"middle\">prep</textPath>\n",
       "    </text>\n",
       "    <path class=\"displacy-arrowhead\" d=\"M730.0,441.5 L738.0,429.5 722.0,429.5\" fill=\"currentColor\"/>\n",
       "</g>\n",
       "\n",
       "<g class=\"displacy-arrow\">\n",
       "    <path class=\"displacy-arc\" id=\"arrow-6dca5be439434f828c1fcca76e459af2-0-4\" stroke-width=\"2px\" d=\"M945,439.5 C945,352.0 1080.0,352.0 1080.0,439.5\" fill=\"none\" stroke=\"currentColor\"/>\n",
       "    <text dy=\"1.25em\" style=\"font-size: 0.8em; letter-spacing: 1px\">\n",
       "        <textPath xlink:href=\"#arrow-6dca5be439434f828c1fcca76e459af2-0-4\" class=\"displacy-label\" startOffset=\"50%\" side=\"left\" fill=\"currentColor\" text-anchor=\"middle\">compound</textPath>\n",
       "    </text>\n",
       "    <path class=\"displacy-arrowhead\" d=\"M945,441.5 L937,429.5 953,429.5\" fill=\"currentColor\"/>\n",
       "</g>\n",
       "\n",
       "<g class=\"displacy-arrow\">\n",
       "    <path class=\"displacy-arc\" id=\"arrow-6dca5be439434f828c1fcca76e459af2-0-5\" stroke-width=\"2px\" d=\"M1120,439.5 C1120,352.0 1255.0,352.0 1255.0,439.5\" fill=\"none\" stroke=\"currentColor\"/>\n",
       "    <text dy=\"1.25em\" style=\"font-size: 0.8em; letter-spacing: 1px\">\n",
       "        <textPath xlink:href=\"#arrow-6dca5be439434f828c1fcca76e459af2-0-5\" class=\"displacy-label\" startOffset=\"50%\" side=\"left\" fill=\"currentColor\" text-anchor=\"middle\">compound</textPath>\n",
       "    </text>\n",
       "    <path class=\"displacy-arrowhead\" d=\"M1120,441.5 L1112,429.5 1128,429.5\" fill=\"currentColor\"/>\n",
       "</g>\n",
       "\n",
       "<g class=\"displacy-arrow\">\n",
       "    <path class=\"displacy-arc\" id=\"arrow-6dca5be439434f828c1fcca76e459af2-0-6\" stroke-width=\"2px\" d=\"M770,439.5 C770,177.0 1265.0,177.0 1265.0,439.5\" fill=\"none\" stroke=\"currentColor\"/>\n",
       "    <text dy=\"1.25em\" style=\"font-size: 0.8em; letter-spacing: 1px\">\n",
       "        <textPath xlink:href=\"#arrow-6dca5be439434f828c1fcca76e459af2-0-6\" class=\"displacy-label\" startOffset=\"50%\" side=\"left\" fill=\"currentColor\" text-anchor=\"middle\">pobj</textPath>\n",
       "    </text>\n",
       "    <path class=\"displacy-arrowhead\" d=\"M1265.0,441.5 L1273.0,429.5 1257.0,429.5\" fill=\"currentColor\"/>\n",
       "</g>\n",
       "\n",
       "<g class=\"displacy-arrow\">\n",
       "    <path class=\"displacy-arc\" id=\"arrow-6dca5be439434f828c1fcca76e459af2-0-7\" stroke-width=\"2px\" d=\"M1295,439.5 C1295,352.0 1430.0,352.0 1430.0,439.5\" fill=\"none\" stroke=\"currentColor\"/>\n",
       "    <text dy=\"1.25em\" style=\"font-size: 0.8em; letter-spacing: 1px\">\n",
       "        <textPath xlink:href=\"#arrow-6dca5be439434f828c1fcca76e459af2-0-7\" class=\"displacy-label\" startOffset=\"50%\" side=\"left\" fill=\"currentColor\" text-anchor=\"middle\">prep</textPath>\n",
       "    </text>\n",
       "    <path class=\"displacy-arrowhead\" d=\"M1430.0,441.5 L1438.0,429.5 1422.0,429.5\" fill=\"currentColor\"/>\n",
       "</g>\n",
       "\n",
       "<g class=\"displacy-arrow\">\n",
       "    <path class=\"displacy-arc\" id=\"arrow-6dca5be439434f828c1fcca76e459af2-0-8\" stroke-width=\"2px\" d=\"M1470,439.5 C1470,352.0 1605.0,352.0 1605.0,439.5\" fill=\"none\" stroke=\"currentColor\"/>\n",
       "    <text dy=\"1.25em\" style=\"font-size: 0.8em; letter-spacing: 1px\">\n",
       "        <textPath xlink:href=\"#arrow-6dca5be439434f828c1fcca76e459af2-0-8\" class=\"displacy-label\" startOffset=\"50%\" side=\"left\" fill=\"currentColor\" text-anchor=\"middle\">pobj</textPath>\n",
       "    </text>\n",
       "    <path class=\"displacy-arrowhead\" d=\"M1605.0,441.5 L1613.0,429.5 1597.0,429.5\" fill=\"currentColor\"/>\n",
       "</g>\n",
       "\n",
       "<g class=\"displacy-arrow\">\n",
       "    <path class=\"displacy-arc\" id=\"arrow-6dca5be439434f828c1fcca76e459af2-0-9\" stroke-width=\"2px\" d=\"M1820,439.5 C1820,352.0 1955.0,352.0 1955.0,439.5\" fill=\"none\" stroke=\"currentColor\"/>\n",
       "    <text dy=\"1.25em\" style=\"font-size: 0.8em; letter-spacing: 1px\">\n",
       "        <textPath xlink:href=\"#arrow-6dca5be439434f828c1fcca76e459af2-0-9\" class=\"displacy-label\" startOffset=\"50%\" side=\"left\" fill=\"currentColor\" text-anchor=\"middle\">aux</textPath>\n",
       "    </text>\n",
       "    <path class=\"displacy-arrowhead\" d=\"M1820,441.5 L1812,429.5 1828,429.5\" fill=\"currentColor\"/>\n",
       "</g>\n",
       "\n",
       "<g class=\"displacy-arrow\">\n",
       "    <path class=\"displacy-arc\" id=\"arrow-6dca5be439434f828c1fcca76e459af2-0-10\" stroke-width=\"2px\" d=\"M2170,439.5 C2170,352.0 2305.0,352.0 2305.0,439.5\" fill=\"none\" stroke=\"currentColor\"/>\n",
       "    <text dy=\"1.25em\" style=\"font-size: 0.8em; letter-spacing: 1px\">\n",
       "        <textPath xlink:href=\"#arrow-6dca5be439434f828c1fcca76e459af2-0-10\" class=\"displacy-label\" startOffset=\"50%\" side=\"left\" fill=\"currentColor\" text-anchor=\"middle\">det</textPath>\n",
       "    </text>\n",
       "    <path class=\"displacy-arrowhead\" d=\"M2170,441.5 L2162,429.5 2178,429.5\" fill=\"currentColor\"/>\n",
       "</g>\n",
       "\n",
       "<g class=\"displacy-arrow\">\n",
       "    <path class=\"displacy-arc\" id=\"arrow-6dca5be439434f828c1fcca76e459af2-0-11\" stroke-width=\"2px\" d=\"M1995,439.5 C1995,264.5 2310.0,264.5 2310.0,439.5\" fill=\"none\" stroke=\"currentColor\"/>\n",
       "    <text dy=\"1.25em\" style=\"font-size: 0.8em; letter-spacing: 1px\">\n",
       "        <textPath xlink:href=\"#arrow-6dca5be439434f828c1fcca76e459af2-0-11\" class=\"displacy-label\" startOffset=\"50%\" side=\"left\" fill=\"currentColor\" text-anchor=\"middle\">dobj</textPath>\n",
       "    </text>\n",
       "    <path class=\"displacy-arrowhead\" d=\"M2310.0,441.5 L2318.0,429.5 2302.0,429.5\" fill=\"currentColor\"/>\n",
       "</g>\n",
       "\n",
       "<g class=\"displacy-arrow\">\n",
       "    <path class=\"displacy-arc\" id=\"arrow-6dca5be439434f828c1fcca76e459af2-0-12\" stroke-width=\"2px\" d=\"M2345,439.5 C2345,352.0 2480.0,352.0 2480.0,439.5\" fill=\"none\" stroke=\"currentColor\"/>\n",
       "    <text dy=\"1.25em\" style=\"font-size: 0.8em; letter-spacing: 1px\">\n",
       "        <textPath xlink:href=\"#arrow-6dca5be439434f828c1fcca76e459af2-0-12\" class=\"displacy-label\" startOffset=\"50%\" side=\"left\" fill=\"currentColor\" text-anchor=\"middle\">prep</textPath>\n",
       "    </text>\n",
       "    <path class=\"displacy-arrowhead\" d=\"M2480.0,441.5 L2488.0,429.5 2472.0,429.5\" fill=\"currentColor\"/>\n",
       "</g>\n",
       "\n",
       "<g class=\"displacy-arrow\">\n",
       "    <path class=\"displacy-arc\" id=\"arrow-6dca5be439434f828c1fcca76e459af2-0-13\" stroke-width=\"2px\" d=\"M2520,439.5 C2520,352.0 2655.0,352.0 2655.0,439.5\" fill=\"none\" stroke=\"currentColor\"/>\n",
       "    <text dy=\"1.25em\" style=\"font-size: 0.8em; letter-spacing: 1px\">\n",
       "        <textPath xlink:href=\"#arrow-6dca5be439434f828c1fcca76e459af2-0-13\" class=\"displacy-label\" startOffset=\"50%\" side=\"left\" fill=\"currentColor\" text-anchor=\"middle\">pobj</textPath>\n",
       "    </text>\n",
       "    <path class=\"displacy-arrowhead\" d=\"M2655.0,441.5 L2663.0,429.5 2647.0,429.5\" fill=\"currentColor\"/>\n",
       "</g>\n",
       "\n",
       "<g class=\"displacy-arrow\">\n",
       "    <path class=\"displacy-arc\" id=\"arrow-6dca5be439434f828c1fcca76e459af2-0-14\" stroke-width=\"2px\" d=\"M1995,439.5 C1995,2.0 2850.0,2.0 2850.0,439.5\" fill=\"none\" stroke=\"currentColor\"/>\n",
       "    <text dy=\"1.25em\" style=\"font-size: 0.8em; letter-spacing: 1px\">\n",
       "        <textPath xlink:href=\"#arrow-6dca5be439434f828c1fcca76e459af2-0-14\" class=\"displacy-label\" startOffset=\"50%\" side=\"left\" fill=\"currentColor\" text-anchor=\"middle\">npadvmod</textPath>\n",
       "    </text>\n",
       "    <path class=\"displacy-arrowhead\" d=\"M2850.0,441.5 L2858.0,429.5 2842.0,429.5\" fill=\"currentColor\"/>\n",
       "</g>\n",
       "\n",
       "<g class=\"displacy-arrow\">\n",
       "    <path class=\"displacy-arc\" id=\"arrow-6dca5be439434f828c1fcca76e459af2-0-15\" stroke-width=\"2px\" d=\"M3045,439.5 C3045,177.0 3540.0,177.0 3540.0,439.5\" fill=\"none\" stroke=\"currentColor\"/>\n",
       "    <text dy=\"1.25em\" style=\"font-size: 0.8em; letter-spacing: 1px\">\n",
       "        <textPath xlink:href=\"#arrow-6dca5be439434f828c1fcca76e459af2-0-15\" class=\"displacy-label\" startOffset=\"50%\" side=\"left\" fill=\"currentColor\" text-anchor=\"middle\">compound</textPath>\n",
       "    </text>\n",
       "    <path class=\"displacy-arrowhead\" d=\"M3045,441.5 L3037,429.5 3053,429.5\" fill=\"currentColor\"/>\n",
       "</g>\n",
       "\n",
       "<g class=\"displacy-arrow\">\n",
       "    <path class=\"displacy-arc\" id=\"arrow-6dca5be439434f828c1fcca76e459af2-0-16\" stroke-width=\"2px\" d=\"M3220,439.5 C3220,264.5 3535.0,264.5 3535.0,439.5\" fill=\"none\" stroke=\"currentColor\"/>\n",
       "    <text dy=\"1.25em\" style=\"font-size: 0.8em; letter-spacing: 1px\">\n",
       "        <textPath xlink:href=\"#arrow-6dca5be439434f828c1fcca76e459af2-0-16\" class=\"displacy-label\" startOffset=\"50%\" side=\"left\" fill=\"currentColor\" text-anchor=\"middle\">nummod</textPath>\n",
       "    </text>\n",
       "    <path class=\"displacy-arrowhead\" d=\"M3220,441.5 L3212,429.5 3228,429.5\" fill=\"currentColor\"/>\n",
       "</g>\n",
       "\n",
       "<g class=\"displacy-arrow\">\n",
       "    <path class=\"displacy-arc\" id=\"arrow-6dca5be439434f828c1fcca76e459af2-0-17\" stroke-width=\"2px\" d=\"M3395,439.5 C3395,352.0 3530.0,352.0 3530.0,439.5\" fill=\"none\" stroke=\"currentColor\"/>\n",
       "    <text dy=\"1.25em\" style=\"font-size: 0.8em; letter-spacing: 1px\">\n",
       "        <textPath xlink:href=\"#arrow-6dca5be439434f828c1fcca76e459af2-0-17\" class=\"displacy-label\" startOffset=\"50%\" side=\"left\" fill=\"currentColor\" text-anchor=\"middle\">nummod</textPath>\n",
       "    </text>\n",
       "    <path class=\"displacy-arrowhead\" d=\"M3395,441.5 L3387,429.5 3403,429.5\" fill=\"currentColor\"/>\n",
       "</g>\n",
       "\n",
       "<g class=\"displacy-arrow\">\n",
       "    <path class=\"displacy-arc\" id=\"arrow-6dca5be439434f828c1fcca76e459af2-0-18\" stroke-width=\"2px\" d=\"M2870,439.5 C2870,89.5 3545.0,89.5 3545.0,439.5\" fill=\"none\" stroke=\"currentColor\"/>\n",
       "    <text dy=\"1.25em\" style=\"font-size: 0.8em; letter-spacing: 1px\">\n",
       "        <textPath xlink:href=\"#arrow-6dca5be439434f828c1fcca76e459af2-0-18\" class=\"displacy-label\" startOffset=\"50%\" side=\"left\" fill=\"currentColor\" text-anchor=\"middle\">nummod</textPath>\n",
       "    </text>\n",
       "    <path class=\"displacy-arrowhead\" d=\"M3545.0,441.5 L3553.0,429.5 3537.0,429.5\" fill=\"currentColor\"/>\n",
       "</g>\n",
       "\n",
       "<g class=\"displacy-arrow\">\n",
       "    <path class=\"displacy-arc\" id=\"arrow-6dca5be439434f828c1fcca76e459af2-0-19\" stroke-width=\"2px\" d=\"M3570,439.5 C3570,352.0 3705.0,352.0 3705.0,439.5\" fill=\"none\" stroke=\"currentColor\"/>\n",
       "    <text dy=\"1.25em\" style=\"font-size: 0.8em; letter-spacing: 1px\">\n",
       "        <textPath xlink:href=\"#arrow-6dca5be439434f828c1fcca76e459af2-0-19\" class=\"displacy-label\" startOffset=\"50%\" side=\"left\" fill=\"currentColor\" text-anchor=\"middle\">cc</textPath>\n",
       "    </text>\n",
       "    <path class=\"displacy-arrowhead\" d=\"M3705.0,441.5 L3713.0,429.5 3697.0,429.5\" fill=\"currentColor\"/>\n",
       "</g>\n",
       "</svg>"
      ],
      "text/plain": [
       "<IPython.core.display.HTML object>"
      ]
     },
     "metadata": {},
     "output_type": "display_data"
    }
   ],
   "source": [
    "from spacy import displacy\n",
    "\n",
    "nlp = spacy.load(\"en_core_web_sm\")\n",
    "doc = nlp(df.lemmed_tweet[24])\n",
    "displacy.render(doc, style='dep')"
   ]
  },
  {
   "cell_type": "code",
   "execution_count": 426,
   "metadata": {},
   "outputs": [],
   "source": []
  },
  {
   "cell_type": "code",
   "execution_count": null,
   "metadata": {},
   "outputs": [],
   "source": []
  }
 ],
 "metadata": {
  "kernelspec": {
   "display_name": "Python 3",
   "language": "python",
   "name": "python3"
  },
  "language_info": {
   "codemirror_mode": {
    "name": "ipython",
    "version": 3
   },
   "file_extension": ".py",
   "mimetype": "text/x-python",
   "name": "python",
   "nbconvert_exporter": "python",
   "pygments_lexer": "ipython3",
   "version": "3.7.1"
  },
  "varInspector": {
   "cols": {
    "lenName": 16,
    "lenType": 16,
    "lenVar": 40
   },
   "kernels_config": {
    "python": {
     "delete_cmd_postfix": "",
     "delete_cmd_prefix": "del ",
     "library": "var_list.py",
     "varRefreshCmd": "print(var_dic_list())"
    },
    "r": {
     "delete_cmd_postfix": ") ",
     "delete_cmd_prefix": "rm(",
     "library": "var_list.r",
     "varRefreshCmd": "cat(var_dic_list()) "
    }
   },
   "types_to_exclude": [
    "module",
    "function",
    "builtin_function_or_method",
    "instance",
    "_Feature"
   ],
   "window_display": false
  }
 },
 "nbformat": 4,
 "nbformat_minor": 2
}
