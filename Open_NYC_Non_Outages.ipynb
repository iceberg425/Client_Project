{
 "cells": [
  {
   "cell_type": "code",
   "execution_count": 1,
   "metadata": {},
   "outputs": [],
   "source": [
    "import numpy as np\n",
    "import pandas as pd"
   ]
  },
  {
   "cell_type": "code",
   "execution_count": 2,
   "metadata": {},
   "outputs": [],
   "source": [
    "non_outage = pd.read_csv('./data/OEM_Non_Outages.csv')"
   ]
  },
  {
   "cell_type": "code",
   "execution_count": 3,
   "metadata": {},
   "outputs": [
    {
     "data": {
      "text/html": [
       "<div>\n",
       "<style scoped>\n",
       "    .dataframe tbody tr th:only-of-type {\n",
       "        vertical-align: middle;\n",
       "    }\n",
       "\n",
       "    .dataframe tbody tr th {\n",
       "        vertical-align: top;\n",
       "    }\n",
       "\n",
       "    .dataframe thead th {\n",
       "        text-align: right;\n",
       "    }\n",
       "</style>\n",
       "<table border=\"1\" class=\"dataframe\">\n",
       "  <thead>\n",
       "    <tr style=\"text-align: right;\">\n",
       "      <th></th>\n",
       "      <th>Record ID</th>\n",
       "      <th>Date and Time</th>\n",
       "      <th>NotificationType</th>\n",
       "      <th>Notification Title</th>\n",
       "      <th>Email Body</th>\n",
       "    </tr>\n",
       "  </thead>\n",
       "  <tbody>\n",
       "    <tr>\n",
       "      <th>0</th>\n",
       "      <td>9601</td>\n",
       "      <td>10/28/2017 10:22:00 PM</td>\n",
       "      <td>Road Closure</td>\n",
       "      <td>Traffic Delays - FDR Drive at 34th Street (MN)</td>\n",
       "      <td>Notification issued 10/28/17 at 10:22 PM. Due ...</td>\n",
       "    </tr>\n",
       "    <tr>\n",
       "      <th>1</th>\n",
       "      <td>9600</td>\n",
       "      <td>10/28/2017 03:30:00 PM</td>\n",
       "      <td>Weather</td>\n",
       "      <td>High Wind Watch - 10/29-10/30 (CW)</td>\n",
       "      <td>Notification issued 10/28/17 at 3:30 PM. The N...</td>\n",
       "    </tr>\n",
       "    <tr>\n",
       "      <th>2</th>\n",
       "      <td>9592</td>\n",
       "      <td>10/28/2017 03:00:00 PM</td>\n",
       "      <td>Drills / Exercises</td>\n",
       "      <td>NYPD Exercise - Grand Central Terminal - 10/29...</td>\n",
       "      <td>Notification issued 10/28/17 at 3:00 PM. On Su...</td>\n",
       "    </tr>\n",
       "    <tr>\n",
       "      <th>3</th>\n",
       "      <td>9599</td>\n",
       "      <td>10/28/2017 09:00:00 AM</td>\n",
       "      <td>Weather</td>\n",
       "      <td>Flash Flood Watch - 10/29 - 10/30 (CW)</td>\n",
       "      <td>Notification issued 10/28/17 at 9:00 AM. The N...</td>\n",
       "    </tr>\n",
       "    <tr>\n",
       "      <th>4</th>\n",
       "      <td>9598</td>\n",
       "      <td>10/27/2017 08:32:00 PM</td>\n",
       "      <td>Road Closure</td>\n",
       "      <td>Traffic Delays - Cross Bronx Expressway at 3rd...</td>\n",
       "      <td>Notification issued 10/27/17 at 8:32 PM. Due t...</td>\n",
       "    </tr>\n",
       "  </tbody>\n",
       "</table>\n",
       "</div>"
      ],
      "text/plain": [
       "   Record ID           Date and Time    NotificationType  \\\n",
       "0       9601  10/28/2017 10:22:00 PM        Road Closure   \n",
       "1       9600  10/28/2017 03:30:00 PM             Weather   \n",
       "2       9592  10/28/2017 03:00:00 PM  Drills / Exercises   \n",
       "3       9599  10/28/2017 09:00:00 AM             Weather   \n",
       "4       9598  10/27/2017 08:32:00 PM        Road Closure   \n",
       "\n",
       "                                  Notification Title  \\\n",
       "0     Traffic Delays - FDR Drive at 34th Street (MN)   \n",
       "1                 High Wind Watch - 10/29-10/30 (CW)   \n",
       "2  NYPD Exercise - Grand Central Terminal - 10/29...   \n",
       "3             Flash Flood Watch - 10/29 - 10/30 (CW)   \n",
       "4  Traffic Delays - Cross Bronx Expressway at 3rd...   \n",
       "\n",
       "                                          Email Body  \n",
       "0  Notification issued 10/28/17 at 10:22 PM. Due ...  \n",
       "1  Notification issued 10/28/17 at 3:30 PM. The N...  \n",
       "2  Notification issued 10/28/17 at 3:00 PM. On Su...  \n",
       "3  Notification issued 10/28/17 at 9:00 AM. The N...  \n",
       "4  Notification issued 10/27/17 at 8:32 PM. Due t...  "
      ]
     },
     "execution_count": 3,
     "metadata": {},
     "output_type": "execute_result"
    }
   ],
   "source": [
    "non_outage.head()"
   ]
  },
  {
   "cell_type": "code",
   "execution_count": 4,
   "metadata": {},
   "outputs": [
    {
     "data": {
      "text/plain": [
       "(6721, 5)"
      ]
     },
     "execution_count": 4,
     "metadata": {},
     "output_type": "execute_result"
    }
   ],
   "source": [
    "non_outage.shape"
   ]
  },
  {
   "cell_type": "code",
   "execution_count": 5,
   "metadata": {},
   "outputs": [
    {
     "data": {
      "text/plain": [
       "Index(['Record ID', 'Date and Time', 'NotificationType', 'Notification Title',\n",
       "       'Email Body'],\n",
       "      dtype='object')"
      ]
     },
     "execution_count": 5,
     "metadata": {},
     "output_type": "execute_result"
    }
   ],
   "source": [
    "non_outage.columns"
   ]
  },
  {
   "cell_type": "code",
   "execution_count": 6,
   "metadata": {},
   "outputs": [],
   "source": [
    "non_outage.insert(5, 'outage', 0)"
   ]
  },
  {
   "cell_type": "code",
   "execution_count": 7,
   "metadata": {},
   "outputs": [],
   "source": [
    "non_outage.drop(columns = ['Record ID'], inplace = True)"
   ]
  },
  {
   "cell_type": "code",
   "execution_count": 8,
   "metadata": {},
   "outputs": [
    {
     "data": {
      "text/html": [
       "<div>\n",
       "<style scoped>\n",
       "    .dataframe tbody tr th:only-of-type {\n",
       "        vertical-align: middle;\n",
       "    }\n",
       "\n",
       "    .dataframe tbody tr th {\n",
       "        vertical-align: top;\n",
       "    }\n",
       "\n",
       "    .dataframe thead th {\n",
       "        text-align: right;\n",
       "    }\n",
       "</style>\n",
       "<table border=\"1\" class=\"dataframe\">\n",
       "  <thead>\n",
       "    <tr style=\"text-align: right;\">\n",
       "      <th></th>\n",
       "      <th>Date and Time</th>\n",
       "      <th>NotificationType</th>\n",
       "      <th>Notification Title</th>\n",
       "      <th>Email Body</th>\n",
       "      <th>outage</th>\n",
       "    </tr>\n",
       "  </thead>\n",
       "  <tbody>\n",
       "    <tr>\n",
       "      <th>0</th>\n",
       "      <td>10/28/2017 10:22:00 PM</td>\n",
       "      <td>Road Closure</td>\n",
       "      <td>Traffic Delays - FDR Drive at 34th Street (MN)</td>\n",
       "      <td>Notification issued 10/28/17 at 10:22 PM. Due ...</td>\n",
       "      <td>0</td>\n",
       "    </tr>\n",
       "    <tr>\n",
       "      <th>1</th>\n",
       "      <td>10/28/2017 03:30:00 PM</td>\n",
       "      <td>Weather</td>\n",
       "      <td>High Wind Watch - 10/29-10/30 (CW)</td>\n",
       "      <td>Notification issued 10/28/17 at 3:30 PM. The N...</td>\n",
       "      <td>0</td>\n",
       "    </tr>\n",
       "    <tr>\n",
       "      <th>2</th>\n",
       "      <td>10/28/2017 03:00:00 PM</td>\n",
       "      <td>Drills / Exercises</td>\n",
       "      <td>NYPD Exercise - Grand Central Terminal - 10/29...</td>\n",
       "      <td>Notification issued 10/28/17 at 3:00 PM. On Su...</td>\n",
       "      <td>0</td>\n",
       "    </tr>\n",
       "    <tr>\n",
       "      <th>3</th>\n",
       "      <td>10/28/2017 09:00:00 AM</td>\n",
       "      <td>Weather</td>\n",
       "      <td>Flash Flood Watch - 10/29 - 10/30 (CW)</td>\n",
       "      <td>Notification issued 10/28/17 at 9:00 AM. The N...</td>\n",
       "      <td>0</td>\n",
       "    </tr>\n",
       "    <tr>\n",
       "      <th>4</th>\n",
       "      <td>10/27/2017 08:32:00 PM</td>\n",
       "      <td>Road Closure</td>\n",
       "      <td>Traffic Delays - Cross Bronx Expressway at 3rd...</td>\n",
       "      <td>Notification issued 10/27/17 at 8:32 PM. Due t...</td>\n",
       "      <td>0</td>\n",
       "    </tr>\n",
       "  </tbody>\n",
       "</table>\n",
       "</div>"
      ],
      "text/plain": [
       "            Date and Time    NotificationType  \\\n",
       "0  10/28/2017 10:22:00 PM        Road Closure   \n",
       "1  10/28/2017 03:30:00 PM             Weather   \n",
       "2  10/28/2017 03:00:00 PM  Drills / Exercises   \n",
       "3  10/28/2017 09:00:00 AM             Weather   \n",
       "4  10/27/2017 08:32:00 PM        Road Closure   \n",
       "\n",
       "                                  Notification Title  \\\n",
       "0     Traffic Delays - FDR Drive at 34th Street (MN)   \n",
       "1                 High Wind Watch - 10/29-10/30 (CW)   \n",
       "2  NYPD Exercise - Grand Central Terminal - 10/29...   \n",
       "3             Flash Flood Watch - 10/29 - 10/30 (CW)   \n",
       "4  Traffic Delays - Cross Bronx Expressway at 3rd...   \n",
       "\n",
       "                                          Email Body  outage  \n",
       "0  Notification issued 10/28/17 at 10:22 PM. Due ...       0  \n",
       "1  Notification issued 10/28/17 at 3:30 PM. The N...       0  \n",
       "2  Notification issued 10/28/17 at 3:00 PM. On Su...       0  \n",
       "3  Notification issued 10/28/17 at 9:00 AM. The N...       0  \n",
       "4  Notification issued 10/27/17 at 8:32 PM. Due t...       0  "
      ]
     },
     "execution_count": 8,
     "metadata": {},
     "output_type": "execute_result"
    }
   ],
   "source": [
    "non_outage.head()"
   ]
  },
  {
   "cell_type": "code",
   "execution_count": 9,
   "metadata": {
    "scrolled": true
   },
   "outputs": [
    {
     "data": {
      "text/plain": [
       "(6721, 5)"
      ]
     },
     "execution_count": 9,
     "metadata": {},
     "output_type": "execute_result"
    }
   ],
   "source": [
    "non_outage.shape"
   ]
  },
  {
   "cell_type": "code",
   "execution_count": 10,
   "metadata": {},
   "outputs": [],
   "source": [
    "# borough = non_outage['Notification Title'].str.extract(\"(BK)|(QN)|(BX)|(SI)|(MN)|(QU)\")"
   ]
  },
  {
   "cell_type": "code",
   "execution_count": 11,
   "metadata": {},
   "outputs": [],
   "source": [
    "# borough.columns[1:]"
   ]
  },
  {
   "cell_type": "code",
   "execution_count": 12,
   "metadata": {},
   "outputs": [],
   "source": [
    "# new_borough = pd.DataFrame(borough[0].fillna(borough[1]))\n",
    "# new_borough.head()"
   ]
  },
  {
   "cell_type": "code",
   "execution_count": 13,
   "metadata": {},
   "outputs": [],
   "source": [
    "# new_borough = pd.DataFrame(new_borough[0].fillna(borough[2]))\n",
    "# new_borough.head()"
   ]
  },
  {
   "cell_type": "code",
   "execution_count": 14,
   "metadata": {},
   "outputs": [],
   "source": [
    "# for column in borough.columns[2:]:\n",
    "#     new_borough = pd.DataFrame(new_borough[0].fillna(borough[column]))\n",
    "# new_borough.head()"
   ]
  },
  {
   "cell_type": "code",
   "execution_count": 15,
   "metadata": {},
   "outputs": [],
   "source": [
    "# new_borough[0].value_counts()"
   ]
  },
  {
   "cell_type": "code",
   "execution_count": 16,
   "metadata": {},
   "outputs": [],
   "source": [
    "# new_borough.shape"
   ]
  },
  {
   "cell_type": "code",
   "execution_count": 17,
   "metadata": {},
   "outputs": [],
   "source": [
    "# new_borough.isnull().sum()"
   ]
  },
  {
   "cell_type": "code",
   "execution_count": 18,
   "metadata": {},
   "outputs": [],
   "source": [
    "# null_indices = pd.isnull(new_borough).any(1).nonzero()[0]\n",
    "# list_null = null_indices.tolist()\n",
    "# for i in list_null:\n",
    "#     print(i, non_outage['Notification Title'].iloc[i])"
   ]
  },
  {
   "cell_type": "code",
   "execution_count": 19,
   "metadata": {},
   "outputs": [],
   "source": [
    "# non_outage['borough'] = new_borough"
   ]
  },
  {
   "cell_type": "code",
   "execution_count": 20,
   "metadata": {},
   "outputs": [],
   "source": [
    "# non_outage.head()"
   ]
  },
  {
   "cell_type": "code",
   "execution_count": 21,
   "metadata": {},
   "outputs": [
    {
     "data": {
      "text/plain": [
       "['date and time',\n",
       " 'notificationtype',\n",
       " 'notification title',\n",
       " 'email body',\n",
       " 'outage']"
      ]
     },
     "execution_count": 21,
     "metadata": {},
     "output_type": "execute_result"
    }
   ],
   "source": [
    "new_cols = []\n",
    "for column in non_outage.columns:\n",
    "    new_cols.append(column.lower())\n",
    "new_cols"
   ]
  },
  {
   "cell_type": "code",
   "execution_count": 22,
   "metadata": {},
   "outputs": [],
   "source": [
    "non_outage.columns = new_cols"
   ]
  },
  {
   "cell_type": "code",
   "execution_count": 23,
   "metadata": {},
   "outputs": [
    {
     "data": {
      "text/html": [
       "<div>\n",
       "<style scoped>\n",
       "    .dataframe tbody tr th:only-of-type {\n",
       "        vertical-align: middle;\n",
       "    }\n",
       "\n",
       "    .dataframe tbody tr th {\n",
       "        vertical-align: top;\n",
       "    }\n",
       "\n",
       "    .dataframe thead th {\n",
       "        text-align: right;\n",
       "    }\n",
       "</style>\n",
       "<table border=\"1\" class=\"dataframe\">\n",
       "  <thead>\n",
       "    <tr style=\"text-align: right;\">\n",
       "      <th></th>\n",
       "      <th>date and time</th>\n",
       "      <th>notificationtype</th>\n",
       "      <th>notification title</th>\n",
       "      <th>email body</th>\n",
       "      <th>outage</th>\n",
       "    </tr>\n",
       "  </thead>\n",
       "  <tbody>\n",
       "    <tr>\n",
       "      <th>0</th>\n",
       "      <td>10/28/2017 10:22:00 PM</td>\n",
       "      <td>Road Closure</td>\n",
       "      <td>Traffic Delays - FDR Drive at 34th Street (MN)</td>\n",
       "      <td>Notification issued 10/28/17 at 10:22 PM. Due ...</td>\n",
       "      <td>0</td>\n",
       "    </tr>\n",
       "    <tr>\n",
       "      <th>1</th>\n",
       "      <td>10/28/2017 03:30:00 PM</td>\n",
       "      <td>Weather</td>\n",
       "      <td>High Wind Watch - 10/29-10/30 (CW)</td>\n",
       "      <td>Notification issued 10/28/17 at 3:30 PM. The N...</td>\n",
       "      <td>0</td>\n",
       "    </tr>\n",
       "    <tr>\n",
       "      <th>2</th>\n",
       "      <td>10/28/2017 03:00:00 PM</td>\n",
       "      <td>Drills / Exercises</td>\n",
       "      <td>NYPD Exercise - Grand Central Terminal - 10/29...</td>\n",
       "      <td>Notification issued 10/28/17 at 3:00 PM. On Su...</td>\n",
       "      <td>0</td>\n",
       "    </tr>\n",
       "    <tr>\n",
       "      <th>3</th>\n",
       "      <td>10/28/2017 09:00:00 AM</td>\n",
       "      <td>Weather</td>\n",
       "      <td>Flash Flood Watch - 10/29 - 10/30 (CW)</td>\n",
       "      <td>Notification issued 10/28/17 at 9:00 AM. The N...</td>\n",
       "      <td>0</td>\n",
       "    </tr>\n",
       "    <tr>\n",
       "      <th>4</th>\n",
       "      <td>10/27/2017 08:32:00 PM</td>\n",
       "      <td>Road Closure</td>\n",
       "      <td>Traffic Delays - Cross Bronx Expressway at 3rd...</td>\n",
       "      <td>Notification issued 10/27/17 at 8:32 PM. Due t...</td>\n",
       "      <td>0</td>\n",
       "    </tr>\n",
       "  </tbody>\n",
       "</table>\n",
       "</div>"
      ],
      "text/plain": [
       "            date and time    notificationtype  \\\n",
       "0  10/28/2017 10:22:00 PM        Road Closure   \n",
       "1  10/28/2017 03:30:00 PM             Weather   \n",
       "2  10/28/2017 03:00:00 PM  Drills / Exercises   \n",
       "3  10/28/2017 09:00:00 AM             Weather   \n",
       "4  10/27/2017 08:32:00 PM        Road Closure   \n",
       "\n",
       "                                  notification title  \\\n",
       "0     Traffic Delays - FDR Drive at 34th Street (MN)   \n",
       "1                 High Wind Watch - 10/29-10/30 (CW)   \n",
       "2  NYPD Exercise - Grand Central Terminal - 10/29...   \n",
       "3             Flash Flood Watch - 10/29 - 10/30 (CW)   \n",
       "4  Traffic Delays - Cross Bronx Expressway at 3rd...   \n",
       "\n",
       "                                          email body  outage  \n",
       "0  Notification issued 10/28/17 at 10:22 PM. Due ...       0  \n",
       "1  Notification issued 10/28/17 at 3:30 PM. The N...       0  \n",
       "2  Notification issued 10/28/17 at 3:00 PM. On Su...       0  \n",
       "3  Notification issued 10/28/17 at 9:00 AM. The N...       0  \n",
       "4  Notification issued 10/27/17 at 8:32 PM. Due t...       0  "
      ]
     },
     "execution_count": 23,
     "metadata": {},
     "output_type": "execute_result"
    }
   ],
   "source": [
    "non_outage.head()"
   ]
  },
  {
   "cell_type": "code",
   "execution_count": 24,
   "metadata": {},
   "outputs": [],
   "source": [
    "column_new_names = []\n",
    "for column in non_outage.columns:\n",
    "    new_name = column.replace(' ', '_')\n",
    "    column_new_names.append(new_name)"
   ]
  },
  {
   "cell_type": "code",
   "execution_count": 25,
   "metadata": {},
   "outputs": [
    {
     "data": {
      "text/plain": [
       "['date_and_time',\n",
       " 'notificationtype',\n",
       " 'notification_title',\n",
       " 'email_body',\n",
       " 'outage']"
      ]
     },
     "execution_count": 25,
     "metadata": {},
     "output_type": "execute_result"
    }
   ],
   "source": [
    "column_new_names"
   ]
  },
  {
   "cell_type": "code",
   "execution_count": 26,
   "metadata": {},
   "outputs": [
    {
     "data": {
      "text/html": [
       "<div>\n",
       "<style scoped>\n",
       "    .dataframe tbody tr th:only-of-type {\n",
       "        vertical-align: middle;\n",
       "    }\n",
       "\n",
       "    .dataframe tbody tr th {\n",
       "        vertical-align: top;\n",
       "    }\n",
       "\n",
       "    .dataframe thead th {\n",
       "        text-align: right;\n",
       "    }\n",
       "</style>\n",
       "<table border=\"1\" class=\"dataframe\">\n",
       "  <thead>\n",
       "    <tr style=\"text-align: right;\">\n",
       "      <th></th>\n",
       "      <th>date_and_time</th>\n",
       "      <th>notificationtype</th>\n",
       "      <th>notification_title</th>\n",
       "      <th>email_body</th>\n",
       "      <th>outage</th>\n",
       "    </tr>\n",
       "  </thead>\n",
       "  <tbody>\n",
       "    <tr>\n",
       "      <th>0</th>\n",
       "      <td>10/28/2017 10:22:00 PM</td>\n",
       "      <td>Road Closure</td>\n",
       "      <td>Traffic Delays - FDR Drive at 34th Street (MN)</td>\n",
       "      <td>Notification issued 10/28/17 at 10:22 PM. Due ...</td>\n",
       "      <td>0</td>\n",
       "    </tr>\n",
       "    <tr>\n",
       "      <th>1</th>\n",
       "      <td>10/28/2017 03:30:00 PM</td>\n",
       "      <td>Weather</td>\n",
       "      <td>High Wind Watch - 10/29-10/30 (CW)</td>\n",
       "      <td>Notification issued 10/28/17 at 3:30 PM. The N...</td>\n",
       "      <td>0</td>\n",
       "    </tr>\n",
       "    <tr>\n",
       "      <th>2</th>\n",
       "      <td>10/28/2017 03:00:00 PM</td>\n",
       "      <td>Drills / Exercises</td>\n",
       "      <td>NYPD Exercise - Grand Central Terminal - 10/29...</td>\n",
       "      <td>Notification issued 10/28/17 at 3:00 PM. On Su...</td>\n",
       "      <td>0</td>\n",
       "    </tr>\n",
       "    <tr>\n",
       "      <th>3</th>\n",
       "      <td>10/28/2017 09:00:00 AM</td>\n",
       "      <td>Weather</td>\n",
       "      <td>Flash Flood Watch - 10/29 - 10/30 (CW)</td>\n",
       "      <td>Notification issued 10/28/17 at 9:00 AM. The N...</td>\n",
       "      <td>0</td>\n",
       "    </tr>\n",
       "    <tr>\n",
       "      <th>4</th>\n",
       "      <td>10/27/2017 08:32:00 PM</td>\n",
       "      <td>Road Closure</td>\n",
       "      <td>Traffic Delays - Cross Bronx Expressway at 3rd...</td>\n",
       "      <td>Notification issued 10/27/17 at 8:32 PM. Due t...</td>\n",
       "      <td>0</td>\n",
       "    </tr>\n",
       "  </tbody>\n",
       "</table>\n",
       "</div>"
      ],
      "text/plain": [
       "            date_and_time    notificationtype  \\\n",
       "0  10/28/2017 10:22:00 PM        Road Closure   \n",
       "1  10/28/2017 03:30:00 PM             Weather   \n",
       "2  10/28/2017 03:00:00 PM  Drills / Exercises   \n",
       "3  10/28/2017 09:00:00 AM             Weather   \n",
       "4  10/27/2017 08:32:00 PM        Road Closure   \n",
       "\n",
       "                                  notification_title  \\\n",
       "0     Traffic Delays - FDR Drive at 34th Street (MN)   \n",
       "1                 High Wind Watch - 10/29-10/30 (CW)   \n",
       "2  NYPD Exercise - Grand Central Terminal - 10/29...   \n",
       "3             Flash Flood Watch - 10/29 - 10/30 (CW)   \n",
       "4  Traffic Delays - Cross Bronx Expressway at 3rd...   \n",
       "\n",
       "                                          email_body  outage  \n",
       "0  Notification issued 10/28/17 at 10:22 PM. Due ...       0  \n",
       "1  Notification issued 10/28/17 at 3:30 PM. The N...       0  \n",
       "2  Notification issued 10/28/17 at 3:00 PM. On Su...       0  \n",
       "3  Notification issued 10/28/17 at 9:00 AM. The N...       0  \n",
       "4  Notification issued 10/27/17 at 8:32 PM. Due t...       0  "
      ]
     },
     "execution_count": 26,
     "metadata": {},
     "output_type": "execute_result"
    }
   ],
   "source": [
    "non_outage.columns = column_new_names\n",
    "non_outage.head()"
   ]
  },
  {
   "cell_type": "code",
   "execution_count": 27,
   "metadata": {},
   "outputs": [],
   "source": [
    "non_outage.rename(columns={'notificationtype': 'notification_type', 'date_and_time': 'datetime'}, inplace=True)"
   ]
  },
  {
   "cell_type": "code",
   "execution_count": 28,
   "metadata": {},
   "outputs": [
    {
     "data": {
      "text/html": [
       "<div>\n",
       "<style scoped>\n",
       "    .dataframe tbody tr th:only-of-type {\n",
       "        vertical-align: middle;\n",
       "    }\n",
       "\n",
       "    .dataframe tbody tr th {\n",
       "        vertical-align: top;\n",
       "    }\n",
       "\n",
       "    .dataframe thead th {\n",
       "        text-align: right;\n",
       "    }\n",
       "</style>\n",
       "<table border=\"1\" class=\"dataframe\">\n",
       "  <thead>\n",
       "    <tr style=\"text-align: right;\">\n",
       "      <th></th>\n",
       "      <th>datetime</th>\n",
       "      <th>notification_type</th>\n",
       "      <th>notification_title</th>\n",
       "      <th>email_body</th>\n",
       "      <th>outage</th>\n",
       "    </tr>\n",
       "  </thead>\n",
       "  <tbody>\n",
       "    <tr>\n",
       "      <th>0</th>\n",
       "      <td>10/28/2017 10:22:00 PM</td>\n",
       "      <td>Road Closure</td>\n",
       "      <td>Traffic Delays - FDR Drive at 34th Street (MN)</td>\n",
       "      <td>Notification issued 10/28/17 at 10:22 PM. Due ...</td>\n",
       "      <td>0</td>\n",
       "    </tr>\n",
       "    <tr>\n",
       "      <th>1</th>\n",
       "      <td>10/28/2017 03:30:00 PM</td>\n",
       "      <td>Weather</td>\n",
       "      <td>High Wind Watch - 10/29-10/30 (CW)</td>\n",
       "      <td>Notification issued 10/28/17 at 3:30 PM. The N...</td>\n",
       "      <td>0</td>\n",
       "    </tr>\n",
       "    <tr>\n",
       "      <th>2</th>\n",
       "      <td>10/28/2017 03:00:00 PM</td>\n",
       "      <td>Drills / Exercises</td>\n",
       "      <td>NYPD Exercise - Grand Central Terminal - 10/29...</td>\n",
       "      <td>Notification issued 10/28/17 at 3:00 PM. On Su...</td>\n",
       "      <td>0</td>\n",
       "    </tr>\n",
       "    <tr>\n",
       "      <th>3</th>\n",
       "      <td>10/28/2017 09:00:00 AM</td>\n",
       "      <td>Weather</td>\n",
       "      <td>Flash Flood Watch - 10/29 - 10/30 (CW)</td>\n",
       "      <td>Notification issued 10/28/17 at 9:00 AM. The N...</td>\n",
       "      <td>0</td>\n",
       "    </tr>\n",
       "    <tr>\n",
       "      <th>4</th>\n",
       "      <td>10/27/2017 08:32:00 PM</td>\n",
       "      <td>Road Closure</td>\n",
       "      <td>Traffic Delays - Cross Bronx Expressway at 3rd...</td>\n",
       "      <td>Notification issued 10/27/17 at 8:32 PM. Due t...</td>\n",
       "      <td>0</td>\n",
       "    </tr>\n",
       "  </tbody>\n",
       "</table>\n",
       "</div>"
      ],
      "text/plain": [
       "                 datetime   notification_type  \\\n",
       "0  10/28/2017 10:22:00 PM        Road Closure   \n",
       "1  10/28/2017 03:30:00 PM             Weather   \n",
       "2  10/28/2017 03:00:00 PM  Drills / Exercises   \n",
       "3  10/28/2017 09:00:00 AM             Weather   \n",
       "4  10/27/2017 08:32:00 PM        Road Closure   \n",
       "\n",
       "                                  notification_title  \\\n",
       "0     Traffic Delays - FDR Drive at 34th Street (MN)   \n",
       "1                 High Wind Watch - 10/29-10/30 (CW)   \n",
       "2  NYPD Exercise - Grand Central Terminal - 10/29...   \n",
       "3             Flash Flood Watch - 10/29 - 10/30 (CW)   \n",
       "4  Traffic Delays - Cross Bronx Expressway at 3rd...   \n",
       "\n",
       "                                          email_body  outage  \n",
       "0  Notification issued 10/28/17 at 10:22 PM. Due ...       0  \n",
       "1  Notification issued 10/28/17 at 3:30 PM. The N...       0  \n",
       "2  Notification issued 10/28/17 at 3:00 PM. On Su...       0  \n",
       "3  Notification issued 10/28/17 at 9:00 AM. The N...       0  \n",
       "4  Notification issued 10/27/17 at 8:32 PM. Due t...       0  "
      ]
     },
     "execution_count": 28,
     "metadata": {},
     "output_type": "execute_result"
    }
   ],
   "source": [
    "non_outage.head()"
   ]
  },
  {
   "cell_type": "code",
   "execution_count": 29,
   "metadata": {},
   "outputs": [
    {
     "data": {
      "text/plain": [
       "datetime              object\n",
       "notification_type     object\n",
       "notification_title    object\n",
       "email_body            object\n",
       "outage                 int64\n",
       "dtype: object"
      ]
     },
     "execution_count": 29,
     "metadata": {},
     "output_type": "execute_result"
    }
   ],
   "source": [
    "non_outage.dtypes"
   ]
  },
  {
   "cell_type": "code",
   "execution_count": 30,
   "metadata": {},
   "outputs": [],
   "source": [
    "non_outage.datetime = pd.to_datetime(non_outage.datetime)"
   ]
  },
  {
   "cell_type": "code",
   "execution_count": 31,
   "metadata": {},
   "outputs": [
    {
     "data": {
      "text/plain": [
       "datetime              datetime64[ns]\n",
       "notification_type             object\n",
       "notification_title            object\n",
       "email_body                    object\n",
       "outage                         int64\n",
       "dtype: object"
      ]
     },
     "execution_count": 31,
     "metadata": {},
     "output_type": "execute_result"
    }
   ],
   "source": [
    "non_outage.dtypes"
   ]
  },
  {
   "cell_type": "code",
   "execution_count": 32,
   "metadata": {},
   "outputs": [
    {
     "data": {
      "text/plain": [
       "82"
      ]
     },
     "execution_count": 32,
     "metadata": {},
     "output_type": "execute_result"
    }
   ],
   "source": [
    "non_outage.duplicated('datetime').sum()"
   ]
  },
  {
   "cell_type": "code",
   "execution_count": 33,
   "metadata": {},
   "outputs": [],
   "source": [
    "non_outage.datetime = non_outage.datetime.map(lambda x: x.replace(minute=0, second=0))"
   ]
  },
  {
   "cell_type": "code",
   "execution_count": 34,
   "metadata": {},
   "outputs": [
    {
     "data": {
      "text/plain": [
       "850"
      ]
     },
     "execution_count": 34,
     "metadata": {},
     "output_type": "execute_result"
    }
   ],
   "source": [
    "non_outage.duplicated('datetime').sum()"
   ]
  },
  {
   "cell_type": "code",
   "execution_count": 35,
   "metadata": {},
   "outputs": [],
   "source": [
    "non_outage = non_outage.drop_duplicates('datetime')"
   ]
  },
  {
   "cell_type": "code",
   "execution_count": 36,
   "metadata": {},
   "outputs": [
    {
     "data": {
      "text/plain": [
       "(5871, 5)"
      ]
     },
     "execution_count": 36,
     "metadata": {},
     "output_type": "execute_result"
    }
   ],
   "source": [
    "non_outage.shape"
   ]
  },
  {
   "cell_type": "code",
   "execution_count": 37,
   "metadata": {
    "scrolled": false
   },
   "outputs": [
    {
     "data": {
      "text/html": [
       "<div>\n",
       "<style scoped>\n",
       "    .dataframe tbody tr th:only-of-type {\n",
       "        vertical-align: middle;\n",
       "    }\n",
       "\n",
       "    .dataframe tbody tr th {\n",
       "        vertical-align: top;\n",
       "    }\n",
       "\n",
       "    .dataframe thead th {\n",
       "        text-align: right;\n",
       "    }\n",
       "</style>\n",
       "<table border=\"1\" class=\"dataframe\">\n",
       "  <thead>\n",
       "    <tr style=\"text-align: right;\">\n",
       "      <th></th>\n",
       "      <th>datetime</th>\n",
       "      <th>notification_type</th>\n",
       "      <th>notification_title</th>\n",
       "      <th>email_body</th>\n",
       "      <th>outage</th>\n",
       "    </tr>\n",
       "  </thead>\n",
       "  <tbody>\n",
       "    <tr>\n",
       "      <th>0</th>\n",
       "      <td>2017-10-28 22:00:00</td>\n",
       "      <td>Road Closure</td>\n",
       "      <td>Traffic Delays - FDR Drive at 34th Street (MN)</td>\n",
       "      <td>Notification issued 10/28/17 at 10:22 PM. Due ...</td>\n",
       "      <td>0</td>\n",
       "    </tr>\n",
       "    <tr>\n",
       "      <th>1</th>\n",
       "      <td>2017-10-28 15:00:00</td>\n",
       "      <td>Weather</td>\n",
       "      <td>High Wind Watch - 10/29-10/30 (CW)</td>\n",
       "      <td>Notification issued 10/28/17 at 3:30 PM. The N...</td>\n",
       "      <td>0</td>\n",
       "    </tr>\n",
       "    <tr>\n",
       "      <th>3</th>\n",
       "      <td>2017-10-28 09:00:00</td>\n",
       "      <td>Weather</td>\n",
       "      <td>Flash Flood Watch - 10/29 - 10/30 (CW)</td>\n",
       "      <td>Notification issued 10/28/17 at 9:00 AM. The N...</td>\n",
       "      <td>0</td>\n",
       "    </tr>\n",
       "    <tr>\n",
       "      <th>4</th>\n",
       "      <td>2017-10-27 20:00:00</td>\n",
       "      <td>Road Closure</td>\n",
       "      <td>Traffic Delays - Cross Bronx Expressway at 3rd...</td>\n",
       "      <td>Notification issued 10/27/17 at 8:32 PM. Due t...</td>\n",
       "      <td>0</td>\n",
       "    </tr>\n",
       "    <tr>\n",
       "      <th>6</th>\n",
       "      <td>2017-10-27 17:00:00</td>\n",
       "      <td>Road Closure</td>\n",
       "      <td>Traffic Delays - Lincoln Tunnel (MN)</td>\n",
       "      <td>Notification issued 10/27/17 at 5:44 PM. Due t...</td>\n",
       "      <td>0</td>\n",
       "    </tr>\n",
       "  </tbody>\n",
       "</table>\n",
       "</div>"
      ],
      "text/plain": [
       "             datetime notification_type  \\\n",
       "0 2017-10-28 22:00:00      Road Closure   \n",
       "1 2017-10-28 15:00:00           Weather   \n",
       "3 2017-10-28 09:00:00           Weather   \n",
       "4 2017-10-27 20:00:00      Road Closure   \n",
       "6 2017-10-27 17:00:00      Road Closure   \n",
       "\n",
       "                                  notification_title  \\\n",
       "0     Traffic Delays - FDR Drive at 34th Street (MN)   \n",
       "1                 High Wind Watch - 10/29-10/30 (CW)   \n",
       "3             Flash Flood Watch - 10/29 - 10/30 (CW)   \n",
       "4  Traffic Delays - Cross Bronx Expressway at 3rd...   \n",
       "6               Traffic Delays - Lincoln Tunnel (MN)   \n",
       "\n",
       "                                          email_body  outage  \n",
       "0  Notification issued 10/28/17 at 10:22 PM. Due ...       0  \n",
       "1  Notification issued 10/28/17 at 3:30 PM. The N...       0  \n",
       "3  Notification issued 10/28/17 at 9:00 AM. The N...       0  \n",
       "4  Notification issued 10/27/17 at 8:32 PM. Due t...       0  \n",
       "6  Notification issued 10/27/17 at 5:44 PM. Due t...       0  "
      ]
     },
     "execution_count": 37,
     "metadata": {},
     "output_type": "execute_result"
    }
   ],
   "source": [
    "non_outage.head()"
   ]
  },
  {
   "cell_type": "code",
   "execution_count": 38,
   "metadata": {},
   "outputs": [],
   "source": [
    "non_outage.to_csv('./data/non_outages.csv')"
   ]
  }
 ],
 "metadata": {
  "kernelspec": {
   "display_name": "Python 3",
   "language": "python",
   "name": "python3"
  },
  "language_info": {
   "codemirror_mode": {
    "name": "ipython",
    "version": 3
   },
   "file_extension": ".py",
   "mimetype": "text/x-python",
   "name": "python",
   "nbconvert_exporter": "python",
   "pygments_lexer": "ipython3",
   "version": "3.6.8"
  },
  "varInspector": {
   "cols": {
    "lenName": 16,
    "lenType": 16,
    "lenVar": 40
   },
   "kernels_config": {
    "python": {
     "delete_cmd_postfix": "",
     "delete_cmd_prefix": "del ",
     "library": "var_list.py",
     "varRefreshCmd": "print(var_dic_list())"
    },
    "r": {
     "delete_cmd_postfix": ") ",
     "delete_cmd_prefix": "rm(",
     "library": "var_list.r",
     "varRefreshCmd": "cat(var_dic_list()) "
    }
   },
   "types_to_exclude": [
    "module",
    "function",
    "builtin_function_or_method",
    "instance",
    "_Feature"
   ],
   "window_display": false
  }
 },
 "nbformat": 4,
 "nbformat_minor": 2
}
