{
 "cells": [
  {
   "cell_type": "code",
   "execution_count": 1,
   "metadata": {},
   "outputs": [],
   "source": [
    "import pandas as pd"
   ]
  },
  {
   "cell_type": "code",
   "execution_count": 5,
   "metadata": {},
   "outputs": [
    {
     "name": "stdout",
     "output_type": "stream",
     "text": [
      "\u001b[34mhistorical_hourly_weather_data\u001b[m\u001b[m       new_york_weather_dropped_col.csv\r\n",
      "new_york_weather.csv                 new_york_weather_with_fahrenheit.csv\r\n",
      "new_york_weather_all_numerical.csv   weather_clean.csv\r\n",
      "new_york_weather_date_index.csv\r\n"
     ]
    }
   ],
   "source": [
    "!ls ./Weather/data"
   ]
  },
  {
   "cell_type": "code",
   "execution_count": 6,
   "metadata": {},
   "outputs": [],
   "source": [
    "weather = pd.read_csv('./Weather/data/weather_clean.csv')"
   ]
  },
  {
   "cell_type": "code",
   "execution_count": 7,
   "metadata": {},
   "outputs": [],
   "source": [
    "target = pd.read_csv('./data/target.csv')"
   ]
  },
  {
   "cell_type": "code",
   "execution_count": 9,
   "metadata": {},
   "outputs": [
    {
     "data": {
      "text/html": [
       "<div>\n",
       "<style scoped>\n",
       "    .dataframe tbody tr th:only-of-type {\n",
       "        vertical-align: middle;\n",
       "    }\n",
       "\n",
       "    .dataframe tbody tr th {\n",
       "        vertical-align: top;\n",
       "    }\n",
       "\n",
       "    .dataframe thead th {\n",
       "        text-align: right;\n",
       "    }\n",
       "</style>\n",
       "<table border=\"1\" class=\"dataframe\">\n",
       "  <thead>\n",
       "    <tr style=\"text-align: right;\">\n",
       "      <th></th>\n",
       "      <th>datetime</th>\n",
       "      <th>notification_type</th>\n",
       "      <th>notification_title</th>\n",
       "      <th>email_body</th>\n",
       "      <th>outage</th>\n",
       "    </tr>\n",
       "  </thead>\n",
       "  <tbody>\n",
       "    <tr>\n",
       "      <th>6359</th>\n",
       "      <td>2012-10-03 08:00:00</td>\n",
       "      <td>Environmental</td>\n",
       "      <td>CSO Advisory - (Citywide)</td>\n",
       "      <td>Previous 24-hour rainfall (inches) at NOAA rai...</td>\n",
       "      <td>0</td>\n",
       "    </tr>\n",
       "    <tr>\n",
       "      <th>6360</th>\n",
       "      <td>2012-10-02 14:00:00</td>\n",
       "      <td>Road Closure</td>\n",
       "      <td>Road Reopened - Maj Deegan Expy at Grand Conco...</td>\n",
       "      <td>Notification issued 10/2/12 at 2:53 PM. Follow...</td>\n",
       "      <td>0</td>\n",
       "    </tr>\n",
       "    <tr>\n",
       "      <th>6361</th>\n",
       "      <td>2012-10-02 12:00:00</td>\n",
       "      <td>Missing Adult</td>\n",
       "      <td>Silver Alert - Lourdes Duchatelier (CW)</td>\n",
       "      <td>SIVLER ALERT issued 10/2/12 at 12:45 PM. The N...</td>\n",
       "      <td>0</td>\n",
       "    </tr>\n",
       "    <tr>\n",
       "      <th>6362</th>\n",
       "      <td>2012-10-02 03:00:00</td>\n",
       "      <td>Road Closure</td>\n",
       "      <td>All Lanes Re-opened - Whitestone Bridge</td>\n",
       "      <td>Notification issued 10/2/2012 at 3:39 AM. Afte...</td>\n",
       "      <td>0</td>\n",
       "    </tr>\n",
       "    <tr>\n",
       "      <th>6363</th>\n",
       "      <td>2012-10-02 00:00:00</td>\n",
       "      <td>Road Closure</td>\n",
       "      <td>All Lanes Closed  - Whitestone Bridge</td>\n",
       "      <td>Notification issued 10/2/2012 at 12:07 AM. Due...</td>\n",
       "      <td>0</td>\n",
       "    </tr>\n",
       "  </tbody>\n",
       "</table>\n",
       "</div>"
      ],
      "text/plain": [
       "                 datetime notification_type  \\\n",
       "6359  2012-10-03 08:00:00     Environmental   \n",
       "6360  2012-10-02 14:00:00      Road Closure   \n",
       "6361  2012-10-02 12:00:00     Missing Adult   \n",
       "6362  2012-10-02 03:00:00      Road Closure   \n",
       "6363  2012-10-02 00:00:00      Road Closure   \n",
       "\n",
       "                                     notification_title  \\\n",
       "6359                          CSO Advisory - (Citywide)   \n",
       "6360  Road Reopened - Maj Deegan Expy at Grand Conco...   \n",
       "6361            Silver Alert - Lourdes Duchatelier (CW)   \n",
       "6362            All Lanes Re-opened - Whitestone Bridge   \n",
       "6363              All Lanes Closed  - Whitestone Bridge   \n",
       "\n",
       "                                             email_body  outage  \n",
       "6359  Previous 24-hour rainfall (inches) at NOAA rai...       0  \n",
       "6360  Notification issued 10/2/12 at 2:53 PM. Follow...       0  \n",
       "6361  SIVLER ALERT issued 10/2/12 at 12:45 PM. The N...       0  \n",
       "6362  Notification issued 10/2/2012 at 3:39 AM. Afte...       0  \n",
       "6363  Notification issued 10/2/2012 at 12:07 AM. Due...       0  "
      ]
     },
     "execution_count": 9,
     "metadata": {},
     "output_type": "execute_result"
    }
   ],
   "source": []
  },
  {
   "cell_type": "code",
   "execution_count": null,
   "metadata": {},
   "outputs": [],
   "source": []
  }
 ],
 "metadata": {
  "kernelspec": {
   "display_name": "Python 3",
   "language": "python",
   "name": "python3"
  },
  "language_info": {
   "codemirror_mode": {
    "name": "ipython",
    "version": 3
   },
   "file_extension": ".py",
   "mimetype": "text/x-python",
   "name": "python",
   "nbconvert_exporter": "python",
   "pygments_lexer": "ipython3",
   "version": "3.6.8"
  },
  "varInspector": {
   "cols": {
    "lenName": 16,
    "lenType": 16,
    "lenVar": 40
   },
   "kernels_config": {
    "python": {
     "delete_cmd_postfix": "",
     "delete_cmd_prefix": "del ",
     "library": "var_list.py",
     "varRefreshCmd": "print(var_dic_list())"
    },
    "r": {
     "delete_cmd_postfix": ") ",
     "delete_cmd_prefix": "rm(",
     "library": "var_list.r",
     "varRefreshCmd": "cat(var_dic_list()) "
    }
   },
   "types_to_exclude": [
    "module",
    "function",
    "builtin_function_or_method",
    "instance",
    "_Feature"
   ],
   "window_display": false
  }
 },
 "nbformat": 4,
 "nbformat_minor": 2
}
