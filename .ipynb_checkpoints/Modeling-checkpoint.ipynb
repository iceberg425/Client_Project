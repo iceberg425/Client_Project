{
 "cells": [
  {
   "cell_type": "code",
   "execution_count": 175,
   "metadata": {},
   "outputs": [],
   "source": [
    "import pandas as pd\n",
    "import numpy as np\n",
    "import matplotlib.pyplot as plt\n",
    "import seaborn as sns\n",
    "\n",
    "%matplotlib inline\n",
    "\n",
    "from sklearn.linear_model import LogisticRegression\n",
    "from sklearn.svm import SVC\n",
    "\n",
    "from sklearn.metrics import confusion_matrix, classification_report, roc_auc_score, precision_recall_curve\n"
   ]
  },
  {
   "cell_type": "code",
   "execution_count": 113,
   "metadata": {},
   "outputs": [
    {
     "data": {
      "text/html": [
       "<div>\n",
       "<style scoped>\n",
       "    .dataframe tbody tr th:only-of-type {\n",
       "        vertical-align: middle;\n",
       "    }\n",
       "\n",
       "    .dataframe tbody tr th {\n",
       "        vertical-align: top;\n",
       "    }\n",
       "\n",
       "    .dataframe thead th {\n",
       "        text-align: right;\n",
       "    }\n",
       "</style>\n",
       "<table border=\"1\" class=\"dataframe\">\n",
       "  <thead>\n",
       "    <tr style=\"text-align: right;\">\n",
       "      <th></th>\n",
       "      <th>Unnamed: 0</th>\n",
       "      <th>datetime</th>\n",
       "      <th>text</th>\n",
       "      <th>regex_clean_tweets</th>\n",
       "      <th>lemmed_tweet</th>\n",
       "      <th>temperature_f</th>\n",
       "      <th>wind_dir_degrees</th>\n",
       "      <th>wind_speed_mph</th>\n",
       "      <th>broken_clouds</th>\n",
       "      <th>drizzle</th>\n",
       "      <th>...</th>\n",
       "      <th>smoke</th>\n",
       "      <th>snow</th>\n",
       "      <th>squalls</th>\n",
       "      <th>thunderstorm</th>\n",
       "      <th>thunderstorm_with_heavy_rain</th>\n",
       "      <th>thunderstorm_with_light_drizzle</th>\n",
       "      <th>thunderstorm_with_light_rain</th>\n",
       "      <th>thunderstorm_with_rain</th>\n",
       "      <th>very_heavy_rain</th>\n",
       "      <th>outage</th>\n",
       "    </tr>\n",
       "  </thead>\n",
       "  <tbody>\n",
       "    <tr>\n",
       "      <th>0</th>\n",
       "      <td>0</td>\n",
       "      <td>2012-10-06 13:00:00</td>\n",
       "      <td>Partial  power   outage  at #MediaLoft  That's...</td>\n",
       "      <td>Partial power outage MediaLoft That twice week...</td>\n",
       "      <td>Partial power outage MediaLoft That twice week...</td>\n",
       "      <td>61.55</td>\n",
       "      <td>56.0</td>\n",
       "      <td>0</td>\n",
       "      <td>0</td>\n",
       "      <td>0</td>\n",
       "      <td>...</td>\n",
       "      <td>0</td>\n",
       "      <td>0</td>\n",
       "      <td>0</td>\n",
       "      <td>0</td>\n",
       "      <td>0</td>\n",
       "      <td>0</td>\n",
       "      <td>0</td>\n",
       "      <td>0</td>\n",
       "      <td>0</td>\n",
       "      <td>0.0</td>\n",
       "    </tr>\n",
       "    <tr>\n",
       "      <th>1</th>\n",
       "      <td>1</td>\n",
       "      <td>2012-10-12 01:00:00</td>\n",
       "      <td>Um, can someone call  ConEd , there's a  power...</td>\n",
       "      <td>Um someone call ConEd power outage Bronx Sourc...</td>\n",
       "      <td>Um someone call ConEd power outage Bronx Sourc...</td>\n",
       "      <td>59.48</td>\n",
       "      <td>260.0</td>\n",
       "      <td>15</td>\n",
       "      <td>0</td>\n",
       "      <td>0</td>\n",
       "      <td>...</td>\n",
       "      <td>0</td>\n",
       "      <td>0</td>\n",
       "      <td>0</td>\n",
       "      <td>0</td>\n",
       "      <td>0</td>\n",
       "      <td>0</td>\n",
       "      <td>0</td>\n",
       "      <td>0</td>\n",
       "      <td>0</td>\n",
       "      <td>0.0</td>\n",
       "    </tr>\n",
       "    <tr>\n",
       "      <th>2</th>\n",
       "      <td>2</td>\n",
       "      <td>2012-10-20 23:00:00</td>\n",
       "      <td>Power   outage  took over my entire block as s...</td>\n",
       "      <td>Power outage took entire block soon loaded Con...</td>\n",
       "      <td>Power outage took entire block soon loaded Con...</td>\n",
       "      <td>65.86</td>\n",
       "      <td>170.0</td>\n",
       "      <td>11</td>\n",
       "      <td>0</td>\n",
       "      <td>0</td>\n",
       "      <td>...</td>\n",
       "      <td>0</td>\n",
       "      <td>0</td>\n",
       "      <td>0</td>\n",
       "      <td>0</td>\n",
       "      <td>0</td>\n",
       "      <td>0</td>\n",
       "      <td>0</td>\n",
       "      <td>0</td>\n",
       "      <td>0</td>\n",
       "      <td>0.0</td>\n",
       "    </tr>\n",
       "    <tr>\n",
       "      <th>3</th>\n",
       "      <td>3</td>\n",
       "      <td>2012-10-26 15:00:00</td>\n",
       "      <td>Mayor: A major concern given this type of stor...</td>\n",
       "      <td>Mayor A major concern given type storm possibi...</td>\n",
       "      <td>Mayor A major concern given type storm possibi...</td>\n",
       "      <td>59.88</td>\n",
       "      <td>40.0</td>\n",
       "      <td>6</td>\n",
       "      <td>0</td>\n",
       "      <td>0</td>\n",
       "      <td>...</td>\n",
       "      <td>0</td>\n",
       "      <td>0</td>\n",
       "      <td>0</td>\n",
       "      <td>0</td>\n",
       "      <td>0</td>\n",
       "      <td>0</td>\n",
       "      <td>0</td>\n",
       "      <td>0</td>\n",
       "      <td>0</td>\n",
       "      <td>0.0</td>\n",
       "    </tr>\n",
       "    <tr>\n",
       "      <th>4</th>\n",
       "      <td>4</td>\n",
       "      <td>2012-10-26 15:00:00</td>\n",
       "      <td>A major concern given this storm is the possib...</td>\n",
       "      <td>A major concern given storm possibility prolon...</td>\n",
       "      <td>A major concern given storm possibility prolon...</td>\n",
       "      <td>59.88</td>\n",
       "      <td>40.0</td>\n",
       "      <td>6</td>\n",
       "      <td>0</td>\n",
       "      <td>0</td>\n",
       "      <td>...</td>\n",
       "      <td>0</td>\n",
       "      <td>0</td>\n",
       "      <td>0</td>\n",
       "      <td>0</td>\n",
       "      <td>0</td>\n",
       "      <td>0</td>\n",
       "      <td>0</td>\n",
       "      <td>0</td>\n",
       "      <td>0</td>\n",
       "      <td>0.0</td>\n",
       "    </tr>\n",
       "  </tbody>\n",
       "</table>\n",
       "<p>5 rows × 45 columns</p>\n",
       "</div>"
      ],
      "text/plain": [
       "   Unnamed: 0             datetime  \\\n",
       "0           0  2012-10-06 13:00:00   \n",
       "1           1  2012-10-12 01:00:00   \n",
       "2           2  2012-10-20 23:00:00   \n",
       "3           3  2012-10-26 15:00:00   \n",
       "4           4  2012-10-26 15:00:00   \n",
       "\n",
       "                                                text  \\\n",
       "0  Partial  power   outage  at #MediaLoft  That's...   \n",
       "1  Um, can someone call  ConEd , there's a  power...   \n",
       "2  Power   outage  took over my entire block as s...   \n",
       "3  Mayor: A major concern given this type of stor...   \n",
       "4  A major concern given this storm is the possib...   \n",
       "\n",
       "                                  regex_clean_tweets  \\\n",
       "0  Partial power outage MediaLoft That twice week...   \n",
       "1  Um someone call ConEd power outage Bronx Sourc...   \n",
       "2  Power outage took entire block soon loaded Con...   \n",
       "3  Mayor A major concern given type storm possibi...   \n",
       "4  A major concern given storm possibility prolon...   \n",
       "\n",
       "                                        lemmed_tweet  temperature_f  \\\n",
       "0  Partial power outage MediaLoft That twice week...          61.55   \n",
       "1  Um someone call ConEd power outage Bronx Sourc...          59.48   \n",
       "2  Power outage took entire block soon loaded Con...          65.86   \n",
       "3  Mayor A major concern given type storm possibi...          59.88   \n",
       "4  A major concern given storm possibility prolon...          59.88   \n",
       "\n",
       "   wind_dir_degrees  wind_speed_mph  broken_clouds  drizzle  ...  smoke  snow  \\\n",
       "0              56.0               0              0        0  ...      0     0   \n",
       "1             260.0              15              0        0  ...      0     0   \n",
       "2             170.0              11              0        0  ...      0     0   \n",
       "3              40.0               6              0        0  ...      0     0   \n",
       "4              40.0               6              0        0  ...      0     0   \n",
       "\n",
       "   squalls  thunderstorm  thunderstorm_with_heavy_rain  \\\n",
       "0        0             0                             0   \n",
       "1        0             0                             0   \n",
       "2        0             0                             0   \n",
       "3        0             0                             0   \n",
       "4        0             0                             0   \n",
       "\n",
       "   thunderstorm_with_light_drizzle  thunderstorm_with_light_rain  \\\n",
       "0                                0                             0   \n",
       "1                                0                             0   \n",
       "2                                0                             0   \n",
       "3                                0                             0   \n",
       "4                                0                             0   \n",
       "\n",
       "   thunderstorm_with_rain  very_heavy_rain  outage  \n",
       "0                       0                0     0.0  \n",
       "1                       0                0     0.0  \n",
       "2                       0                0     0.0  \n",
       "3                       0                0     0.0  \n",
       "4                       0                0     0.0  \n",
       "\n",
       "[5 rows x 45 columns]"
      ]
     },
     "execution_count": 113,
     "metadata": {},
     "output_type": "execute_result"
    }
   ],
   "source": [
    "df = pd.read_csv('./data/merged_weather_tweets.csv')\n",
    "df.head()"
   ]
  },
  {
   "cell_type": "code",
   "execution_count": 114,
   "metadata": {},
   "outputs": [
    {
     "data": {
      "text/plain": [
       "(45545, 45)"
      ]
     },
     "execution_count": 114,
     "metadata": {},
     "output_type": "execute_result"
    }
   ],
   "source": [
    "df.shape"
   ]
  },
  {
   "cell_type": "code",
   "execution_count": 115,
   "metadata": {},
   "outputs": [],
   "source": [
    "# drop the Unnamed and lemmed_tweet columns\n",
    "df.drop(columns=['Unnamed: 0', 'lemmed_tweet'], \n",
    "        inplace=True)"
   ]
  },
  {
   "cell_type": "code",
   "execution_count": 116,
   "metadata": {},
   "outputs": [
    {
     "data": {
      "text/plain": [
       "(45545, 43)"
      ]
     },
     "execution_count": 116,
     "metadata": {},
     "output_type": "execute_result"
    }
   ],
   "source": [
    "df.shape"
   ]
  },
  {
   "cell_type": "code",
   "execution_count": 117,
   "metadata": {},
   "outputs": [
    {
     "data": {
      "text/plain": [
       "Index(['datetime', 'text', 'regex_clean_tweets', 'temperature_f',\n",
       "       'wind_dir_degrees', 'wind_speed_mph', 'broken_clouds', 'drizzle',\n",
       "       'dust', 'few_clouds', 'fog', 'freezing_rain', 'haze',\n",
       "       'heavy_intensity_drizzle', 'heavy_intensity_rain', 'heavy_snow',\n",
       "       'heavy_thunderstorm', 'light_intensity_drizzle',\n",
       "       'light_intensity_shower_rain', 'light_rain', 'light_rain_and_snow',\n",
       "       'light_snow', 'mist', 'moderate_rain', 'overcast_clouds',\n",
       "       'proximity_thunderstorm', 'proximity_thunderstorm_with_drizzle',\n",
       "       'proximity_thunderstorm_with_rain', 'sand', 'sand/dust_whirls',\n",
       "       'scattered_clouds', 'shower_rain', 'sky_is_clear', 'smoke', 'snow',\n",
       "       'squalls', 'thunderstorm', 'thunderstorm_with_heavy_rain',\n",
       "       'thunderstorm_with_light_drizzle', 'thunderstorm_with_light_rain',\n",
       "       'thunderstorm_with_rain', 'very_heavy_rain', 'outage'],\n",
       "      dtype='object')"
      ]
     },
     "execution_count": 117,
     "metadata": {},
     "output_type": "execute_result"
    }
   ],
   "source": [
    "df.columns"
   ]
  },
  {
   "cell_type": "code",
   "execution_count": 118,
   "metadata": {},
   "outputs": [],
   "source": [
    "# extracting all the features except the target vector \n",
    "# we need this later for the PCA\n",
    "features = df.columns[2:40]"
   ]
  },
  {
   "cell_type": "code",
   "execution_count": 92,
   "metadata": {},
   "outputs": [
    {
     "data": {
      "text/plain": [
       "Index(['regex_clean_tweets', 'temperature_f', 'wind_dir_degrees',\n",
       "       'wind_speed_mph', 'broken_clouds', 'drizzle', 'dust', 'few_clouds',\n",
       "       'fog', 'freezing_rain', 'haze', 'heavy_intensity_drizzle',\n",
       "       'heavy_intensity_rain', 'heavy_snow', 'heavy_thunderstorm',\n",
       "       'light_intensity_drizzle', 'light_intensity_shower_rain', 'light_rain',\n",
       "       'light_rain_and_snow', 'light_snow', 'mist', 'moderate_rain',\n",
       "       'overcast_clouds', 'proximity_thunderstorm',\n",
       "       'proximity_thunderstorm_with_drizzle',\n",
       "       'proximity_thunderstorm_with_rain', 'sand', 'sand/dust_whirls',\n",
       "       'scattered_clouds', 'shower_rain', 'sky_is_clear', 'smoke', 'snow',\n",
       "       'squalls', 'thunderstorm', 'thunderstorm_with_heavy_rain',\n",
       "       'thunderstorm_with_light_drizzle', 'thunderstorm_with_light_rain',\n",
       "       'thunderstorm_with_rain', 'very_heavy_rain'],\n",
       "      dtype='object')"
      ]
     },
     "execution_count": 92,
     "metadata": {},
     "output_type": "execute_result"
    }
   ],
   "source": [
    "features"
   ]
  },
  {
   "cell_type": "code",
   "execution_count": 119,
   "metadata": {},
   "outputs": [],
   "source": [
    "# creating our X and y vectors\n",
    "X = df['regex_clean_tweets']\n",
    "#weather = df[features]\n",
    "y = df['outage']"
   ]
  },
  {
   "cell_type": "code",
   "execution_count": null,
   "metadata": {},
   "outputs": [],
   "source": [
    "#X = text.join(weather).head()"
   ]
  },
  {
   "cell_type": "code",
   "execution_count": null,
   "metadata": {},
   "outputs": [],
   "source": [
    "#X.shape"
   ]
  },
  {
   "cell_type": "code",
   "execution_count": null,
   "metadata": {},
   "outputs": [],
   "source": [
    "#weather.shape"
   ]
  },
  {
   "cell_type": "markdown",
   "metadata": {},
   "source": [
    "## Baseline Score"
   ]
  },
  {
   "cell_type": "code",
   "execution_count": 120,
   "metadata": {},
   "outputs": [
    {
     "data": {
      "text/plain": [
       "0.0    0.987968\n",
       "1.0    0.012032\n",
       "Name: outage, dtype: float64"
      ]
     },
     "execution_count": 120,
     "metadata": {},
     "output_type": "execute_result"
    }
   ],
   "source": [
    "y.value_counts(normalize=True)"
   ]
  },
  {
   "cell_type": "code",
   "execution_count": 121,
   "metadata": {},
   "outputs": [
    {
     "data": {
      "text/plain": [
       "0.0    44997\n",
       "1.0      548\n",
       "Name: outage, dtype: int64"
      ]
     },
     "execution_count": 121,
     "metadata": {},
     "output_type": "execute_result"
    }
   ],
   "source": [
    "y.value_counts()"
   ]
  },
  {
   "cell_type": "markdown",
   "metadata": {},
   "source": [
    "We have a highly imbalanced target vector. This is not unexpected given that power outages are infrequent. "
   ]
  },
  {
   "cell_type": "markdown",
   "metadata": {},
   "source": [
    "## Model with only Text Data"
   ]
  },
  {
   "cell_type": "code",
   "execution_count": null,
   "metadata": {},
   "outputs": [],
   "source": [
    "# what the class weight parameter in the estimator\n",
    "# does under the hood\n",
    "#len(y) / (2 * np.bincount(y))"
   ]
  },
  {
   "cell_type": "code",
   "execution_count": 122,
   "metadata": {},
   "outputs": [],
   "source": [
    "from sklearn.pipeline import Pipeline\n",
    "from sklearn.feature_extraction.text import TfidfVectorizer\n",
    "from sklearn.metrics import confusion_matrix, classification_report, roc_auc_score, precision_recall_curve, roc_curve, auc\n",
    "from sklearn.model_selection import GridSearchCV, train_test_split\n",
    " "
   ]
  },
  {
   "cell_type": "code",
   "execution_count": 123,
   "metadata": {},
   "outputs": [],
   "source": [
    "X_train, X_test, y_train, y_test = train_test_split(X, \n",
    "                                                    y, \n",
    "                                                    stratify=y,\n",
    "                                                   random_state=42)"
   ]
  },
  {
   "cell_type": "code",
   "execution_count": 124,
   "metadata": {},
   "outputs": [
    {
     "data": {
      "text/plain": [
       "(34158,)"
      ]
     },
     "execution_count": 124,
     "metadata": {},
     "output_type": "execute_result"
    }
   ],
   "source": [
    "X_train.shape"
   ]
  },
  {
   "cell_type": "code",
   "execution_count": 125,
   "metadata": {},
   "outputs": [
    {
     "data": {
      "text/plain": [
       "(11387,)"
      ]
     },
     "execution_count": 125,
     "metadata": {},
     "output_type": "execute_result"
    }
   ],
   "source": [
    "X_test.shape"
   ]
  },
  {
   "cell_type": "code",
   "execution_count": 153,
   "metadata": {},
   "outputs": [],
   "source": [
    "def classifier(X, y, estimator, random_state=42):\n",
    "    \n",
    "    '''\n",
    "    A function that takes 4 arguments: an n x 1 predictor vector, \n",
    "    an n x 1 target vector, an estimator, and sets a random state.\n",
    "    \n",
    "    It trains tests splits the data, uses a pipeline, performs a\n",
    "    grid search for optimal hyperparameters, calculates evaluation\n",
    "    metrics and returns a classification report and an roc-auc curve.\n",
    "    '''\n",
    "   \n",
    "    X_train, X_test, y_train, y_test = train_test_split(X, y, \n",
    "                                                        test_size = .40, \n",
    "                                                        stratify=y,\n",
    "                                                       random_state=42)\n",
    "    \n",
    "    \n",
    "    pipe = Pipeline([\n",
    "    ('tvec', TfidfVectorizer()),\n",
    "    ('clf', estimator)\n",
    "    ])\n",
    "\n",
    "    pipe_params = {\n",
    "    'tvec__ngram_range': [(1, 1), (1, 2), (1, 3)],\n",
    "    'tvec__max_features': [500, 1000, 2000],\n",
    "    'tvec__min_df': [1, 2, 3],\n",
    "    'tvec__max_df': [1.0, 0.8, 0.6]\n",
    "    }\n",
    "\n",
    "    gs = GridSearchCV(pipe, param_grid=pipe_params, cv=3)\n",
    "\n",
    "    gs.fit(X_train, y_train)\n",
    "\n",
    "    print(f'The Accuracy score is: {round(gs.score(X_train, y_train), 2)}')\n",
    "\n",
    "    print(gs.best_params_)\n",
    "    print(f'The cross_val_score is: {round(gs.best_score_, 2)}')\n",
    "    #y_predpr_lr = gs.best_estimator_.predict_proba(X_test)[:, 1]\n",
    "\n",
    "    tn, fp, fn, tp = confusion_matrix(y_test, gs.best_estimator_.predict(X_test)).ravel()\n",
    "\n",
    "\n",
    "\n",
    "    accuracy = round((tn + tp) / (tn + fp + fn + tp), 2)\n",
    "    misclassification = round((1 - accuracy), 2)\n",
    "    sensitivity = round((tp) / (tp + fn), 2)\n",
    "    specificity = round((tn) / (tn + fp), 2)\n",
    "    precision = round((tp) / (tp + fp), 2)\n",
    "\n",
    "    print(f'The Accuracy is: {accuracy}')\n",
    "    print(f'The Missclassification Rate is: {misclassification}')\n",
    "    print(f'The Sensitivity/Recall is: {sensitivity}')\n",
    "    print(f'The Specificity is: {specificity}')\n",
    "    print(f'The Precision is: {precision}')\n",
    "\n",
    "\n",
    "    fpr_clf, tpr_clf, _ = roc_curve(y_test, gs.best_estimator_.predict_proba(X_test)[:, 1])\n",
    "    roc_auc_clf = auc(fpr_clf, tpr_clf)\n",
    "\n",
    "    plt.figure(figsize = (10, 7))\n",
    "    plt.xlim([-0.01, 1.00])\n",
    "    plt.ylim([-0.01, 1.01])\n",
    "    plt.plot(fpr_clf, tpr_clf, lw=3, label='The ROC curve (area = {:0.2f})'.format(roc_auc_clf))\n",
    "    plt.xlabel('False Positive Rate', fontsize=16)\n",
    "    plt.ylabel('True Positive Rate', fontsize=16)\n",
    "    plt.title('ROC curve (Power Outage Related Tweets)', fontsize=18)\n",
    "    plt.legend(loc='lower right', fontsize=13)\n",
    "    plt.plot([0, 1], [0, 1], color='navy', lw=3, linestyle='--')\n",
    "\n",
    "    print(classification_report(y_test, gs.best_estimator_.predict(X_test)))\n"
   ]
  },
  {
   "cell_type": "code",
   "execution_count": 164,
   "metadata": {},
   "outputs": [
    {
     "name": "stderr",
     "output_type": "stream",
     "text": [
      "/anaconda3/lib/python3.7/site-packages/sklearn/linear_model/logistic.py:433: FutureWarning: Default solver will be changed to 'lbfgs' in 0.22. Specify a solver to silence this warning.\n",
      "  FutureWarning)\n"
     ]
    },
    {
     "name": "stdout",
     "output_type": "stream",
     "text": [
      "The Accuracy score is: 0.98\n",
      "{'tvec__max_df': 0.8, 'tvec__max_features': 2000, 'tvec__min_df': 2, 'tvec__ngram_range': (1, 2)}\n",
      "The cross_val_score is: 0.97\n",
      "The Accuracy is: 0.97\n",
      "The Missclassification Rate is: 0.03\n",
      "The Sensitivity/Recall is: 0.29\n",
      "The Specificity is: 0.98\n",
      "The Precision is: 0.16\n",
      "              precision    recall  f1-score   support\n",
      "\n",
      "         0.0       0.99      0.98      0.99     17999\n",
      "         1.0       0.16      0.29      0.21       219\n",
      "\n",
      "   micro avg       0.97      0.97      0.97     18218\n",
      "   macro avg       0.58      0.63      0.60     18218\n",
      "weighted avg       0.98      0.97      0.98     18218\n",
      "\n"
     ]
    },
    {
     "data": {
      "image/png": "[encoded data removed]",
      "text/plain": [
       "<Figure size 720x504 with 1 Axes>"
      ]
     },
     "metadata": {
      "needs_background": "light"
     },
     "output_type": "display_data"
    }
   ],
   "source": [
    "classifier(X, y, \n",
    "           LogisticRegression(class_weight={1:107}), \n",
    "           random_state=42)"
   ]
  },
  {
   "cell_type": "code",
   "execution_count": 176,
   "metadata": {},
   "outputs": [
    {
     "name": "stderr",
     "output_type": "stream",
     "text": [
      "/anaconda3/lib/python3.7/site-packages/sklearn/svm/base.py:196: FutureWarning: The default value of gamma will change from 'auto' to 'scale' in version 0.22 to account better for unscaled features. Set gamma explicitly to 'auto' or 'scale' to avoid this warning.\n",
      "  \"avoid this warning.\", FutureWarning)\n"
     ]
    },
    {
     "name": "stdout",
     "output_type": "stream",
     "text": [
      "The Accuracy score is: 0.95\n",
      "{'tvec__max_df': 1.0, 'tvec__max_features': 500, 'tvec__min_df': 1, 'tvec__ngram_range': (1, 1)}\n",
      "The cross_val_score is: 0.95\n",
      "The Accuracy is: 0.95\n",
      "The Missclassification Rate is: 0.05\n",
      "The Sensitivity/Recall is: 0.36\n",
      "The Specificity is: 0.96\n",
      "The Precision is: 0.1\n",
      "              precision    recall  f1-score   support\n",
      "\n",
      "         0.0       0.99      0.96      0.98     17999\n",
      "         1.0       0.10      0.36      0.15       219\n",
      "\n",
      "   micro avg       0.95      0.95      0.95     18218\n",
      "   macro avg       0.54      0.66      0.56     18218\n",
      "weighted avg       0.98      0.95      0.97     18218\n",
      "\n"
     ]
    },
    {
     "data": {
      "image/png": "[encoded data removed]",
      "text/plain": [
       "<Figure size 720x504 with 1 Axes>"
      ]
     },
     "metadata": {
      "needs_background": "light"
     },
     "output_type": "display_data"
    }
   ],
   "source": [
    "classifier(X, y, \n",
    "           SVC(class_weight={1: 107}, probability=True), \n",
    "           random_state=42)"
   ]
  },
  {
   "cell_type": "code",
   "execution_count": 166,
   "metadata": {},
   "outputs": [],
   "source": [
    "# probs_y = lr.predict_proba(X_test_vec)#[:, 1]"
   ]
  },
  {
   "cell_type": "code",
   "execution_count": 167,
   "metadata": {},
   "outputs": [],
   "source": [
    "# y_test_pr = probs_y[:, 1]"
   ]
  },
  {
   "cell_type": "code",
   "execution_count": 168,
   "metadata": {},
   "outputs": [],
   "source": [
    "# y_train_pr = lr.predict_proba(X_train_tvec)[:, 1]"
   ]
  },
  {
   "cell_type": "code",
   "execution_count": null,
   "metadata": {},
   "outputs": [],
   "source": [
    "# ### Predict test_y values and probabilities based on fitted logistic regression model\n",
    "\n",
    "# pred_y=lr.predict(X_test_vec) \n",
    "\n",
    "# probs_y=lr.predict_proba(X_test_vec) \n",
    "#   # probs_y is a 2-D array of probability of being labeled as 0 (first \n",
    "#   # column of array) vs 1 (2nd column in array)\n",
    "\n",
    "# from sklearn.metrics import precision_recall_curve\n",
    "# precision, recall, thresholds = precision_recall_curve(y_test, probs_y[:, 1]) \n",
    "#    #retrieve probability of being 1(in second column of probs_y)\n",
    "\n",
    "# #pr_auc = metrics.auc(recall, precision)\n",
    "\n",
    "# plt.figure(figsize=(10, 7))\n",
    "# plt.title(\"Precision-Recall vs Threshold Chart\")\n",
    "# plt.plot(thresholds, precision[: -1], \"b--\", label=\"Precision\")\n",
    "# plt.plot(thresholds, recall[: -1], \"r--\", label=\"Recall\")\n",
    "# plt.ylabel(\"Precision, Recall\")\n",
    "# plt.xlabel(\"Threshold\")\n",
    "# plt.legend(loc=\"lower left\")\n",
    "# plt.ylim([0,1])"
   ]
  },
  {
   "cell_type": "code",
   "execution_count": null,
   "metadata": {},
   "outputs": [],
   "source": [
    "# threshold, upper, lower = 0.95, 1, 0"
   ]
  },
  {
   "cell_type": "code",
   "execution_count": null,
   "metadata": {},
   "outputs": [],
   "source": [
    "# y_train_scores = np.where(y_train_pr > threshold, upper, lower)"
   ]
  },
  {
   "cell_type": "code",
   "execution_count": null,
   "metadata": {},
   "outputs": [],
   "source": [
    "# y_test_scores = np.where(y_test_pr > threshold, upper, lower)"
   ]
  },
  {
   "cell_type": "code",
   "execution_count": 177,
   "metadata": {},
   "outputs": [
    {
     "data": {
      "image/png": "[encoded data removed]",
      "text/plain": [
       "<Figure size 720x432 with 1 Axes>"
      ]
     },
     "metadata": {
      "needs_background": "light"
     },
     "output_type": "display_data"
    }
   ],
   "source": [
    "# returns a bar plot of some evaluation metrics for the two models\n",
    "\n",
    "objects = ('Recall (wSVC)', 'Precision (wSVC)', 'Accuracy (wSVC)', \n",
    "           'Recall (wlr)', 'Precision (wlr)', 'Accuracy (wlr)')\n",
    "y_pos = np.arange(len(objects))\n",
    "performance = [36, 10, 95, 29, 16, 97] # scores from the calculations above\n",
    " \n",
    "plt.figure(figsize=(10, 6))\n",
    "    \n",
    "plt.barh(y_pos, performance, align='center', alpha=0.5)\n",
    "plt.yticks(y_pos, objects)\n",
    "plt.xticks(np.arange(0, 110, step=10))\n",
    "plt.ylabel('')\n",
    "plt.xlabel('Score', fontsize=16)\n",
    "plt.title('Calssification Metrics', fontsize=18)\n",
    "\n",
    "plt.savefig('./images/metrics.png')"
   ]
  },
  {
   "cell_type": "markdown",
   "metadata": {},
   "source": [
    "Reported in the barplot above are the recall, precision and accuracy scores from the two class weighted models. We employ class weights to address the high class imbalance in our data. \n",
    "\n",
    "The evaluation of our models are summarized thus:\n",
    "\n",
    "- Using the `weighted Support Vector Classifier (wSVC)`, we obtain a better recall when compared to that from the `weighted Logistic Regression (wlr)`. \n",
    "\n",
    "\n",
    "- However, the trade-off between the recall and precision appears to be more pronounced for the `SVC` than the `lr`. \n",
    "\n",
    "\n",
    "- The `lr` has a better `f1 score` than that from the `SVC`. The `f1 score` can be interpreted as a weighted average of the precision and recall values, where an `f1 score` reaches its best value at 1 and worst value at 0. "
   ]
  },
  {
   "cell_type": "code",
   "execution_count": null,
   "metadata": {},
   "outputs": [],
   "source": []
  },
  {
   "cell_type": "code",
   "execution_count": null,
   "metadata": {},
   "outputs": [],
   "source": []
  }
 ],
 "metadata": {
  "kernelspec": {
   "display_name": "Python 3",
   "language": "python",
   "name": "python3"
  },
  "language_info": {
   "codemirror_mode": {
    "name": "ipython",
    "version": 3
   },
   "file_extension": ".py",
   "mimetype": "text/x-python",
   "name": "python",
   "nbconvert_exporter": "python",
   "pygments_lexer": "ipython3",
   "version": "3.7.1"
  }
 },
 "nbformat": 4,
 "nbformat_minor": 2
}
