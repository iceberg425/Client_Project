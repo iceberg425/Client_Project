{
 "cells": [
  {
   "cell_type": "code",
   "execution_count": 1,
   "metadata": {},
   "outputs": [],
   "source": [
    "import pandas as pd\n",
    "import numpy as np\n",
    "import matplotlib.pyplot as plt\n",
    "import seaborn as sns\n",
    "\n",
    "%matplotlib inline\n",
    "\n",
    "from sklearn.linear_model import LogisticRegression\n",
    "from sklearn.naive_bayes import MultinomialNB\n",
    "\n",
    "from sklearn.metrics import confusion_matrix, classification_report, roc_auc_score, precision_recall_curve\n",
    "from sklearn.ensemble import GradientBoostingClassifier\n"
   ]
  },
  {
   "cell_type": "code",
   "execution_count": 2,
   "metadata": {},
   "outputs": [
    {
     "data": {
      "text/html": [
       "<div>\n",
       "<style scoped>\n",
       "    .dataframe tbody tr th:only-of-type {\n",
       "        vertical-align: middle;\n",
       "    }\n",
       "\n",
       "    .dataframe tbody tr th {\n",
       "        vertical-align: top;\n",
       "    }\n",
       "\n",
       "    .dataframe thead th {\n",
       "        text-align: right;\n",
       "    }\n",
       "</style>\n",
       "<table border=\"1\" class=\"dataframe\">\n",
       "  <thead>\n",
       "    <tr style=\"text-align: right;\">\n",
       "      <th></th>\n",
       "      <th>Unnamed: 0</th>\n",
       "      <th>datetime</th>\n",
       "      <th>text</th>\n",
       "      <th>regex_clean_tweets</th>\n",
       "      <th>lemmed_tweet</th>\n",
       "      <th>temperature_f</th>\n",
       "      <th>wind_dir_degrees</th>\n",
       "      <th>wind_speed_mph</th>\n",
       "      <th>broken_clouds</th>\n",
       "      <th>drizzle</th>\n",
       "      <th>...</th>\n",
       "      <th>smoke</th>\n",
       "      <th>snow</th>\n",
       "      <th>squalls</th>\n",
       "      <th>thunderstorm</th>\n",
       "      <th>thunderstorm_with_heavy_rain</th>\n",
       "      <th>thunderstorm_with_light_drizzle</th>\n",
       "      <th>thunderstorm_with_light_rain</th>\n",
       "      <th>thunderstorm_with_rain</th>\n",
       "      <th>very_heavy_rain</th>\n",
       "      <th>outage</th>\n",
       "    </tr>\n",
       "  </thead>\n",
       "  <tbody>\n",
       "    <tr>\n",
       "      <th>0</th>\n",
       "      <td>0</td>\n",
       "      <td>2012-10-06 13:00:00</td>\n",
       "      <td>Partial  power   outage  at #MediaLoft  That's...</td>\n",
       "      <td>Partial power outage MediaLoft That twice week...</td>\n",
       "      <td>Partial power outage MediaLoft That twice week...</td>\n",
       "      <td>61.55</td>\n",
       "      <td>56.0</td>\n",
       "      <td>0</td>\n",
       "      <td>0</td>\n",
       "      <td>0</td>\n",
       "      <td>...</td>\n",
       "      <td>0</td>\n",
       "      <td>0</td>\n",
       "      <td>0</td>\n",
       "      <td>0</td>\n",
       "      <td>0</td>\n",
       "      <td>0</td>\n",
       "      <td>0</td>\n",
       "      <td>0</td>\n",
       "      <td>0</td>\n",
       "      <td>0.0</td>\n",
       "    </tr>\n",
       "    <tr>\n",
       "      <th>1</th>\n",
       "      <td>1</td>\n",
       "      <td>2012-10-12 01:00:00</td>\n",
       "      <td>Um, can someone call  ConEd , there's a  power...</td>\n",
       "      <td>Um someone call ConEd power outage Bronx Sourc...</td>\n",
       "      <td>Um someone call ConEd power outage Bronx Sourc...</td>\n",
       "      <td>59.48</td>\n",
       "      <td>260.0</td>\n",
       "      <td>15</td>\n",
       "      <td>0</td>\n",
       "      <td>0</td>\n",
       "      <td>...</td>\n",
       "      <td>0</td>\n",
       "      <td>0</td>\n",
       "      <td>0</td>\n",
       "      <td>0</td>\n",
       "      <td>0</td>\n",
       "      <td>0</td>\n",
       "      <td>0</td>\n",
       "      <td>0</td>\n",
       "      <td>0</td>\n",
       "      <td>0.0</td>\n",
       "    </tr>\n",
       "    <tr>\n",
       "      <th>2</th>\n",
       "      <td>2</td>\n",
       "      <td>2012-10-20 23:00:00</td>\n",
       "      <td>Power   outage  took over my entire block as s...</td>\n",
       "      <td>Power outage took entire block soon loaded Con...</td>\n",
       "      <td>Power outage took entire block soon loaded Con...</td>\n",
       "      <td>65.86</td>\n",
       "      <td>170.0</td>\n",
       "      <td>11</td>\n",
       "      <td>0</td>\n",
       "      <td>0</td>\n",
       "      <td>...</td>\n",
       "      <td>0</td>\n",
       "      <td>0</td>\n",
       "      <td>0</td>\n",
       "      <td>0</td>\n",
       "      <td>0</td>\n",
       "      <td>0</td>\n",
       "      <td>0</td>\n",
       "      <td>0</td>\n",
       "      <td>0</td>\n",
       "      <td>0.0</td>\n",
       "    </tr>\n",
       "    <tr>\n",
       "      <th>3</th>\n",
       "      <td>3</td>\n",
       "      <td>2012-10-26 15:00:00</td>\n",
       "      <td>Mayor: A major concern given this type of stor...</td>\n",
       "      <td>Mayor A major concern given type storm possibi...</td>\n",
       "      <td>Mayor A major concern given type storm possibi...</td>\n",
       "      <td>59.88</td>\n",
       "      <td>40.0</td>\n",
       "      <td>6</td>\n",
       "      <td>0</td>\n",
       "      <td>0</td>\n",
       "      <td>...</td>\n",
       "      <td>0</td>\n",
       "      <td>0</td>\n",
       "      <td>0</td>\n",
       "      <td>0</td>\n",
       "      <td>0</td>\n",
       "      <td>0</td>\n",
       "      <td>0</td>\n",
       "      <td>0</td>\n",
       "      <td>0</td>\n",
       "      <td>0.0</td>\n",
       "    </tr>\n",
       "    <tr>\n",
       "      <th>4</th>\n",
       "      <td>4</td>\n",
       "      <td>2012-10-26 15:00:00</td>\n",
       "      <td>A major concern given this storm is the possib...</td>\n",
       "      <td>A major concern given storm possibility prolon...</td>\n",
       "      <td>A major concern given storm possibility prolon...</td>\n",
       "      <td>59.88</td>\n",
       "      <td>40.0</td>\n",
       "      <td>6</td>\n",
       "      <td>0</td>\n",
       "      <td>0</td>\n",
       "      <td>...</td>\n",
       "      <td>0</td>\n",
       "      <td>0</td>\n",
       "      <td>0</td>\n",
       "      <td>0</td>\n",
       "      <td>0</td>\n",
       "      <td>0</td>\n",
       "      <td>0</td>\n",
       "      <td>0</td>\n",
       "      <td>0</td>\n",
       "      <td>0.0</td>\n",
       "    </tr>\n",
       "  </tbody>\n",
       "</table>\n",
       "<p>5 rows × 45 columns</p>\n",
       "</div>"
      ],
      "text/plain": [
       "   Unnamed: 0             datetime  \\\n",
       "0           0  2012-10-06 13:00:00   \n",
       "1           1  2012-10-12 01:00:00   \n",
       "2           2  2012-10-20 23:00:00   \n",
       "3           3  2012-10-26 15:00:00   \n",
       "4           4  2012-10-26 15:00:00   \n",
       "\n",
       "                                                text  \\\n",
       "0  Partial  power   outage  at #MediaLoft  That's...   \n",
       "1  Um, can someone call  ConEd , there's a  power...   \n",
       "2  Power   outage  took over my entire block as s...   \n",
       "3  Mayor: A major concern given this type of stor...   \n",
       "4  A major concern given this storm is the possib...   \n",
       "\n",
       "                                  regex_clean_tweets  \\\n",
       "0  Partial power outage MediaLoft That twice week...   \n",
       "1  Um someone call ConEd power outage Bronx Sourc...   \n",
       "2  Power outage took entire block soon loaded Con...   \n",
       "3  Mayor A major concern given type storm possibi...   \n",
       "4  A major concern given storm possibility prolon...   \n",
       "\n",
       "                                        lemmed_tweet  temperature_f  \\\n",
       "0  Partial power outage MediaLoft That twice week...          61.55   \n",
       "1  Um someone call ConEd power outage Bronx Sourc...          59.48   \n",
       "2  Power outage took entire block soon loaded Con...          65.86   \n",
       "3  Mayor A major concern given type storm possibi...          59.88   \n",
       "4  A major concern given storm possibility prolon...          59.88   \n",
       "\n",
       "   wind_dir_degrees  wind_speed_mph  broken_clouds  drizzle  ...  smoke  snow  \\\n",
       "0              56.0               0              0        0  ...      0     0   \n",
       "1             260.0              15              0        0  ...      0     0   \n",
       "2             170.0              11              0        0  ...      0     0   \n",
       "3              40.0               6              0        0  ...      0     0   \n",
       "4              40.0               6              0        0  ...      0     0   \n",
       "\n",
       "   squalls  thunderstorm  thunderstorm_with_heavy_rain  \\\n",
       "0        0             0                             0   \n",
       "1        0             0                             0   \n",
       "2        0             0                             0   \n",
       "3        0             0                             0   \n",
       "4        0             0                             0   \n",
       "\n",
       "   thunderstorm_with_light_drizzle  thunderstorm_with_light_rain  \\\n",
       "0                                0                             0   \n",
       "1                                0                             0   \n",
       "2                                0                             0   \n",
       "3                                0                             0   \n",
       "4                                0                             0   \n",
       "\n",
       "   thunderstorm_with_rain  very_heavy_rain  outage  \n",
       "0                       0                0     0.0  \n",
       "1                       0                0     0.0  \n",
       "2                       0                0     0.0  \n",
       "3                       0                0     0.0  \n",
       "4                       0                0     0.0  \n",
       "\n",
       "[5 rows x 45 columns]"
      ]
     },
     "execution_count": 2,
     "metadata": {},
     "output_type": "execute_result"
    }
   ],
   "source": [
    "df = pd.read_csv('./data/merged_weather_tweets.csv')\n",
    "df.head()"
   ]
  },
  {
   "cell_type": "code",
   "execution_count": 3,
   "metadata": {},
   "outputs": [
    {
     "data": {
      "text/plain": [
       "(45545, 45)"
      ]
     },
     "execution_count": 3,
     "metadata": {},
     "output_type": "execute_result"
    }
   ],
   "source": [
    "df.shape"
   ]
  },
  {
   "cell_type": "code",
   "execution_count": 4,
   "metadata": {},
   "outputs": [],
   "source": [
    "df.drop(columns=['Unnamed: 0'], inplace=True)"
   ]
  },
  {
   "cell_type": "code",
   "execution_count": 5,
   "metadata": {},
   "outputs": [
    {
     "data": {
      "text/plain": [
       "(45545, 44)"
      ]
     },
     "execution_count": 5,
     "metadata": {},
     "output_type": "execute_result"
    }
   ],
   "source": [
    "df.shape"
   ]
  },
  {
   "cell_type": "code",
   "execution_count": null,
   "metadata": {},
   "outputs": [],
   "source": [
    "# df.drop(\n",
    "#     columns=['Unnamed: 0', 'geopolitical_ents', 'proper_nouns', 'lemmed_tweet', 'nouns'], \n",
    "#     inplace=True)\n",
    "\n"
   ]
  },
  {
   "cell_type": "code",
   "execution_count": 6,
   "metadata": {},
   "outputs": [
    {
     "data": {
      "text/plain": [
       "Index(['datetime', 'text', 'regex_clean_tweets', 'lemmed_tweet',\n",
       "       'temperature_f', 'wind_dir_degrees', 'wind_speed_mph', 'broken_clouds',\n",
       "       'drizzle', 'dust', 'few_clouds', 'fog', 'freezing_rain', 'haze',\n",
       "       'heavy_intensity_drizzle', 'heavy_intensity_rain', 'heavy_snow',\n",
       "       'heavy_thunderstorm', 'light_intensity_drizzle',\n",
       "       'light_intensity_shower_rain', 'light_rain', 'light_rain_and_snow',\n",
       "       'light_snow', 'mist', 'moderate_rain', 'overcast_clouds',\n",
       "       'proximity_thunderstorm', 'proximity_thunderstorm_with_drizzle',\n",
       "       'proximity_thunderstorm_with_rain', 'sand', 'sand/dust_whirls',\n",
       "       'scattered_clouds', 'shower_rain', 'sky_is_clear', 'smoke', 'snow',\n",
       "       'squalls', 'thunderstorm', 'thunderstorm_with_heavy_rain',\n",
       "       'thunderstorm_with_light_drizzle', 'thunderstorm_with_light_rain',\n",
       "       'thunderstorm_with_rain', 'very_heavy_rain', 'outage'],\n",
       "      dtype='object')"
      ]
     },
     "execution_count": 6,
     "metadata": {},
     "output_type": "execute_result"
    }
   ],
   "source": [
    "df.columns"
   ]
  },
  {
   "cell_type": "code",
   "execution_count": 8,
   "metadata": {},
   "outputs": [],
   "source": [
    "# extracting all the features except the text data and the target vector \n",
    "# we need this later for the PCA\n",
    "features = df.columns[4:43]"
   ]
  },
  {
   "cell_type": "code",
   "execution_count": 9,
   "metadata": {},
   "outputs": [
    {
     "data": {
      "text/plain": [
       "Index(['temperature_f', 'wind_dir_degrees', 'wind_speed_mph', 'broken_clouds',\n",
       "       'drizzle', 'dust', 'few_clouds', 'fog', 'freezing_rain', 'haze',\n",
       "       'heavy_intensity_drizzle', 'heavy_intensity_rain', 'heavy_snow',\n",
       "       'heavy_thunderstorm', 'light_intensity_drizzle',\n",
       "       'light_intensity_shower_rain', 'light_rain', 'light_rain_and_snow',\n",
       "       'light_snow', 'mist', 'moderate_rain', 'overcast_clouds',\n",
       "       'proximity_thunderstorm', 'proximity_thunderstorm_with_drizzle',\n",
       "       'proximity_thunderstorm_with_rain', 'sand', 'sand/dust_whirls',\n",
       "       'scattered_clouds', 'shower_rain', 'sky_is_clear', 'smoke', 'snow',\n",
       "       'squalls', 'thunderstorm', 'thunderstorm_with_heavy_rain',\n",
       "       'thunderstorm_with_light_drizzle', 'thunderstorm_with_light_rain',\n",
       "       'thunderstorm_with_rain', 'very_heavy_rain'],\n",
       "      dtype='object')"
      ]
     },
     "execution_count": 9,
     "metadata": {},
     "output_type": "execute_result"
    }
   ],
   "source": [
    "features"
   ]
  },
  {
   "cell_type": "code",
   "execution_count": 10,
   "metadata": {},
   "outputs": [],
   "source": [
    "X = df['regex_clean_tweets']\n",
    "y = df['outage']"
   ]
  },
  {
   "cell_type": "markdown",
   "metadata": {},
   "source": [
    "## Baseline Score"
   ]
  },
  {
   "cell_type": "code",
   "execution_count": 11,
   "metadata": {},
   "outputs": [
    {
     "data": {
      "text/plain": [
       "0.0    0.987968\n",
       "1.0    0.012032\n",
       "Name: outage, dtype: float64"
      ]
     },
     "execution_count": 11,
     "metadata": {},
     "output_type": "execute_result"
    }
   ],
   "source": [
    "y.value_counts(normalize=True)"
   ]
  },
  {
   "cell_type": "markdown",
   "metadata": {},
   "source": [
    "## Model with only Text Data"
   ]
  },
  {
   "cell_type": "code",
   "execution_count": 12,
   "metadata": {},
   "outputs": [
    {
     "data": {
      "text/plain": [
       "0.0    44997\n",
       "1.0      548\n",
       "Name: outage, dtype: int64"
      ]
     },
     "execution_count": 12,
     "metadata": {},
     "output_type": "execute_result"
    }
   ],
   "source": [
    "y.value_counts()"
   ]
  },
  {
   "cell_type": "code",
   "execution_count": 13,
   "metadata": {},
   "outputs": [
    {
     "data": {
      "text/plain": [
       "array([ 0.50608929, 41.55565693])"
      ]
     },
     "execution_count": 13,
     "metadata": {},
     "output_type": "execute_result"
    }
   ],
   "source": [
    "# what the class weight parameter in the estimator\n",
    "# does under the hood\n",
    "#len(y) / (2 * np.bincount(y))"
   ]
  },
  {
   "cell_type": "code",
   "execution_count": 17,
   "metadata": {},
   "outputs": [],
   "source": [
    "from sklearn.pipeline import Pipeline\n",
    "from sklearn.feature_extraction.text import TfidfVectorizer\n",
    "from sklearn.metrics import confusion_matrix, classification_report, roc_auc_score, precision_recall_curve, roc_curve, auc\n",
    "from sklearn.model_selection import GridSearchCV, train_test_split\n",
    " "
   ]
  },
  {
   "cell_type": "code",
   "execution_count": 25,
   "metadata": {},
   "outputs": [],
   "source": [
    "X_train, X_test, y_train, y_test = train_test_split(X, y, test_size = .40, stratify=y)"
   ]
  },
  {
   "cell_type": "code",
   "execution_count": 26,
   "metadata": {},
   "outputs": [
    {
     "data": {
      "text/plain": [
       "(27327,)"
      ]
     },
     "execution_count": 26,
     "metadata": {},
     "output_type": "execute_result"
    }
   ],
   "source": [
    "X_train.shape"
   ]
  },
  {
   "cell_type": "code",
   "execution_count": 27,
   "metadata": {},
   "outputs": [
    {
     "data": {
      "text/plain": [
       "(18218,)"
      ]
     },
     "execution_count": 27,
     "metadata": {},
     "output_type": "execute_result"
    }
   ],
   "source": [
    "X_test.shape"
   ]
  },
  {
   "cell_type": "code",
   "execution_count": 28,
   "metadata": {},
   "outputs": [],
   "source": [
    "def classifier(X, y):\n",
    "   \n",
    "    X_train, X_test, y_train, y_test = train_test_split(X, y, test_size = .40, stratify=y)\n",
    "    \n",
    "    \n",
    "    pipe = Pipeline([\n",
    "    ('tvec', TfidfVectorizer()),\n",
    "    ('clf', LogisticRegression(class_weight='balanced', random_state=42))\n",
    "    ])\n",
    "\n",
    "    pipe_params = {\n",
    "    'tvec__ngram_range': [(1, 1), (1, 2), (1, 3)],\n",
    "    'tvec__max_features': [500, 1000, 2000],\n",
    "    'tvec__min_df': [1, 2, 3],\n",
    "    'tvec__max_df': [1.0, 0.8, 0.6],\n",
    "    'clf__C': [1.0, 0.8, 0.4]\n",
    "    }\n",
    "\n",
    "    gs = GridSearchCV(pipe, param_grid=pipe_params, cv=3)\n",
    "\n",
    "    gs.fit(X_train, y_train)\n",
    "\n",
    "    print(f'The Accuracy score is: {round(gs.score(X_train, y_train), 2)}')\n",
    "\n",
    "    print(gs.best_params_)\n",
    "    print(f'The cross_val_score is: {round(gs.best_score_, 2)}')\n",
    "    #y_predpr_lr = gs.best_estimator_.predict_proba(X_test)[:, 1]\n",
    "\n",
    "    tn, fp, fn, tp = confusion_matrix(y_test, gs.best_estimator_.predict(X_test)).ravel()\n",
    "\n",
    "\n",
    "\n",
    "    accuracy = round((tn + tp) / (tn + fp + fn + tp), 2)\n",
    "    misclassification = round((1 - accuracy), 2)\n",
    "    sensitivity = round((tp) / (tp + fn), 2)\n",
    "    specificity = round((tn) / (tn + fp), 2)\n",
    "    precision = round((tp) / (tp + fp), 2)\n",
    "\n",
    "    print(f'The Accuracy is: {accuracy}')\n",
    "    print(f'The Missclassification Rate is: {misclassification}')\n",
    "    print(f'The Sensitivity/Recall is: {sensitivity}')\n",
    "    print(f'The Specificity is: {specificity}')\n",
    "    print(f'The Precision is: {precision}')\n",
    "\n",
    "\n",
    "    fpr_clf, tpr_clf, _ = roc_curve(y_test, gs.best_estimator_.predict_proba(X_test)[:, 1])\n",
    "    roc_auc_clf = auc(fpr_clf, tpr_clf)\n",
    "\n",
    "    plt.figure(figsize = (10, 7))\n",
    "    plt.xlim([-0.01, 1.00])\n",
    "    plt.ylim([-0.01, 1.01])\n",
    "    plt.plot(fpr_clf, tpr_clf, lw=3, label='The ROC curve (area = {:0.2f})'.format(roc_auc_clf))\n",
    "    plt.xlabel('False Positive Rate', fontsize=16)\n",
    "    plt.ylabel('True Positive Rate', fontsize=16)\n",
    "    plt.title('ROC curve (Power Outage Related Tweets)', fontsize=18)\n",
    "    plt.legend(loc='lower right', fontsize=13)\n",
    "    plt.plot([0, 1], [0, 1], color='navy', lw=3, linestyle='--')\n",
    "\n",
    "    print(classification_report(y_test, gs.best_estimator_.predict(X_test)))\n"
   ]
  },
  {
   "cell_type": "code",
   "execution_count": 29,
   "metadata": {},
   "outputs": [
    {
     "name": "stderr",
     "output_type": "stream",
     "text": [
      "/anaconda3/lib/python3.7/site-packages/sklearn/linear_model/logistic.py:433: FutureWarning: Default solver will be changed to 'lbfgs' in 0.22. Specify a solver to silence this warning.\n",
      "  FutureWarning)\n"
     ]
    },
    {
     "name": "stdout",
     "output_type": "stream",
     "text": [
      "The Accuracy score is: 0.97\n",
      "{'clf__C': 1.0, 'tvec__max_df': 0.8, 'tvec__max_features': 2000, 'tvec__min_df': 1, 'tvec__ngram_range': (1, 2)}\n",
      "The cross_val_score is: 0.97\n",
      "The Accuracy is: 0.97\n",
      "The Missclassification Rate is: 0.03\n",
      "The Sensitivity/Recall is: 0.31\n",
      "The Specificity is: 0.98\n",
      "The Precision is: 0.14\n",
      "              precision    recall  f1-score   support\n",
      "\n",
      "         0.0       0.99      0.98      0.98     17999\n",
      "         1.0       0.14      0.31      0.19       219\n",
      "\n",
      "   micro avg       0.97      0.97      0.97     18218\n",
      "   macro avg       0.56      0.64      0.59     18218\n",
      "weighted avg       0.98      0.97      0.97     18218\n",
      "\n"
     ]
    },
    {
     "data": {
      "image/png": "[encoded data removed]",
      "text/plain": [
       "<Figure size 720x504 with 1 Axes>"
      ]
     },
     "metadata": {
      "needs_background": "light"
     },
     "output_type": "display_data"
    }
   ],
   "source": [
    "classifier(X, y)"
   ]
  },
  {
   "cell_type": "code",
   "execution_count": 51,
   "metadata": {},
   "outputs": [],
   "source": [
    "from sklearn.model_selection import cross_val_score"
   ]
  },
  {
   "cell_type": "code",
   "execution_count": 43,
   "metadata": {},
   "outputs": [],
   "source": [
    "tvec = TfidfVectorizer()\n",
    "X_train_vec = tvec.fit_transform(X_train)\n",
    "X_test_vec = tvec.transform(X_test)"
   ]
  },
  {
   "cell_type": "code",
   "execution_count": 44,
   "metadata": {},
   "outputs": [
    {
     "data": {
      "text/plain": [
       "(27327, 2994)"
      ]
     },
     "execution_count": 44,
     "metadata": {},
     "output_type": "execute_result"
    }
   ],
   "source": [
    "X_train_vec.todense().shape"
   ]
  },
  {
   "cell_type": "code",
   "execution_count": 45,
   "metadata": {},
   "outputs": [
    {
     "data": {
      "text/plain": [
       "2994"
      ]
     },
     "execution_count": 45,
     "metadata": {},
     "output_type": "execute_result"
    }
   ],
   "source": [
    "len(tvec.get_feature_names())"
   ]
  },
  {
   "cell_type": "code",
   "execution_count": 47,
   "metadata": {},
   "outputs": [],
   "source": [
    "X_train_tvec = pd.DataFrame(X_train_vec.todense(), columns=tvec.get_feature_names())"
   ]
  },
  {
   "cell_type": "code",
   "execution_count": 58,
   "metadata": {},
   "outputs": [],
   "source": [
    "lr = LogisticRegression(solver='lbfgs')"
   ]
  },
  {
   "cell_type": "code",
   "execution_count": 59,
   "metadata": {},
   "outputs": [
    {
     "data": {
      "text/plain": [
       "LogisticRegression(C=1.0, class_weight=None, dual=False, fit_intercept=True,\n",
       "          intercept_scaling=1, max_iter=100, multi_class='warn',\n",
       "          n_jobs=None, penalty='l2', random_state=None, solver='lbfgs',\n",
       "          tol=0.0001, verbose=0, warm_start=False)"
      ]
     },
     "execution_count": 59,
     "metadata": {},
     "output_type": "execute_result"
    }
   ],
   "source": [
    "lr.fit(X_train_tvec, y_train)"
   ]
  },
  {
   "cell_type": "code",
   "execution_count": 60,
   "metadata": {},
   "outputs": [
    {
     "data": {
      "text/plain": [
       "0.987960647138592"
      ]
     },
     "execution_count": 60,
     "metadata": {},
     "output_type": "execute_result"
    }
   ],
   "source": [
    "cross_val_score(lr, X_train_tvec, y_train, cv=10).mean()"
   ]
  },
  {
   "cell_type": "code",
   "execution_count": 61,
   "metadata": {},
   "outputs": [
    {
     "data": {
      "text/plain": [
       "0.9879972188677865"
      ]
     },
     "execution_count": 61,
     "metadata": {},
     "output_type": "execute_result"
    }
   ],
   "source": [
    "lr.score(X_train_tvec, y_train)"
   ]
  },
  {
   "cell_type": "code",
   "execution_count": 62,
   "metadata": {},
   "outputs": [
    {
     "data": {
      "text/plain": [
       "0.9880338127127017"
      ]
     },
     "execution_count": 62,
     "metadata": {},
     "output_type": "execute_result"
    }
   ],
   "source": [
    "lr.score(X_test_vec, y_test)"
   ]
  },
  {
   "cell_type": "code",
   "execution_count": 64,
   "metadata": {},
   "outputs": [
    {
     "data": {
      "text/plain": [
       "array([-4.79710699, -4.79710699, -4.79710699, ..., -4.79710699,\n",
       "       -4.79710699, -4.79710699])"
      ]
     },
     "execution_count": 64,
     "metadata": {},
     "output_type": "execute_result"
    }
   ],
   "source": [
    "lr.predict_log_proba(X_test_vec)[:, 1]"
   ]
  },
  {
   "cell_type": "code",
   "execution_count": null,
   "metadata": {},
   "outputs": [],
   "source": [
    "### Predict test_y values and probabilities based on fitted logistic regression model\n",
    "\n",
    "pred_y=log.predict(test_x) \n",
    "\n",
    "probs_y=log.predict_proba(test_x) \n",
    "  # probs_y is a 2-D array of probability of being labeled as 0 (first \n",
    "  column of \n",
    "  array) vs 1 (2nd column in array)\n",
    "\n",
    "from sklearn.metrics import precision_recall_curve\n",
    "precision, recall, thresholds = precision_recall_curve(test_y, probs_y[:, \n",
    "1]) \n",
    "   #retrieve probability of being 1(in second column of probs_y)\n",
    "pr_auc = metrics.auc(recall, precision)\n",
    "\n",
    "plt.title(\"Precision-Recall vs Threshold Chart\")\n",
    "plt.plot(thresholds, precision[: -1], \"b--\", label=\"Precision\")\n",
    "plt.plot(thresholds, recall[: -1], \"r--\", label=\"Recall\")\n",
    "plt.ylabel(\"Precision, Recall\")\n",
    "plt.xlabel(\"Threshold\")\n",
    "plt.legend(loc=\"lower left\")\n",
    "plt.ylim([0,1])"
   ]
  },
  {
   "cell_type": "markdown",
   "metadata": {},
   "source": [
    "## PCA"
   ]
  },
  {
   "cell_type": "code",
   "execution_count": null,
   "metadata": {},
   "outputs": [],
   "source": [
    "features"
   ]
  },
  {
   "cell_type": "code",
   "execution_count": null,
   "metadata": {},
   "outputs": [],
   "source": [
    "from sklearn.preprocessing import StandardScaler\n",
    "from sklearn.decomposition import PCA"
   ]
  },
  {
   "cell_type": "code",
   "execution_count": null,
   "metadata": {},
   "outputs": [],
   "source": [
    "X_pca = df[features]"
   ]
  },
  {
   "cell_type": "code",
   "execution_count": null,
   "metadata": {},
   "outputs": [],
   "source": [
    "ss = StandardScaler()\n",
    "X_t = ss.fit_transform(X_pca)"
   ]
  },
  {
   "cell_type": "code",
   "execution_count": null,
   "metadata": {},
   "outputs": [],
   "source": [
    "pca = PCA()"
   ]
  },
  {
   "cell_type": "code",
   "execution_count": null,
   "metadata": {},
   "outputs": [],
   "source": [
    "pca.fit(X_t)"
   ]
  },
  {
   "cell_type": "code",
   "execution_count": null,
   "metadata": {},
   "outputs": [],
   "source": [
    "Z = pca.transform(X_t)"
   ]
  },
  {
   "cell_type": "code",
   "execution_count": null,
   "metadata": {},
   "outputs": [],
   "source": [
    "pd.DataFrame(Z).describe()"
   ]
  },
  {
   "cell_type": "code",
   "execution_count": null,
   "metadata": {},
   "outputs": [],
   "source": [
    "plt.scatter(pd.DataFrame(Z[0]),\n",
    "            pd.DataFrame(Z[1]));"
   ]
  },
  {
   "cell_type": "code",
   "execution_count": null,
   "metadata": {},
   "outputs": [],
   "source": [
    "pca.explained_variance_"
   ]
  },
  {
   "cell_type": "code",
   "execution_count": null,
   "metadata": {},
   "outputs": [],
   "source": [
    "var_exp = pca.explained_variance_ratio_"
   ]
  },
  {
   "cell_type": "code",
   "execution_count": null,
   "metadata": {},
   "outputs": [],
   "source": [
    "cum_var_exp = np.cumsum(var_exp)\n",
    "cum_var_exp"
   ]
  },
  {
   "cell_type": "code",
   "execution_count": null,
   "metadata": {},
   "outputs": [],
   "source": [
    "plt.figure(figsize=(9,7))\n",
    "\n",
    "# Plot the cumulative explained variance\n",
    "component_number = range(len(cum_var_exp))\n",
    "plt.plot(component_number, cum_var_exp, lw=3)\n",
    "\n",
    "# Add horizontal lines at y=0 and y=100\n",
    "plt.axhline(y=0, linewidth=1, color='grey', ls='dashed')\n",
    "plt.axhline(y=1, linewidth=1, color='grey', ls='dashed')\n",
    "\n",
    "# Set the x and y axis limits\n",
    "ax = plt.gca()\n",
    "ax.set_xlim([-1,26])\n",
    "ax.set_ylim([-0.05,1.05])\n",
    "\n",
    "# Label the axes\n",
    "ax.set_ylabel('cumulative variance explained', fontsize=16)\n",
    "ax.set_xlabel('component', fontsize=16)\n",
    "\n",
    "# Make the tick labels bigger\n",
    "for tick in ax.xaxis.get_major_ticks():\n",
    "    tick.label.set_fontsize(12) \n",
    "for tick in ax.yaxis.get_major_ticks():\n",
    "    tick.label.set_fontsize(12) \n",
    "    \n",
    "# Add title\n",
    "ax.set_title('Component vs Cumulative variance explained\\n', fontsize=20)\n",
    "\n",
    "plt.show()"
   ]
  },
  {
   "cell_type": "code",
   "execution_count": null,
   "metadata": {},
   "outputs": [],
   "source": [
    "pca = PCA(n_components=5)"
   ]
  },
  {
   "cell_type": "code",
   "execution_count": null,
   "metadata": {},
   "outputs": [],
   "source": [
    "pca.fit(X_t)"
   ]
  },
  {
   "cell_type": "code",
   "execution_count": null,
   "metadata": {},
   "outputs": [],
   "source": [
    "Z = pca.transform(X_t)"
   ]
  },
  {
   "cell_type": "code",
   "execution_count": null,
   "metadata": {},
   "outputs": [],
   "source": [
    "pd.DataFrame(Z).describe()"
   ]
  },
  {
   "cell_type": "code",
   "execution_count": null,
   "metadata": {},
   "outputs": [],
   "source": [
    "pd.DataFrame(Z).shape"
   ]
  },
  {
   "cell_type": "code",
   "execution_count": null,
   "metadata": {},
   "outputs": [],
   "source": [
    "df_pca = pd.DataFrame(Z, \n",
    "                      columns=['pca_1', 'pca_2', 'pca_3', 'pca_4', 'pca_5'])"
   ]
  },
  {
   "cell_type": "code",
   "execution_count": null,
   "metadata": {},
   "outputs": [],
   "source": [
    "df_pca.head()"
   ]
  },
  {
   "cell_type": "code",
   "execution_count": null,
   "metadata": {},
   "outputs": [],
   "source": [
    "tvec = TfidfVectorizer(max_df=0.8,\n",
    "                      max_features=500,\n",
    "                      min_df=1,\n",
    "                      ngram_range=(1,3))\n",
    "\n",
    "X_vec = tvec.fit_transform(X)"
   ]
  },
  {
   "cell_type": "code",
   "execution_count": null,
   "metadata": {},
   "outputs": [],
   "source": [
    "df_vec = pd.DataFrame(X_vec.todense(), columns=tvec.get_feature_names())"
   ]
  },
  {
   "cell_type": "code",
   "execution_count": null,
   "metadata": {},
   "outputs": [],
   "source": [
    "df_vec.head()"
   ]
  },
  {
   "cell_type": "code",
   "execution_count": null,
   "metadata": {},
   "outputs": [],
   "source": [
    "df_vec.join(df_pca).head()"
   ]
  },
  {
   "cell_type": "code",
   "execution_count": null,
   "metadata": {},
   "outputs": [],
   "source": []
  }
 ],
 "metadata": {
  "kernelspec": {
   "display_name": "Python 3",
   "language": "python",
   "name": "python3"
  },
  "language_info": {
   "codemirror_mode": {
    "name": "ipython",
    "version": 3
   },
   "file_extension": ".py",
   "mimetype": "text/x-python",
   "name": "python",
   "nbconvert_exporter": "python",
   "pygments_lexer": "ipython3",
   "version": "3.7.1"
  }
 },
 "nbformat": 4,
 "nbformat_minor": 2
}
