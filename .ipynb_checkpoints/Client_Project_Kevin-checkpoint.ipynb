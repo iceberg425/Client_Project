{
 "cells": [
  {
   "cell_type": "code",
   "execution_count": 11,
   "metadata": {},
   "outputs": [
    {
     "name": "stdout",
     "output_type": "stream",
     "text": [
      "Client_Project_Ixchel.ipynb\r\n",
      "Client_Project_John.ipynb\r\n",
      "Client_Project_Kevin.ipynb\r\n",
      "Ixchel_Twitter.ipynb\r\n",
      "\u001b[34mTwitterScraper_duplicates\u001b[m\u001b[m\r\n",
      "Untitled.pdf\r\n",
      "converting-text-files-to-combined-dictionary.ipynb\r\n",
      "\u001b[34mdata\u001b[m\u001b[m\r\n",
      "mycsv.csv\r\n",
      "ny_temperature_Jan1.2017_Oct28.2017.ipynb\r\n",
      "saved_tweets.csv\r\n",
      "\u001b[34mtweet\u001b[m\u001b[m\r\n",
      "tweets_scrape_first_df.csv\r\n",
      "twitter_credentials.json\r\n"
     ]
    }
   ],
   "source": [
    "!ls"
   ]
  },
  {
   "cell_type": "code",
   "execution_count": 10,
   "metadata": {},
   "outputs": [],
   "source": [
    "import pandas as pd"
   ]
  },
  {
   "cell_type": "code",
   "execution_count": 25,
   "metadata": {},
   "outputs": [],
   "source": [
    "df = pd.read_csv('tweets_scrape_first_df.csv')"
   ]
  },
  {
   "cell_type": "code",
   "execution_count": 26,
   "metadata": {},
   "outputs": [],
   "source": [
    "df.drop(columns='Unnamed: 0', inplace=True)"
   ]
  },
  {
   "cell_type": "code",
   "execution_count": 27,
   "metadata": {},
   "outputs": [
    {
     "data": {
      "text/html": [
       "<div>\n",
       "<style scoped>\n",
       "    .dataframe tbody tr th:only-of-type {\n",
       "        vertical-align: middle;\n",
       "    }\n",
       "\n",
       "    .dataframe tbody tr th {\n",
       "        vertical-align: top;\n",
       "    }\n",
       "\n",
       "    .dataframe thead th {\n",
       "        text-align: right;\n",
       "    }\n",
       "</style>\n",
       "<table border=\"1\" class=\"dataframe\">\n",
       "  <thead>\n",
       "    <tr style=\"text-align: right;\">\n",
       "      <th></th>\n",
       "      <th>ID</th>\n",
       "      <th>datetime</th>\n",
       "      <th>has_media</th>\n",
       "      <th>is_reply</th>\n",
       "      <th>is_retweet</th>\n",
       "      <th>medias</th>\n",
       "      <th>nbr_favorite</th>\n",
       "      <th>nbr_reply</th>\n",
       "      <th>nbr_retweet</th>\n",
       "      <th>text</th>\n",
       "      <th>url</th>\n",
       "      <th>user_id</th>\n",
       "      <th>usernameTweet</th>\n",
       "    </tr>\n",
       "  </thead>\n",
       "  <tbody>\n",
       "    <tr>\n",
       "      <th>0</th>\n",
       "      <td>267716394043465728</td>\n",
       "      <td>2012-11-11 14:52:16</td>\n",
       "      <td>NaN</td>\n",
       "      <td>False</td>\n",
       "      <td>False</td>\n",
       "      <td>NaN</td>\n",
       "      <td>0.0</td>\n",
       "      <td>0.0</td>\n",
       "      <td>0.0</td>\n",
       "      <td>ConEd : NY Sandy  power   outages  slip; costs...</td>\n",
       "      <td>/RealJezzy/status/267716394043465728</td>\n",
       "      <td>504279674.0</td>\n",
       "      <td>RealJezzy</td>\n",
       "    </tr>\n",
       "    <tr>\n",
       "      <th>1</th>\n",
       "      <td>298660085255770112</td>\n",
       "      <td>2013-02-05 00:11:27</td>\n",
       "      <td>NaN</td>\n",
       "      <td>False</td>\n",
       "      <td>False</td>\n",
       "      <td>NaN</td>\n",
       "      <td>0.0</td>\n",
       "      <td>0.0</td>\n",
       "      <td>0.0</td>\n",
       "      <td>@ ConEdison  \\n Power   outage  in queens</td>\n",
       "      <td>/meirBGNY/status/298660085255770112</td>\n",
       "      <td>909594764.0</td>\n",
       "      <td>meirBGNY</td>\n",
       "    </tr>\n",
       "    <tr>\n",
       "      <th>2</th>\n",
       "      <td>21860028236</td>\n",
       "      <td>2010-08-22 17:33:44</td>\n",
       "      <td>NaN</td>\n",
       "      <td>False</td>\n",
       "      <td>False</td>\n",
       "      <td>NaN</td>\n",
       "      <td>0.0</td>\n",
       "      <td>0.0</td>\n",
       "      <td>0.0</td>\n",
       "      <td>Power   outage  in the Whitestone section of Q...</td>\n",
       "      <td>/olgushka1/status/21860028236</td>\n",
       "      <td>68886571.0</td>\n",
       "      <td>olgushka1</td>\n",
       "    </tr>\n",
       "    <tr>\n",
       "      <th>3</th>\n",
       "      <td>1069021302667833344</td>\n",
       "      <td>2018-12-01 19:11:54</td>\n",
       "      <td>NaN</td>\n",
       "      <td>False</td>\n",
       "      <td>False</td>\n",
       "      <td>NaN</td>\n",
       "      <td>0.0</td>\n",
       "      <td>1.0</td>\n",
       "      <td>0.0</td>\n",
       "      <td>about that  power   outage  that is now over.....</td>\n",
       "      <td>/jimcasale/status/1069021302667833344</td>\n",
       "      <td>12393522.0</td>\n",
       "      <td>jimcasale</td>\n",
       "    </tr>\n",
       "    <tr>\n",
       "      <th>4</th>\n",
       "      <td>767077182124486656</td>\n",
       "      <td>2016-08-20 15:13:46</td>\n",
       "      <td>NaN</td>\n",
       "      <td>False</td>\n",
       "      <td>False</td>\n",
       "      <td>NaN</td>\n",
       "      <td>3.0</td>\n",
       "      <td>0.0</td>\n",
       "      <td>7.0</td>\n",
       "      <td>.@ConEdison  is responding to a  power   outag...</td>\n",
       "      <td>/NotifyNYC/status/767077182124486656</td>\n",
       "      <td>16145875.0</td>\n",
       "      <td>NotifyNYC</td>\n",
       "    </tr>\n",
       "  </tbody>\n",
       "</table>\n",
       "</div>"
      ],
      "text/plain": [
       "                    ID             datetime has_media is_reply is_retweet  \\\n",
       "0   267716394043465728  2012-11-11 14:52:16       NaN    False      False   \n",
       "1   298660085255770112  2013-02-05 00:11:27       NaN    False      False   \n",
       "2          21860028236  2010-08-22 17:33:44       NaN    False      False   \n",
       "3  1069021302667833344  2018-12-01 19:11:54       NaN    False      False   \n",
       "4   767077182124486656  2016-08-20 15:13:46       NaN    False      False   \n",
       "\n",
       "  medias  nbr_favorite  nbr_reply  nbr_retweet  \\\n",
       "0    NaN           0.0        0.0          0.0   \n",
       "1    NaN           0.0        0.0          0.0   \n",
       "2    NaN           0.0        0.0          0.0   \n",
       "3    NaN           0.0        1.0          0.0   \n",
       "4    NaN           3.0        0.0          7.0   \n",
       "\n",
       "                                                text  \\\n",
       "0  ConEd : NY Sandy  power   outages  slip; costs...   \n",
       "1          @ ConEdison  \\n Power   outage  in queens   \n",
       "2  Power   outage  in the Whitestone section of Q...   \n",
       "3  about that  power   outage  that is now over.....   \n",
       "4  .@ConEdison  is responding to a  power   outag...   \n",
       "\n",
       "                                     url      user_id usernameTweet  \n",
       "0   /RealJezzy/status/267716394043465728  504279674.0     RealJezzy  \n",
       "1    /meirBGNY/status/298660085255770112  909594764.0      meirBGNY  \n",
       "2          /olgushka1/status/21860028236   68886571.0     olgushka1  \n",
       "3  /jimcasale/status/1069021302667833344   12393522.0     jimcasale  \n",
       "4   /NotifyNYC/status/767077182124486656   16145875.0     NotifyNYC  "
      ]
     },
     "execution_count": 27,
     "metadata": {},
     "output_type": "execute_result"
    }
   ],
   "source": [
    "df.head()"
   ]
  },
  {
   "cell_type": "code",
   "execution_count": 28,
   "metadata": {},
   "outputs": [
    {
     "data": {
      "text/plain": [
       "ID                object\n",
       "datetime          object\n",
       "has_media         object\n",
       "is_reply          object\n",
       "is_retweet        object\n",
       "medias            object\n",
       "nbr_favorite     float64\n",
       "nbr_reply        float64\n",
       "nbr_retweet      float64\n",
       "text              object\n",
       "url               object\n",
       "user_id          float64\n",
       "usernameTweet     object\n",
       "dtype: object"
      ]
     },
     "execution_count": 28,
     "metadata": {},
     "output_type": "execute_result"
    }
   ],
   "source": [
    "df.dtypes"
   ]
  },
  {
   "cell_type": "code",
   "execution_count": 29,
   "metadata": {},
   "outputs": [
    {
     "data": {
      "text/plain": [
       "0    2012-11-11 14:52:16\n",
       "1    2013-02-05 00:11:27\n",
       "2    2010-08-22 17:33:44\n",
       "3    2018-12-01 19:11:54\n",
       "4    2016-08-20 15:13:46\n",
       "5    2012-10-28 12:22:46\n",
       "6    2018-03-02 22:08:23\n",
       "7    2016-08-13 16:46:34\n",
       "8    2016-08-13 16:38:28\n",
       "9    2012-10-29 18:16:23\n",
       "10   2012-10-31 04:19:06\n",
       "11   2012-10-30 17:30:20\n",
       "Name: datetime, dtype: datetime64[ns]"
      ]
     },
     "execution_count": 29,
     "metadata": {},
     "output_type": "execute_result"
    }
   ],
   "source": [
    "pd.to_datetime(df['datetime'][:12])"
   ]
  },
  {
   "cell_type": "code",
   "execution_count": 50,
   "metadata": {},
   "outputs": [
    {
     "name": "stdout",
     "output_type": "stream",
     "text": [
      "20567184\n"
     ]
    }
   ],
   "source": [
    "for i in df.datetime:\n",
    "    if i[5:7] not in ['01', '02', '03', '04', '05', '06', '07', '08', '09', '10', '11', '12']:\n",
    "        print(i)"
   ]
  },
  {
   "cell_type": "code",
   "execution_count": 52,
   "metadata": {},
   "outputs": [
    {
     "data": {
      "text/html": [
       "<div>\n",
       "<style scoped>\n",
       "    .dataframe tbody tr th:only-of-type {\n",
       "        vertical-align: middle;\n",
       "    }\n",
       "\n",
       "    .dataframe tbody tr th {\n",
       "        vertical-align: top;\n",
       "    }\n",
       "\n",
       "    .dataframe thead th {\n",
       "        text-align: right;\n",
       "    }\n",
       "</style>\n",
       "<table border=\"1\" class=\"dataframe\">\n",
       "  <thead>\n",
       "    <tr style=\"text-align: right;\">\n",
       "      <th></th>\n",
       "      <th>ID</th>\n",
       "      <th>datetime</th>\n",
       "      <th>has_media</th>\n",
       "      <th>is_reply</th>\n",
       "      <th>is_retweet</th>\n",
       "      <th>medias</th>\n",
       "      <th>nbr_favorite</th>\n",
       "      <th>nbr_reply</th>\n",
       "      <th>nbr_retweet</th>\n",
       "      <th>text</th>\n",
       "      <th>url</th>\n",
       "      <th>user_id</th>\n",
       "      <th>usernameTweet</th>\n",
       "    </tr>\n",
       "  </thead>\n",
       "  <tbody>\n",
       "    <tr>\n",
       "      <th>2808</th>\n",
       "      <td>/Maggie4Obama/status/108170030474203136</td>\n",
       "      <td>20567184</td>\n",
       "      <td>Maggie4Obama</td>\n",
       "      <td>NaN</td>\n",
       "      <td>NaN</td>\n",
       "      <td>NaN</td>\n",
       "      <td>NaN</td>\n",
       "      <td>NaN</td>\n",
       "      <td>NaN</td>\n",
       "      <td>NaN</td>\n",
       "      <td>NaN</td>\n",
       "      <td>NaN</td>\n",
       "      <td>NaN</td>\n",
       "    </tr>\n",
       "  </tbody>\n",
       "</table>\n",
       "</div>"
      ],
      "text/plain": [
       "                                           ID  datetime     has_media  \\\n",
       "2808  /Maggie4Obama/status/108170030474203136  20567184  Maggie4Obama   \n",
       "\n",
       "     is_reply is_retweet medias  nbr_favorite  nbr_reply  nbr_retweet text  \\\n",
       "2808      NaN        NaN    NaN           NaN        NaN          NaN  NaN   \n",
       "\n",
       "      url  user_id usernameTweet  \n",
       "2808  NaN      NaN           NaN  "
      ]
     },
     "execution_count": 52,
     "metadata": {},
     "output_type": "execute_result"
    }
   ],
   "source": [
    "df[df.datetime == '20567184']"
   ]
  },
  {
   "cell_type": "code",
   "execution_count": 54,
   "metadata": {},
   "outputs": [
    {
     "data": {
      "text/plain": [
       "ID               /Maggie4Obama/status/108170030474203136\n",
       "datetime                                        20567184\n",
       "has_media                                   Maggie4Obama\n",
       "is_reply                                             NaN\n",
       "is_retweet                                           NaN\n",
       "medias                                               NaN\n",
       "nbr_favorite                                         NaN\n",
       "nbr_reply                                            NaN\n",
       "nbr_retweet                                          NaN\n",
       "text                                                 NaN\n",
       "url                                                  NaN\n",
       "user_id                                              NaN\n",
       "usernameTweet                                        NaN\n",
       "Name: 2808, dtype: object"
      ]
     },
     "execution_count": 54,
     "metadata": {},
     "output_type": "execute_result"
    }
   ],
   "source": [
    "df.iloc[2808]"
   ]
  },
  {
   "cell_type": "code",
   "execution_count": 56,
   "metadata": {},
   "outputs": [],
   "source": [
    "df.drop(index=2808, inplace=True)"
   ]
  },
  {
   "cell_type": "code",
   "execution_count": 57,
   "metadata": {},
   "outputs": [
    {
     "data": {
      "text/html": [
       "<div>\n",
       "<style scoped>\n",
       "    .dataframe tbody tr th:only-of-type {\n",
       "        vertical-align: middle;\n",
       "    }\n",
       "\n",
       "    .dataframe tbody tr th {\n",
       "        vertical-align: top;\n",
       "    }\n",
       "\n",
       "    .dataframe thead th {\n",
       "        text-align: right;\n",
       "    }\n",
       "</style>\n",
       "<table border=\"1\" class=\"dataframe\">\n",
       "  <thead>\n",
       "    <tr style=\"text-align: right;\">\n",
       "      <th></th>\n",
       "      <th>ID</th>\n",
       "      <th>datetime</th>\n",
       "      <th>has_media</th>\n",
       "      <th>is_reply</th>\n",
       "      <th>is_retweet</th>\n",
       "      <th>medias</th>\n",
       "      <th>nbr_favorite</th>\n",
       "      <th>nbr_reply</th>\n",
       "      <th>nbr_retweet</th>\n",
       "      <th>text</th>\n",
       "      <th>url</th>\n",
       "      <th>user_id</th>\n",
       "      <th>usernameTweet</th>\n",
       "    </tr>\n",
       "  </thead>\n",
       "  <tbody>\n",
       "  </tbody>\n",
       "</table>\n",
       "</div>"
      ],
      "text/plain": [
       "Empty DataFrame\n",
       "Columns: [ID, datetime, has_media, is_reply, is_retweet, medias, nbr_favorite, nbr_reply, nbr_retweet, text, url, user_id, usernameTweet]\n",
       "Index: []"
      ]
     },
     "execution_count": 57,
     "metadata": {},
     "output_type": "execute_result"
    }
   ],
   "source": [
    "df[df.datetime == '20567184']"
   ]
  },
  {
   "cell_type": "code",
   "execution_count": 61,
   "metadata": {},
   "outputs": [],
   "source": [
    "df.datetime = pd.to_datetime(df.datetime)"
   ]
  },
  {
   "cell_type": "code",
   "execution_count": 62,
   "metadata": {},
   "outputs": [
    {
     "data": {
      "text/plain": [
       "ID                       object\n",
       "datetime         datetime64[ns]\n",
       "has_media                object\n",
       "is_reply                 object\n",
       "is_retweet               object\n",
       "medias                   object\n",
       "nbr_favorite            float64\n",
       "nbr_reply               float64\n",
       "nbr_retweet             float64\n",
       "text                     object\n",
       "url                      object\n",
       "user_id                 float64\n",
       "usernameTweet            object\n",
       "dtype: object"
      ]
     },
     "execution_count": 62,
     "metadata": {},
     "output_type": "execute_result"
    }
   ],
   "source": [
    "df.dtypes"
   ]
  },
  {
   "cell_type": "code",
   "execution_count": 64,
   "metadata": {},
   "outputs": [
    {
     "data": {
      "text/plain": [
       "ID                  0\n",
       "datetime            0\n",
       "has_media        4225\n",
       "is_reply            0\n",
       "is_retweet          0\n",
       "medias           4225\n",
       "nbr_favorite        0\n",
       "nbr_reply           0\n",
       "nbr_retweet         0\n",
       "text                0\n",
       "url                 1\n",
       "user_id             1\n",
       "usernameTweet       1\n",
       "dtype: int64"
      ]
     },
     "execution_count": 64,
     "metadata": {},
     "output_type": "execute_result"
    }
   ],
   "source": [
    "df.isnull().sum()"
   ]
  },
  {
   "cell_type": "markdown",
   "metadata": {},
   "source": [
    "#### Unique Values"
   ]
  },
  {
   "cell_type": "code",
   "execution_count": 93,
   "metadata": {},
   "outputs": [
    {
     "data": {
      "text/html": [
       "<div>\n",
       "<style scoped>\n",
       "    .dataframe tbody tr th:only-of-type {\n",
       "        vertical-align: middle;\n",
       "    }\n",
       "\n",
       "    .dataframe tbody tr th {\n",
       "        vertical-align: top;\n",
       "    }\n",
       "\n",
       "    .dataframe thead th {\n",
       "        text-align: right;\n",
       "    }\n",
       "</style>\n",
       "<table border=\"1\" class=\"dataframe\">\n",
       "  <thead>\n",
       "    <tr style=\"text-align: right;\">\n",
       "      <th></th>\n",
       "      <th>column</th>\n",
       "      <th>unique values</th>\n",
       "    </tr>\n",
       "  </thead>\n",
       "  <tbody>\n",
       "    <tr>\n",
       "      <th>0</th>\n",
       "      <td>ID</td>\n",
       "      <td>4374</td>\n",
       "    </tr>\n",
       "    <tr>\n",
       "      <th>1</th>\n",
       "      <td>datetime</td>\n",
       "      <td>4254</td>\n",
       "    </tr>\n",
       "    <tr>\n",
       "      <th>2</th>\n",
       "      <td>has_media</td>\n",
       "      <td>1</td>\n",
       "    </tr>\n",
       "    <tr>\n",
       "      <th>3</th>\n",
       "      <td>is_reply</td>\n",
       "      <td>2</td>\n",
       "    </tr>\n",
       "    <tr>\n",
       "      <th>4</th>\n",
       "      <td>is_retweet</td>\n",
       "      <td>1</td>\n",
       "    </tr>\n",
       "    <tr>\n",
       "      <th>5</th>\n",
       "      <td>medias</td>\n",
       "      <td>49</td>\n",
       "    </tr>\n",
       "    <tr>\n",
       "      <th>6</th>\n",
       "      <td>nbr_favorite</td>\n",
       "      <td>33</td>\n",
       "    </tr>\n",
       "    <tr>\n",
       "      <th>7</th>\n",
       "      <td>nbr_reply</td>\n",
       "      <td>19</td>\n",
       "    </tr>\n",
       "    <tr>\n",
       "      <th>8</th>\n",
       "      <td>nbr_retweet</td>\n",
       "      <td>45</td>\n",
       "    </tr>\n",
       "    <tr>\n",
       "      <th>9</th>\n",
       "      <td>text</td>\n",
       "      <td>4116</td>\n",
       "    </tr>\n",
       "    <tr>\n",
       "      <th>10</th>\n",
       "      <td>url</td>\n",
       "      <td>4373</td>\n",
       "    </tr>\n",
       "    <tr>\n",
       "      <th>11</th>\n",
       "      <td>user_id</td>\n",
       "      <td>2533</td>\n",
       "    </tr>\n",
       "    <tr>\n",
       "      <th>12</th>\n",
       "      <td>usernameTweet</td>\n",
       "      <td>2533</td>\n",
       "    </tr>\n",
       "  </tbody>\n",
       "</table>\n",
       "</div>"
      ],
      "text/plain": [
       "           column  unique values\n",
       "0              ID           4374\n",
       "1        datetime           4254\n",
       "2       has_media              1\n",
       "3        is_reply              2\n",
       "4      is_retweet              1\n",
       "5          medias             49\n",
       "6    nbr_favorite             33\n",
       "7       nbr_reply             19\n",
       "8     nbr_retweet             45\n",
       "9            text           4116\n",
       "10            url           4373\n",
       "11        user_id           2533\n",
       "12  usernameTweet           2533"
      ]
     },
     "execution_count": 93,
     "metadata": {},
     "output_type": "execute_result"
    }
   ],
   "source": [
    "unique = []\n",
    "for i in df.columns:\n",
    "    uniques = {}\n",
    "    uniques['column'] = i \n",
    "    uniques['unique values'] = df[i].nunique()\n",
    "    unique.append(uniques)\n",
    "pd.DataFrame(unique)"
   ]
  },
  {
   "cell_type": "code",
   "execution_count": null,
   "metadata": {},
   "outputs": [],
   "source": []
  },
  {
   "cell_type": "markdown",
   "metadata": {},
   "source": [
    "# Pre-Processing"
   ]
  },
  {
   "cell_type": "markdown",
   "metadata": {},
   "source": [
    "### Tokenize and Stem all of the Titles"
   ]
  },
  {
   "cell_type": "code",
   "execution_count": 94,
   "metadata": {},
   "outputs": [],
   "source": [
    "# import tokenizer and stemmer\n",
    "from nltk import word_tokenize\n",
    "from nltk.stem import PorterStemmer"
   ]
  },
  {
   "cell_type": "code",
   "execution_count": 95,
   "metadata": {},
   "outputs": [],
   "source": [
    "# define a function that takes in a title\n",
    "# and tokenizes and stems that title\n",
    "def stem_title(tweet):    \n",
    "    stm = PorterStemmer()\n",
    "    tokenized = word_tokenize(tweet)\n",
    "    stem_tokes = []\n",
    "    for toke in tokenized:\n",
    "        stem_tokes.append(stm.stem(toke))\n",
    "    stem_tokes\n",
    "\n",
    "    comb = ''\n",
    "    for stemmed in stem_tokes:\n",
    "        comb += stemmed + ' '\n",
    "    return comb"
   ]
  },
  {
   "cell_type": "code",
   "execution_count": 96,
   "metadata": {},
   "outputs": [
    {
     "data": {
      "text/plain": [
       "\"about that power outag that is now over ... from @ verizon `` the commerci power issu in your area may have been clear . If you still have issu with your verizon servic , click here . '' from @ conedison < cricket > \""
      ]
     },
     "execution_count": 96,
     "metadata": {},
     "output_type": "execute_result"
    }
   ],
   "source": [
    "# check that the function works\n",
    "stem_title(df.text[3])"
   ]
  },
  {
   "cell_type": "code",
   "execution_count": 97,
   "metadata": {},
   "outputs": [
    {
     "data": {
      "text/html": [
       "<div>\n",
       "<style scoped>\n",
       "    .dataframe tbody tr th:only-of-type {\n",
       "        vertical-align: middle;\n",
       "    }\n",
       "\n",
       "    .dataframe tbody tr th {\n",
       "        vertical-align: top;\n",
       "    }\n",
       "\n",
       "    .dataframe thead th {\n",
       "        text-align: right;\n",
       "    }\n",
       "</style>\n",
       "<table border=\"1\" class=\"dataframe\">\n",
       "  <thead>\n",
       "    <tr style=\"text-align: right;\">\n",
       "      <th></th>\n",
       "      <th>ID</th>\n",
       "      <th>datetime</th>\n",
       "      <th>has_media</th>\n",
       "      <th>is_reply</th>\n",
       "      <th>is_retweet</th>\n",
       "      <th>medias</th>\n",
       "      <th>nbr_favorite</th>\n",
       "      <th>nbr_reply</th>\n",
       "      <th>nbr_retweet</th>\n",
       "      <th>text</th>\n",
       "      <th>url</th>\n",
       "      <th>user_id</th>\n",
       "      <th>usernameTweet</th>\n",
       "      <th>stemmed_text</th>\n",
       "    </tr>\n",
       "  </thead>\n",
       "  <tbody>\n",
       "    <tr>\n",
       "      <th>0</th>\n",
       "      <td>267716394043465728</td>\n",
       "      <td>2012-11-11 14:52:16</td>\n",
       "      <td>NaN</td>\n",
       "      <td>False</td>\n",
       "      <td>False</td>\n",
       "      <td>NaN</td>\n",
       "      <td>0.0</td>\n",
       "      <td>0.0</td>\n",
       "      <td>0.0</td>\n",
       "      <td>ConEd : NY Sandy  power   outages  slip; costs...</td>\n",
       "      <td>/RealJezzy/status/267716394043465728</td>\n",
       "      <td>504279674.0</td>\n",
       "      <td>RealJezzy</td>\n",
       "      <td>cone : NY sandi power outag slip ; cost could ...</td>\n",
       "    </tr>\n",
       "    <tr>\n",
       "      <th>1</th>\n",
       "      <td>298660085255770112</td>\n",
       "      <td>2013-02-05 00:11:27</td>\n",
       "      <td>NaN</td>\n",
       "      <td>False</td>\n",
       "      <td>False</td>\n",
       "      <td>NaN</td>\n",
       "      <td>0.0</td>\n",
       "      <td>0.0</td>\n",
       "      <td>0.0</td>\n",
       "      <td>@ ConEdison  \\n Power   outage  in queens</td>\n",
       "      <td>/meirBGNY/status/298660085255770112</td>\n",
       "      <td>909594764.0</td>\n",
       "      <td>meirBGNY</td>\n",
       "      <td>@ conedison power outag in queen</td>\n",
       "    </tr>\n",
       "    <tr>\n",
       "      <th>2</th>\n",
       "      <td>21860028236</td>\n",
       "      <td>2010-08-22 17:33:44</td>\n",
       "      <td>NaN</td>\n",
       "      <td>False</td>\n",
       "      <td>False</td>\n",
       "      <td>NaN</td>\n",
       "      <td>0.0</td>\n",
       "      <td>0.0</td>\n",
       "      <td>0.0</td>\n",
       "      <td>Power   outage  in the Whitestone section of Q...</td>\n",
       "      <td>/olgushka1/status/21860028236</td>\n",
       "      <td>68886571.0</td>\n",
       "      <td>olgushka1</td>\n",
       "      <td>power outag in the whiteston section of queen ...</td>\n",
       "    </tr>\n",
       "    <tr>\n",
       "      <th>3</th>\n",
       "      <td>1069021302667833344</td>\n",
       "      <td>2018-12-01 19:11:54</td>\n",
       "      <td>NaN</td>\n",
       "      <td>False</td>\n",
       "      <td>False</td>\n",
       "      <td>NaN</td>\n",
       "      <td>0.0</td>\n",
       "      <td>1.0</td>\n",
       "      <td>0.0</td>\n",
       "      <td>about that  power   outage  that is now over.....</td>\n",
       "      <td>/jimcasale/status/1069021302667833344</td>\n",
       "      <td>12393522.0</td>\n",
       "      <td>jimcasale</td>\n",
       "      <td>about that power outag that is now over ... fr...</td>\n",
       "    </tr>\n",
       "    <tr>\n",
       "      <th>4</th>\n",
       "      <td>767077182124486656</td>\n",
       "      <td>2016-08-20 15:13:46</td>\n",
       "      <td>NaN</td>\n",
       "      <td>False</td>\n",
       "      <td>False</td>\n",
       "      <td>NaN</td>\n",
       "      <td>3.0</td>\n",
       "      <td>0.0</td>\n",
       "      <td>7.0</td>\n",
       "      <td>.@ConEdison  is responding to a  power   outag...</td>\n",
       "      <td>/NotifyNYC/status/767077182124486656</td>\n",
       "      <td>16145875.0</td>\n",
       "      <td>NotifyNYC</td>\n",
       "      <td>. @ conedison is respond to a power outag in B...</td>\n",
       "    </tr>\n",
       "  </tbody>\n",
       "</table>\n",
       "</div>"
      ],
      "text/plain": [
       "                    ID            datetime has_media is_reply is_retweet  \\\n",
       "0   267716394043465728 2012-11-11 14:52:16       NaN    False      False   \n",
       "1   298660085255770112 2013-02-05 00:11:27       NaN    False      False   \n",
       "2          21860028236 2010-08-22 17:33:44       NaN    False      False   \n",
       "3  1069021302667833344 2018-12-01 19:11:54       NaN    False      False   \n",
       "4   767077182124486656 2016-08-20 15:13:46       NaN    False      False   \n",
       "\n",
       "  medias  nbr_favorite  nbr_reply  nbr_retweet  \\\n",
       "0    NaN           0.0        0.0          0.0   \n",
       "1    NaN           0.0        0.0          0.0   \n",
       "2    NaN           0.0        0.0          0.0   \n",
       "3    NaN           0.0        1.0          0.0   \n",
       "4    NaN           3.0        0.0          7.0   \n",
       "\n",
       "                                                text  \\\n",
       "0  ConEd : NY Sandy  power   outages  slip; costs...   \n",
       "1          @ ConEdison  \\n Power   outage  in queens   \n",
       "2  Power   outage  in the Whitestone section of Q...   \n",
       "3  about that  power   outage  that is now over.....   \n",
       "4  .@ConEdison  is responding to a  power   outag...   \n",
       "\n",
       "                                     url      user_id usernameTweet  \\\n",
       "0   /RealJezzy/status/267716394043465728  504279674.0     RealJezzy   \n",
       "1    /meirBGNY/status/298660085255770112  909594764.0      meirBGNY   \n",
       "2          /olgushka1/status/21860028236   68886571.0     olgushka1   \n",
       "3  /jimcasale/status/1069021302667833344   12393522.0     jimcasale   \n",
       "4   /NotifyNYC/status/767077182124486656   16145875.0     NotifyNYC   \n",
       "\n",
       "                                        stemmed_text  \n",
       "0  cone : NY sandi power outag slip ; cost could ...  \n",
       "1                  @ conedison power outag in queen   \n",
       "2  power outag in the whiteston section of queen ...  \n",
       "3  about that power outag that is now over ... fr...  \n",
       "4  . @ conedison is respond to a power outag in B...  "
      ]
     },
     "execution_count": 97,
     "metadata": {},
     "output_type": "execute_result"
    }
   ],
   "source": [
    "# create a new column by applying the function to the title column\n",
    "# and check out the head to see if it worked\n",
    "df['stemmed_text'] = df.text.apply(stem_title)\n",
    "df.head()"
   ]
  },
  {
   "cell_type": "code",
   "execution_count": 98,
   "metadata": {},
   "outputs": [
    {
     "data": {
      "text/html": [
       "<div>\n",
       "<style scoped>\n",
       "    .dataframe tbody tr th:only-of-type {\n",
       "        vertical-align: middle;\n",
       "    }\n",
       "\n",
       "    .dataframe tbody tr th {\n",
       "        vertical-align: top;\n",
       "    }\n",
       "\n",
       "    .dataframe thead th {\n",
       "        text-align: right;\n",
       "    }\n",
       "</style>\n",
       "<table border=\"1\" class=\"dataframe\">\n",
       "  <thead>\n",
       "    <tr style=\"text-align: right;\">\n",
       "      <th></th>\n",
       "      <th>ID</th>\n",
       "      <th>datetime</th>\n",
       "      <th>has_media</th>\n",
       "      <th>is_reply</th>\n",
       "      <th>is_retweet</th>\n",
       "      <th>medias</th>\n",
       "      <th>nbr_favorite</th>\n",
       "      <th>nbr_reply</th>\n",
       "      <th>nbr_retweet</th>\n",
       "      <th>text</th>\n",
       "      <th>url</th>\n",
       "      <th>user_id</th>\n",
       "      <th>usernameTweet</th>\n",
       "      <th>stemmed_text</th>\n",
       "    </tr>\n",
       "  </thead>\n",
       "  <tbody>\n",
       "    <tr>\n",
       "      <th>4370</th>\n",
       "      <td>204532926447226880</td>\n",
       "      <td>2012-05-21 07:23:44</td>\n",
       "      <td>NaN</td>\n",
       "      <td>False</td>\n",
       "      <td>False</td>\n",
       "      <td>NaN</td>\n",
       "      <td>1.0</td>\n",
       "      <td>0.0</td>\n",
       "      <td>9.0</td>\n",
       "      <td>ConEd  is responding to a  power   outage  in ...</td>\n",
       "      <td>/NotifyNYC/status/204532926447226880</td>\n",
       "      <td>1.614588e+07</td>\n",
       "      <td>NotifyNYC</td>\n",
       "      <td>cone is respond to a power outag in SI zip cod...</td>\n",
       "    </tr>\n",
       "    <tr>\n",
       "      <th>4371</th>\n",
       "      <td>264374015714553858</td>\n",
       "      <td>2012-11-02 10:30:51</td>\n",
       "      <td>NaN</td>\n",
       "      <td>True</td>\n",
       "      <td>False</td>\n",
       "      <td>NaN</td>\n",
       "      <td>0.0</td>\n",
       "      <td>0.0</td>\n",
       "      <td>1.0</td>\n",
       "      <td>@ hhertzof  Please check out our  outage  map ...</td>\n",
       "      <td>/ConEdison/status/264374015714553858</td>\n",
       "      <td>2.026208e+07</td>\n",
       "      <td>ConEdison</td>\n",
       "      <td>@ hhertzof pleas check out our outag map at ht...</td>\n",
       "    </tr>\n",
       "    <tr>\n",
       "      <th>4372</th>\n",
       "      <td>308557748671479808</td>\n",
       "      <td>2013-03-04 07:41:14</td>\n",
       "      <td>NaN</td>\n",
       "      <td>False</td>\n",
       "      <td>False</td>\n",
       "      <td>NaN</td>\n",
       "      <td>0.0</td>\n",
       "      <td>1.0</td>\n",
       "      <td>0.0</td>\n",
       "      <td>@ ConEdison  Partial  power   outage  in Green...</td>\n",
       "      <td>/curlycakes/status/308557748671479808</td>\n",
       "      <td>2.760942e+08</td>\n",
       "      <td>curlycakes</td>\n",
       "      <td>@ conedison partial power outag in greenwood b...</td>\n",
       "    </tr>\n",
       "    <tr>\n",
       "      <th>4373</th>\n",
       "      <td>969704423621648384</td>\n",
       "      <td>2018-03-02 17:42:05</td>\n",
       "      <td>NaN</td>\n",
       "      <td>False</td>\n",
       "      <td>False</td>\n",
       "      <td>NaN</td>\n",
       "      <td>0.0</td>\n",
       "      <td>1.0</td>\n",
       "      <td>0.0</td>\n",
       "      <td>Just out of curiosity @EversourceCT , will the...</td>\n",
       "      <td>/yelenadasher/status/969704423621648384</td>\n",
       "      <td>2.791989e+09</td>\n",
       "      <td>yelenadasher</td>\n",
       "      <td>just out of curios @ eversourcect , will there...</td>\n",
       "    </tr>\n",
       "    <tr>\n",
       "      <th>4374</th>\n",
       "      <td>951772242203070464</td>\n",
       "      <td>2018-01-12 06:06:00</td>\n",
       "      <td>NaN</td>\n",
       "      <td>False</td>\n",
       "      <td>False</td>\n",
       "      <td>NaN</td>\n",
       "      <td>1.0</td>\n",
       "      <td>0.0</td>\n",
       "      <td>4.0</td>\n",
       "      <td>.@ConEdison  is responding to a  power   outag...</td>\n",
       "      <td>/NotifyNYC/status/951772242203070464</td>\n",
       "      <td>1.614588e+07</td>\n",
       "      <td>NotifyNYC</td>\n",
       "      <td>. @ conedison is respond to a power outag in q...</td>\n",
       "    </tr>\n",
       "  </tbody>\n",
       "</table>\n",
       "</div>"
      ],
      "text/plain": [
       "                      ID            datetime has_media is_reply is_retweet  \\\n",
       "4370  204532926447226880 2012-05-21 07:23:44       NaN    False      False   \n",
       "4371  264374015714553858 2012-11-02 10:30:51       NaN     True      False   \n",
       "4372  308557748671479808 2013-03-04 07:41:14       NaN    False      False   \n",
       "4373  969704423621648384 2018-03-02 17:42:05       NaN    False      False   \n",
       "4374  951772242203070464 2018-01-12 06:06:00       NaN    False      False   \n",
       "\n",
       "     medias  nbr_favorite  nbr_reply  nbr_retweet  \\\n",
       "4370    NaN           1.0        0.0          9.0   \n",
       "4371    NaN           0.0        0.0          1.0   \n",
       "4372    NaN           0.0        1.0          0.0   \n",
       "4373    NaN           0.0        1.0          0.0   \n",
       "4374    NaN           1.0        0.0          4.0   \n",
       "\n",
       "                                                   text  \\\n",
       "4370  ConEd  is responding to a  power   outage  in ...   \n",
       "4371  @ hhertzof  Please check out our  outage  map ...   \n",
       "4372  @ ConEdison  Partial  power   outage  in Green...   \n",
       "4373  Just out of curiosity @EversourceCT , will the...   \n",
       "4374  .@ConEdison  is responding to a  power   outag...   \n",
       "\n",
       "                                          url       user_id usernameTweet  \\\n",
       "4370     /NotifyNYC/status/204532926447226880  1.614588e+07     NotifyNYC   \n",
       "4371     /ConEdison/status/264374015714553858  2.026208e+07     ConEdison   \n",
       "4372    /curlycakes/status/308557748671479808  2.760942e+08    curlycakes   \n",
       "4373  /yelenadasher/status/969704423621648384  2.791989e+09  yelenadasher   \n",
       "4374     /NotifyNYC/status/951772242203070464  1.614588e+07     NotifyNYC   \n",
       "\n",
       "                                           stemmed_text  \n",
       "4370  cone is respond to a power outag in SI zip cod...  \n",
       "4371  @ hhertzof pleas check out our outag map at ht...  \n",
       "4372  @ conedison partial power outag in greenwood b...  \n",
       "4373  just out of curios @ eversourcect , will there...  \n",
       "4374  . @ conedison is respond to a power outag in q...  "
      ]
     },
     "execution_count": 98,
     "metadata": {},
     "output_type": "execute_result"
    }
   ],
   "source": [
    "# check out the tail, too\n",
    "df.tail()"
   ]
  },
  {
   "cell_type": "markdown",
   "metadata": {},
   "source": [
    "# Model Prep"
   ]
  },
  {
   "cell_type": "markdown",
   "metadata": {},
   "source": [
    "### CountVectorize"
   ]
  },
  {
   "cell_type": "code",
   "execution_count": 100,
   "metadata": {},
   "outputs": [],
   "source": [
    "from sklearn.feature_extraction.text import CountVectorizer"
   ]
  },
  {
   "cell_type": "code",
   "execution_count": 101,
   "metadata": {},
   "outputs": [],
   "source": [
    "# Instantiate\n",
    "cv = CountVectorizer(stop_words='english', \n",
    "                     ngram_range=(1,2), \n",
    "                     max_features=1000\n",
    "                    )"
   ]
  },
  {
   "cell_type": "code",
   "execution_count": 103,
   "metadata": {},
   "outputs": [],
   "source": [
    "# Fit and Transform\n",
    "stemmed = cv.fit_transform(df.stemmed_text)"
   ]
  },
  {
   "cell_type": "code",
   "execution_count": null,
   "metadata": {},
   "outputs": [],
   "source": []
  }
 ],
 "metadata": {
  "kernelspec": {
   "display_name": "Python 3",
   "language": "python",
   "name": "python3"
  },
  "language_info": {
   "codemirror_mode": {
    "name": "ipython",
    "version": 3
   },
   "file_extension": ".py",
   "mimetype": "text/x-python",
   "name": "python",
   "nbconvert_exporter": "python",
   "pygments_lexer": "ipython3",
   "version": "3.6.8"
  },
  "varInspector": {
   "cols": {
    "lenName": 16,
    "lenType": 16,
    "lenVar": 40
   },
   "kernels_config": {
    "python": {
     "delete_cmd_postfix": "",
     "delete_cmd_prefix": "del ",
     "library": "var_list.py",
     "varRefreshCmd": "print(var_dic_list())"
    },
    "r": {
     "delete_cmd_postfix": ") ",
     "delete_cmd_prefix": "rm(",
     "library": "var_list.r",
     "varRefreshCmd": "cat(var_dic_list()) "
    }
   },
   "types_to_exclude": [
    "module",
    "function",
    "builtin_function_or_method",
    "instance",
    "_Feature"
   ],
   "window_display": false
  }
 },
 "nbformat": 4,
 "nbformat_minor": 2
}
