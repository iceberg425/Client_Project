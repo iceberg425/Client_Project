{
 "cells": [
  {
   "cell_type": "code",
   "execution_count": 7,
   "metadata": {},
   "outputs": [],
   "source": [
    "import pandas as pd\n",
    "import numpy as np\n",
    "import matplotlib.pyplot as plt\n",
    "import seaborn as sns\n",
    "%matplotlib inline\n",
    "\n",
    "from sklearn.cluster import KMeans, DBSCAN\n",
    "from sklearn.preprocessing import StandardScaler\n",
    "from sklearn.feature_extraction.text import CountVectorizer, TfidfVectorizer\n",
    "from sklearn.pipeline import Pipeline\n",
    "from sklearn.metrics import silhouette_score\n",
    "from sklearn.model_selection import GridSearchCV"
   ]
  },
  {
   "cell_type": "code",
   "execution_count": 2,
   "metadata": {},
   "outputs": [
    {
     "data": {
      "text/html": [
       "<div>\n",
       "<style scoped>\n",
       "    .dataframe tbody tr th:only-of-type {\n",
       "        vertical-align: middle;\n",
       "    }\n",
       "\n",
       "    .dataframe tbody tr th {\n",
       "        vertical-align: top;\n",
       "    }\n",
       "\n",
       "    .dataframe thead th {\n",
       "        text-align: right;\n",
       "    }\n",
       "</style>\n",
       "<table border=\"1\" class=\"dataframe\">\n",
       "  <thead>\n",
       "    <tr style=\"text-align: right;\">\n",
       "      <th></th>\n",
       "      <th>index</th>\n",
       "      <th>ID</th>\n",
       "      <th>datetime</th>\n",
       "      <th>has_media</th>\n",
       "      <th>is_reply</th>\n",
       "      <th>is_retweet</th>\n",
       "      <th>medias</th>\n",
       "      <th>nbr_favorite</th>\n",
       "      <th>nbr_reply</th>\n",
       "      <th>nbr_retweet</th>\n",
       "      <th>text</th>\n",
       "      <th>url</th>\n",
       "      <th>user_id</th>\n",
       "      <th>usernameTweet</th>\n",
       "      <th>regex_clean_tweets</th>\n",
       "      <th>lemmed_tweet</th>\n",
       "      <th>nouns</th>\n",
       "      <th>proper_nouns</th>\n",
       "      <th>geopolitical_ents</th>\n",
       "    </tr>\n",
       "  </thead>\n",
       "  <tbody>\n",
       "    <tr>\n",
       "      <th>0</th>\n",
       "      <td>1869</td>\n",
       "      <td>252633076105097216</td>\n",
       "      <td>2012-10-01 00:00:00</td>\n",
       "      <td>no media</td>\n",
       "      <td>False</td>\n",
       "      <td>False</td>\n",
       "      <td>no media</td>\n",
       "      <td>1.0</td>\n",
       "      <td>0.0</td>\n",
       "      <td>1.0</td>\n",
       "      <td>@ ckundo  Inspired by your  ConEd  summary  ou...</td>\n",
       "      <td>/seecmb/status/252633076105097216</td>\n",
       "      <td>294434762.0</td>\n",
       "      <td>seecmb</td>\n",
       "      <td>ckundo Inspired ConEd summary outage info Ruby...</td>\n",
       "      <td>ckundo Inspired ConEd summary outage info Ruby...</td>\n",
       "      <td>summary outage info gem power outage detail da...</td>\n",
       "      <td>Inspired ConEd Ruby</td>\n",
       "      <td>NaN</td>\n",
       "    </tr>\n",
       "    <tr>\n",
       "      <th>1</th>\n",
       "      <td>3094</td>\n",
       "      <td>254638373040422912</td>\n",
       "      <td>2012-10-06 13:00:00</td>\n",
       "      <td>no media</td>\n",
       "      <td>False</td>\n",
       "      <td>False</td>\n",
       "      <td>no media</td>\n",
       "      <td>0.0</td>\n",
       "      <td>0.0</td>\n",
       "      <td>0.0</td>\n",
       "      <td>Partial  power   outage  at #MediaLoft  That's...</td>\n",
       "      <td>/LuisPaganStudio/status/254638373040422912</td>\n",
       "      <td>212391633.0</td>\n",
       "      <td>LuisPaganStudio</td>\n",
       "      <td>Partial power outage MediaLoft That twice week...</td>\n",
       "      <td>Partial power outage MediaLoft That twice week...</td>\n",
       "      <td>power outage week</td>\n",
       "      <td>MediaLoft Damn ConEd</td>\n",
       "      <td>NaN</td>\n",
       "    </tr>\n",
       "    <tr>\n",
       "      <th>2</th>\n",
       "      <td>2528</td>\n",
       "      <td>256621964268032000</td>\n",
       "      <td>2012-10-12 01:00:00</td>\n",
       "      <td>no media</td>\n",
       "      <td>False</td>\n",
       "      <td>False</td>\n",
       "      <td>no media</td>\n",
       "      <td>0.0</td>\n",
       "      <td>0.0</td>\n",
       "      <td>0.0</td>\n",
       "      <td>Um, can someone call  ConEd , there's a  power...</td>\n",
       "      <td>/marlonthereal/status/256621964268032000</td>\n",
       "      <td>14144742.0</td>\n",
       "      <td>marlonthereal</td>\n",
       "      <td>Um someone call ConEd power outage Bronx Sourc...</td>\n",
       "      <td>Um someone call ConEd power outage Bronx Sourc...</td>\n",
       "      <td>someone power outage post</td>\n",
       "      <td>ConEd Bronx Source YHqV</td>\n",
       "      <td>NaN</td>\n",
       "    </tr>\n",
       "    <tr>\n",
       "      <th>3</th>\n",
       "      <td>723</td>\n",
       "      <td>259866379086340096</td>\n",
       "      <td>2012-10-20 23:00:00</td>\n",
       "      <td>no media</td>\n",
       "      <td>False</td>\n",
       "      <td>False</td>\n",
       "      <td>no media</td>\n",
       "      <td>0.0</td>\n",
       "      <td>0.0</td>\n",
       "      <td>0.0</td>\n",
       "      <td>Power   outage  took over my entire block as s...</td>\n",
       "      <td>/meligyh/status/259866379086340096</td>\n",
       "      <td>280700235.0</td>\n",
       "      <td>meligyh</td>\n",
       "      <td>Power outage took entire block soon loaded Con...</td>\n",
       "      <td>Power outage took entire block soon loaded Con...</td>\n",
       "      <td>Power outage block</td>\n",
       "      <td>ConEd</td>\n",
       "      <td>NaN</td>\n",
       "    </tr>\n",
       "    <tr>\n",
       "      <th>4</th>\n",
       "      <td>487</td>\n",
       "      <td>261909073295974401</td>\n",
       "      <td>2012-10-26 15:00:00</td>\n",
       "      <td>no media</td>\n",
       "      <td>False</td>\n",
       "      <td>False</td>\n",
       "      <td>no media</td>\n",
       "      <td>0.0</td>\n",
       "      <td>1.0</td>\n",
       "      <td>10.0</td>\n",
       "      <td>Mayor: A major concern given this type of stor...</td>\n",
       "      <td>/NYCMayorsOffice/status/261909073295974401</td>\n",
       "      <td>55338739.0</td>\n",
       "      <td>NYCMayorsOffice</td>\n",
       "      <td>Mayor A major concern given type storm possibi...</td>\n",
       "      <td>Mayor A major concern given type storm possibi...</td>\n",
       "      <td>concern type storm possibility power outage</td>\n",
       "      <td>Mayor ConEdison</td>\n",
       "      <td>NaN</td>\n",
       "    </tr>\n",
       "  </tbody>\n",
       "</table>\n",
       "</div>"
      ],
      "text/plain": [
       "   index                  ID             datetime has_media  is_reply  \\\n",
       "0   1869  252633076105097216  2012-10-01 00:00:00  no media     False   \n",
       "1   3094  254638373040422912  2012-10-06 13:00:00  no media     False   \n",
       "2   2528  256621964268032000  2012-10-12 01:00:00  no media     False   \n",
       "3    723  259866379086340096  2012-10-20 23:00:00  no media     False   \n",
       "4    487  261909073295974401  2012-10-26 15:00:00  no media     False   \n",
       "\n",
       "   is_retweet    medias  nbr_favorite  nbr_reply  nbr_retweet  \\\n",
       "0       False  no media           1.0        0.0          1.0   \n",
       "1       False  no media           0.0        0.0          0.0   \n",
       "2       False  no media           0.0        0.0          0.0   \n",
       "3       False  no media           0.0        0.0          0.0   \n",
       "4       False  no media           0.0        1.0         10.0   \n",
       "\n",
       "                                                text  \\\n",
       "0  @ ckundo  Inspired by your  ConEd  summary  ou...   \n",
       "1  Partial  power   outage  at #MediaLoft  That's...   \n",
       "2  Um, can someone call  ConEd , there's a  power...   \n",
       "3  Power   outage  took over my entire block as s...   \n",
       "4  Mayor: A major concern given this type of stor...   \n",
       "\n",
       "                                          url      user_id    usernameTweet  \\\n",
       "0           /seecmb/status/252633076105097216  294434762.0           seecmb   \n",
       "1  /LuisPaganStudio/status/254638373040422912  212391633.0  LuisPaganStudio   \n",
       "2    /marlonthereal/status/256621964268032000   14144742.0    marlonthereal   \n",
       "3          /meligyh/status/259866379086340096  280700235.0          meligyh   \n",
       "4  /NYCMayorsOffice/status/261909073295974401   55338739.0  NYCMayorsOffice   \n",
       "\n",
       "                                  regex_clean_tweets  \\\n",
       "0  ckundo Inspired ConEd summary outage info Ruby...   \n",
       "1  Partial power outage MediaLoft That twice week...   \n",
       "2  Um someone call ConEd power outage Bronx Sourc...   \n",
       "3  Power outage took entire block soon loaded Con...   \n",
       "4  Mayor A major concern given type storm possibi...   \n",
       "\n",
       "                                        lemmed_tweet  \\\n",
       "0  ckundo Inspired ConEd summary outage info Ruby...   \n",
       "1  Partial power outage MediaLoft That twice week...   \n",
       "2  Um someone call ConEd power outage Bronx Sourc...   \n",
       "3  Power outage took entire block soon loaded Con...   \n",
       "4  Mayor A major concern given type storm possibi...   \n",
       "\n",
       "                                               nouns  \\\n",
       "0  summary outage info gem power outage detail da...   \n",
       "1                                 power outage week    \n",
       "2                         someone power outage post    \n",
       "3                                Power outage block    \n",
       "4       concern type storm possibility power outage    \n",
       "\n",
       "               proper_nouns geopolitical_ents  \n",
       "0      Inspired ConEd Ruby                NaN  \n",
       "1     MediaLoft Damn ConEd                NaN  \n",
       "2  ConEd Bronx Source YHqV                NaN  \n",
       "3                    ConEd                NaN  \n",
       "4          Mayor ConEdison                NaN  "
      ]
     },
     "execution_count": 2,
     "metadata": {},
     "output_type": "execute_result"
    }
   ],
   "source": [
    "df = pd.read_csv('./data/nlp_tweets_2012_2017.csv')\n",
    "df.head()"
   ]
  },
  {
   "cell_type": "code",
   "execution_count": 5,
   "metadata": {},
   "outputs": [],
   "source": [
    "X_raw = df.text\n",
    "X_clean = df.regex_clean_tweets\n",
    "X_lem = df.lemmed_tweet\n",
    "X_noun = df.nouns"
   ]
  },
  {
   "cell_type": "code",
   "execution_count": 18,
   "metadata": {},
   "outputs": [],
   "source": [
    "def vectorizer(input):\n",
    "    # km = KMeans(n_clusters=3)\n",
    "    cv = CountVectorizer()\n",
    "    X_vec = cv.fit_transform(input)\n",
    "    \n",
    "#     params = {'n_grams': [(1,1), (1,2), (2,2), (1,3)],\n",
    "#               'max_features': [None, 500, 1000, 2000, 3000]}\n",
    " \n",
    "    return pd.DataFrame(X_vec.todense(), columns=cv.get_feature_names())"
   ]
  },
  {
   "cell_type": "code",
   "execution_count": 25,
   "metadata": {},
   "outputs": [],
   "source": [
    "X_raw_df = vectorizer(X_raw)"
   ]
  },
  {
   "cell_type": "code",
   "execution_count": 26,
   "metadata": {},
   "outputs": [],
   "source": [
    "X_clean_df = vectorizer(X_clean)"
   ]
  },
  {
   "cell_type": "code",
   "execution_count": 27,
   "metadata": {},
   "outputs": [],
   "source": [
    "X_lem_df = vectorizer(X_lem)"
   ]
  },
  {
   "cell_type": "code",
   "execution_count": 63,
   "metadata": {},
   "outputs": [],
   "source": [
    "X_noun_df = vectorizer(X_noun.dropna())"
   ]
  },
  {
   "cell_type": "code",
   "execution_count": 34,
   "metadata": {},
   "outputs": [],
   "source": [
    "pipe = Pipeline([('scaler', StandardScaler()),\n",
    "                 ('cluster', KMeans())])"
   ]
  },
  {
   "cell_type": "code",
   "execution_count": 35,
   "metadata": {},
   "outputs": [],
   "source": [
    "params = {'cluster__n_clusters': [3, 4, 5]}\n",
    "gs = GridSearchCV(pipe, param_grid=params)"
   ]
  },
  {
   "cell_type": "code",
   "execution_count": 41,
   "metadata": {},
   "outputs": [],
   "source": [
    "def clusterer(input):\n",
    "#     pipe = Pipeline([('scaler', StandardScaler()),\n",
    "#                      ('cluster', KMeans())])\n",
    "#     params = {'cluster__n_clusters': [3, 4, 5]}\n",
    "#     gs = GridSearchCV(pipe, param_grid=params)\n",
    "    \n",
    "# #     model = gs.fit(input)\n",
    "    ss = StandardScaler()\n",
    "    input_sc = ss.fit_transform(input)\n",
    "    km = KMeans(n_clusters=3)\n",
    "    km.fit(input_sc)\n",
    "\n",
    "    return km.labels_"
   ]
  },
  {
   "cell_type": "code",
   "execution_count": 42,
   "metadata": {},
   "outputs": [],
   "source": [
    "raw_cluster = clusterer(X_raw_df)"
   ]
  },
  {
   "cell_type": "code",
   "execution_count": 44,
   "metadata": {},
   "outputs": [
    {
     "data": {
      "text/plain": [
       "{0, 1, 2}"
      ]
     },
     "execution_count": 44,
     "metadata": {},
     "output_type": "execute_result"
    }
   ],
   "source": [
    "set(raw_cluster)"
   ]
  },
  {
   "cell_type": "code",
   "execution_count": 57,
   "metadata": {},
   "outputs": [
    {
     "data": {
      "text/plain": [
       "2082"
      ]
     },
     "execution_count": 57,
     "metadata": {},
     "output_type": "execute_result"
    }
   ],
   "source": [
    "len(raw_cluster)"
   ]
  },
  {
   "cell_type": "code",
   "execution_count": 56,
   "metadata": {},
   "outputs": [
    {
     "data": {
      "text/plain": [
       "2075"
      ]
     },
     "execution_count": 56,
     "metadata": {},
     "output_type": "execute_result"
    }
   ],
   "source": [
    "sum(raw_cluster == 0)"
   ]
  },
  {
   "cell_type": "code",
   "execution_count": 49,
   "metadata": {},
   "outputs": [],
   "source": [
    "clean_cluster = clusterer(X_clean_df)"
   ]
  },
  {
   "cell_type": "code",
   "execution_count": 51,
   "metadata": {},
   "outputs": [
    {
     "data": {
      "text/plain": [
       "{0, 1, 2}"
      ]
     },
     "execution_count": 51,
     "metadata": {},
     "output_type": "execute_result"
    }
   ],
   "source": [
    "set(clean_cluster)"
   ]
  },
  {
   "cell_type": "code",
   "execution_count": 55,
   "metadata": {},
   "outputs": [
    {
     "data": {
      "text/plain": [
       "2082"
      ]
     },
     "execution_count": 55,
     "metadata": {},
     "output_type": "execute_result"
    }
   ],
   "source": [
    "len(clean_cluster)"
   ]
  },
  {
   "cell_type": "code",
   "execution_count": 54,
   "metadata": {},
   "outputs": [
    {
     "data": {
      "text/plain": [
       "2080"
      ]
     },
     "execution_count": 54,
     "metadata": {},
     "output_type": "execute_result"
    }
   ],
   "source": [
    "sum(clean_cluster == 0)"
   ]
  },
  {
   "cell_type": "code",
   "execution_count": 58,
   "metadata": {},
   "outputs": [],
   "source": [
    "lem_cluster = clusterer(X_lem_df)"
   ]
  },
  {
   "cell_type": "code",
   "execution_count": 59,
   "metadata": {},
   "outputs": [
    {
     "data": {
      "text/plain": [
       "{0, 1, 2}"
      ]
     },
     "execution_count": 59,
     "metadata": {},
     "output_type": "execute_result"
    }
   ],
   "source": [
    "set(lem_cluster)"
   ]
  },
  {
   "cell_type": "code",
   "execution_count": 60,
   "metadata": {},
   "outputs": [
    {
     "data": {
      "text/plain": [
       "2082"
      ]
     },
     "execution_count": 60,
     "metadata": {},
     "output_type": "execute_result"
    }
   ],
   "source": [
    "len(lem_cluster)"
   ]
  },
  {
   "cell_type": "code",
   "execution_count": 61,
   "metadata": {},
   "outputs": [
    {
     "data": {
      "text/plain": [
       "2080"
      ]
     },
     "execution_count": 61,
     "metadata": {},
     "output_type": "execute_result"
    }
   ],
   "source": [
    "sum(lem_cluster == 0)"
   ]
  },
  {
   "cell_type": "code",
   "execution_count": 64,
   "metadata": {},
   "outputs": [],
   "source": [
    "noun_cluster = clusterer(X_noun_df)"
   ]
  },
  {
   "cell_type": "code",
   "execution_count": null,
   "metadata": {},
   "outputs": [],
   "source": []
  }
 ],
 "metadata": {
  "kernelspec": {
   "display_name": "Python 3",
   "language": "python",
   "name": "python3"
  },
  "language_info": {
   "codemirror_mode": {
    "name": "ipython",
    "version": 3
   },
   "file_extension": ".py",
   "mimetype": "text/x-python",
   "name": "python",
   "nbconvert_exporter": "python",
   "pygments_lexer": "ipython3",
   "version": "3.6.8"
  }
 },
 "nbformat": 4,
 "nbformat_minor": 2
}
