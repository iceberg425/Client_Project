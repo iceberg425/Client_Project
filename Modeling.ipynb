{
 "cells": [
  {
   "cell_type": "code",
   "execution_count": 2,
   "metadata": {},
   "outputs": [],
   "source": [
    "import pandas as pd\n",
    "import numpy as np\n",
    "import matplotlib.pyplot as plt\n",
    "import seaborn as sns\n",
    "\n",
    "%matplotlib inline\n",
    "\n",
    "from sklearn.linear_model import LogisticRegression\n",
    "from sklearn.naive_bayes import MultinomialNB\n",
    "\n",
    "from sklearn.metrics import confusion_matrix, classification_report, roc_auc_score, precision_recall_curve\n",
    "from sklearn.ensemble import GradientBoostingClassifier\n"
   ]
  },
  {
   "cell_type": "code",
   "execution_count": 23,
   "metadata": {},
   "outputs": [
    {
     "data": {
      "text/html": [
       "<div>\n",
       "<style scoped>\n",
       "    .dataframe tbody tr th:only-of-type {\n",
       "        vertical-align: middle;\n",
       "    }\n",
       "\n",
       "    .dataframe tbody tr th {\n",
       "        vertical-align: top;\n",
       "    }\n",
       "\n",
       "    .dataframe thead th {\n",
       "        text-align: right;\n",
       "    }\n",
       "</style>\n",
       "<table border=\"1\" class=\"dataframe\">\n",
       "  <thead>\n",
       "    <tr style=\"text-align: right;\">\n",
       "      <th></th>\n",
       "      <th>Unnamed: 0</th>\n",
       "      <th>index</th>\n",
       "      <th>ID</th>\n",
       "      <th>datetime</th>\n",
       "      <th>has_media</th>\n",
       "      <th>is_reply</th>\n",
       "      <th>is_retweet</th>\n",
       "      <th>medias</th>\n",
       "      <th>nbr_favorite</th>\n",
       "      <th>nbr_reply</th>\n",
       "      <th>...</th>\n",
       "      <th>smoke</th>\n",
       "      <th>snow</th>\n",
       "      <th>squalls</th>\n",
       "      <th>thunderstorm</th>\n",
       "      <th>thunderstorm_with_heavy_rain</th>\n",
       "      <th>thunderstorm_with_light_drizzle</th>\n",
       "      <th>thunderstorm_with_light_rain</th>\n",
       "      <th>thunderstorm_with_rain</th>\n",
       "      <th>very_heavy_rain</th>\n",
       "      <th>outage</th>\n",
       "    </tr>\n",
       "  </thead>\n",
       "  <tbody>\n",
       "    <tr>\n",
       "      <th>0</th>\n",
       "      <td>112</td>\n",
       "      <td>2530</td>\n",
       "      <td>262994507803529216</td>\n",
       "      <td>2012-10-29 15:00:00</td>\n",
       "      <td>no media</td>\n",
       "      <td>False</td>\n",
       "      <td>False</td>\n",
       "      <td>no media</td>\n",
       "      <td>0.0</td>\n",
       "      <td>0.0</td>\n",
       "      <td>...</td>\n",
       "      <td>0.0</td>\n",
       "      <td>0.0</td>\n",
       "      <td>0.0</td>\n",
       "      <td>0.0</td>\n",
       "      <td>0.0</td>\n",
       "      <td>0.0</td>\n",
       "      <td>0.0</td>\n",
       "      <td>0.0</td>\n",
       "      <td>0.0</td>\n",
       "      <td>0.0</td>\n",
       "    </tr>\n",
       "    <tr>\n",
       "      <th>1</th>\n",
       "      <td>113</td>\n",
       "      <td>1296</td>\n",
       "      <td>262996252382343168</td>\n",
       "      <td>2012-10-29 15:00:00</td>\n",
       "      <td>no media</td>\n",
       "      <td>False</td>\n",
       "      <td>False</td>\n",
       "      <td>no media</td>\n",
       "      <td>0.0</td>\n",
       "      <td>0.0</td>\n",
       "      <td>...</td>\n",
       "      <td>0.0</td>\n",
       "      <td>0.0</td>\n",
       "      <td>0.0</td>\n",
       "      <td>0.0</td>\n",
       "      <td>0.0</td>\n",
       "      <td>0.0</td>\n",
       "      <td>0.0</td>\n",
       "      <td>0.0</td>\n",
       "      <td>0.0</td>\n",
       "      <td>0.0</td>\n",
       "    </tr>\n",
       "    <tr>\n",
       "      <th>2</th>\n",
       "      <td>115</td>\n",
       "      <td>1576</td>\n",
       "      <td>262997231647473665</td>\n",
       "      <td>2012-10-29 15:00:00</td>\n",
       "      <td>no media</td>\n",
       "      <td>False</td>\n",
       "      <td>False</td>\n",
       "      <td>no media</td>\n",
       "      <td>0.0</td>\n",
       "      <td>0.0</td>\n",
       "      <td>...</td>\n",
       "      <td>0.0</td>\n",
       "      <td>0.0</td>\n",
       "      <td>0.0</td>\n",
       "      <td>0.0</td>\n",
       "      <td>0.0</td>\n",
       "      <td>0.0</td>\n",
       "      <td>0.0</td>\n",
       "      <td>0.0</td>\n",
       "      <td>0.0</td>\n",
       "      <td>0.0</td>\n",
       "    </tr>\n",
       "    <tr>\n",
       "      <th>3</th>\n",
       "      <td>117</td>\n",
       "      <td>200</td>\n",
       "      <td>262997904233492480</td>\n",
       "      <td>2012-10-29 15:00:00</td>\n",
       "      <td>no media</td>\n",
       "      <td>False</td>\n",
       "      <td>False</td>\n",
       "      <td>no media</td>\n",
       "      <td>1.0</td>\n",
       "      <td>2.0</td>\n",
       "      <td>...</td>\n",
       "      <td>0.0</td>\n",
       "      <td>0.0</td>\n",
       "      <td>0.0</td>\n",
       "      <td>0.0</td>\n",
       "      <td>0.0</td>\n",
       "      <td>0.0</td>\n",
       "      <td>0.0</td>\n",
       "      <td>0.0</td>\n",
       "      <td>0.0</td>\n",
       "      <td>0.0</td>\n",
       "    </tr>\n",
       "    <tr>\n",
       "      <th>4</th>\n",
       "      <td>119</td>\n",
       "      <td>3650</td>\n",
       "      <td>262998371810291713</td>\n",
       "      <td>2012-10-29 15:00:00</td>\n",
       "      <td>no media</td>\n",
       "      <td>False</td>\n",
       "      <td>False</td>\n",
       "      <td>no media</td>\n",
       "      <td>0.0</td>\n",
       "      <td>0.0</td>\n",
       "      <td>...</td>\n",
       "      <td>0.0</td>\n",
       "      <td>0.0</td>\n",
       "      <td>0.0</td>\n",
       "      <td>0.0</td>\n",
       "      <td>0.0</td>\n",
       "      <td>0.0</td>\n",
       "      <td>0.0</td>\n",
       "      <td>0.0</td>\n",
       "      <td>0.0</td>\n",
       "      <td>0.0</td>\n",
       "    </tr>\n",
       "  </tbody>\n",
       "</table>\n",
       "<p>5 rows × 77 columns</p>\n",
       "</div>"
      ],
      "text/plain": [
       "   Unnamed: 0  index                  ID             datetime has_media  \\\n",
       "0         112   2530  262994507803529216  2012-10-29 15:00:00  no media   \n",
       "1         113   1296  262996252382343168  2012-10-29 15:00:00  no media   \n",
       "2         115   1576  262997231647473665  2012-10-29 15:00:00  no media   \n",
       "3         117    200  262997904233492480  2012-10-29 15:00:00  no media   \n",
       "4         119   3650  262998371810291713  2012-10-29 15:00:00  no media   \n",
       "\n",
       "   is_reply  is_retweet    medias  nbr_favorite  nbr_reply  ...  smoke snow  \\\n",
       "0     False       False  no media           0.0        0.0  ...    0.0  0.0   \n",
       "1     False       False  no media           0.0        0.0  ...    0.0  0.0   \n",
       "2     False       False  no media           0.0        0.0  ...    0.0  0.0   \n",
       "3     False       False  no media           1.0        2.0  ...    0.0  0.0   \n",
       "4     False       False  no media           0.0        0.0  ...    0.0  0.0   \n",
       "\n",
       "  squalls  thunderstorm thunderstorm_with_heavy_rain  \\\n",
       "0     0.0           0.0                          0.0   \n",
       "1     0.0           0.0                          0.0   \n",
       "2     0.0           0.0                          0.0   \n",
       "3     0.0           0.0                          0.0   \n",
       "4     0.0           0.0                          0.0   \n",
       "\n",
       "  thunderstorm_with_light_drizzle thunderstorm_with_light_rain  \\\n",
       "0                             0.0                          0.0   \n",
       "1                             0.0                          0.0   \n",
       "2                             0.0                          0.0   \n",
       "3                             0.0                          0.0   \n",
       "4                             0.0                          0.0   \n",
       "\n",
       "  thunderstorm_with_rain very_heavy_rain outage  \n",
       "0                    0.0             0.0    0.0  \n",
       "1                    0.0             0.0    0.0  \n",
       "2                    0.0             0.0    0.0  \n",
       "3                    0.0             0.0    0.0  \n",
       "4                    0.0             0.0    0.0  \n",
       "\n",
       "[5 rows x 77 columns]"
      ]
     },
     "execution_count": 23,
     "metadata": {},
     "output_type": "execute_result"
    }
   ],
   "source": [
    "df = pd.read_csv('./data/final_df.csv')\n",
    "df.head()"
   ]
  },
  {
   "cell_type": "code",
   "execution_count": 24,
   "metadata": {},
   "outputs": [
    {
     "data": {
      "text/plain": [
       "(149, 77)"
      ]
     },
     "execution_count": 24,
     "metadata": {},
     "output_type": "execute_result"
    }
   ],
   "source": [
    "df.shape"
   ]
  },
  {
   "cell_type": "code",
   "execution_count": 25,
   "metadata": {},
   "outputs": [],
   "source": [
    "df.drop(\n",
    "    columns=['Unnamed: 0', 'geopolitical_ents', 'proper_nouns', 'lemmed_tweet', 'nouns'], \n",
    "    inplace=True)\n",
    "\n"
   ]
  },
  {
   "cell_type": "code",
   "execution_count": 26,
   "metadata": {},
   "outputs": [
    {
     "data": {
      "text/plain": [
       "Index(['index', 'ID', 'datetime', 'has_media', 'is_reply', 'is_retweet',\n",
       "       'medias', 'nbr_favorite', 'nbr_reply', 'nbr_retweet', 'text', 'url',\n",
       "       'user_id', 'usernameTweet', 'regex_clean_tweets', 'aerial_(fly-over)',\n",
       "       'drills/exercises', 'environmental', 'fire', 'infrastructure',\n",
       "       'mass_transit_disruption', 'mass_transit_restoration', 'missing_adult',\n",
       "       'missing_child/adolescent', 'parking', 'public_awareness',\n",
       "       'public_health', 'road_closure', 'school_notification', 'structural',\n",
       "       'utility', 'weather', 'temperature_f', 'wind_dir_degrees',\n",
       "       'wind_speed_mph', 'broken_clouds', 'drizzle', 'dust', 'few_clouds',\n",
       "       'fog', 'freezing_rain', 'haze', 'heavy_intensity_drizzle',\n",
       "       'heavy_intensity_rain', 'heavy_snow', 'heavy_thunderstorm',\n",
       "       'light_intensity_drizzle', 'light_intensity_shower_rain', 'light_rain',\n",
       "       'light_rain_and_snow', 'light_snow', 'mist', 'moderate_rain',\n",
       "       'overcast_clouds', 'proximity_thunderstorm',\n",
       "       'proximity_thunderstorm_with_drizzle',\n",
       "       'proximity_thunderstorm_with_rain', 'sand', 'sand/dust_whirls',\n",
       "       'scattered_clouds', 'shower_rain', 'sky_is_clear', 'smoke', 'snow',\n",
       "       'squalls', 'thunderstorm', 'thunderstorm_with_heavy_rain',\n",
       "       'thunderstorm_with_light_drizzle', 'thunderstorm_with_light_rain',\n",
       "       'thunderstorm_with_rain', 'very_heavy_rain', 'outage'],\n",
       "      dtype='object')"
      ]
     },
     "execution_count": 26,
     "metadata": {},
     "output_type": "execute_result"
    }
   ],
   "source": [
    "df.columns"
   ]
  },
  {
   "cell_type": "code",
   "execution_count": 33,
   "metadata": {},
   "outputs": [
    {
     "data": {
      "text/plain": [
       "(149, 72)"
      ]
     },
     "execution_count": 33,
     "metadata": {},
     "output_type": "execute_result"
    }
   ],
   "source": [
    "df.shape"
   ]
  },
  {
   "cell_type": "code",
   "execution_count": 38,
   "metadata": {},
   "outputs": [],
   "source": [
    "features = df.columns[15:71]"
   ]
  },
  {
   "cell_type": "code",
   "execution_count": 39,
   "metadata": {},
   "outputs": [
    {
     "data": {
      "text/plain": [
       "Index(['aerial_(fly-over)', 'drills/exercises', 'environmental', 'fire',\n",
       "       'infrastructure', 'mass_transit_disruption', 'mass_transit_restoration',\n",
       "       'missing_adult', 'missing_child/adolescent', 'parking',\n",
       "       'public_awareness', 'public_health', 'road_closure',\n",
       "       'school_notification', 'structural', 'utility', 'weather',\n",
       "       'temperature_f', 'wind_dir_degrees', 'wind_speed_mph', 'broken_clouds',\n",
       "       'drizzle', 'dust', 'few_clouds', 'fog', 'freezing_rain', 'haze',\n",
       "       'heavy_intensity_drizzle', 'heavy_intensity_rain', 'heavy_snow',\n",
       "       'heavy_thunderstorm', 'light_intensity_drizzle',\n",
       "       'light_intensity_shower_rain', 'light_rain', 'light_rain_and_snow',\n",
       "       'light_snow', 'mist', 'moderate_rain', 'overcast_clouds',\n",
       "       'proximity_thunderstorm', 'proximity_thunderstorm_with_drizzle',\n",
       "       'proximity_thunderstorm_with_rain', 'sand', 'sand/dust_whirls',\n",
       "       'scattered_clouds', 'shower_rain', 'sky_is_clear', 'smoke', 'snow',\n",
       "       'squalls', 'thunderstorm', 'thunderstorm_with_heavy_rain',\n",
       "       'thunderstorm_with_light_drizzle', 'thunderstorm_with_light_rain',\n",
       "       'thunderstorm_with_rain', 'very_heavy_rain'],\n",
       "      dtype='object')"
      ]
     },
     "execution_count": 39,
     "metadata": {},
     "output_type": "execute_result"
    }
   ],
   "source": [
    "features"
   ]
  },
  {
   "cell_type": "code",
   "execution_count": 41,
   "metadata": {},
   "outputs": [],
   "source": [
    "X = df['regex_clean_tweets']\n",
    "y = df['outage']"
   ]
  },
  {
   "cell_type": "markdown",
   "metadata": {},
   "source": [
    "## Baseline Score"
   ]
  },
  {
   "cell_type": "code",
   "execution_count": 42,
   "metadata": {},
   "outputs": [
    {
     "data": {
      "text/plain": [
       "0.0    0.731544\n",
       "1.0    0.268456\n",
       "Name: outage, dtype: float64"
      ]
     },
     "execution_count": 42,
     "metadata": {},
     "output_type": "execute_result"
    }
   ],
   "source": [
    "y.value_counts(normalize=True)"
   ]
  },
  {
   "cell_type": "markdown",
   "metadata": {},
   "source": [
    "## Model with only Text Data"
   ]
  },
  {
   "cell_type": "code",
   "execution_count": 59,
   "metadata": {},
   "outputs": [],
   "source": [
    "from sklearn.pipeline import Pipeline\n",
    "from sklearn.feature_extraction.text import TfidfVectorizer\n",
    "from sklearn.metrics import confusion_matrix, classification_report, roc_auc_score, precision_recall_curve, roc_curve, auc\n",
    "from sklearn.model_selection import GridSearchCV\n",
    " \n"
   ]
  },
  {
   "cell_type": "code",
   "execution_count": 62,
   "metadata": {},
   "outputs": [],
   "source": [
    "def classifier(X, y):\n",
    "   \n",
    "    \n",
    "    pipe = Pipeline([\n",
    "    ('tvec', TfidfVectorizer()),\n",
    "    ('clf', MultinomialNB())\n",
    "    ])\n",
    "    \n",
    "    pipe_params = {\n",
    "    'tvec__ngram_range': [(1, 1), (1, 2), (1, 3)],\n",
    "    'tvec__max_features': [None, 500, 1000],\n",
    "    'tvec__min_df': [1, 2, 3],\n",
    "    'tvec__max_df': [1.0, 0.8, 0.6],\n",
    "    'clf__alpha': [1.0, 0.1, 0.01]\n",
    "    }\n",
    "    \n",
    "    gs = GridSearchCV(pipe, param_grid=pipe_params, cv=3)\n",
    "    \n",
    "    gs.fit(X, y)\n",
    "    \n",
    "    print(f'The Accuracy score is: {round(gs.score(X, y), 2)}')\n",
    "\n",
    "    print(gs.best_params_)\n",
    "    print(f'The cross_val_score is: {round(gs.best_score_, 2)}')\n",
    "    #y_predpr_lr = gs.best_estimator_.predict_proba(X_test)[:, 1]\n",
    "    \n",
    "    tn, fp, fn, tp = confusion_matrix(y, gs.best_estimator_.predict(X)).ravel()\n",
    "\n",
    "    \n",
    "\n",
    "    accuracy = round((tn + tp) / (tn + fp + fn + tp), 2)\n",
    "    misclassification = round((1 - accuracy), 2)\n",
    "    sensitivity = round((tp) / (tp + fn), 2)\n",
    "    specificity = round((tn) / (tn + fp), 2)\n",
    "    precision = round((tp) / (tp + fp), 2)\n",
    "    \n",
    "    print(f'The Accuracy is: {accuracy}')\n",
    "    print(f'The Missclassification Rate is: {misclassification}')\n",
    "    print(f'The Sensitivity/Recall is: {sensitivity}')\n",
    "    print(f'The Specificity is: {specificity}')\n",
    "    print(f'The Precision is: {precision}')\n",
    "    \n",
    "\n",
    "    fpr_clf, tpr_clf, _ = roc_curve(y, gs.best_estimator_.predict_proba(X)[:, 1])\n",
    "    roc_auc_clf = auc(fpr_clf, tpr_clf)\n",
    "\n",
    "    plt.figure(figsize = (10, 7))\n",
    "    plt.xlim([-0.01, 1.00])\n",
    "    plt.ylim([-0.01, 1.01])\n",
    "    plt.plot(fpr_clf, tpr_clf, lw=3, label='The Naive Bayes ROC curve (area = {:0.2f})'.format(roc_auc_clf))\n",
    "    plt.xlabel('False Positive Rate', fontsize=16)\n",
    "    plt.ylabel('True Positive Rate', fontsize=16)\n",
    "    plt.title('ROC curve (Reddit Data)', fontsize=18)\n",
    "    plt.legend(loc='lower right', fontsize=13)\n",
    "    plt.plot([0, 1], [0, 1], color='navy', lw=3, linestyle='--')\n",
    "\n",
    "    print(classification_report(y, gs.best_estimator_.predict(X)))\n",
    "    "
   ]
  },
  {
   "cell_type": "code",
   "execution_count": 63,
   "metadata": {},
   "outputs": [
    {
     "name": "stderr",
     "output_type": "stream",
     "text": [
      "/anaconda3/lib/python3.7/site-packages/sklearn/model_selection/_search.py:841: DeprecationWarning: The default of the `iid` parameter will change from True to False in version 0.22 and will be removed in 0.24. This will change numeric results when test-set sizes are unequal.\n",
      "  DeprecationWarning)\n"
     ]
    },
    {
     "name": "stdout",
     "output_type": "stream",
     "text": [
      "The Accuracy score is: 0.95\n",
      "{'clf__alpha': 0.1, 'tvec__max_df': 0.8, 'tvec__max_features': 500, 'tvec__min_df': 1, 'tvec__ngram_range': (1, 3)}\n",
      "The cross_val_score is: 0.77\n",
      "The Accuracy is: 0.95\n",
      "The Missclassification Rate is: 0.05\n",
      "The Sensitivity/Recall is: 0.92\n",
      "The Specificity is: 0.96\n",
      "The Precision is: 0.9\n",
      "              precision    recall  f1-score   support\n",
      "\n",
      "         0.0       0.97      0.96      0.97       109\n",
      "         1.0       0.90      0.93      0.91        40\n",
      "\n",
      "   micro avg       0.95      0.95      0.95       149\n",
      "   macro avg       0.94      0.94      0.94       149\n",
      "weighted avg       0.95      0.95      0.95       149\n",
      "\n"
     ]
    },
    {
     "data": {
      "image/png": "[encoded data removed]",
      "text/plain": [
       "<Figure size 720x504 with 1 Axes>"
      ]
     },
     "metadata": {
      "needs_background": "light"
     },
     "output_type": "display_data"
    }
   ],
   "source": [
    "classifier(X, y)"
   ]
  },
  {
   "cell_type": "markdown",
   "metadata": {},
   "source": [
    "## PCA"
   ]
  },
  {
   "cell_type": "code",
   "execution_count": 64,
   "metadata": {},
   "outputs": [
    {
     "data": {
      "text/plain": [
       "Index(['aerial_(fly-over)', 'drills/exercises', 'environmental', 'fire',\n",
       "       'infrastructure', 'mass_transit_disruption', 'mass_transit_restoration',\n",
       "       'missing_adult', 'missing_child/adolescent', 'parking',\n",
       "       'public_awareness', 'public_health', 'road_closure',\n",
       "       'school_notification', 'structural', 'utility', 'weather',\n",
       "       'temperature_f', 'wind_dir_degrees', 'wind_speed_mph', 'broken_clouds',\n",
       "       'drizzle', 'dust', 'few_clouds', 'fog', 'freezing_rain', 'haze',\n",
       "       'heavy_intensity_drizzle', 'heavy_intensity_rain', 'heavy_snow',\n",
       "       'heavy_thunderstorm', 'light_intensity_drizzle',\n",
       "       'light_intensity_shower_rain', 'light_rain', 'light_rain_and_snow',\n",
       "       'light_snow', 'mist', 'moderate_rain', 'overcast_clouds',\n",
       "       'proximity_thunderstorm', 'proximity_thunderstorm_with_drizzle',\n",
       "       'proximity_thunderstorm_with_rain', 'sand', 'sand/dust_whirls',\n",
       "       'scattered_clouds', 'shower_rain', 'sky_is_clear', 'smoke', 'snow',\n",
       "       'squalls', 'thunderstorm', 'thunderstorm_with_heavy_rain',\n",
       "       'thunderstorm_with_light_drizzle', 'thunderstorm_with_light_rain',\n",
       "       'thunderstorm_with_rain', 'very_heavy_rain'],\n",
       "      dtype='object')"
      ]
     },
     "execution_count": 64,
     "metadata": {},
     "output_type": "execute_result"
    }
   ],
   "source": [
    "features"
   ]
  },
  {
   "cell_type": "code",
   "execution_count": 65,
   "metadata": {},
   "outputs": [],
   "source": [
    "from sklearn.preprocessing import StandardScaler\n",
    "from sklearn.decomposition import PCA"
   ]
  },
  {
   "cell_type": "code",
   "execution_count": 66,
   "metadata": {},
   "outputs": [],
   "source": [
    "X_pca = df[features]"
   ]
  },
  {
   "cell_type": "code",
   "execution_count": 68,
   "metadata": {},
   "outputs": [],
   "source": [
    "ss = StandardScaler()\n",
    "X_t = ss.fit_transform(X_pca)"
   ]
  },
  {
   "cell_type": "code",
   "execution_count": 119,
   "metadata": {},
   "outputs": [],
   "source": [
    "pca = PCA()"
   ]
  },
  {
   "cell_type": "code",
   "execution_count": 120,
   "metadata": {},
   "outputs": [
    {
     "data": {
      "text/plain": [
       "PCA(copy=True, iterated_power='auto', n_components=None, random_state=None,\n",
       "  svd_solver='auto', tol=0.0, whiten=False)"
      ]
     },
     "execution_count": 120,
     "metadata": {},
     "output_type": "execute_result"
    }
   ],
   "source": [
    "pca.fit(X_t)"
   ]
  },
  {
   "cell_type": "code",
   "execution_count": 121,
   "metadata": {},
   "outputs": [],
   "source": [
    "Z = pca.transform(X_t)"
   ]
  },
  {
   "cell_type": "code",
   "execution_count": 122,
   "metadata": {},
   "outputs": [
    {
     "data": {
      "text/html": [
       "<div>\n",
       "<style scoped>\n",
       "    .dataframe tbody tr th:only-of-type {\n",
       "        vertical-align: middle;\n",
       "    }\n",
       "\n",
       "    .dataframe tbody tr th {\n",
       "        vertical-align: top;\n",
       "    }\n",
       "\n",
       "    .dataframe thead th {\n",
       "        text-align: right;\n",
       "    }\n",
       "</style>\n",
       "<table border=\"1\" class=\"dataframe\">\n",
       "  <thead>\n",
       "    <tr style=\"text-align: right;\">\n",
       "      <th></th>\n",
       "      <th>0</th>\n",
       "      <th>1</th>\n",
       "      <th>2</th>\n",
       "      <th>3</th>\n",
       "      <th>4</th>\n",
       "      <th>5</th>\n",
       "      <th>6</th>\n",
       "      <th>7</th>\n",
       "      <th>8</th>\n",
       "      <th>9</th>\n",
       "      <th>...</th>\n",
       "      <th>46</th>\n",
       "      <th>47</th>\n",
       "      <th>48</th>\n",
       "      <th>49</th>\n",
       "      <th>50</th>\n",
       "      <th>51</th>\n",
       "      <th>52</th>\n",
       "      <th>53</th>\n",
       "      <th>54</th>\n",
       "      <th>55</th>\n",
       "    </tr>\n",
       "  </thead>\n",
       "  <tbody>\n",
       "    <tr>\n",
       "      <th>count</th>\n",
       "      <td>1.490000e+02</td>\n",
       "      <td>1.490000e+02</td>\n",
       "      <td>1.490000e+02</td>\n",
       "      <td>1.490000e+02</td>\n",
       "      <td>1.490000e+02</td>\n",
       "      <td>1.490000e+02</td>\n",
       "      <td>1.490000e+02</td>\n",
       "      <td>1.490000e+02</td>\n",
       "      <td>1.490000e+02</td>\n",
       "      <td>1.490000e+02</td>\n",
       "      <td>...</td>\n",
       "      <td>149.0</td>\n",
       "      <td>149.0</td>\n",
       "      <td>149.0</td>\n",
       "      <td>149.0</td>\n",
       "      <td>149.0</td>\n",
       "      <td>149.0</td>\n",
       "      <td>149.0</td>\n",
       "      <td>149.0</td>\n",
       "      <td>1.490000e+02</td>\n",
       "      <td>1.490000e+02</td>\n",
       "    </tr>\n",
       "    <tr>\n",
       "      <th>mean</th>\n",
       "      <td>2.205544e-16</td>\n",
       "      <td>-5.066790e-16</td>\n",
       "      <td>1.318856e-16</td>\n",
       "      <td>1.341209e-16</td>\n",
       "      <td>4.768743e-17</td>\n",
       "      <td>7.451161e-18</td>\n",
       "      <td>-6.109952e-17</td>\n",
       "      <td>9.984556e-17</td>\n",
       "      <td>4.023627e-17</td>\n",
       "      <td>3.278511e-17</td>\n",
       "      <td>...</td>\n",
       "      <td>0.0</td>\n",
       "      <td>0.0</td>\n",
       "      <td>0.0</td>\n",
       "      <td>0.0</td>\n",
       "      <td>0.0</td>\n",
       "      <td>0.0</td>\n",
       "      <td>0.0</td>\n",
       "      <td>0.0</td>\n",
       "      <td>3.654856e-20</td>\n",
       "      <td>4.336059e-19</td>\n",
       "    </tr>\n",
       "    <tr>\n",
       "      <th>std</th>\n",
       "      <td>1.712523e+00</td>\n",
       "      <td>1.553009e+00</td>\n",
       "      <td>1.441722e+00</td>\n",
       "      <td>1.354563e+00</td>\n",
       "      <td>1.339708e+00</td>\n",
       "      <td>1.250513e+00</td>\n",
       "      <td>1.162122e+00</td>\n",
       "      <td>1.140706e+00</td>\n",
       "      <td>1.113401e+00</td>\n",
       "      <td>1.059329e+00</td>\n",
       "      <td>...</td>\n",
       "      <td>0.0</td>\n",
       "      <td>0.0</td>\n",
       "      <td>0.0</td>\n",
       "      <td>0.0</td>\n",
       "      <td>0.0</td>\n",
       "      <td>0.0</td>\n",
       "      <td>0.0</td>\n",
       "      <td>0.0</td>\n",
       "      <td>5.989385e-16</td>\n",
       "      <td>5.605775e-16</td>\n",
       "    </tr>\n",
       "    <tr>\n",
       "      <th>min</th>\n",
       "      <td>-2.229655e+00</td>\n",
       "      <td>-3.086826e+00</td>\n",
       "      <td>-2.761394e+00</td>\n",
       "      <td>-3.186571e+00</td>\n",
       "      <td>-1.926462e+00</td>\n",
       "      <td>-3.006435e+00</td>\n",
       "      <td>-2.564769e+00</td>\n",
       "      <td>-3.116329e+00</td>\n",
       "      <td>-4.804781e+00</td>\n",
       "      <td>-4.406465e+00</td>\n",
       "      <td>...</td>\n",
       "      <td>0.0</td>\n",
       "      <td>0.0</td>\n",
       "      <td>0.0</td>\n",
       "      <td>0.0</td>\n",
       "      <td>0.0</td>\n",
       "      <td>0.0</td>\n",
       "      <td>0.0</td>\n",
       "      <td>0.0</td>\n",
       "      <td>-2.705638e-15</td>\n",
       "      <td>-1.050884e-15</td>\n",
       "    </tr>\n",
       "    <tr>\n",
       "      <th>25%</th>\n",
       "      <td>-2.142864e+00</td>\n",
       "      <td>-5.459422e-01</td>\n",
       "      <td>-7.740086e-01</td>\n",
       "      <td>-4.622085e-01</td>\n",
       "      <td>-3.157589e-01</td>\n",
       "      <td>-1.896265e-01</td>\n",
       "      <td>-3.011363e-01</td>\n",
       "      <td>-3.359611e-01</td>\n",
       "      <td>-2.563071e-01</td>\n",
       "      <td>-1.905451e-01</td>\n",
       "      <td>...</td>\n",
       "      <td>0.0</td>\n",
       "      <td>0.0</td>\n",
       "      <td>0.0</td>\n",
       "      <td>0.0</td>\n",
       "      <td>0.0</td>\n",
       "      <td>0.0</td>\n",
       "      <td>0.0</td>\n",
       "      <td>0.0</td>\n",
       "      <td>-1.283807e-16</td>\n",
       "      <td>-2.945447e-16</td>\n",
       "    </tr>\n",
       "    <tr>\n",
       "      <th>50%</th>\n",
       "      <td>4.913730e-01</td>\n",
       "      <td>4.055750e-01</td>\n",
       "      <td>-3.575188e-01</td>\n",
       "      <td>-4.239090e-01</td>\n",
       "      <td>-2.181710e-02</td>\n",
       "      <td>-1.234680e-01</td>\n",
       "      <td>-3.013128e-02</td>\n",
       "      <td>-1.863002e-01</td>\n",
       "      <td>-1.812564e-01</td>\n",
       "      <td>-9.424101e-02</td>\n",
       "      <td>...</td>\n",
       "      <td>0.0</td>\n",
       "      <td>0.0</td>\n",
       "      <td>0.0</td>\n",
       "      <td>0.0</td>\n",
       "      <td>0.0</td>\n",
       "      <td>0.0</td>\n",
       "      <td>0.0</td>\n",
       "      <td>0.0</td>\n",
       "      <td>-1.034034e-16</td>\n",
       "      <td>-9.982202e-17</td>\n",
       "    </tr>\n",
       "    <tr>\n",
       "      <th>75%</th>\n",
       "      <td>1.021636e+00</td>\n",
       "      <td>6.931697e-01</td>\n",
       "      <td>3.138721e-02</td>\n",
       "      <td>2.871803e-01</td>\n",
       "      <td>-9.809118e-03</td>\n",
       "      <td>5.594036e-01</td>\n",
       "      <td>9.780457e-02</td>\n",
       "      <td>3.934879e-01</td>\n",
       "      <td>1.648605e-01</td>\n",
       "      <td>2.481522e-01</td>\n",
       "      <td>...</td>\n",
       "      <td>0.0</td>\n",
       "      <td>0.0</td>\n",
       "      <td>0.0</td>\n",
       "      <td>0.0</td>\n",
       "      <td>0.0</td>\n",
       "      <td>0.0</td>\n",
       "      <td>0.0</td>\n",
       "      <td>0.0</td>\n",
       "      <td>4.527517e-16</td>\n",
       "      <td>3.852217e-17</td>\n",
       "    </tr>\n",
       "    <tr>\n",
       "      <th>max</th>\n",
       "      <td>3.379888e+00</td>\n",
       "      <td>4.285268e+00</td>\n",
       "      <td>3.744251e+00</td>\n",
       "      <td>3.870118e+00</td>\n",
       "      <td>9.403244e+00</td>\n",
       "      <td>8.678323e+00</td>\n",
       "      <td>7.297932e+00</td>\n",
       "      <td>4.628117e+00</td>\n",
       "      <td>6.089916e+00</td>\n",
       "      <td>8.462318e+00</td>\n",
       "      <td>...</td>\n",
       "      <td>0.0</td>\n",
       "      <td>0.0</td>\n",
       "      <td>0.0</td>\n",
       "      <td>0.0</td>\n",
       "      <td>0.0</td>\n",
       "      <td>0.0</td>\n",
       "      <td>0.0</td>\n",
       "      <td>0.0</td>\n",
       "      <td>2.066410e-15</td>\n",
       "      <td>2.751769e-15</td>\n",
       "    </tr>\n",
       "  </tbody>\n",
       "</table>\n",
       "<p>8 rows × 56 columns</p>\n",
       "</div>"
      ],
      "text/plain": [
       "                 0             1             2             3             4   \\\n",
       "count  1.490000e+02  1.490000e+02  1.490000e+02  1.490000e+02  1.490000e+02   \n",
       "mean   2.205544e-16 -5.066790e-16  1.318856e-16  1.341209e-16  4.768743e-17   \n",
       "std    1.712523e+00  1.553009e+00  1.441722e+00  1.354563e+00  1.339708e+00   \n",
       "min   -2.229655e+00 -3.086826e+00 -2.761394e+00 -3.186571e+00 -1.926462e+00   \n",
       "25%   -2.142864e+00 -5.459422e-01 -7.740086e-01 -4.622085e-01 -3.157589e-01   \n",
       "50%    4.913730e-01  4.055750e-01 -3.575188e-01 -4.239090e-01 -2.181710e-02   \n",
       "75%    1.021636e+00  6.931697e-01  3.138721e-02  2.871803e-01 -9.809118e-03   \n",
       "max    3.379888e+00  4.285268e+00  3.744251e+00  3.870118e+00  9.403244e+00   \n",
       "\n",
       "                 5             6             7             8             9   \\\n",
       "count  1.490000e+02  1.490000e+02  1.490000e+02  1.490000e+02  1.490000e+02   \n",
       "mean   7.451161e-18 -6.109952e-17  9.984556e-17  4.023627e-17  3.278511e-17   \n",
       "std    1.250513e+00  1.162122e+00  1.140706e+00  1.113401e+00  1.059329e+00   \n",
       "min   -3.006435e+00 -2.564769e+00 -3.116329e+00 -4.804781e+00 -4.406465e+00   \n",
       "25%   -1.896265e-01 -3.011363e-01 -3.359611e-01 -2.563071e-01 -1.905451e-01   \n",
       "50%   -1.234680e-01 -3.013128e-02 -1.863002e-01 -1.812564e-01 -9.424101e-02   \n",
       "75%    5.594036e-01  9.780457e-02  3.934879e-01  1.648605e-01  2.481522e-01   \n",
       "max    8.678323e+00  7.297932e+00  4.628117e+00  6.089916e+00  8.462318e+00   \n",
       "\n",
       "       ...     46     47     48     49     50     51     52     53  \\\n",
       "count  ...  149.0  149.0  149.0  149.0  149.0  149.0  149.0  149.0   \n",
       "mean   ...    0.0    0.0    0.0    0.0    0.0    0.0    0.0    0.0   \n",
       "std    ...    0.0    0.0    0.0    0.0    0.0    0.0    0.0    0.0   \n",
       "min    ...    0.0    0.0    0.0    0.0    0.0    0.0    0.0    0.0   \n",
       "25%    ...    0.0    0.0    0.0    0.0    0.0    0.0    0.0    0.0   \n",
       "50%    ...    0.0    0.0    0.0    0.0    0.0    0.0    0.0    0.0   \n",
       "75%    ...    0.0    0.0    0.0    0.0    0.0    0.0    0.0    0.0   \n",
       "max    ...    0.0    0.0    0.0    0.0    0.0    0.0    0.0    0.0   \n",
       "\n",
       "                 54            55  \n",
       "count  1.490000e+02  1.490000e+02  \n",
       "mean   3.654856e-20  4.336059e-19  \n",
       "std    5.989385e-16  5.605775e-16  \n",
       "min   -2.705638e-15 -1.050884e-15  \n",
       "25%   -1.283807e-16 -2.945447e-16  \n",
       "50%   -1.034034e-16 -9.982202e-17  \n",
       "75%    4.527517e-16  3.852217e-17  \n",
       "max    2.066410e-15  2.751769e-15  \n",
       "\n",
       "[8 rows x 56 columns]"
      ]
     },
     "execution_count": 122,
     "metadata": {},
     "output_type": "execute_result"
    }
   ],
   "source": [
    "pd.DataFrame(Z).describe()"
   ]
  },
  {
   "cell_type": "code",
   "execution_count": 93,
   "metadata": {},
   "outputs": [
    {
     "data": {
      "image/png": "[encoded data removed]",
      "text/plain": [
       "<Figure size 432x288 with 1 Axes>"
      ]
     },
     "metadata": {
      "needs_background": "light"
     },
     "output_type": "display_data"
    }
   ],
   "source": [
    "plt.scatter(pd.DataFrame(Z[0]),\n",
    "            pd.DataFrame(Z[1]));"
   ]
  },
  {
   "cell_type": "code",
   "execution_count": 75,
   "metadata": {},
   "outputs": [
    {
     "data": {
      "text/plain": [
       "array([2.93273560e+00, 2.41183615e+00, 2.07856165e+00, 1.83484014e+00,\n",
       "       1.79481789e+00, 1.56378285e+00, 1.35052788e+00, 1.30120940e+00,\n",
       "       1.23966113e+00, 1.12217777e+00, 1.09159030e+00, 1.02523179e+00,\n",
       "       1.02075870e+00, 1.01448385e+00, 9.63453322e-01, 8.71989549e-01,\n",
       "       8.40469246e-01, 7.58497970e-01, 5.85657603e-01, 3.85121808e-01,\n",
       "       3.20684706e-01, 2.80214563e-01, 2.12503414e-01, 1.23897377e-01,\n",
       "       5.77277770e-02, 1.99854095e-31, 1.43294287e-31, 4.48493290e-32,\n",
       "       2.92274217e-32, 1.34373580e-32, 1.34373580e-32, 1.34373580e-32,\n",
       "       1.34373580e-32, 1.34373580e-32, 1.34373580e-32, 1.34373580e-32,\n",
       "       1.34373580e-32, 1.34373580e-32, 1.34373580e-32, 1.34373580e-32,\n",
       "       1.34373580e-32, 1.34373580e-32, 1.34373580e-32, 1.34373580e-32,\n",
       "       1.34373580e-32, 1.34373580e-32, 1.34373580e-32, 1.34373580e-32,\n",
       "       1.34373580e-32, 1.34373580e-32, 1.34373580e-32, 1.34373580e-32,\n",
       "       1.34373580e-32, 1.34373580e-32, 4.97123354e-33, 2.67414964e-33])"
      ]
     },
     "execution_count": 75,
     "metadata": {},
     "output_type": "execute_result"
    }
   ],
   "source": [
    "pca.explained_variance_"
   ]
  },
  {
   "cell_type": "code",
   "execution_count": 86,
   "metadata": {},
   "outputs": [],
   "source": [
    "var_exp = pca.explained_variance_ratio_"
   ]
  },
  {
   "cell_type": "code",
   "execution_count": 87,
   "metadata": {},
   "outputs": [
    {
     "data": {
      "text/plain": [
       "array([0.10789084, 0.1966186 , 0.27308569, 0.34058665, 0.40661525,\n",
       "       0.46414442, 0.51382827, 0.56169777, 0.607303  , 0.6485862 ,\n",
       "       0.68874413, 0.72646083, 0.76401298, 0.80133429, 0.83677826,\n",
       "       0.86885741, 0.89977699, 0.92768097, 0.94922641, 0.96339445,\n",
       "       0.97519195, 0.98550061, 0.99331829, 0.99787628, 1.        ,\n",
       "       1.        , 1.        , 1.        , 1.        , 1.        ,\n",
       "       1.        , 1.        , 1.        , 1.        , 1.        ,\n",
       "       1.        , 1.        , 1.        , 1.        , 1.        ,\n",
       "       1.        , 1.        , 1.        , 1.        , 1.        ,\n",
       "       1.        , 1.        , 1.        , 1.        , 1.        ,\n",
       "       1.        , 1.        , 1.        , 1.        , 1.        ,\n",
       "       1.        ])"
      ]
     },
     "execution_count": 87,
     "metadata": {},
     "output_type": "execute_result"
    }
   ],
   "source": [
    "cum_var_exp = np.cumsum(var_exp)\n",
    "cum_var_exp"
   ]
  },
  {
   "cell_type": "code",
   "execution_count": 88,
   "metadata": {},
   "outputs": [
    {
     "data": {
      "image/png": "[encoded data removed]",
      "text/plain": [
       "<Figure size 648x504 with 1 Axes>"
      ]
     },
     "metadata": {
      "needs_background": "light"
     },
     "output_type": "display_data"
    }
   ],
   "source": [
    "plt.figure(figsize=(9,7))\n",
    "\n",
    "# Plot the cumulative explained variance\n",
    "component_number = range(len(cum_var_exp))\n",
    "plt.plot(component_number, cum_var_exp, lw=3)\n",
    "\n",
    "# Add horizontal lines at y=0 and y=100\n",
    "plt.axhline(y=0, linewidth=1, color='grey', ls='dashed')\n",
    "plt.axhline(y=1, linewidth=1, color='grey', ls='dashed')\n",
    "\n",
    "# Set the x and y axis limits\n",
    "ax = plt.gca()\n",
    "ax.set_xlim([-1,26])\n",
    "ax.set_ylim([-0.05,1.05])\n",
    "\n",
    "# Label the axes\n",
    "ax.set_ylabel('cumulative variance explained', fontsize=16)\n",
    "ax.set_xlabel('component', fontsize=16)\n",
    "\n",
    "# Make the tick labels bigger\n",
    "for tick in ax.xaxis.get_major_ticks():\n",
    "    tick.label.set_fontsize(12) \n",
    "for tick in ax.yaxis.get_major_ticks():\n",
    "    tick.label.set_fontsize(12) \n",
    "    \n",
    "# Add title\n",
    "ax.set_title('Component vs Cumulative variance explained\\n', fontsize=20)\n",
    "\n",
    "plt.show()"
   ]
  },
  {
   "cell_type": "code",
   "execution_count": 123,
   "metadata": {},
   "outputs": [],
   "source": [
    "pca = PCA(n_components=5)"
   ]
  },
  {
   "cell_type": "code",
   "execution_count": 124,
   "metadata": {},
   "outputs": [
    {
     "data": {
      "text/plain": [
       "PCA(copy=True, iterated_power='auto', n_components=5, random_state=None,\n",
       "  svd_solver='auto', tol=0.0, whiten=False)"
      ]
     },
     "execution_count": 124,
     "metadata": {},
     "output_type": "execute_result"
    }
   ],
   "source": [
    "pca.fit(X_t)"
   ]
  },
  {
   "cell_type": "code",
   "execution_count": 125,
   "metadata": {},
   "outputs": [],
   "source": [
    "Z = pca.transform(X_t)"
   ]
  },
  {
   "cell_type": "code",
   "execution_count": 132,
   "metadata": {},
   "outputs": [
    {
     "data": {
      "text/html": [
       "<div>\n",
       "<style scoped>\n",
       "    .dataframe tbody tr th:only-of-type {\n",
       "        vertical-align: middle;\n",
       "    }\n",
       "\n",
       "    .dataframe tbody tr th {\n",
       "        vertical-align: top;\n",
       "    }\n",
       "\n",
       "    .dataframe thead th {\n",
       "        text-align: right;\n",
       "    }\n",
       "</style>\n",
       "<table border=\"1\" class=\"dataframe\">\n",
       "  <thead>\n",
       "    <tr style=\"text-align: right;\">\n",
       "      <th></th>\n",
       "      <th>0</th>\n",
       "      <th>1</th>\n",
       "      <th>2</th>\n",
       "      <th>3</th>\n",
       "      <th>4</th>\n",
       "    </tr>\n",
       "  </thead>\n",
       "  <tbody>\n",
       "    <tr>\n",
       "      <th>count</th>\n",
       "      <td>1.490000e+02</td>\n",
       "      <td>1.490000e+02</td>\n",
       "      <td>1.490000e+02</td>\n",
       "      <td>1.490000e+02</td>\n",
       "      <td>1.490000e+02</td>\n",
       "    </tr>\n",
       "    <tr>\n",
       "      <th>mean</th>\n",
       "      <td>2.235348e-16</td>\n",
       "      <td>-5.081692e-16</td>\n",
       "      <td>1.333758e-16</td>\n",
       "      <td>1.341209e-16</td>\n",
       "      <td>4.768743e-17</td>\n",
       "    </tr>\n",
       "    <tr>\n",
       "      <th>std</th>\n",
       "      <td>1.712523e+00</td>\n",
       "      <td>1.553009e+00</td>\n",
       "      <td>1.441722e+00</td>\n",
       "      <td>1.354563e+00</td>\n",
       "      <td>1.339708e+00</td>\n",
       "    </tr>\n",
       "    <tr>\n",
       "      <th>min</th>\n",
       "      <td>-2.229655e+00</td>\n",
       "      <td>-3.086826e+00</td>\n",
       "      <td>-2.761394e+00</td>\n",
       "      <td>-3.186571e+00</td>\n",
       "      <td>-1.926462e+00</td>\n",
       "    </tr>\n",
       "    <tr>\n",
       "      <th>25%</th>\n",
       "      <td>-2.142864e+00</td>\n",
       "      <td>-5.459422e-01</td>\n",
       "      <td>-7.740086e-01</td>\n",
       "      <td>-4.622085e-01</td>\n",
       "      <td>-3.157589e-01</td>\n",
       "    </tr>\n",
       "    <tr>\n",
       "      <th>50%</th>\n",
       "      <td>4.913730e-01</td>\n",
       "      <td>4.055750e-01</td>\n",
       "      <td>-3.575188e-01</td>\n",
       "      <td>-4.239090e-01</td>\n",
       "      <td>-2.181710e-02</td>\n",
       "    </tr>\n",
       "    <tr>\n",
       "      <th>75%</th>\n",
       "      <td>1.021636e+00</td>\n",
       "      <td>6.931697e-01</td>\n",
       "      <td>3.138721e-02</td>\n",
       "      <td>2.871803e-01</td>\n",
       "      <td>-9.809118e-03</td>\n",
       "    </tr>\n",
       "    <tr>\n",
       "      <th>max</th>\n",
       "      <td>3.379888e+00</td>\n",
       "      <td>4.285268e+00</td>\n",
       "      <td>3.744251e+00</td>\n",
       "      <td>3.870118e+00</td>\n",
       "      <td>9.403244e+00</td>\n",
       "    </tr>\n",
       "  </tbody>\n",
       "</table>\n",
       "</div>"
      ],
      "text/plain": [
       "                  0             1             2             3             4\n",
       "count  1.490000e+02  1.490000e+02  1.490000e+02  1.490000e+02  1.490000e+02\n",
       "mean   2.235348e-16 -5.081692e-16  1.333758e-16  1.341209e-16  4.768743e-17\n",
       "std    1.712523e+00  1.553009e+00  1.441722e+00  1.354563e+00  1.339708e+00\n",
       "min   -2.229655e+00 -3.086826e+00 -2.761394e+00 -3.186571e+00 -1.926462e+00\n",
       "25%   -2.142864e+00 -5.459422e-01 -7.740086e-01 -4.622085e-01 -3.157589e-01\n",
       "50%    4.913730e-01  4.055750e-01 -3.575188e-01 -4.239090e-01 -2.181710e-02\n",
       "75%    1.021636e+00  6.931697e-01  3.138721e-02  2.871803e-01 -9.809118e-03\n",
       "max    3.379888e+00  4.285268e+00  3.744251e+00  3.870118e+00  9.403244e+00"
      ]
     },
     "execution_count": 132,
     "metadata": {},
     "output_type": "execute_result"
    }
   ],
   "source": [
    "pd.DataFrame(Z).describe()"
   ]
  },
  {
   "cell_type": "code",
   "execution_count": 133,
   "metadata": {},
   "outputs": [
    {
     "data": {
      "text/plain": [
       "(149, 5)"
      ]
     },
     "execution_count": 133,
     "metadata": {},
     "output_type": "execute_result"
    }
   ],
   "source": [
    "pd.DataFrame(Z).shape"
   ]
  },
  {
   "cell_type": "code",
   "execution_count": null,
   "metadata": {},
   "outputs": [],
   "source": []
  }
 ],
 "metadata": {
  "kernelspec": {
   "display_name": "Python 3",
   "language": "python",
   "name": "python3"
  },
  "language_info": {
   "codemirror_mode": {
    "name": "ipython",
    "version": 3
   },
   "file_extension": ".py",
   "mimetype": "text/x-python",
   "name": "python",
   "nbconvert_exporter": "python",
   "pygments_lexer": "ipython3",
   "version": "3.6.8"
  },
  "varInspector": {
   "cols": {
    "lenName": 16,
    "lenType": 16,
    "lenVar": 40
   },
   "kernels_config": {
    "python": {
     "delete_cmd_postfix": "",
     "delete_cmd_prefix": "del ",
     "library": "var_list.py",
     "varRefreshCmd": "print(var_dic_list())"
    },
    "r": {
     "delete_cmd_postfix": ") ",
     "delete_cmd_prefix": "rm(",
     "library": "var_list.r",
     "varRefreshCmd": "cat(var_dic_list()) "
    }
   },
   "types_to_exclude": [
    "module",
    "function",
    "builtin_function_or_method",
    "instance",
    "_Feature"
   ],
   "window_display": false
  }
 },
 "nbformat": 4,
 "nbformat_minor": 2
}
