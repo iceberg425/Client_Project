{
 "cells": [
  {
   "cell_type": "code",
   "execution_count": 7,
   "metadata": {},
   "outputs": [],
   "source": [
    "import pandas as pd\n",
    "import numpy as np\n",
    "import matplotlib.pyplot as plt\n",
    "import seaborn as sns\n",
    "%matplotlib inline\n",
    "\n",
    "from sklearn.cluster import KMeans, DBSCAN\n",
    "from sklearn.preprocessing import StandardScaler\n",
    "from sklearn.feature_extraction.text import CountVectorizer, TfidfVectorizer\n",
    "from sklearn.pipeline import Pipeline\n",
    "from sklearn.metrics import silhouette_score\n",
    "from sklearn.model_selection import GridSearchCV"
   ]
  },
  {
   "cell_type": "code",
   "execution_count": 2,
   "metadata": {},
   "outputs": [
    {
     "data": {
      "text/html": [
       "<div>\n",
       "<style scoped>\n",
       "    .dataframe tbody tr th:only-of-type {\n",
       "        vertical-align: middle;\n",
       "    }\n",
       "\n",
       "    .dataframe tbody tr th {\n",
       "        vertical-align: top;\n",
       "    }\n",
       "\n",
       "    .dataframe thead th {\n",
       "        text-align: right;\n",
       "    }\n",
       "</style>\n",
       "<table border=\"1\" class=\"dataframe\">\n",
       "  <thead>\n",
       "    <tr style=\"text-align: right;\">\n",
       "      <th></th>\n",
       "      <th>index</th>\n",
       "      <th>ID</th>\n",
       "      <th>datetime</th>\n",
       "      <th>has_media</th>\n",
       "      <th>is_reply</th>\n",
       "      <th>is_retweet</th>\n",
       "      <th>medias</th>\n",
       "      <th>nbr_favorite</th>\n",
       "      <th>nbr_reply</th>\n",
       "      <th>nbr_retweet</th>\n",
       "      <th>text</th>\n",
       "      <th>url</th>\n",
       "      <th>user_id</th>\n",
       "      <th>usernameTweet</th>\n",
       "      <th>regex_clean_tweets</th>\n",
       "      <th>lemmed_tweet</th>\n",
       "      <th>nouns</th>\n",
       "      <th>proper_nouns</th>\n",
       "      <th>geopolitical_ents</th>\n",
       "    </tr>\n",
       "  </thead>\n",
       "  <tbody>\n",
       "    <tr>\n",
       "      <th>0</th>\n",
       "      <td>1869</td>\n",
       "      <td>252633076105097216</td>\n",
       "      <td>2012-10-01 00:00:00</td>\n",
       "      <td>no media</td>\n",
       "      <td>False</td>\n",
       "      <td>False</td>\n",
       "      <td>no media</td>\n",
       "      <td>1.0</td>\n",
       "      <td>0.0</td>\n",
       "      <td>1.0</td>\n",
       "      <td>@ ckundo  Inspired by your  ConEd  summary  ou...</td>\n",
       "      <td>/seecmb/status/252633076105097216</td>\n",
       "      <td>294434762.0</td>\n",
       "      <td>seecmb</td>\n",
       "      <td>ckundo Inspired ConEd summary outage info Ruby...</td>\n",
       "      <td>ckundo Inspired ConEd summary outage info Ruby...</td>\n",
       "      <td>summary outage info gem power outage detail da...</td>\n",
       "      <td>Inspired ConEd Ruby</td>\n",
       "      <td>NaN</td>\n",
       "    </tr>\n",
       "    <tr>\n",
       "      <th>1</th>\n",
       "      <td>3094</td>\n",
       "      <td>254638373040422912</td>\n",
       "      <td>2012-10-06 13:00:00</td>\n",
       "      <td>no media</td>\n",
       "      <td>False</td>\n",
       "      <td>False</td>\n",
       "      <td>no media</td>\n",
       "      <td>0.0</td>\n",
       "      <td>0.0</td>\n",
       "      <td>0.0</td>\n",
       "      <td>Partial  power   outage  at #MediaLoft  That's...</td>\n",
       "      <td>/LuisPaganStudio/status/254638373040422912</td>\n",
       "      <td>212391633.0</td>\n",
       "      <td>LuisPaganStudio</td>\n",
       "      <td>Partial power outage MediaLoft That twice week...</td>\n",
       "      <td>Partial power outage MediaLoft That twice week...</td>\n",
       "      <td>power outage week</td>\n",
       "      <td>MediaLoft Damn ConEd</td>\n",
       "      <td>NaN</td>\n",
       "    </tr>\n",
       "    <tr>\n",
       "      <th>2</th>\n",
       "      <td>2528</td>\n",
       "      <td>256621964268032000</td>\n",
       "      <td>2012-10-12 01:00:00</td>\n",
       "      <td>no media</td>\n",
       "      <td>False</td>\n",
       "      <td>False</td>\n",
       "      <td>no media</td>\n",
       "      <td>0.0</td>\n",
       "      <td>0.0</td>\n",
       "      <td>0.0</td>\n",
       "      <td>Um, can someone call  ConEd , there's a  power...</td>\n",
       "      <td>/marlonthereal/status/256621964268032000</td>\n",
       "      <td>14144742.0</td>\n",
       "      <td>marlonthereal</td>\n",
       "      <td>Um someone call ConEd power outage Bronx Sourc...</td>\n",
       "      <td>Um someone call ConEd power outage Bronx Sourc...</td>\n",
       "      <td>someone power outage post</td>\n",
       "      <td>ConEd Bronx Source YHqV</td>\n",
       "      <td>NaN</td>\n",
       "    </tr>\n",
       "    <tr>\n",
       "      <th>3</th>\n",
       "      <td>723</td>\n",
       "      <td>259866379086340096</td>\n",
       "      <td>2012-10-20 23:00:00</td>\n",
       "      <td>no media</td>\n",
       "      <td>False</td>\n",
       "      <td>False</td>\n",
       "      <td>no media</td>\n",
       "      <td>0.0</td>\n",
       "      <td>0.0</td>\n",
       "      <td>0.0</td>\n",
       "      <td>Power   outage  took over my entire block as s...</td>\n",
       "      <td>/meligyh/status/259866379086340096</td>\n",
       "      <td>280700235.0</td>\n",
       "      <td>meligyh</td>\n",
       "      <td>Power outage took entire block soon loaded Con...</td>\n",
       "      <td>Power outage took entire block soon loaded Con...</td>\n",
       "      <td>Power outage block</td>\n",
       "      <td>ConEd</td>\n",
       "      <td>NaN</td>\n",
       "    </tr>\n",
       "    <tr>\n",
       "      <th>4</th>\n",
       "      <td>487</td>\n",
       "      <td>261909073295974401</td>\n",
       "      <td>2012-10-26 15:00:00</td>\n",
       "      <td>no media</td>\n",
       "      <td>False</td>\n",
       "      <td>False</td>\n",
       "      <td>no media</td>\n",
       "      <td>0.0</td>\n",
       "      <td>1.0</td>\n",
       "      <td>10.0</td>\n",
       "      <td>Mayor: A major concern given this type of stor...</td>\n",
       "      <td>/NYCMayorsOffice/status/261909073295974401</td>\n",
       "      <td>55338739.0</td>\n",
       "      <td>NYCMayorsOffice</td>\n",
       "      <td>Mayor A major concern given type storm possibi...</td>\n",
       "      <td>Mayor A major concern given type storm possibi...</td>\n",
       "      <td>concern type storm possibility power outage</td>\n",
       "      <td>Mayor ConEdison</td>\n",
       "      <td>NaN</td>\n",
       "    </tr>\n",
       "  </tbody>\n",
       "</table>\n",
       "</div>"
      ],
      "text/plain": [
       "   index                  ID             datetime has_media  is_reply  \\\n",
       "0   1869  252633076105097216  2012-10-01 00:00:00  no media     False   \n",
       "1   3094  254638373040422912  2012-10-06 13:00:00  no media     False   \n",
       "2   2528  256621964268032000  2012-10-12 01:00:00  no media     False   \n",
       "3    723  259866379086340096  2012-10-20 23:00:00  no media     False   \n",
       "4    487  261909073295974401  2012-10-26 15:00:00  no media     False   \n",
       "\n",
       "   is_retweet    medias  nbr_favorite  nbr_reply  nbr_retweet  \\\n",
       "0       False  no media           1.0        0.0          1.0   \n",
       "1       False  no media           0.0        0.0          0.0   \n",
       "2       False  no media           0.0        0.0          0.0   \n",
       "3       False  no media           0.0        0.0          0.0   \n",
       "4       False  no media           0.0        1.0         10.0   \n",
       "\n",
       "                                                text  \\\n",
       "0  @ ckundo  Inspired by your  ConEd  summary  ou...   \n",
       "1  Partial  power   outage  at #MediaLoft  That's...   \n",
       "2  Um, can someone call  ConEd , there's a  power...   \n",
       "3  Power   outage  took over my entire block as s...   \n",
       "4  Mayor: A major concern given this type of stor...   \n",
       "\n",
       "                                          url      user_id    usernameTweet  \\\n",
       "0           /seecmb/status/252633076105097216  294434762.0           seecmb   \n",
       "1  /LuisPaganStudio/status/254638373040422912  212391633.0  LuisPaganStudio   \n",
       "2    /marlonthereal/status/256621964268032000   14144742.0    marlonthereal   \n",
       "3          /meligyh/status/259866379086340096  280700235.0          meligyh   \n",
       "4  /NYCMayorsOffice/status/261909073295974401   55338739.0  NYCMayorsOffice   \n",
       "\n",
       "                                  regex_clean_tweets  \\\n",
       "0  ckundo Inspired ConEd summary outage info Ruby...   \n",
       "1  Partial power outage MediaLoft That twice week...   \n",
       "2  Um someone call ConEd power outage Bronx Sourc...   \n",
       "3  Power outage took entire block soon loaded Con...   \n",
       "4  Mayor A major concern given type storm possibi...   \n",
       "\n",
       "                                        lemmed_tweet  \\\n",
       "0  ckundo Inspired ConEd summary outage info Ruby...   \n",
       "1  Partial power outage MediaLoft That twice week...   \n",
       "2  Um someone call ConEd power outage Bronx Sourc...   \n",
       "3  Power outage took entire block soon loaded Con...   \n",
       "4  Mayor A major concern given type storm possibi...   \n",
       "\n",
       "                                               nouns  \\\n",
       "0  summary outage info gem power outage detail da...   \n",
       "1                                 power outage week    \n",
       "2                         someone power outage post    \n",
       "3                                Power outage block    \n",
       "4       concern type storm possibility power outage    \n",
       "\n",
       "               proper_nouns geopolitical_ents  \n",
       "0      Inspired ConEd Ruby                NaN  \n",
       "1     MediaLoft Damn ConEd                NaN  \n",
       "2  ConEd Bronx Source YHqV                NaN  \n",
       "3                    ConEd                NaN  \n",
       "4          Mayor ConEdison                NaN  "
      ]
     },
     "execution_count": 2,
     "metadata": {},
     "output_type": "execute_result"
    }
   ],
   "source": [
    "df = pd.read_csv('./data/nlp_tweets_2012_2017.csv')\n",
    "df.head()"
   ]
  },
  {
   "cell_type": "code",
   "execution_count": 156,
   "metadata": {},
   "outputs": [],
   "source": [
    "X_raw = df.text\n",
    "X_clean = df.regex_clean_tweets\n",
    "X_lem = df.lemmed_tweet\n",
    "X_noun = df.nouns"
   ]
  },
  {
   "cell_type": "code",
   "execution_count": 244,
   "metadata": {},
   "outputs": [],
   "source": [
    "def vectorizer(input):\n",
    "    # km = KMeans(n_clusters=3)\n",
    "    cv = CountVectorizer(ngram_range=(1,2),\n",
    "                         max_features=3000)\n",
    "    X_vec = cv.fit_transform(input)\n",
    "    \n",
    "#     params = {'n_grams': [(1,1), (1,2), (2,2), (1,3)],\n",
    "#               'max_features': [None, 500, 1000, 2000, 3000]}\n",
    " \n",
    "    return pd.DataFrame(X_vec.todense(), columns=cv.get_feature_names())"
   ]
  },
  {
   "cell_type": "code",
   "execution_count": 245,
   "metadata": {},
   "outputs": [],
   "source": [
    "X_raw_df = vectorizer(X_raw)"
   ]
  },
  {
   "cell_type": "code",
   "execution_count": 246,
   "metadata": {},
   "outputs": [],
   "source": [
    "X_clean_df = vectorizer(X_clean)"
   ]
  },
  {
   "cell_type": "code",
   "execution_count": 247,
   "metadata": {},
   "outputs": [],
   "source": [
    "X_lem_df = vectorizer(X_lem)"
   ]
  },
  {
   "cell_type": "code",
   "execution_count": 248,
   "metadata": {},
   "outputs": [],
   "source": [
    "X_noun_df = vectorizer(X_noun.dropna())"
   ]
  },
  {
   "cell_type": "code",
   "execution_count": 249,
   "metadata": {},
   "outputs": [
    {
     "data": {
      "text/plain": [
       "(2082, 3000)"
      ]
     },
     "execution_count": 249,
     "metadata": {},
     "output_type": "execute_result"
    }
   ],
   "source": [
    "X_clean_df.shape"
   ]
  },
  {
   "cell_type": "code",
   "execution_count": 250,
   "metadata": {},
   "outputs": [],
   "source": [
    "pipe = Pipeline([('scaler', StandardScaler()),\n",
    "                 ('cluster', KMeans())])"
   ]
  },
  {
   "cell_type": "code",
   "execution_count": 251,
   "metadata": {},
   "outputs": [],
   "source": [
    "params = {'cluster__n_clusters': [3, 4, 5]}\n",
    "gs = GridSearchCV(pipe, param_grid=params)"
   ]
  },
  {
   "cell_type": "markdown",
   "metadata": {},
   "source": [
    "### KMeans Clustering"
   ]
  },
  {
   "cell_type": "code",
   "execution_count": 452,
   "metadata": {},
   "outputs": [],
   "source": [
    "def clusterer(input):\n",
    "\n",
    "    ss = StandardScaler()\n",
    "    input_sc = ss.fit_transform(input)\n",
    "    km = KMeans(n_clusters=4, random_state=42)\n",
    "    km.fit(input_sc)\n",
    "\n",
    "    return km.labels_"
   ]
  },
  {
   "cell_type": "code",
   "execution_count": 453,
   "metadata": {},
   "outputs": [],
   "source": [
    "raw_cluster = clusterer(X_raw_df)"
   ]
  },
  {
   "cell_type": "code",
   "execution_count": 454,
   "metadata": {},
   "outputs": [
    {
     "data": {
      "text/plain": [
       "{0, 1, 2, 3}"
      ]
     },
     "execution_count": 454,
     "metadata": {},
     "output_type": "execute_result"
    }
   ],
   "source": [
    "set(raw_cluster)"
   ]
  },
  {
   "cell_type": "code",
   "execution_count": 455,
   "metadata": {},
   "outputs": [
    {
     "data": {
      "text/plain": [
       "2082"
      ]
     },
     "execution_count": 455,
     "metadata": {},
     "output_type": "execute_result"
    }
   ],
   "source": [
    "len(raw_cluster)"
   ]
  },
  {
   "cell_type": "code",
   "execution_count": 456,
   "metadata": {},
   "outputs": [
    {
     "data": {
      "text/plain": [
       "18"
      ]
     },
     "execution_count": 456,
     "metadata": {},
     "output_type": "execute_result"
    }
   ],
   "source": [
    "sum(raw_cluster == 0)"
   ]
  },
  {
   "cell_type": "code",
   "execution_count": 457,
   "metadata": {},
   "outputs": [],
   "source": [
    "clean_cluster = clusterer(X_clean_df)"
   ]
  },
  {
   "cell_type": "code",
   "execution_count": 458,
   "metadata": {},
   "outputs": [
    {
     "data": {
      "text/plain": [
       "{0, 1, 2, 3}"
      ]
     },
     "execution_count": 458,
     "metadata": {},
     "output_type": "execute_result"
    }
   ],
   "source": [
    "set(clean_cluster)"
   ]
  },
  {
   "cell_type": "code",
   "execution_count": 459,
   "metadata": {},
   "outputs": [
    {
     "data": {
      "text/plain": [
       "2082"
      ]
     },
     "execution_count": 459,
     "metadata": {},
     "output_type": "execute_result"
    }
   ],
   "source": [
    "len(clean_cluster)"
   ]
  },
  {
   "cell_type": "code",
   "execution_count": 460,
   "metadata": {},
   "outputs": [
    {
     "name": "stdout",
     "output_type": "stream",
     "text": [
      "42\n",
      "2034\n",
      "3\n",
      "3\n"
     ]
    }
   ],
   "source": [
    "print(sum(clean_cluster == 0))\n",
    "print(sum(clean_cluster == 1))\n",
    "print(sum(clean_cluster == 2))\n",
    "print(sum(clean_cluster == 3))"
   ]
  },
  {
   "cell_type": "code",
   "execution_count": 461,
   "metadata": {},
   "outputs": [
    {
     "data": {
      "text/plain": [
       "0.05476045218616988"
      ]
     },
     "execution_count": 461,
     "metadata": {},
     "output_type": "execute_result"
    }
   ],
   "source": [
    "silhouette_score(X_clean_df, clean_cluster)"
   ]
  },
  {
   "cell_type": "code",
   "execution_count": 469,
   "metadata": {},
   "outputs": [
    {
     "name": "stdout",
     "output_type": "stream",
     "text": [
      "CLUSTER 0 has 42 tweets with the following words:\n",
      "coned                   True\n",
      "coned warns             True\n",
      "consolidated            True\n",
      "consolidated ediso      True\n",
      "customers               True\n",
      "customers possible      True\n",
      "ediso                   True\n",
      "ediso tghs              True\n",
      "lower                   True\n",
      "lower manhattan         True\n",
      "manhattan               True\n",
      "manhattan customers     True\n",
      "new                     True\n",
      "new york                True\n",
      "outages                 True\n",
      "outages tonight         True\n",
      "possible                True\n",
      "possible power          True\n",
      "power                   True\n",
      "power outages           True\n",
      "reuters                 True\n",
      "reuters consolidated    True\n",
      "tghs                    True\n",
      "tonight                 True\n",
      "tonight new             True\n",
      "warns                   True\n",
      "warns lower             True\n",
      "york                    True\n",
      "york reuters            True\n",
      "dtype: bool\n",
      "=========\n",
      "CLUSTER 1 has 2034 tweets with the following words:\n",
      "coned                  True\n",
      "coned warns            True\n",
      "customers              True\n",
      "customers possible     True\n",
      "dlvr                   True\n",
      "lower                  True\n",
      "lower manhattan        True\n",
      "manhattan              True\n",
      "manhattan customers    True\n",
      "outages                True\n",
      "outages tonight        True\n",
      "possible               True\n",
      "possible power         True\n",
      "power                  True\n",
      "power outages          True\n",
      "tonight                True\n",
      "tonight dlvr           True\n",
      "warns                  True\n",
      "warns lower            True\n",
      "cluster                True\n",
      "dtype: bool\n",
      "=========\n",
      "CLUSTER 2 has 3 tweets with the following words:\n",
      "coned                   True\n",
      "coned ny                True\n",
      "consolidated            True\n",
      "consolidated edison     True\n",
      "costs                   True\n",
      "costs could             True\n",
      "could                   True\n",
      "could reach             True\n",
      "edison                  True\n",
      "edison inc              True\n",
      "inc                     True\n",
      "inc zajp                True\n",
      "million                 True\n",
      "million new             True\n",
      "new                     True\n",
      "new york                True\n",
      "ny                      True\n",
      "ny sandy                True\n",
      "outages                 True\n",
      "outages slip            True\n",
      "power                   True\n",
      "power outages           True\n",
      "reach                   True\n",
      "reach million           True\n",
      "reuters                 True\n",
      "reuters consolidated    True\n",
      "sandy                   True\n",
      "sandy power             True\n",
      "slip                    True\n",
      "slip costs              True\n",
      "york                    True\n",
      "york reuters            True\n",
      "zajp                    True\n",
      "cluster                 True\n",
      "dtype: bool\n",
      "=========\n",
      "CLUSTER 3 has 3 tweets with the following words:\n",
      "coned            True\n",
      "coned ny         True\n",
      "costs            True\n",
      "costs could      True\n",
      "could            True\n",
      "could reach      True\n",
      "dlvr             True\n",
      "dlvr sss         True\n",
      "million          True\n",
      "million dlvr     True\n",
      "ny               True\n",
      "ny sandy         True\n",
      "outages          True\n",
      "outages slip     True\n",
      "power            True\n",
      "power outages    True\n",
      "reach            True\n",
      "reach million    True\n",
      "sandy            True\n",
      "sandy power      True\n",
      "slip             True\n",
      "slip costs       True\n",
      "sss              True\n",
      "cluster          True\n",
      "dtype: bool\n",
      "=========\n"
     ]
    }
   ],
   "source": [
    "for i in range(4):\n",
    "    a = X_clean_df[X_clean_df.cluster == i].sum() > 0\n",
    "    print(f'CLUSTER {i} has {sum(clean_cluster == i)} tweets with the following words:')\n",
    "    print(a[a == True])\n",
    "    print('=========')"
   ]
  },
  {
   "cell_type": "code",
   "execution_count": 240,
   "metadata": {},
   "outputs": [
    {
     "data": {
      "text/plain": [
       "array([1, 1, 1, ..., 1, 1, 1], dtype=int32)"
      ]
     },
     "execution_count": 240,
     "metadata": {},
     "output_type": "execute_result"
    }
   ],
   "source": [
    "X_clean_df['cluster'] = clean_cluster"
   ]
  },
  {
   "cell_type": "code",
   "execution_count": 236,
   "metadata": {},
   "outputs": [],
   "source": [
    "lem_cluster = clusterer(X_lem_df)"
   ]
  },
  {
   "cell_type": "code",
   "execution_count": 237,
   "metadata": {},
   "outputs": [
    {
     "data": {
      "text/plain": [
       "{0, 1, 2, 3}"
      ]
     },
     "execution_count": 237,
     "metadata": {},
     "output_type": "execute_result"
    }
   ],
   "source": [
    "set(lem_cluster)"
   ]
  },
  {
   "cell_type": "code",
   "execution_count": 238,
   "metadata": {},
   "outputs": [
    {
     "data": {
      "text/plain": [
       "2082"
      ]
     },
     "execution_count": 238,
     "metadata": {},
     "output_type": "execute_result"
    }
   ],
   "source": [
    "len(lem_cluster)"
   ]
  },
  {
   "cell_type": "code",
   "execution_count": 243,
   "metadata": {},
   "outputs": [
    {
     "data": {
      "text/plain": [
       "2066"
      ]
     },
     "execution_count": 243,
     "metadata": {},
     "output_type": "execute_result"
    }
   ],
   "source": [
    "sum(lem_cluster == 1)"
   ]
  },
  {
   "cell_type": "code",
   "execution_count": 214,
   "metadata": {},
   "outputs": [],
   "source": [
    "noun_cluster = clusterer(X_noun_df)"
   ]
  },
  {
   "cell_type": "code",
   "execution_count": 215,
   "metadata": {},
   "outputs": [
    {
     "data": {
      "text/plain": [
       "{0, 1, 2, 3}"
      ]
     },
     "execution_count": 215,
     "metadata": {},
     "output_type": "execute_result"
    }
   ],
   "source": [
    "set(noun_cluster)"
   ]
  },
  {
   "cell_type": "code",
   "execution_count": 216,
   "metadata": {},
   "outputs": [
    {
     "data": {
      "text/plain": [
       "2070"
      ]
     },
     "execution_count": 216,
     "metadata": {},
     "output_type": "execute_result"
    }
   ],
   "source": [
    "len(noun_cluster)"
   ]
  },
  {
   "cell_type": "code",
   "execution_count": 217,
   "metadata": {},
   "outputs": [
    {
     "data": {
      "text/plain": [
       "7"
      ]
     },
     "execution_count": 217,
     "metadata": {},
     "output_type": "execute_result"
    }
   ],
   "source": [
    "sum(noun_cluster == 0)"
   ]
  },
  {
   "cell_type": "markdown",
   "metadata": {},
   "source": [
    "## DBSCAN Clustering"
   ]
  },
  {
   "cell_type": "code",
   "execution_count": 424,
   "metadata": {},
   "outputs": [],
   "source": [
    "def DBSCAN_clusterer(input):\n",
    "\n",
    "    ss = StandardScaler()\n",
    "    input_sc = ss.fit_transform(input)\n",
    "    dbscan = DBSCAN(eps=0.4, min_samples=6)\n",
    "    dbscan.fit(input_sc)\n",
    "\n",
    "    return dbscan.labels_"
   ]
  },
  {
   "cell_type": "code",
   "execution_count": 425,
   "metadata": {},
   "outputs": [],
   "source": [
    "raw_cluster = DBSCAN_clusterer(X_raw_df)"
   ]
  },
  {
   "cell_type": "code",
   "execution_count": 426,
   "metadata": {},
   "outputs": [
    {
     "data": {
      "text/plain": [
       "{-1, 0, 1, 2, 3}"
      ]
     },
     "execution_count": 426,
     "metadata": {},
     "output_type": "execute_result"
    }
   ],
   "source": [
    "set(raw_cluster)"
   ]
  },
  {
   "cell_type": "code",
   "execution_count": 427,
   "metadata": {},
   "outputs": [
    {
     "data": {
      "text/plain": [
       "2082"
      ]
     },
     "execution_count": 427,
     "metadata": {},
     "output_type": "execute_result"
    }
   ],
   "source": [
    "len(raw_cluster)"
   ]
  },
  {
   "cell_type": "code",
   "execution_count": 428,
   "metadata": {},
   "outputs": [
    {
     "data": {
      "text/plain": [
       "7"
      ]
     },
     "execution_count": 428,
     "metadata": {},
     "output_type": "execute_result"
    }
   ],
   "source": [
    "sum(raw_cluster == 0)"
   ]
  },
  {
   "cell_type": "code",
   "execution_count": 429,
   "metadata": {},
   "outputs": [],
   "source": [
    "clean_cluster = DBSCAN_clusterer(X_clean_df)"
   ]
  },
  {
   "cell_type": "code",
   "execution_count": 430,
   "metadata": {},
   "outputs": [
    {
     "data": {
      "text/plain": [
       "{-1, 0, 1, 2, 3, 4, 5}"
      ]
     },
     "execution_count": 430,
     "metadata": {},
     "output_type": "execute_result"
    }
   ],
   "source": [
    "set(clean_cluster)"
   ]
  },
  {
   "cell_type": "code",
   "execution_count": 431,
   "metadata": {},
   "outputs": [
    {
     "data": {
      "text/plain": [
       "2082"
      ]
     },
     "execution_count": 431,
     "metadata": {},
     "output_type": "execute_result"
    }
   ],
   "source": [
    "len(clean_cluster)"
   ]
  },
  {
   "cell_type": "code",
   "execution_count": 432,
   "metadata": {},
   "outputs": [
    {
     "name": "stdout",
     "output_type": "stream",
     "text": [
      "0 7\n",
      "1 7\n",
      "2 8\n",
      "3 7\n",
      "4 6\n",
      "5 6\n",
      "-1 2041\n"
     ]
    }
   ],
   "source": [
    "for i in set(clean_cluster):\n",
    "    print(i, sum(clean_cluster == i))"
   ]
  },
  {
   "cell_type": "code",
   "execution_count": 433,
   "metadata": {},
   "outputs": [
    {
     "data": {
      "text/html": [
       "<div>\n",
       "<style scoped>\n",
       "    .dataframe tbody tr th:only-of-type {\n",
       "        vertical-align: middle;\n",
       "    }\n",
       "\n",
       "    .dataframe tbody tr th {\n",
       "        vertical-align: top;\n",
       "    }\n",
       "\n",
       "    .dataframe thead th {\n",
       "        text-align: right;\n",
       "    }\n",
       "</style>\n",
       "<table border=\"1\" class=\"dataframe\">\n",
       "  <thead>\n",
       "    <tr style=\"text-align: right;\">\n",
       "      <th></th>\n",
       "      <th>aaaa</th>\n",
       "      <th>aaaa ijeyfe</th>\n",
       "      <th>abc</th>\n",
       "      <th>abc ny</th>\n",
       "      <th>able</th>\n",
       "      <th>about</th>\n",
       "      <th>above</th>\n",
       "      <th>above screenshot</th>\n",
       "      <th>abt</th>\n",
       "      <th>abt power</th>\n",
       "      <th>...</th>\n",
       "      <th>zone</th>\n",
       "      <th>zoom</th>\n",
       "      <th>zoom details</th>\n",
       "      <th>zpzuap</th>\n",
       "      <th>zq</th>\n",
       "      <th>zup</th>\n",
       "      <th>zv</th>\n",
       "      <th>zv conedison</th>\n",
       "      <th>zyqz</th>\n",
       "      <th>cluster</th>\n",
       "    </tr>\n",
       "  </thead>\n",
       "  <tbody>\n",
       "    <tr>\n",
       "      <th>0</th>\n",
       "      <td>0</td>\n",
       "      <td>0</td>\n",
       "      <td>0</td>\n",
       "      <td>0</td>\n",
       "      <td>0</td>\n",
       "      <td>0</td>\n",
       "      <td>0</td>\n",
       "      <td>0</td>\n",
       "      <td>0</td>\n",
       "      <td>0</td>\n",
       "      <td>...</td>\n",
       "      <td>0</td>\n",
       "      <td>0</td>\n",
       "      <td>0</td>\n",
       "      <td>0</td>\n",
       "      <td>0</td>\n",
       "      <td>0</td>\n",
       "      <td>0</td>\n",
       "      <td>0</td>\n",
       "      <td>0</td>\n",
       "      <td>-1</td>\n",
       "    </tr>\n",
       "    <tr>\n",
       "      <th>1</th>\n",
       "      <td>0</td>\n",
       "      <td>0</td>\n",
       "      <td>0</td>\n",
       "      <td>0</td>\n",
       "      <td>0</td>\n",
       "      <td>0</td>\n",
       "      <td>0</td>\n",
       "      <td>0</td>\n",
       "      <td>0</td>\n",
       "      <td>0</td>\n",
       "      <td>...</td>\n",
       "      <td>0</td>\n",
       "      <td>0</td>\n",
       "      <td>0</td>\n",
       "      <td>0</td>\n",
       "      <td>0</td>\n",
       "      <td>0</td>\n",
       "      <td>0</td>\n",
       "      <td>0</td>\n",
       "      <td>0</td>\n",
       "      <td>-1</td>\n",
       "    </tr>\n",
       "    <tr>\n",
       "      <th>2</th>\n",
       "      <td>0</td>\n",
       "      <td>0</td>\n",
       "      <td>0</td>\n",
       "      <td>0</td>\n",
       "      <td>0</td>\n",
       "      <td>0</td>\n",
       "      <td>0</td>\n",
       "      <td>0</td>\n",
       "      <td>0</td>\n",
       "      <td>0</td>\n",
       "      <td>...</td>\n",
       "      <td>0</td>\n",
       "      <td>0</td>\n",
       "      <td>0</td>\n",
       "      <td>0</td>\n",
       "      <td>0</td>\n",
       "      <td>0</td>\n",
       "      <td>0</td>\n",
       "      <td>0</td>\n",
       "      <td>0</td>\n",
       "      <td>-1</td>\n",
       "    </tr>\n",
       "    <tr>\n",
       "      <th>3</th>\n",
       "      <td>0</td>\n",
       "      <td>0</td>\n",
       "      <td>0</td>\n",
       "      <td>0</td>\n",
       "      <td>0</td>\n",
       "      <td>0</td>\n",
       "      <td>0</td>\n",
       "      <td>0</td>\n",
       "      <td>0</td>\n",
       "      <td>0</td>\n",
       "      <td>...</td>\n",
       "      <td>0</td>\n",
       "      <td>0</td>\n",
       "      <td>0</td>\n",
       "      <td>0</td>\n",
       "      <td>0</td>\n",
       "      <td>0</td>\n",
       "      <td>0</td>\n",
       "      <td>0</td>\n",
       "      <td>0</td>\n",
       "      <td>-1</td>\n",
       "    </tr>\n",
       "    <tr>\n",
       "      <th>4</th>\n",
       "      <td>0</td>\n",
       "      <td>0</td>\n",
       "      <td>0</td>\n",
       "      <td>0</td>\n",
       "      <td>0</td>\n",
       "      <td>0</td>\n",
       "      <td>0</td>\n",
       "      <td>0</td>\n",
       "      <td>0</td>\n",
       "      <td>0</td>\n",
       "      <td>...</td>\n",
       "      <td>0</td>\n",
       "      <td>0</td>\n",
       "      <td>0</td>\n",
       "      <td>0</td>\n",
       "      <td>0</td>\n",
       "      <td>0</td>\n",
       "      <td>0</td>\n",
       "      <td>0</td>\n",
       "      <td>0</td>\n",
       "      <td>-1</td>\n",
       "    </tr>\n",
       "  </tbody>\n",
       "</table>\n",
       "<p>5 rows × 3001 columns</p>\n",
       "</div>"
      ],
      "text/plain": [
       "   aaaa  aaaa ijeyfe  abc  abc ny  able  about  above  above screenshot  abt  \\\n",
       "0     0            0    0       0     0      0      0                 0    0   \n",
       "1     0            0    0       0     0      0      0                 0    0   \n",
       "2     0            0    0       0     0      0      0                 0    0   \n",
       "3     0            0    0       0     0      0      0                 0    0   \n",
       "4     0            0    0       0     0      0      0                 0    0   \n",
       "\n",
       "   abt power  ...  zone  zoom  zoom details  zpzuap  zq  zup  zv  \\\n",
       "0          0  ...     0     0             0       0   0    0   0   \n",
       "1          0  ...     0     0             0       0   0    0   0   \n",
       "2          0  ...     0     0             0       0   0    0   0   \n",
       "3          0  ...     0     0             0       0   0    0   0   \n",
       "4          0  ...     0     0             0       0   0    0   0   \n",
       "\n",
       "   zv conedison  zyqz  cluster  \n",
       "0             0     0       -1  \n",
       "1             0     0       -1  \n",
       "2             0     0       -1  \n",
       "3             0     0       -1  \n",
       "4             0     0       -1  \n",
       "\n",
       "[5 rows x 3001 columns]"
      ]
     },
     "execution_count": 433,
     "metadata": {},
     "output_type": "execute_result"
    }
   ],
   "source": [
    "X_clean_df['cluster'] = clean_cluster\n",
    "X_clean_df.head()"
   ]
  },
  {
   "cell_type": "code",
   "execution_count": 435,
   "metadata": {},
   "outputs": [
    {
     "name": "stdout",
     "output_type": "stream",
     "text": [
      "CLUSTER 0 has 7 tweets with the following words:\n",
      "coned                   True\n",
      "coned warns             True\n",
      "consolidated            True\n",
      "consolidated ediso      True\n",
      "customers               True\n",
      "customers possible      True\n",
      "ediso                   True\n",
      "ediso tghs              True\n",
      "lower                   True\n",
      "lower manhattan         True\n",
      "manhattan               True\n",
      "manhattan customers     True\n",
      "new                     True\n",
      "new york                True\n",
      "outages                 True\n",
      "outages tonight         True\n",
      "possible                True\n",
      "possible power          True\n",
      "power                   True\n",
      "power outages           True\n",
      "reuters                 True\n",
      "reuters consolidated    True\n",
      "tghs                    True\n",
      "tonight                 True\n",
      "tonight new             True\n",
      "warns                   True\n",
      "warns lower             True\n",
      "york                    True\n",
      "york reuters            True\n",
      "dtype: bool\n",
      "=========\n",
      "CLUSTER 1 has 7 tweets with the following words:\n",
      "coned                  True\n",
      "coned warns            True\n",
      "customers              True\n",
      "customers possible     True\n",
      "dlvr                   True\n",
      "lower                  True\n",
      "lower manhattan        True\n",
      "manhattan              True\n",
      "manhattan customers    True\n",
      "outages                True\n",
      "outages tonight        True\n",
      "possible               True\n",
      "possible power         True\n",
      "power                  True\n",
      "power outages          True\n",
      "tonight                True\n",
      "tonight dlvr           True\n",
      "warns                  True\n",
      "warns lower            True\n",
      "cluster                True\n",
      "dtype: bool\n",
      "=========\n",
      "CLUSTER 2 has 8 tweets with the following words:\n",
      "coned                   True\n",
      "coned ny                True\n",
      "consolidated            True\n",
      "consolidated edison     True\n",
      "costs                   True\n",
      "costs could             True\n",
      "could                   True\n",
      "could reach             True\n",
      "edison                  True\n",
      "edison inc              True\n",
      "inc                     True\n",
      "inc zajp                True\n",
      "million                 True\n",
      "million new             True\n",
      "new                     True\n",
      "new york                True\n",
      "ny                      True\n",
      "ny sandy                True\n",
      "outages                 True\n",
      "outages slip            True\n",
      "power                   True\n",
      "power outages           True\n",
      "reach                   True\n",
      "reach million           True\n",
      "reuters                 True\n",
      "reuters consolidated    True\n",
      "sandy                   True\n",
      "sandy power             True\n",
      "slip                    True\n",
      "slip costs              True\n",
      "york                    True\n",
      "york reuters            True\n",
      "zajp                    True\n",
      "cluster                 True\n",
      "dtype: bool\n",
      "=========\n",
      "CLUSTER 3 has 7 tweets with the following words:\n",
      "coned            True\n",
      "coned ny         True\n",
      "costs            True\n",
      "costs could      True\n",
      "could            True\n",
      "could reach      True\n",
      "dlvr             True\n",
      "dlvr sss         True\n",
      "million          True\n",
      "million dlvr     True\n",
      "ny               True\n",
      "ny sandy         True\n",
      "outages          True\n",
      "outages slip     True\n",
      "power            True\n",
      "power outages    True\n",
      "reach            True\n",
      "reach million    True\n",
      "sandy            True\n",
      "sandy power      True\n",
      "slip             True\n",
      "slip costs       True\n",
      "sss              True\n",
      "cluster          True\n",
      "dtype: bool\n",
      "=========\n",
      "CLUSTER 4 has 6 tweets with the following words:\n",
      "coned              True\n",
      "coned ny           True\n",
      "costs              True\n",
      "costs could        True\n",
      "could              True\n",
      "could reach        True\n",
      "million            True\n",
      "million reuters    True\n",
      "ny                 True\n",
      "ny sandy           True\n",
      "outages            True\n",
      "outages slip       True\n",
      "power              True\n",
      "power outages      True\n",
      "reach              True\n",
      "reach million      True\n",
      "reuters            True\n",
      "sandy              True\n",
      "sandy power        True\n",
      "slip               True\n",
      "slip costs         True\n",
      "cluster            True\n",
      "dtype: bool\n",
      "=========\n"
     ]
    }
   ],
   "source": [
    "for i in range(5):\n",
    "    a = X_clean_df[X_clean_df.cluster == i].sum() > 0\n",
    "    print(f'CLUSTER {i} has {sum(clean_cluster == i)} tweets with the following words:')\n",
    "    print(a[a == True])\n",
    "    print('=========')"
   ]
  },
  {
   "cell_type": "code",
   "execution_count": 436,
   "metadata": {},
   "outputs": [
    {
     "data": {
      "text/plain": [
       "0.0540537949664378"
      ]
     },
     "execution_count": 436,
     "metadata": {},
     "output_type": "execute_result"
    }
   ],
   "source": [
    "silhouette_score(X_clean_df, clean_cluster)"
   ]
  },
  {
   "cell_type": "code",
   "execution_count": 402,
   "metadata": {},
   "outputs": [],
   "source": [
    "X_clean_df['cluster'] = clean_cluster"
   ]
  },
  {
   "cell_type": "code",
   "execution_count": 403,
   "metadata": {},
   "outputs": [],
   "source": [
    "lem_cluster = DBSCAN_clusterer(X_lem_df)"
   ]
  },
  {
   "cell_type": "code",
   "execution_count": 404,
   "metadata": {},
   "outputs": [
    {
     "data": {
      "text/plain": [
       "{-1, 0, 1, 2, 3, 4, 5, 6, 7, 8, 9, 10, 11, 12, 13, 14, 15, 16, 17, 18, 19, 20}"
      ]
     },
     "execution_count": 404,
     "metadata": {},
     "output_type": "execute_result"
    }
   ],
   "source": [
    "set(lem_cluster)"
   ]
  },
  {
   "cell_type": "code",
   "execution_count": 405,
   "metadata": {},
   "outputs": [
    {
     "data": {
      "text/plain": [
       "2082"
      ]
     },
     "execution_count": 405,
     "metadata": {},
     "output_type": "execute_result"
    }
   ],
   "source": [
    "len(lem_cluster)"
   ]
  },
  {
   "cell_type": "code",
   "execution_count": 406,
   "metadata": {},
   "outputs": [
    {
     "name": "stdout",
     "output_type": "stream",
     "text": [
      "0 5\n",
      "1 7\n",
      "2 7\n",
      "3 5\n",
      "4 5\n",
      "5 5\n",
      "6 5\n",
      "7 8\n",
      "8 6\n",
      "9 7\n",
      "10 5\n",
      "11 7\n",
      "12 6\n",
      "13 5\n",
      "14 6\n",
      "15 5\n",
      "16 5\n",
      "17 5\n",
      "18 5\n",
      "19 5\n",
      "20 5\n",
      "-1 1963\n"
     ]
    }
   ],
   "source": [
    "for i in set(lem_cluster):\n",
    "    print(i, sum(lem_cluster == i))"
   ]
  },
  {
   "cell_type": "code",
   "execution_count": 407,
   "metadata": {},
   "outputs": [],
   "source": [
    "noun_cluster = DBSCAN_clusterer(X_noun_df)"
   ]
  },
  {
   "cell_type": "code",
   "execution_count": 408,
   "metadata": {},
   "outputs": [
    {
     "data": {
      "text/plain": [
       "{-1,\n",
       " 0,\n",
       " 1,\n",
       " 2,\n",
       " 3,\n",
       " 4,\n",
       " 5,\n",
       " 6,\n",
       " 7,\n",
       " 8,\n",
       " 9,\n",
       " 10,\n",
       " 11,\n",
       " 12,\n",
       " 13,\n",
       " 14,\n",
       " 15,\n",
       " 16,\n",
       " 17,\n",
       " 18,\n",
       " 19,\n",
       " 20,\n",
       " 21,\n",
       " 22,\n",
       " 23,\n",
       " 24,\n",
       " 25}"
      ]
     },
     "execution_count": 408,
     "metadata": {},
     "output_type": "execute_result"
    }
   ],
   "source": [
    "set(noun_cluster)"
   ]
  },
  {
   "cell_type": "code",
   "execution_count": 409,
   "metadata": {},
   "outputs": [
    {
     "data": {
      "text/plain": [
       "2070"
      ]
     },
     "execution_count": 409,
     "metadata": {},
     "output_type": "execute_result"
    }
   ],
   "source": [
    "len(noun_cluster)"
   ]
  },
  {
   "cell_type": "code",
   "execution_count": 410,
   "metadata": {},
   "outputs": [
    {
     "name": "stdout",
     "output_type": "stream",
     "text": [
      "0 5\n",
      "1 7\n",
      "2 10\n",
      "3 10\n",
      "4 59\n",
      "5 5\n",
      "6 7\n",
      "7 14\n",
      "8 5\n",
      "9 7\n",
      "10 12\n",
      "11 7\n",
      "12 12\n",
      "13 10\n",
      "14 5\n",
      "15 68\n",
      "16 16\n",
      "17 5\n",
      "18 5\n",
      "19 28\n",
      "20 5\n",
      "21 6\n",
      "22 6\n",
      "23 5\n",
      "24 5\n",
      "25 5\n",
      "-1 1741\n"
     ]
    }
   ],
   "source": [
    "for i in set(noun_cluster):\n",
    "    print(i, sum(noun_cluster == i))"
   ]
  },
  {
   "cell_type": "code",
   "execution_count": 411,
   "metadata": {},
   "outputs": [
    {
     "data": {
      "text/html": [
       "<div>\n",
       "<style scoped>\n",
       "    .dataframe tbody tr th:only-of-type {\n",
       "        vertical-align: middle;\n",
       "    }\n",
       "\n",
       "    .dataframe tbody tr th {\n",
       "        vertical-align: top;\n",
       "    }\n",
       "\n",
       "    .dataframe thead th {\n",
       "        text-align: right;\n",
       "    }\n",
       "</style>\n",
       "<table border=\"1\" class=\"dataframe\">\n",
       "  <thead>\n",
       "    <tr style=\"text-align: right;\">\n",
       "      <th></th>\n",
       "      <th>abc</th>\n",
       "      <th>abc pic</th>\n",
       "      <th>abt</th>\n",
       "      <th>abt chelsea</th>\n",
       "      <th>abt jcpl</th>\n",
       "      <th>abt outage</th>\n",
       "      <th>abt power</th>\n",
       "      <th>abt pseg</th>\n",
       "      <th>acbowl</th>\n",
       "      <th>access</th>\n",
       "      <th>...</th>\n",
       "      <th>zip code</th>\n",
       "      <th>zip fixit</th>\n",
       "      <th>zips</th>\n",
       "      <th>zmml</th>\n",
       "      <th>zone</th>\n",
       "      <th>zone power</th>\n",
       "      <th>zq</th>\n",
       "      <th>zqccse</th>\n",
       "      <th>zuqbnywg</th>\n",
       "      <th>cluster</th>\n",
       "    </tr>\n",
       "  </thead>\n",
       "  <tbody>\n",
       "    <tr>\n",
       "      <th>0</th>\n",
       "      <td>0</td>\n",
       "      <td>0</td>\n",
       "      <td>0</td>\n",
       "      <td>0</td>\n",
       "      <td>0</td>\n",
       "      <td>0</td>\n",
       "      <td>0</td>\n",
       "      <td>0</td>\n",
       "      <td>0</td>\n",
       "      <td>0</td>\n",
       "      <td>...</td>\n",
       "      <td>0</td>\n",
       "      <td>0</td>\n",
       "      <td>0</td>\n",
       "      <td>0</td>\n",
       "      <td>0</td>\n",
       "      <td>0</td>\n",
       "      <td>0</td>\n",
       "      <td>0</td>\n",
       "      <td>0</td>\n",
       "      <td>-1</td>\n",
       "    </tr>\n",
       "    <tr>\n",
       "      <th>1</th>\n",
       "      <td>0</td>\n",
       "      <td>0</td>\n",
       "      <td>0</td>\n",
       "      <td>0</td>\n",
       "      <td>0</td>\n",
       "      <td>0</td>\n",
       "      <td>0</td>\n",
       "      <td>0</td>\n",
       "      <td>0</td>\n",
       "      <td>0</td>\n",
       "      <td>...</td>\n",
       "      <td>0</td>\n",
       "      <td>0</td>\n",
       "      <td>0</td>\n",
       "      <td>0</td>\n",
       "      <td>0</td>\n",
       "      <td>0</td>\n",
       "      <td>0</td>\n",
       "      <td>0</td>\n",
       "      <td>0</td>\n",
       "      <td>-1</td>\n",
       "    </tr>\n",
       "    <tr>\n",
       "      <th>2</th>\n",
       "      <td>0</td>\n",
       "      <td>0</td>\n",
       "      <td>0</td>\n",
       "      <td>0</td>\n",
       "      <td>0</td>\n",
       "      <td>0</td>\n",
       "      <td>0</td>\n",
       "      <td>0</td>\n",
       "      <td>0</td>\n",
       "      <td>0</td>\n",
       "      <td>...</td>\n",
       "      <td>0</td>\n",
       "      <td>0</td>\n",
       "      <td>0</td>\n",
       "      <td>0</td>\n",
       "      <td>0</td>\n",
       "      <td>0</td>\n",
       "      <td>0</td>\n",
       "      <td>0</td>\n",
       "      <td>0</td>\n",
       "      <td>-1</td>\n",
       "    </tr>\n",
       "    <tr>\n",
       "      <th>3</th>\n",
       "      <td>0</td>\n",
       "      <td>0</td>\n",
       "      <td>0</td>\n",
       "      <td>0</td>\n",
       "      <td>0</td>\n",
       "      <td>0</td>\n",
       "      <td>0</td>\n",
       "      <td>0</td>\n",
       "      <td>0</td>\n",
       "      <td>0</td>\n",
       "      <td>...</td>\n",
       "      <td>0</td>\n",
       "      <td>0</td>\n",
       "      <td>0</td>\n",
       "      <td>0</td>\n",
       "      <td>0</td>\n",
       "      <td>0</td>\n",
       "      <td>0</td>\n",
       "      <td>0</td>\n",
       "      <td>0</td>\n",
       "      <td>-1</td>\n",
       "    </tr>\n",
       "    <tr>\n",
       "      <th>4</th>\n",
       "      <td>0</td>\n",
       "      <td>0</td>\n",
       "      <td>0</td>\n",
       "      <td>0</td>\n",
       "      <td>0</td>\n",
       "      <td>0</td>\n",
       "      <td>0</td>\n",
       "      <td>0</td>\n",
       "      <td>0</td>\n",
       "      <td>0</td>\n",
       "      <td>...</td>\n",
       "      <td>0</td>\n",
       "      <td>0</td>\n",
       "      <td>0</td>\n",
       "      <td>0</td>\n",
       "      <td>0</td>\n",
       "      <td>0</td>\n",
       "      <td>0</td>\n",
       "      <td>0</td>\n",
       "      <td>0</td>\n",
       "      <td>-1</td>\n",
       "    </tr>\n",
       "  </tbody>\n",
       "</table>\n",
       "<p>5 rows × 3001 columns</p>\n",
       "</div>"
      ],
      "text/plain": [
       "   abc  abc pic  abt  abt chelsea  abt jcpl  abt outage  abt power  abt pseg  \\\n",
       "0    0        0    0            0         0           0          0         0   \n",
       "1    0        0    0            0         0           0          0         0   \n",
       "2    0        0    0            0         0           0          0         0   \n",
       "3    0        0    0            0         0           0          0         0   \n",
       "4    0        0    0            0         0           0          0         0   \n",
       "\n",
       "   acbowl  access  ...  zip code  zip fixit  zips  zmml  zone  zone power  zq  \\\n",
       "0       0       0  ...         0          0     0     0     0           0   0   \n",
       "1       0       0  ...         0          0     0     0     0           0   0   \n",
       "2       0       0  ...         0          0     0     0     0           0   0   \n",
       "3       0       0  ...         0          0     0     0     0           0   0   \n",
       "4       0       0  ...         0          0     0     0     0           0   0   \n",
       "\n",
       "   zqccse  zuqbnywg  cluster  \n",
       "0       0         0       -1  \n",
       "1       0         0       -1  \n",
       "2       0         0       -1  \n",
       "3       0         0       -1  \n",
       "4       0         0       -1  \n",
       "\n",
       "[5 rows x 3001 columns]"
      ]
     },
     "execution_count": 411,
     "metadata": {},
     "output_type": "execute_result"
    }
   ],
   "source": [
    "X_noun_df['cluster'] = noun_cluster\n",
    "X_noun_df.head()"
   ]
  },
  {
   "cell_type": "code",
   "execution_count": 471,
   "metadata": {},
   "outputs": [
    {
     "name": "stdout",
     "output_type": "stream",
     "text": [
      "CLUSTER 0 has 5 tweets with the following words:\n",
      "['outage', 'possibility', 'possibility power', 'power', 'power outage']\n",
      "=========\n",
      "CLUSTER 1 has 7 tweets with the following words:\n",
      "['outage', 'power', 'power outage', 'wire', 'wire power', 'cluster']\n",
      "=========\n",
      "CLUSTER 2 has 10 tweets with the following words:\n",
      "['apps', 'apps stormcenter', 'default', 'default html', 'html', 'map', 'map apps', 'outage', 'outage map', 'power', 'power outage', 'stormcenter', 'stormcenter default', 'cluster']\n",
      "=========\n",
      "CLUSTER 3 has 10 tweets with the following words:\n",
      "['map', 'outage', 'outage map', 'power', 'power outage', 'cluster']\n",
      "=========\n",
      "CLUSTER 4 has 59 tweets with the following words:\n",
      "['outage', 'power', 'power outage', 'cluster']\n",
      "=========\n",
      "CLUSTER 5 has 5 tweets with the following words:\n",
      "['detail', 'detail goo', 'electric', 'goo', 'goo electric', 'map', 'map detail', 'outage', 'outage map', 'power', 'power outage', 'time', 'time power', 'cluster']\n",
      "=========\n",
      "CLUSTER 6 has 7 tweets with the following words:\n",
      "['coned', 'coned customer', 'customer', 'customer power', 'outage', 'outage tonight', 'power', 'power outage', 'tghs', 'tonight', 'tonight tghs', 'cluster']\n",
      "=========\n",
      "CLUSTER 7 has 14 tweets with the following words:\n",
      "['coned', 'coned customer', 'customer', 'customer power', 'outage', 'outage tonight', 'power', 'power outage', 'tonight', 'cluster']\n",
      "=========\n",
      "CLUSTER 8 has 5 tweets with the following words:\n",
      "['coned', 'coned customer', 'customer', 'customer power', 'outage', 'outage pey', 'pey', 'power', 'power outage', 'cluster']\n",
      "=========\n",
      "CLUSTER 9 has 7 tweets with the following words:\n",
      "['cluster']\n",
      "=========\n",
      "CLUSTER 10 has 12 tweets with the following words:\n",
      "['power', 'cluster']\n",
      "=========\n",
      "CLUSTER 11 has 7 tweets with the following words:\n",
      "['history', 'millions', 'millions power', 'outage', 'outage history', 'power', 'power storm', 'storm', 'storm outage', 'cluster']\n",
      "=========\n",
      "CLUSTER 12 has 12 tweets with the following words:\n",
      "['day', 'residents', 'residents day', 'cluster']\n",
      "=========\n",
      "CLUSTER 13 has 10 tweets with the following words:\n",
      "['outage', 'cluster']\n",
      "=========\n",
      "CLUSTER 14 has 5 tweets with the following words:\n",
      "['access', 'access outage', 'chance', 'chance someone', 'emergency', 'emergency access', 'outage', 'power', 'power tree', 'someone', 'someone power', 'tree', 'tree emergency', 'cluster']\n",
      "=========\n",
      "CLUSTER 15 has 68 tweets with the following words:\n",
      "['cost', 'outage', 'outage slip', 'power', 'power outage', 'slip', 'slip cost', 'cluster']\n",
      "=========\n",
      "CLUSTER 16 has 16 tweets with the following words:\n",
      "['cost', 'cost dlvr', 'dlvr', 'outage', 'outage slip', 'power', 'power outage', 'slip', 'slip cost', 'cluster']\n",
      "=========\n",
      "CLUSTER 17 has 5 tweets with the following words:\n",
      "['costs', 'cluster']\n",
      "=========\n",
      "CLUSTER 18 has 5 tweets with the following words:\n",
      "['aut', 'cost', 'cost marylandgreenpower', 'greenpower', 'greenpower aut', 'marylandgreenpower', 'marylandgreenpower greenpower', 'outage', 'outage slip', 'power', 'power outage', 'slip', 'slip cost', 'cluster']\n",
      "=========\n",
      "CLUSTER 19 has 28 tweets with the following words:\n",
      "['conedison', 'conedison power', 'outage', 'power', 'power outage', 'cluster']\n",
      "=========\n",
      "CLUSTER 20 has 5 tweets with the following words:\n",
      "['coned', 'coned power', 'contact', 'loss', 'loss service', 'outage', 'outage loss', 'power', 'power outage', 'service', 'service contact', 'cluster']\n",
      "=========\n",
      "CLUSTER 21 has 6 tweets with the following words:\n",
      "['outage', 'power', 'power outage', 'report', 'report power', 'cluster']\n",
      "=========\n",
      "CLUSTER 22 has 6 tweets with the following words:\n",
      "['area', 'outage', 'outage area', 'power', 'power outage', 'cluster']\n",
      "=========\n",
      "CLUSTER 23 has 5 tweets with the following words:\n",
      "['ny', 'ny rush', 'rush', 'cluster']\n",
      "=========\n",
      "CLUSTER 24 has 5 tweets with the following words:\n",
      "['city', 'gg', 'gg outage', 'outage', 'outage city', 'cluster']\n",
      "=========\n",
      "CLUSTER 25 has 5 tweets with the following words:\n",
      "['location', 'ny', 'ny location', 'cluster']\n",
      "=========\n",
      "CLUSTER 26 has 0 tweets with the following words:\n",
      "[]\n",
      "=========\n",
      "CLUSTER 27 has 0 tweets with the following words:\n",
      "[]\n",
      "=========\n",
      "CLUSTER 28 has 0 tweets with the following words:\n",
      "[]\n",
      "=========\n"
     ]
    }
   ],
   "source": [
    "for i in range(29):\n",
    "    a = X_noun_df[X_noun_df.cluster == i].sum() > 0\n",
    "    print(f'CLUSTER {i} has {sum(noun_cluster == i)} tweets with the following words:')\n",
    "    print(list(pd.DataFrame(a[a == True]).index.values))\n",
    "    print('=========')"
   ]
  },
  {
   "cell_type": "code",
   "execution_count": 441,
   "metadata": {},
   "outputs": [],
   "source": [
    "a = X_noun_df[X_noun_df.cluster == 1].sum() > 0"
   ]
  },
  {
   "cell_type": "code",
   "execution_count": 450,
   "metadata": {},
   "outputs": [
    {
     "data": {
      "text/plain": [
       "['outage', 'power', 'power outage', 'wire', 'wire power', 'cluster']"
      ]
     },
     "execution_count": 450,
     "metadata": {},
     "output_type": "execute_result"
    }
   ],
   "source": [
    "list(pd.DataFrame(a[a == True]).index.values)"
   ]
  },
  {
   "cell_type": "code",
   "execution_count": null,
   "metadata": {},
   "outputs": [],
   "source": []
  }
 ],
 "metadata": {
  "kernelspec": {
   "display_name": "Python 3",
   "language": "python",
   "name": "python3"
  },
  "language_info": {
   "codemirror_mode": {
    "name": "ipython",
    "version": 3
   },
   "file_extension": ".py",
   "mimetype": "text/x-python",
   "name": "python",
   "nbconvert_exporter": "python",
   "pygments_lexer": "ipython3",
   "version": "3.6.8"
  }
 },
 "nbformat": 4,
 "nbformat_minor": 2
}
