{
 "cells": [
  {
   "cell_type": "code",
   "execution_count": 1,
   "metadata": {},
   "outputs": [],
   "source": [
    "import pandas as pd"
   ]
  },
  {
   "cell_type": "code",
   "execution_count": 2,
   "metadata": {},
   "outputs": [
    {
     "name": "stdout",
     "output_type": "stream",
     "text": [
      "OEM_Emergency_Notifications.csv tweets_pseg_dec13_sep20.csv\r\n",
      "tweets.csv                      tweets_pseg_jun27_apr06.csv\r\n",
      "tweets_2.csv                    tweets_pseg_sep6_july2\r\n",
      "tweets_3.csv                    working_df.csv\r\n"
     ]
    }
   ],
   "source": [
    "!ls ../data"
   ]
  },
  {
   "cell_type": "code",
   "execution_count": 3,
   "metadata": {},
   "outputs": [],
   "source": [
    "raw = pd.read_csv('../raw_tweets/raw_tweets.csv', index_col = 0)"
   ]
  },
  {
   "cell_type": "code",
   "execution_count": 4,
   "metadata": {},
   "outputs": [],
   "source": [
    "# df = pd.read_csv('../data/working_df.csv', index_col = 0)"
   ]
  },
  {
   "cell_type": "code",
   "execution_count": 5,
   "metadata": {},
   "outputs": [],
   "source": [
    "# raw.columns"
   ]
  },
  {
   "cell_type": "code",
   "execution_count": 6,
   "metadata": {},
   "outputs": [],
   "source": [
    "# df.columns"
   ]
  },
  {
   "cell_type": "code",
   "execution_count": 7,
   "metadata": {},
   "outputs": [],
   "source": [
    "# df.stemmed_text.head()"
   ]
  },
  {
   "cell_type": "code",
   "execution_count": 8,
   "metadata": {},
   "outputs": [
    {
     "data": {
      "text/plain": [
       "(4375, 13)"
      ]
     },
     "execution_count": 8,
     "metadata": {},
     "output_type": "execute_result"
    }
   ],
   "source": [
    "raw.shape"
   ]
  },
  {
   "cell_type": "code",
   "execution_count": 9,
   "metadata": {},
   "outputs": [
    {
     "data": {
      "text/html": [
       "<div>\n",
       "<style scoped>\n",
       "    .dataframe tbody tr th:only-of-type {\n",
       "        vertical-align: middle;\n",
       "    }\n",
       "\n",
       "    .dataframe tbody tr th {\n",
       "        vertical-align: top;\n",
       "    }\n",
       "\n",
       "    .dataframe thead th {\n",
       "        text-align: right;\n",
       "    }\n",
       "</style>\n",
       "<table border=\"1\" class=\"dataframe\">\n",
       "  <thead>\n",
       "    <tr style=\"text-align: right;\">\n",
       "      <th></th>\n",
       "      <th>column</th>\n",
       "      <th>unique values</th>\n",
       "    </tr>\n",
       "  </thead>\n",
       "  <tbody>\n",
       "    <tr>\n",
       "      <th>0</th>\n",
       "      <td>ID</td>\n",
       "      <td>4375</td>\n",
       "    </tr>\n",
       "    <tr>\n",
       "      <th>1</th>\n",
       "      <td>datetime</td>\n",
       "      <td>4255</td>\n",
       "    </tr>\n",
       "    <tr>\n",
       "      <th>2</th>\n",
       "      <td>has_media</td>\n",
       "      <td>2</td>\n",
       "    </tr>\n",
       "    <tr>\n",
       "      <th>3</th>\n",
       "      <td>is_reply</td>\n",
       "      <td>2</td>\n",
       "    </tr>\n",
       "    <tr>\n",
       "      <th>4</th>\n",
       "      <td>is_retweet</td>\n",
       "      <td>1</td>\n",
       "    </tr>\n",
       "    <tr>\n",
       "      <th>5</th>\n",
       "      <td>medias</td>\n",
       "      <td>49</td>\n",
       "    </tr>\n",
       "    <tr>\n",
       "      <th>6</th>\n",
       "      <td>nbr_favorite</td>\n",
       "      <td>33</td>\n",
       "    </tr>\n",
       "    <tr>\n",
       "      <th>7</th>\n",
       "      <td>nbr_reply</td>\n",
       "      <td>19</td>\n",
       "    </tr>\n",
       "    <tr>\n",
       "      <th>8</th>\n",
       "      <td>nbr_retweet</td>\n",
       "      <td>45</td>\n",
       "    </tr>\n",
       "    <tr>\n",
       "      <th>9</th>\n",
       "      <td>text</td>\n",
       "      <td>4116</td>\n",
       "    </tr>\n",
       "    <tr>\n",
       "      <th>10</th>\n",
       "      <td>url</td>\n",
       "      <td>4373</td>\n",
       "    </tr>\n",
       "    <tr>\n",
       "      <th>11</th>\n",
       "      <td>user_id</td>\n",
       "      <td>2533</td>\n",
       "    </tr>\n",
       "    <tr>\n",
       "      <th>12</th>\n",
       "      <td>usernameTweet</td>\n",
       "      <td>2533</td>\n",
       "    </tr>\n",
       "  </tbody>\n",
       "</table>\n",
       "</div>"
      ],
      "text/plain": [
       "           column  unique values\n",
       "0              ID           4375\n",
       "1        datetime           4255\n",
       "2       has_media              2\n",
       "3        is_reply              2\n",
       "4      is_retweet              1\n",
       "5          medias             49\n",
       "6    nbr_favorite             33\n",
       "7       nbr_reply             19\n",
       "8     nbr_retweet             45\n",
       "9            text           4116\n",
       "10            url           4373\n",
       "11        user_id           2533\n",
       "12  usernameTweet           2533"
      ]
     },
     "execution_count": 9,
     "metadata": {},
     "output_type": "execute_result"
    }
   ],
   "source": [
    "# Kevin's code.\n",
    "unique = []\n",
    "for i in raw.columns:\n",
    "    uniques = {}\n",
    "    uniques['column'] = i \n",
    "    uniques['unique values'] = raw[i].nunique()\n",
    "    unique.append(uniques)\n",
    "pd.DataFrame(unique)"
   ]
  },
  {
   "cell_type": "code",
   "execution_count": 10,
   "metadata": {},
   "outputs": [
    {
     "data": {
      "text/plain": [
       "NotifyNYC         641\n",
       "EastCoast911IA    135\n",
       "ConEdison         113\n",
       "Shield1631         95\n",
       "outagetracker      31\n",
       "NYCityAlerts       20\n",
       "WHCREBT            16\n",
       "NYGovCuomo         14\n",
       "BNNnews            14\n",
       "StatenIslUSA       14\n",
       "res7cuefox5        13\n",
       "BreakingNewsNY     13\n",
       "BreakingNewsUS     13\n",
       "nyc311             13\n",
       "bnndesk            12\n",
       "TalkoftheSound     11\n",
       "fox5ny             11\n",
       "AlwaysActions      11\n",
       "yonkersoem40       11\n",
       "JoshuaRockoff      10\n",
       "Name: usernameTweet, dtype: int64"
      ]
     },
     "execution_count": 10,
     "metadata": {},
     "output_type": "execute_result"
    }
   ],
   "source": [
    "raw.usernameTweet.value_counts()[:20]"
   ]
  },
  {
   "cell_type": "code",
   "execution_count": 11,
   "metadata": {},
   "outputs": [],
   "source": [
    "notify_nyc = raw[raw.usernameTweet == 'NotifyNYC']"
   ]
  },
  {
   "cell_type": "code",
   "execution_count": 12,
   "metadata": {},
   "outputs": [
    {
     "data": {
      "text/plain": [
       "NotifyNYC    641\n",
       "Name: usernameTweet, dtype: int64"
      ]
     },
     "execution_count": 12,
     "metadata": {},
     "output_type": "execute_result"
    }
   ],
   "source": [
    "notify_nyc.usernameTweet.value_counts()"
   ]
  },
  {
   "cell_type": "code",
   "execution_count": 13,
   "metadata": {
    "scrolled": true
   },
   "outputs": [
    {
     "data": {
      "text/plain": [
       "ID               641\n",
       "datetime         641\n",
       "has_media          1\n",
       "is_reply           1\n",
       "is_retweet         1\n",
       "medias             3\n",
       "nbr_favorite      14\n",
       "nbr_reply          6\n",
       "nbr_retweet       24\n",
       "text             623\n",
       "url              641\n",
       "user_id            1\n",
       "usernameTweet      1\n",
       "dtype: int64"
      ]
     },
     "execution_count": 13,
     "metadata": {},
     "output_type": "execute_result"
    }
   ],
   "source": [
    "notify_nyc.nunique()"
   ]
  },
  {
   "cell_type": "code",
   "execution_count": 14,
   "metadata": {},
   "outputs": [
    {
     "data": {
      "text/plain": [
       "(623, 13)"
      ]
     },
     "execution_count": 14,
     "metadata": {},
     "output_type": "execute_result"
    }
   ],
   "source": [
    "notify_nyc = notify_nyc.drop_duplicates('text')\n",
    "notify_nyc.shape"
   ]
  },
  {
   "cell_type": "code",
   "execution_count": 15,
   "metadata": {},
   "outputs": [],
   "source": [
    "notify_nyc  = notify_nyc[['datetime', 'text']]"
   ]
  },
  {
   "cell_type": "code",
   "execution_count": 16,
   "metadata": {
    "scrolled": false
   },
   "outputs": [
    {
     "data": {
      "text/plain": [
       "datetime    object\n",
       "text        object\n",
       "dtype: object"
      ]
     },
     "execution_count": 16,
     "metadata": {},
     "output_type": "execute_result"
    }
   ],
   "source": [
    "notify_nyc.dtypes"
   ]
  },
  {
   "cell_type": "code",
   "execution_count": 17,
   "metadata": {
    "scrolled": true
   },
   "outputs": [
    {
     "data": {
      "text/plain": [
       "datetime    0\n",
       "text        0\n",
       "dtype: int64"
      ]
     },
     "execution_count": 17,
     "metadata": {},
     "output_type": "execute_result"
    }
   ],
   "source": [
    "notify_nyc.isnull().sum()"
   ]
  },
  {
   "cell_type": "code",
   "execution_count": 18,
   "metadata": {
    "scrolled": true
   },
   "outputs": [],
   "source": [
    "notify_nyc.datetime = pd.to_datetime(notify_nyc.datetime)"
   ]
  },
  {
   "cell_type": "code",
   "execution_count": 19,
   "metadata": {
    "scrolled": false
   },
   "outputs": [
    {
     "data": {
      "text/plain": [
       "datetime    datetime64[ns]\n",
       "text                object\n",
       "dtype: object"
      ]
     },
     "execution_count": 19,
     "metadata": {},
     "output_type": "execute_result"
    }
   ],
   "source": [
    "notify_nyc.dtypes"
   ]
  },
  {
   "cell_type": "code",
   "execution_count": 20,
   "metadata": {},
   "outputs": [],
   "source": [
    "notify_nyc = notify_nyc.set_index('datetime')"
   ]
  },
  {
   "cell_type": "code",
   "execution_count": 21,
   "metadata": {},
   "outputs": [],
   "source": [
    "# https://stackoverflow.com/questions/39805961/pandas-remove-seconds-from-datetime-index\n",
    "notify_nyc.index = notify_nyc.index.map(lambda x: x.replace(minute=0, second=0))"
   ]
  },
  {
   "cell_type": "code",
   "execution_count": 22,
   "metadata": {},
   "outputs": [
    {
     "data": {
      "text/html": [
       "<div>\n",
       "<style scoped>\n",
       "    .dataframe tbody tr th:only-of-type {\n",
       "        vertical-align: middle;\n",
       "    }\n",
       "\n",
       "    .dataframe tbody tr th {\n",
       "        vertical-align: top;\n",
       "    }\n",
       "\n",
       "    .dataframe thead th {\n",
       "        text-align: right;\n",
       "    }\n",
       "</style>\n",
       "<table border=\"1\" class=\"dataframe\">\n",
       "  <thead>\n",
       "    <tr style=\"text-align: right;\">\n",
       "      <th></th>\n",
       "      <th>text</th>\n",
       "    </tr>\n",
       "    <tr>\n",
       "      <th>datetime</th>\n",
       "      <th></th>\n",
       "    </tr>\n",
       "  </thead>\n",
       "  <tbody>\n",
       "    <tr>\n",
       "      <th>2016-08-20 15:00:00</th>\n",
       "      <td>.@ConEdison  is responding to a  power   outag...</td>\n",
       "    </tr>\n",
       "    <tr>\n",
       "      <th>2016-08-13 16:00:00</th>\n",
       "      <td>.@ConEdison  is responding to a  power   outag...</td>\n",
       "    </tr>\n",
       "    <tr>\n",
       "      <th>2015-04-02 22:00:00</th>\n",
       "      <td>Power   outage  in the North East section of T...</td>\n",
       "    </tr>\n",
       "    <tr>\n",
       "      <th>2015-10-03 20:00:00</th>\n",
       "      <td>.@ConEd  at  power   outage  in Bayside, QN ZI...</td>\n",
       "    </tr>\n",
       "    <tr>\n",
       "      <th>2016-07-22 20:00:00</th>\n",
       "      <td>.@ConEdison  is responding to a  power   outag...</td>\n",
       "    </tr>\n",
       "  </tbody>\n",
       "</table>\n",
       "</div>"
      ],
      "text/plain": [
       "                                                                  text\n",
       "datetime                                                              \n",
       "2016-08-20 15:00:00  .@ConEdison  is responding to a  power   outag...\n",
       "2016-08-13 16:00:00  .@ConEdison  is responding to a  power   outag...\n",
       "2015-04-02 22:00:00  Power   outage  in the North East section of T...\n",
       "2015-10-03 20:00:00  .@ConEd  at  power   outage  in Bayside, QN ZI...\n",
       "2016-07-22 20:00:00  .@ConEdison  is responding to a  power   outag..."
      ]
     },
     "execution_count": 22,
     "metadata": {},
     "output_type": "execute_result"
    }
   ],
   "source": [
    "notify_nyc.head()"
   ]
  },
  {
   "cell_type": "code",
   "execution_count": 23,
   "metadata": {},
   "outputs": [],
   "source": [
    "notify_nyc = notify_nyc.sort_index()"
   ]
  },
  {
   "cell_type": "code",
   "execution_count": 24,
   "metadata": {},
   "outputs": [
    {
     "data": {
      "text/plain": [
       "DatetimeIndex(['2009-10-15 13:00:00', '2009-12-29 11:00:00',\n",
       "               '2010-01-22 18:00:00', '2010-01-25 13:00:00',\n",
       "               '2010-01-25 13:00:00', '2010-01-27 17:00:00',\n",
       "               '2010-02-10 19:00:00', '2010-02-14 23:00:00',\n",
       "               '2010-02-26 11:00:00', '2010-03-22 01:00:00',\n",
       "               ...\n",
       "               '2019-03-02 18:00:00', '2019-03-04 00:00:00',\n",
       "               '2019-03-08 19:00:00', '2019-03-10 19:00:00',\n",
       "               '2019-03-24 18:00:00', '2019-03-30 19:00:00',\n",
       "               '2019-04-05 12:00:00', '2019-04-15 00:00:00',\n",
       "               '2019-04-15 06:00:00', '2019-04-16 21:00:00'],\n",
       "              dtype='datetime64[ns]', name='datetime', length=623, freq=None)"
      ]
     },
     "execution_count": 24,
     "metadata": {},
     "output_type": "execute_result"
    }
   ],
   "source": [
    "notify_nyc.index"
   ]
  },
  {
   "cell_type": "markdown",
   "metadata": {},
   "source": [
    "## Tweets Dataframe ( Version 2 )"
   ]
  },
  {
   "cell_type": "code",
   "execution_count": 25,
   "metadata": {},
   "outputs": [
    {
     "name": "stdout",
     "output_type": "stream",
     "text": [
      "OEM_Emergency_Notifications.csv tweets_pseg_dec13_sep20.csv\r\n",
      "tweets.csv                      tweets_pseg_jun27_apr06.csv\r\n",
      "tweets_2.csv                    tweets_pseg_sep6_july2\r\n",
      "tweets_3.csv                    working_df.csv\r\n"
     ]
    }
   ],
   "source": [
    "!ls ../data"
   ]
  },
  {
   "cell_type": "code",
   "execution_count": 26,
   "metadata": {},
   "outputs": [],
   "source": [
    "tweets = pd.read_csv('../raw_tweets/raw_tweets.csv', index_col = 0)"
   ]
  },
  {
   "cell_type": "code",
   "execution_count": 27,
   "metadata": {},
   "outputs": [
    {
     "data": {
      "text/html": [
       "<div>\n",
       "<style scoped>\n",
       "    .dataframe tbody tr th:only-of-type {\n",
       "        vertical-align: middle;\n",
       "    }\n",
       "\n",
       "    .dataframe tbody tr th {\n",
       "        vertical-align: top;\n",
       "    }\n",
       "\n",
       "    .dataframe thead th {\n",
       "        text-align: right;\n",
       "    }\n",
       "</style>\n",
       "<table border=\"1\" class=\"dataframe\">\n",
       "  <thead>\n",
       "    <tr style=\"text-align: right;\">\n",
       "      <th></th>\n",
       "      <th>ID</th>\n",
       "      <th>datetime</th>\n",
       "      <th>has_media</th>\n",
       "      <th>is_reply</th>\n",
       "      <th>is_retweet</th>\n",
       "      <th>medias</th>\n",
       "      <th>nbr_favorite</th>\n",
       "      <th>nbr_reply</th>\n",
       "      <th>nbr_retweet</th>\n",
       "      <th>text</th>\n",
       "      <th>url</th>\n",
       "      <th>user_id</th>\n",
       "      <th>usernameTweet</th>\n",
       "    </tr>\n",
       "  </thead>\n",
       "  <tbody>\n",
       "    <tr>\n",
       "      <th>0</th>\n",
       "      <td>267716394043465728</td>\n",
       "      <td>2012-11-11 14:52:16</td>\n",
       "      <td>NaN</td>\n",
       "      <td>False</td>\n",
       "      <td>False</td>\n",
       "      <td>NaN</td>\n",
       "      <td>0.0</td>\n",
       "      <td>0.0</td>\n",
       "      <td>0.0</td>\n",
       "      <td>ConEd : NY Sandy  power   outages  slip; costs...</td>\n",
       "      <td>/RealJezzy/status/267716394043465728</td>\n",
       "      <td>504279674.0</td>\n",
       "      <td>RealJezzy</td>\n",
       "    </tr>\n",
       "    <tr>\n",
       "      <th>1</th>\n",
       "      <td>298660085255770112</td>\n",
       "      <td>2013-02-05 00:11:27</td>\n",
       "      <td>NaN</td>\n",
       "      <td>False</td>\n",
       "      <td>False</td>\n",
       "      <td>NaN</td>\n",
       "      <td>0.0</td>\n",
       "      <td>0.0</td>\n",
       "      <td>0.0</td>\n",
       "      <td>@ ConEdison  \\n Power   outage  in queens</td>\n",
       "      <td>/meirBGNY/status/298660085255770112</td>\n",
       "      <td>909594764.0</td>\n",
       "      <td>meirBGNY</td>\n",
       "    </tr>\n",
       "  </tbody>\n",
       "</table>\n",
       "</div>"
      ],
      "text/plain": [
       "                   ID             datetime has_media is_reply is_retweet  \\\n",
       "0  267716394043465728  2012-11-11 14:52:16       NaN    False      False   \n",
       "1  298660085255770112  2013-02-05 00:11:27       NaN    False      False   \n",
       "\n",
       "  medias  nbr_favorite  nbr_reply  nbr_retweet  \\\n",
       "0    NaN           0.0        0.0          0.0   \n",
       "1    NaN           0.0        0.0          0.0   \n",
       "\n",
       "                                                text  \\\n",
       "0  ConEd : NY Sandy  power   outages  slip; costs...   \n",
       "1          @ ConEdison  \\n Power   outage  in queens   \n",
       "\n",
       "                                    url      user_id usernameTweet  \n",
       "0  /RealJezzy/status/267716394043465728  504279674.0     RealJezzy  \n",
       "1   /meirBGNY/status/298660085255770112  909594764.0      meirBGNY  "
      ]
     },
     "execution_count": 27,
     "metadata": {},
     "output_type": "execute_result"
    }
   ],
   "source": [
    "tweets.head(2)"
   ]
  },
  {
   "cell_type": "code",
   "execution_count": 28,
   "metadata": {},
   "outputs": [],
   "source": [
    "# for tweet in tweets.text:\n",
    "#     print(tweet)"
   ]
  },
  {
   "cell_type": "code",
   "execution_count": 29,
   "metadata": {},
   "outputs": [],
   "source": [
    "# tweets.text.str.contains(r\"(responding)\\s+(to)\", regex = True).sum()"
   ]
  },
  {
   "cell_type": "code",
   "execution_count": 30,
   "metadata": {},
   "outputs": [],
   "source": [
    "# tweets[tweets.usernameTweet == 'NotifyNYC']"
   ]
  },
  {
   "cell_type": "code",
   "execution_count": 31,
   "metadata": {},
   "outputs": [],
   "source": [
    "# tweets = tweets[['datetime', 'text']]\n",
    "# tweets.shape"
   ]
  },
  {
   "cell_type": "code",
   "execution_count": 32,
   "metadata": {},
   "outputs": [],
   "source": [
    "# tweets.drop_duplicates('text')"
   ]
  },
  {
   "cell_type": "markdown",
   "metadata": {},
   "source": [
    "## Open NYC Data"
   ]
  },
  {
   "cell_type": "code",
   "execution_count": 33,
   "metadata": {},
   "outputs": [],
   "source": [
    "open_nyc = pd.read_csv('../data/OEM_Emergency_Notifications.csv')"
   ]
  },
  {
   "cell_type": "code",
   "execution_count": 34,
   "metadata": {},
   "outputs": [
    {
     "data": {
      "text/html": [
       "<div>\n",
       "<style scoped>\n",
       "    .dataframe tbody tr th:only-of-type {\n",
       "        vertical-align: middle;\n",
       "    }\n",
       "\n",
       "    .dataframe tbody tr th {\n",
       "        vertical-align: top;\n",
       "    }\n",
       "\n",
       "    .dataframe thead th {\n",
       "        text-align: right;\n",
       "    }\n",
       "</style>\n",
       "<table border=\"1\" class=\"dataframe\">\n",
       "  <thead>\n",
       "    <tr style=\"text-align: right;\">\n",
       "      <th></th>\n",
       "      <th>Record ID</th>\n",
       "      <th>Date and Time</th>\n",
       "      <th>NotificationType</th>\n",
       "      <th>Notification Title</th>\n",
       "      <th>Email Body</th>\n",
       "    </tr>\n",
       "  </thead>\n",
       "  <tbody>\n",
       "    <tr>\n",
       "      <th>0</th>\n",
       "      <td>11993</td>\n",
       "      <td>12/27/2018 01:42:00 PM</td>\n",
       "      <td>Utility</td>\n",
       "      <td>Con Edison Power Outage - Gravesend (BK)</td>\n",
       "      <td>Notification issued 12-27-2018 at 1:42 PM. Con...</td>\n",
       "    </tr>\n",
       "    <tr>\n",
       "      <th>1</th>\n",
       "      <td>11948</td>\n",
       "      <td>12/21/2018 03:20:00 PM</td>\n",
       "      <td>Utility</td>\n",
       "      <td>Power Outage - Breezy Point &amp; Roxbury (QN)</td>\n",
       "      <td>Notification issued 12-21-2018 at 3:20 PM. PSE...</td>\n",
       "    </tr>\n",
       "    <tr>\n",
       "      <th>2</th>\n",
       "      <td>11933</td>\n",
       "      <td>12/20/2018 10:50:00 PM</td>\n",
       "      <td>Utility</td>\n",
       "      <td>Power Outage - Far Rockaway Sectiojn (QN)</td>\n",
       "      <td>Notification issued 12-20-2018 at 10:50 PM. PS...</td>\n",
       "    </tr>\n",
       "    <tr>\n",
       "      <th>3</th>\n",
       "      <td>11930</td>\n",
       "      <td>12/20/2018 12:40:00 PM</td>\n",
       "      <td>Utility</td>\n",
       "      <td>Power Outage - Pelham Parkway (BX)</td>\n",
       "      <td>Notification issued 12-20-2018 at 12:40 PM. Co...</td>\n",
       "    </tr>\n",
       "    <tr>\n",
       "      <th>4</th>\n",
       "      <td>11834</td>\n",
       "      <td>12/10/2018 05:21:00 AM</td>\n",
       "      <td>Utility</td>\n",
       "      <td>Con Edison Power Outage - Hollis Section (QN)</td>\n",
       "      <td>Notification issued 12-10-2018 at 5:21 PM. Con...</td>\n",
       "    </tr>\n",
       "  </tbody>\n",
       "</table>\n",
       "</div>"
      ],
      "text/plain": [
       "   Record ID           Date and Time NotificationType  \\\n",
       "0      11993  12/27/2018 01:42:00 PM          Utility   \n",
       "1      11948  12/21/2018 03:20:00 PM          Utility   \n",
       "2      11933  12/20/2018 10:50:00 PM          Utility   \n",
       "3      11930  12/20/2018 12:40:00 PM          Utility   \n",
       "4      11834  12/10/2018 05:21:00 AM          Utility   \n",
       "\n",
       "                              Notification Title  \\\n",
       "0       Con Edison Power Outage - Gravesend (BK)   \n",
       "1     Power Outage - Breezy Point & Roxbury (QN)   \n",
       "2      Power Outage - Far Rockaway Sectiojn (QN)   \n",
       "3             Power Outage - Pelham Parkway (BX)   \n",
       "4  Con Edison Power Outage - Hollis Section (QN)   \n",
       "\n",
       "                                          Email Body  \n",
       "0  Notification issued 12-27-2018 at 1:42 PM. Con...  \n",
       "1  Notification issued 12-21-2018 at 3:20 PM. PSE...  \n",
       "2  Notification issued 12-20-2018 at 10:50 PM. PS...  \n",
       "3  Notification issued 12-20-2018 at 12:40 PM. Co...  \n",
       "4  Notification issued 12-10-2018 at 5:21 PM. Con...  "
      ]
     },
     "execution_count": 34,
     "metadata": {},
     "output_type": "execute_result"
    }
   ],
   "source": [
    "open_nyc.head()"
   ]
  },
  {
   "cell_type": "code",
   "execution_count": 35,
   "metadata": {},
   "outputs": [
    {
     "data": {
      "text/plain": [
       "(579, 5)"
      ]
     },
     "execution_count": 35,
     "metadata": {},
     "output_type": "execute_result"
    }
   ],
   "source": [
    "open_nyc.shape"
   ]
  },
  {
   "cell_type": "code",
   "execution_count": 36,
   "metadata": {},
   "outputs": [
    {
     "data": {
      "text/plain": [
       "Index(['Record ID', 'Date and Time', 'NotificationType', 'Notification Title',\n",
       "       'Email Body'],\n",
       "      dtype='object')"
      ]
     },
     "execution_count": 36,
     "metadata": {},
     "output_type": "execute_result"
    }
   ],
   "source": [
    "open_nyc.columns"
   ]
  },
  {
   "cell_type": "code",
   "execution_count": 37,
   "metadata": {},
   "outputs": [],
   "source": [
    "# https://pandas.pydata.org/pandas-docs/stable/reference/api/pandas.DataFrame.insert.html\n",
    "open_nyc.insert(5, 'outage', 1)"
   ]
  },
  {
   "cell_type": "code",
   "execution_count": 38,
   "metadata": {},
   "outputs": [],
   "source": [
    "open_nyc.drop(columns = ['Record ID', 'NotificationType'], inplace = True)"
   ]
  },
  {
   "cell_type": "code",
   "execution_count": 39,
   "metadata": {},
   "outputs": [
    {
     "data": {
      "text/html": [
       "<div>\n",
       "<style scoped>\n",
       "    .dataframe tbody tr th:only-of-type {\n",
       "        vertical-align: middle;\n",
       "    }\n",
       "\n",
       "    .dataframe tbody tr th {\n",
       "        vertical-align: top;\n",
       "    }\n",
       "\n",
       "    .dataframe thead th {\n",
       "        text-align: right;\n",
       "    }\n",
       "</style>\n",
       "<table border=\"1\" class=\"dataframe\">\n",
       "  <thead>\n",
       "    <tr style=\"text-align: right;\">\n",
       "      <th></th>\n",
       "      <th>Date and Time</th>\n",
       "      <th>Notification Title</th>\n",
       "      <th>Email Body</th>\n",
       "      <th>outage</th>\n",
       "    </tr>\n",
       "  </thead>\n",
       "  <tbody>\n",
       "    <tr>\n",
       "      <th>0</th>\n",
       "      <td>12/27/2018 01:42:00 PM</td>\n",
       "      <td>Con Edison Power Outage - Gravesend (BK)</td>\n",
       "      <td>Notification issued 12-27-2018 at 1:42 PM. Con...</td>\n",
       "      <td>1</td>\n",
       "    </tr>\n",
       "    <tr>\n",
       "      <th>1</th>\n",
       "      <td>12/21/2018 03:20:00 PM</td>\n",
       "      <td>Power Outage - Breezy Point &amp; Roxbury (QN)</td>\n",
       "      <td>Notification issued 12-21-2018 at 3:20 PM. PSE...</td>\n",
       "      <td>1</td>\n",
       "    </tr>\n",
       "    <tr>\n",
       "      <th>2</th>\n",
       "      <td>12/20/2018 10:50:00 PM</td>\n",
       "      <td>Power Outage - Far Rockaway Sectiojn (QN)</td>\n",
       "      <td>Notification issued 12-20-2018 at 10:50 PM. PS...</td>\n",
       "      <td>1</td>\n",
       "    </tr>\n",
       "    <tr>\n",
       "      <th>3</th>\n",
       "      <td>12/20/2018 12:40:00 PM</td>\n",
       "      <td>Power Outage - Pelham Parkway (BX)</td>\n",
       "      <td>Notification issued 12-20-2018 at 12:40 PM. Co...</td>\n",
       "      <td>1</td>\n",
       "    </tr>\n",
       "    <tr>\n",
       "      <th>4</th>\n",
       "      <td>12/10/2018 05:21:00 AM</td>\n",
       "      <td>Con Edison Power Outage - Hollis Section (QN)</td>\n",
       "      <td>Notification issued 12-10-2018 at 5:21 PM. Con...</td>\n",
       "      <td>1</td>\n",
       "    </tr>\n",
       "  </tbody>\n",
       "</table>\n",
       "</div>"
      ],
      "text/plain": [
       "            Date and Time                             Notification Title  \\\n",
       "0  12/27/2018 01:42:00 PM       Con Edison Power Outage - Gravesend (BK)   \n",
       "1  12/21/2018 03:20:00 PM     Power Outage - Breezy Point & Roxbury (QN)   \n",
       "2  12/20/2018 10:50:00 PM      Power Outage - Far Rockaway Sectiojn (QN)   \n",
       "3  12/20/2018 12:40:00 PM             Power Outage - Pelham Parkway (BX)   \n",
       "4  12/10/2018 05:21:00 AM  Con Edison Power Outage - Hollis Section (QN)   \n",
       "\n",
       "                                          Email Body  outage  \n",
       "0  Notification issued 12-27-2018 at 1:42 PM. Con...       1  \n",
       "1  Notification issued 12-21-2018 at 3:20 PM. PSE...       1  \n",
       "2  Notification issued 12-20-2018 at 10:50 PM. PS...       1  \n",
       "3  Notification issued 12-20-2018 at 12:40 PM. Co...       1  \n",
       "4  Notification issued 12-10-2018 at 5:21 PM. Con...       1  "
      ]
     },
     "execution_count": 39,
     "metadata": {},
     "output_type": "execute_result"
    }
   ],
   "source": [
    "open_nyc.head()"
   ]
  },
  {
   "cell_type": "code",
   "execution_count": 40,
   "metadata": {},
   "outputs": [],
   "source": [
    "borough = open_nyc['Notification Title'].str.extract(\"(BK)|(QN)|(BX)|(SI)|(MN)\")"
   ]
  },
  {
   "cell_type": "code",
   "execution_count": 41,
   "metadata": {},
   "outputs": [
    {
     "data": {
      "text/plain": [
       "Int64Index([1, 2, 3, 4], dtype='int64')"
      ]
     },
     "execution_count": 41,
     "metadata": {},
     "output_type": "execute_result"
    }
   ],
   "source": [
    "borough.columns[1:]"
   ]
  },
  {
   "cell_type": "code",
   "execution_count": 42,
   "metadata": {
    "scrolled": true
   },
   "outputs": [
    {
     "data": {
      "text/html": [
       "<div>\n",
       "<style scoped>\n",
       "    .dataframe tbody tr th:only-of-type {\n",
       "        vertical-align: middle;\n",
       "    }\n",
       "\n",
       "    .dataframe tbody tr th {\n",
       "        vertical-align: top;\n",
       "    }\n",
       "\n",
       "    .dataframe thead th {\n",
       "        text-align: right;\n",
       "    }\n",
       "</style>\n",
       "<table border=\"1\" class=\"dataframe\">\n",
       "  <thead>\n",
       "    <tr style=\"text-align: right;\">\n",
       "      <th></th>\n",
       "      <th>0</th>\n",
       "    </tr>\n",
       "  </thead>\n",
       "  <tbody>\n",
       "    <tr>\n",
       "      <th>0</th>\n",
       "      <td>BK</td>\n",
       "    </tr>\n",
       "    <tr>\n",
       "      <th>1</th>\n",
       "      <td>QN</td>\n",
       "    </tr>\n",
       "    <tr>\n",
       "      <th>2</th>\n",
       "      <td>QN</td>\n",
       "    </tr>\n",
       "    <tr>\n",
       "      <th>3</th>\n",
       "      <td>NaN</td>\n",
       "    </tr>\n",
       "    <tr>\n",
       "      <th>4</th>\n",
       "      <td>QN</td>\n",
       "    </tr>\n",
       "  </tbody>\n",
       "</table>\n",
       "</div>"
      ],
      "text/plain": [
       "     0\n",
       "0   BK\n",
       "1   QN\n",
       "2   QN\n",
       "3  NaN\n",
       "4   QN"
      ]
     },
     "execution_count": 42,
     "metadata": {},
     "output_type": "execute_result"
    }
   ],
   "source": [
    "new_borough = pd.DataFrame(borough[0].fillna(borough[1]))\n",
    "new_borough.head()"
   ]
  },
  {
   "cell_type": "code",
   "execution_count": 46,
   "metadata": {
    "scrolled": true
   },
   "outputs": [
    {
     "data": {
      "text/html": [
       "<div>\n",
       "<style scoped>\n",
       "    .dataframe tbody tr th:only-of-type {\n",
       "        vertical-align: middle;\n",
       "    }\n",
       "\n",
       "    .dataframe tbody tr th {\n",
       "        vertical-align: top;\n",
       "    }\n",
       "\n",
       "    .dataframe thead th {\n",
       "        text-align: right;\n",
       "    }\n",
       "</style>\n",
       "<table border=\"1\" class=\"dataframe\">\n",
       "  <thead>\n",
       "    <tr style=\"text-align: right;\">\n",
       "      <th></th>\n",
       "      <th>0</th>\n",
       "    </tr>\n",
       "  </thead>\n",
       "  <tbody>\n",
       "    <tr>\n",
       "      <th>0</th>\n",
       "      <td>BK</td>\n",
       "    </tr>\n",
       "    <tr>\n",
       "      <th>1</th>\n",
       "      <td>QN</td>\n",
       "    </tr>\n",
       "    <tr>\n",
       "      <th>2</th>\n",
       "      <td>QN</td>\n",
       "    </tr>\n",
       "    <tr>\n",
       "      <th>3</th>\n",
       "      <td>BX</td>\n",
       "    </tr>\n",
       "    <tr>\n",
       "      <th>4</th>\n",
       "      <td>QN</td>\n",
       "    </tr>\n",
       "  </tbody>\n",
       "</table>\n",
       "</div>"
      ],
      "text/plain": [
       "    0\n",
       "0  BK\n",
       "1  QN\n",
       "2  QN\n",
       "3  BX\n",
       "4  QN"
      ]
     },
     "execution_count": 46,
     "metadata": {},
     "output_type": "execute_result"
    }
   ],
   "source": [
    "new_borough = pd.DataFrame(new_borough[0].fillna(borough[2]))\n",
    "new_borough.head()"
   ]
  },
  {
   "cell_type": "code",
   "execution_count": 48,
   "metadata": {},
   "outputs": [
    {
     "data": {
      "text/html": [
       "<div>\n",
       "<style scoped>\n",
       "    .dataframe tbody tr th:only-of-type {\n",
       "        vertical-align: middle;\n",
       "    }\n",
       "\n",
       "    .dataframe tbody tr th {\n",
       "        vertical-align: top;\n",
       "    }\n",
       "\n",
       "    .dataframe thead th {\n",
       "        text-align: right;\n",
       "    }\n",
       "</style>\n",
       "<table border=\"1\" class=\"dataframe\">\n",
       "  <thead>\n",
       "    <tr style=\"text-align: right;\">\n",
       "      <th></th>\n",
       "      <th>0</th>\n",
       "    </tr>\n",
       "  </thead>\n",
       "  <tbody>\n",
       "    <tr>\n",
       "      <th>0</th>\n",
       "      <td>BK</td>\n",
       "    </tr>\n",
       "    <tr>\n",
       "      <th>1</th>\n",
       "      <td>QN</td>\n",
       "    </tr>\n",
       "    <tr>\n",
       "      <th>2</th>\n",
       "      <td>QN</td>\n",
       "    </tr>\n",
       "    <tr>\n",
       "      <th>3</th>\n",
       "      <td>BX</td>\n",
       "    </tr>\n",
       "    <tr>\n",
       "      <th>4</th>\n",
       "      <td>QN</td>\n",
       "    </tr>\n",
       "  </tbody>\n",
       "</table>\n",
       "</div>"
      ],
      "text/plain": [
       "    0\n",
       "0  BK\n",
       "1  QN\n",
       "2  QN\n",
       "3  BX\n",
       "4  QN"
      ]
     },
     "execution_count": 48,
     "metadata": {},
     "output_type": "execute_result"
    }
   ],
   "source": [
    "for column in borough.columns[2:]:\n",
    "    new_borough = pd.DataFrame(new_borough[0].fillna(borough[column]))\n",
    "new_borough.head()"
   ]
  },
  {
   "cell_type": "code",
   "execution_count": 52,
   "metadata": {},
   "outputs": [
    {
     "data": {
      "text/plain": [
       "QN    181\n",
       "SI    141\n",
       "BX    110\n",
       "BK    107\n",
       "MN     16\n",
       "Name: 0, dtype: int64"
      ]
     },
     "execution_count": 52,
     "metadata": {},
     "output_type": "execute_result"
    }
   ],
   "source": [
    "new_borough[0].value_counts()"
   ]
  },
  {
   "cell_type": "code",
   "execution_count": 55,
   "metadata": {},
   "outputs": [
    {
     "data": {
      "text/plain": [
       "(579, 1)"
      ]
     },
     "execution_count": 55,
     "metadata": {},
     "output_type": "execute_result"
    }
   ],
   "source": [
    "new_borough.shape"
   ]
  },
  {
   "cell_type": "code",
   "execution_count": 57,
   "metadata": {},
   "outputs": [
    {
     "data": {
      "text/plain": [
       "0    24\n",
       "dtype: int64"
      ]
     },
     "execution_count": 57,
     "metadata": {},
     "output_type": "execute_result"
    }
   ],
   "source": [
    "new_borough.isnull().sum()"
   ]
  },
  {
   "cell_type": "code",
   "execution_count": 44,
   "metadata": {},
   "outputs": [
    {
     "name": "stdout",
     "output_type": "stream",
     "text": [
      "Con Edison Power Outage - Gravesend (BK)\n",
      "Power Outage - Breezy Point & Roxbury (QN)\n",
      "Power Outage - Far Rockaway Sectiojn (QN)\n",
      "Power Outage - Pelham Parkway (BX)\n",
      "Con Edison Power Outage - Hollis Section (QN)\n",
      "Power Outage - Mill Basin Section (BK)\n",
      "Power Outage - East New York Section (BK)\n",
      "Con Edison Power Outage - Jamaica Section (QN)\n",
      "Power Outage - Bergen Beach (BK)\n",
      "Power Outage - Howard Beach Section (QN)\n",
      "Con Edison Power Outage - Riverdale Section (BX)\n",
      "Power Outage - Maspeth (QN)\n",
      "Power Outage - New Dorp (SI)\n",
      "Power Outage - Riverdale Section (BX)\n",
      "Con Edison Power Outage - Rego Park (QN)\n",
      "Con Edison Power Outage - Richmond Hill (QN)\n",
      "Con Edison Power Outage - Midland Beach (SI)\n",
      "Con Edison Power Outage - North East Bronx (BX)\n",
      "Power Outage - Laconia Section (BK)\n",
      "Power Outage - Washington Heights (MN)\n",
      "Con Edison Power Outage - West Brighton Section (SI)\n",
      "Con Edison Power Outage - Madison Square Section (MN)\n",
      "Power Outage - Laurelton Section (QN)\n",
      "Power Outage - Morris Heights (BX)\n",
      "Power Outage - New Springville Sectione (SI)\n",
      "Con Edison Power Outage - Great Kills Section (SI)\n",
      "Power Outage - Prince's Bay (SI)\n",
      "Con Edison Power Outage - Gravesend (BK)\n",
      "Con Edison Power Outage - Huguenot (SI)\n",
      "Power Outage - Various System Wide Outages (BK/BX/QN/SI)\n",
      "ConEd Power Outage - Middle Village Section (QN)\n",
      "ConEd Power Outage - Cypress Hill Section (BK)\n",
      "ConEd Power Outage - Riverdale Section (BX)\n",
      "Con Edison Power Outage - Laurelton (QN)\n",
      "Con Edison Power Outage - Bath Beach (BK)\n",
      "Con Edison Power Outage - New Springville (SI)\n",
      "Con Edison Power Outage - Glen Oaks Section (QN)\n",
      "Con Edison Power Outages (SI)\n",
      "Con Edison Power Outage (BK)\n",
      "Con Edison Power Outage - Middle Village (QN)\n",
      "Con Edison Power Outage - Middle Village (QN)\n",
      "Con Edison Power Outage - West Brighton (SI)\n",
      "Con Edison Power Outage - Dyker Heights (BK)\n",
      "Con Edison Power Outage - Sheepshead Bay (BK)\n",
      "Con Edison Power Outage - Jamaica (QN)\n",
      "Power Outage - South Jamaica (QN)\n",
      "Power Outage - Far Rockaway (QN)\n",
      "Con Edison Power Outage - Jamaica (QN)\n",
      "Power Outage - Bayridge Section (BK)\n",
      "Power Outage - Brookville Section (QN)\n",
      "Power Outage - Flatbush Section (BK)\n",
      "Power Outage - Howard Beach (QN)\n",
      "Power Outage - Westchester Square (BX)\n",
      "Con Edison Power Outage - Gravesend Section (BK)\n",
      "Con Edison Power Outage - Queens Village (QN)\n",
      "Con Edison Power Outage - Gerritsen Beach (BK)\n",
      "ConEd Power Outage - Fox Hills Section (SI)\n",
      "Power Outage - Maspeth Section (QN)\n",
      "Power Outage - Gerritsen Beach (BK)\n",
      "Power Outage - Sheepshead Bay Section (BK)\n",
      "Power Outage - Wakefield Scetion (BX)\n",
      "Con Edison Power Outage (QN)\n",
      "Power Outage - Wakefield Section (BX)\n",
      "Power Outage - South East Section (BX)\n",
      "Power Outage - Country Club Section (BX)\n",
      "ConEd Power Outage - Bergen Beach (BK)\n",
      "ConEd Power Outage - Maspeth & Rego Park (QN)\n",
      "Power Outage - Park Hill (SI)\n",
      "Power Outage - Emerson Hill & Park Hill Sections (SI)\n",
      "Power Outage - Flushing (QN)\n",
      "Power Outage - Woodlawn (BX)\n",
      "Power Outage - St. George Section (SI)\n",
      "Power Outage- Flushing Section (QN)\n",
      "Power Outage - Soundview Section (BX)\n",
      "Power Outage - Glen Oaks (QN)\n",
      "Power Outage - Woods of Arden (SI)\n",
      "Power Outage - College Point (QN)\n",
      "Power Outage - Tottenville Section (SI)\n",
      "Power Outage - Silver Lake/Grymes Hill (SI)\n",
      "PSE&G Power Outage - Far Rockaway (QN)\n",
      "Power Outage - Far Rockaway (QN)\n",
      "Power Outage - Throggs Neck (BX)\n",
      "Power Outage - Middle Village (QN)\n",
      "Power Outage - Gun Hill (BX)\n",
      "Power Outage - Eltingville (SI)\n",
      "Power Outage - Flushing (QN)\n",
      "Power Outage - Whitestone (QN)\n",
      "Power Outage - Middle Village (QN)\n",
      "Power Outage - Flushing (QN)\n",
      "Power Outage - Gerritsen Beach (BK)\n",
      "Power Outage - Middle Village (QN)\n",
      "Power Outage - Wakefield Section (BX)\n",
      "Power Outage - Sea Gate (BK)\n",
      "Power Outage - Cropsey Loop (BK)\n",
      "Power Outage - City Island Section (BX)\n",
      "Power Outage - Laurel Hill (QN)\n",
      "Power Outage - Springfield Gardens (QN)\n",
      "Power Outage  - Todt Hill and Concord Sections (SI)\n",
      "Power Outage - Maspeth Section (QN)\n",
      "Power Outage - Cambria Section (QN)\n",
      "Power Outage - Edenwald Section (BX)\n",
      "Power Outage - Flushing (QN)\n",
      "Power Outage - Castle Hill (BX)\n",
      "Power Outage - Cambria (QN)\n",
      "Power Outage - New Springville and Heartland Village Sections (SI)\n",
      "Power Outage - Coney Island (BK)\n",
      "Power Outage - Hollis (QN)\n",
      "Power Outage - Gun Hill (BX)\n",
      "PSE&G Power Outage - Far Rockaway (QN)\n",
      "PSEG Power Outage - Rockaway (QN)\n",
      "Power Outage - Allerton Section (BX)\n",
      "Power Outage - New Dorp (SI)\n",
      "Power Outage - Far Rockaway (QN)\n",
      "Power Outage - Far Rockaway (QN)\n",
      "Power Outage - Spencer Estates (BX)\n",
      "Power Outage - Maspeth (QN)\n",
      "Power Outage - Seaview Section (SI)\n",
      "Power Outage - Huguenot Section (SI)\n",
      "Power Outage - Annadale Section (SI)\n",
      "Power Outage - Rossville (SI)\n",
      "Power Outage - Dyker Loop (BK)\n",
      "Power Outage - Glen Oaks (QN)\n",
      "Power Outage - Woodlawn (BX)\n",
      "Power Outage - Gravesend (BK)\n",
      "Power Outage - Rossville Section (SI)\n",
      "Power Outage - Gun Hill (BX)\n",
      "Power Outage - Todt Hill (SI)\n",
      "Power Outage - West 71st Street & Broadway (MN)\n",
      "Power Outage - Whitestone (QN)\n",
      "Power Outage - New Springville Section (SI)\n",
      "Power Outage -  Ozone Park Section (QN)\n",
      "Power Outage - Hollis Section (QN)\n",
      "Power Outage - Flushing  (QN)\n",
      "Power Outage - Ozone Park (QN)\n",
      "Power Outage - Hollis (QN)\n",
      "Power Outage - Williamsbridge (BX)\n",
      "Power Outage - Willowbrook (SI)\n",
      "Power Outage - Bayside (QN)\n",
      "Power Outage - Long Island City (QN)\n",
      "Power Outage - Huguenot Section (SI)\n",
      "Power Outage - College Point (QN)\n",
      "Power Outage - Bensonhurst (BK)\n",
      "Power Outage - Richmond Hill (QN)\n",
      "Power Outage - Middle Village (QN)\n",
      "Power Outage - Laconia (BX)\n",
      "Power Outage - Edenwald (BX)\n",
      "Power Outage - Hollis (QN)\n",
      "Power Outage - Edenwald (BX)\n",
      "Power Outage - Midwood (BK)\n",
      "Power Outage - Wakefield Section (BX)\n",
      "Power Outage - Jamaica (QN)\n",
      "Power Outage - Hollis (QN)\n",
      "Power Outage - Far Rockaway (QN)\n",
      "Power Outage - Flushing Section (QN)\n",
      "Power Outage - Howard Beach (QN)\n",
      "Power Outage - Westerleigh (SI)\n",
      "Power Outage - Seaview (SI)\n",
      "Power Outage - Gun Hill (BX)\n",
      "Power Outage - Far Rockaway (QN)\n",
      "Power Outage - Bulls Head (SI)\n",
      "Power Outage - Huguenot Section (SI)\n",
      "Power Outage - Great Kills (SI)\n",
      "Power Outage - Glen Oaks (QN)\n",
      "Power Outage - Williamsbridge (BX)\n",
      "Power Outage - Flatbush (BK)\n",
      "Power Outage - Flushing (QN)\n",
      "Power Outage - New Dorp (SI)\n",
      "Power Outage - Bulls Head (SI)\n",
      "Power Outage - Hollis Queens (QN)\n",
      "Power Outage - Marine Park (BK)\n",
      "Power Outage - Flushing (QN)\n",
      "Power Outage - Rockaway Beach (QN)\n",
      "Power Outage - Far Rockaway (QN)\n",
      "Power Outage - Pleasant Plains (SI)\n",
      "Power Outage - Murray Hill (QN)\n",
      "Power Outage - Marine Park (BK)\n",
      "Power Outage - Parkchester (BX)\n",
      "Power Outage - Throgs Neck (BX)\n",
      "Power Outage - Morris Hill (BX)\n",
      "Power Outage - Far Rockaway (QN)\n",
      "Power Outage - Far Rockaway (QN)\n",
      "Power Outage - Springfield Gardens (QN)\n",
      "Power Outage - Marine Park and Flatlands (BK)\n",
      "Power Outage - Parkchester (BX)\n",
      "Power Outage - Middle Village (QN)\n",
      "Power Outage - Bergen Beach (BK)\n",
      "Power Outage - Gerritsen Beach (BK)\n",
      "Power Outage - Laconia (BX)\n",
      "Power Outage - Cambria Heights (QN)\n",
      "Power Outage - Willowbrook (SI)\n",
      "Power Outage Update - Crown Heights (BK)\n",
      "Power Outage - Crown Heights (BK)\n",
      "Power Outage - East Flushing (QN)\n",
      "Power Outage - Clinton Hill (BK)\n",
      "Power Outage - Bedford Stuyvestant (BK)\n",
      "Power Outage - Flushing Section (QN)\n",
      "Power Outage - Sunnyside (SI)\n",
      "Power Outage - Maspeth (QN)\n",
      "Power Outage - Flushing Section (QN)\n",
      "Power Outage - West Brighton (SI)\n",
      "Power Outage - Glen Oaks (QN)\n",
      "Power Outage - Hollis (QN)\n",
      "Power Outage - Glen Oaks (QN)\n",
      "Power Outage - Throgs Neck (BX)\n",
      "Power Outage - Allerton (BX)\n",
      "Power Outage - Williamsbridge Section (BX)\n",
      "Power Outage - Tottenville (SI)\n",
      "Power Outage - Tottenville (SI)\n",
      "Power Outage - Bayside (QN)\n",
      "Power Outage - Upper Manhattan (MN)\n",
      "Power Outage - Westerleigh (SI)\n",
      "Power Outage - Livingston (SI)\n",
      "Power Outage - College Point (QN)\n",
      "Power Outage - Jamaica Estates (QN)\n",
      "Power Outage - Tottenville Section (SI)\n",
      "Power Outage - Throggs Neck Section (BX)\n",
      "Power Outage - Bedford Stuyvesant (BK)\n",
      "Power Outage - Great Kills (SI)\n",
      "Power Outage - West Laconia Loop (BX)\n",
      "Power Outage - Wakefield (BX)\n",
      "Power Outage - Travis (SI)\n",
      "Power Outage - Throgs Neck (BX)\n",
      "Power Outage - Riverdale (BX)\n",
      "Power Outage - Soundview (BX)\n",
      "Power Outage - Williams Bridge (BX)\n",
      "Power Outage - Fort Hamilton (BK)\n",
      "Power Outage - Red Hook (BK)\n",
      "Power Outage - Washington Heights (MN)\n",
      "Power Outage - Woodrow (SI)\n",
      "Power Outage - Fort Hamilton (BK)\n",
      "Power Outage - Throggs Neck Section (BX)\n",
      "Power Outage - Bensonhurst (BK)\n",
      "Power Outage - Coney Island (BK)\n",
      "Power Outage - Far Rockaway (QN)\n",
      "Power Outage - Pelham Bay (BX)\n",
      "Power Outage - Midwood Loop (BK)\n",
      "Power Outage - Clove Lake (SI)\n",
      "Power Outage - Marine Park (BK)\n",
      "Power Outage - Gravesend (BK)\n",
      "ConEd Power Outage - Eastchester (BX)\n",
      "Power Outage - Canarsie (BK)\n",
      "ConEdison Flushing Power Outage (QN)\n",
      "Power Outage - Middle Village (QN)\n",
      "Power Outage - Rockaway Park (QN)\n",
      "Power Outage - Edenwald (BX)\n",
      "Power Outage - Hollis (QN)\n",
      "Power Outage - Marine Park (BK)\n",
      "Power Outage (SI)\n",
      "Power Outage - Middle Village (QN)\n",
      "Power Outage - New Brighton (SI)\n",
      "Power Outage - Bayside Section (QN)\n",
      "Power Outage - Baychester (BX)\n",
      "Power Outage - Throggs Neck (BX)\n",
      "Power Outage - Richmond Town (SI)\n",
      "Power Outage - Bay Terrace (SI)\n",
      "Power Outage - West Farms (BX)\n",
      "Power Outage - West New Brighton (SI)\n",
      "Power Outage - Far Rockaway (QN)\n",
      "Power Outage - Meiers Corner (SI)\n",
      "Power Outage - Far Rockaway (QN)\n",
      "Power Outage - Gravesend (BK)\n",
      "Power Outage - Wakefield (BX)\n",
      "Power Outage - Rockaway (QN)\n",
      "Power Outage - Rockaway (QN)\n",
      "Power Outage - Rockaway (QN)\n",
      "Power Outage - Gun Hill (BX)\n",
      "Power Outage - Hollis Section (QN)\n",
      "Power Outage - Ozone Park (QN)\n",
      "Power Outage - Elmhurst (QN)\n",
      "Power Outage - Gravesend (BK)\n",
      "Power Outage - Sunnyside (SI)\n",
      "Power Outage - Throggs Neck (BX)\n",
      "Power Outage - Allerton Section (BX)\n",
      "Power Outage - Gravesend (BK)\n",
      "Power Outage - New Dorp (SI)\n",
      "Power Outage - Sheepshead Bay (BK\n",
      "Power Outage - Throggs Neck (BX)\n",
      "Power Outage - Starrett City (BK)\n",
      "Power Outage - Throggs Neck Section (BX)\n",
      "Power Outage - Douglaston (QN)\n",
      "Power Outage - Marine Park (BK)\n",
      "Power Outage - Linden Blvd & Montauk Ave (BK)\n",
      "Power Outage - Marine Park (BK)\n",
      "Power Outage - Dyker Heights (BK)\n",
      "Power Outage - Castle Hill (BX)\n",
      "Power Outage - Rockaway Beach (QN)\n",
      "Power Outage - Flushing (QN)\n",
      "Power Outage - Bayside (QN)\n",
      "Power Outage - Manor Heights (SI)\n",
      "Power Outage - Richmond Hill (SI)\n",
      "Power Outage - Dyker Heights (BK)\n",
      "Power Outage - Ozone Park (QN)\n",
      "Power Outage - Eltingville (SI)\n",
      "Manhole Fires With Power Outages - West 107th St & Broadway (MN)\n",
      "Power Outage - Middle Village (QN)\n",
      "Power Outage - Marine Park / Gerritsen Beach (BK)\n",
      "Power Outage - Tilden Loop (BK)\n",
      "Power Outage - Richmondtown (SI)\n",
      "Power Outage - 108th St & Sutter Ave (QN)\n",
      "Manhole Fires & Power Outage - Bedford Ave & Wallabout St (BK)\n",
      "Power Outage - Jackson Heights (QN)\n",
      "Power Outage - Middle Village (QN)\n",
      "Power Outage - Gravesend (BK)\n",
      "Power Outage - Hollis Section (QN)\n",
      "Power Outage - Greenridge (SI)\n",
      "Power Outage - Kips Bay (MN)\n",
      "Power Outage - Manhattan 10014 (MN)\n",
      "Power Outage - Parkchester Section (BX)\n",
      "Power Outage - Washington Heights (MN)\n",
      "Power Outage - Crown Heights (BK)\n",
      "Power Outage - Wakefield Section (BX)\n",
      "Power Outage - Crown Heights (BK)\n",
      "Power Outage - Staten Island (SI)\n",
      "Power Outage - Throgs Neck (BX)\n",
      "Power Outage - Throgs Neck (BX)\n",
      "Power Outage - Tottenville (SI)\n",
      "Power Outage - Northeast (BX)\n",
      "Power Outage - Throgs Neck (BK)\n",
      "Power Outage - Gerritsen Beach (BK)\n",
      "Power Outage - Throgs Neck (BX)\n",
      "Power Outage - Marine Park (BK)\n",
      "Power Outage - Wakefield (BX)\n",
      "Power Outage - Arden Heights (SI)\n",
      "Power Outage - Staten Island (SI)\n",
      "Power Outage - Marine Park Loop (BK)\n",
      "Power Outage - Rosebank Section (SI)\n",
      "Power Outage - Rosebank Section (SI)\n",
      "Power Outage - Bushwick Section (BK)\n",
      "Power Outage - Richmondtown (SI)\n",
      "Power Outage - Eltingville (SI)\n",
      "Power Outage - Wadsworth (SI)\n",
      "Power Outage - Laconia Section (BX)\n",
      "Power Outage - Glen Oaks (QN)\n",
      "Power Outage - Auburndale (QN)\n",
      "Power Outage - Westerleigh (SI)\n",
      "Power Outage - Allerton (BX)\n",
      "Power Outage - Juniper Valley (QN)\n",
      "Power Outage - South Ozone Park (QN)\n",
      "Power Outage - Dyker Heights (BK)\n",
      "Power Outage - Starrett City - Louisiana Avenue & Seaview Avenue (BK)\n",
      "Power Outage - Hollis (QN)\n",
      "Power Outage - Red Hook (BK)\n",
      "Power Outage - Great Kills (SI)\n",
      "Power Outage - St. George (SI)\n",
      "Power Outage - Middle Village (QN)\n",
      "Power Outage - Midwood Loop (BK)\n",
      "Power Outage - Dyker Heights (Bk)\n",
      "Power Outage - North East (BX)\n",
      "Power Outage - Eltingville (SI)\n",
      "Power Outage - North East (BX)\n",
      "Power Outage - Flushing (QN)\n",
      "Power Outage - Gravesend Section (BK)\n",
      "Power Outage - Travis (SI)\n",
      "Power Outage - Wakefield (BX)\n",
      "Power Outage - New Springville (SI)\n",
      "Power Outage - Great Kills (SI)\n",
      "Power Outage - Park Hill (SI)\n",
      "Power Outage - Canarsie (BK)\n",
      "Power Outage - East New York (BK)\n",
      "Power Outage - West 30th Street (MN)\n",
      "Power Outage - Laconia (BX)\n",
      "Power Outage - Marine Park (BK)\n",
      "Power Outage - Midwood (BK)\n",
      "Power Outage - Pelham Parkway (BX)\n",
      "Power Outage - Jackson Heights & Corona (QN)\n",
      "Power Outage - Bay Ridge (BK)\n",
      "Power Outage - Sunnyside (SI)\n",
      "Power Outage - Flatbush  (BK)\n",
      "Power Outage - Queens Village\n",
      "Power Outage - Starrett City (BK)\n",
      "Power Outage - Bayside (QN)\n",
      "Power Outage - Annadale Network (SI)\n",
      "Power Outage - Gravesend (BK)\n",
      "Power Outage - South Ozone Park (QN)\n",
      "Power Outage - Marine Park Loop (BK)\n",
      "Power Outage - Corona Heights (QN)\n",
      "Power Outage - Laurelton (QN)\n",
      "Power Outage - East New York (BK)\n",
      "Power Outage - Coney Island (BK)\n",
      "Power Outage - Hollis (QN)\n",
      "Power Outage -  Far Rockaway (QN)\n",
      "Power Outage - Wakefield (BX)\n",
      "Power Outage - South Ozone Park (QN)\n",
      "Power Outage - South Ozone Park (QN)\n",
      "Power Outage - Coney Island (BK)\n",
      "Power Outage - New Dorp (SI)\n",
      "Power Outage - Red Hook Network (BK)\n",
      "Power Outage - Hollis (QN)\n",
      "Power Outage in Manhattan Beach (BK)\n",
      "Power Outage - Woodrow Section (SI)\n",
      "Power Outage - Livonia Section (BK)\n",
      "Power Outage - Geritsen Beach (BK)\n",
      "Power Outage - Gravesend (BK)\n",
      "Power Outage - Gun Hill (BX)\n",
      "Power Outage - Totenville (SI)\n",
      "Power Outage -  Glen Oaks (QN)\n",
      "Power Outage - Hollis (QN)\n",
      "Power Outage - Greenridge (SI)\n",
      "Power Outage - Far Rockaway (QN)\n",
      "Power Outage - Staten Island\n",
      "Power Outage in the Rockaways - PSEG Service Area (QN)\n",
      "Power Outage - Carroll Gardens (BK)\n",
      "Power Outage in Staten Island (SI)\n",
      "Power Outage - Wainwright (SI)\n",
      "Power Outage - Allerton Network (BX)\n",
      "Power Outage - Juniper Valley (QN)\n",
      "Power Outage in Staten Island (SI)\n",
      "Power Outage - Zip Code 11224 (BK)\n",
      "Power Outage - Ozone Park (QN)\n",
      "Power Outage - Ozone Park (QN)\n",
      "Power Outage - North East (BX)\n",
      "Power Outage - Zip Codes 11234 & 11203 (BK)\n",
      "Power Outage - Throgneck (BX)\n",
      "Power Outage - Bayside (QN)\n",
      "Power Outage - Allerton (BX)\n",
      "Power Outage - Allerton (BX)\n",
      "Power Outage (BK)\n",
      "Power Outage in Staten Island Zip Code 10310 (SI)\n",
      "Power Outage - Staten Island ZIP 10314 (SI)\n",
      "Power Outage - Middle Village (QN)\n",
      "Power Outage in the Rockaways - PSE&G Service Area (QU)\n",
      "Power Outage in Staten Island - 10314 (SI)\n",
      "Power Outage - Pelham Bay (BX)\n",
      "Power Outage in The Bronx (BX)\n",
      "Power Outage - ZIP Code 10312 (SI)\n",
      "Power Outage - East New York (BK)\n",
      "Power Outage - SoHo (MN)\n",
      "Power Outage - Throggs Neck (BX)\n",
      "Power Outage in the Rockaways - PSE&G Service Area (QU)\n",
      "Power Outage - Juniper Valley (QU)\n",
      "Power Outage - Rosedale (QN)\n",
      "Power Outage - Springfield (SI)\n",
      "Power Outage in the Rockaways - PSE&G Service Area (QU)\n",
      "Power Outage - Dyker Loop (BK)\n",
      "Power Outage - Zip Codes 11373, 11378, 11379 (QN)\n",
      "Power Outage in Staten Island - 10306 (SI)\n",
      "Power Outage in Staten Island - 10308 (SI)\n",
      "Power Outage in Staten Island - 10312 & 10314 (SI)\n",
      "Power Outage - Zip Codes 11412 & 11423 (QN)\n",
      "Power Outage - ZIP Code 11414 (QN)\n",
      "Power Outage - Bayside (QN)\n",
      "Power Outage - ZIP Code 10312 (SI)\n",
      "Power Outage - Hollis (QU)\n",
      "Power Outage - ZIP codes 10304 & 10305 (SI)\n",
      "Power Outage - ZIP Code 11426 (QN)\n",
      "Power Outage (SI)\n",
      "Power Outage - Pelham Gardens (BX)\n",
      "Power Outage - Middle Village (QN)\n",
      "Power Outage - Far Rockaway (QN)\n",
      "Power Outage - Far Rockaway (QN)\n",
      "Power Outage - East Flatbush (BK)\n",
      "Power Outage - Williamsbridge (BX)\n",
      "Power Outage - Laconia Section (BX)\n",
      "Power Outage - Country Club (BX)\n",
      "Power Outage - Whitestone Section (QU)\n",
      "Power Outage (SI)\n",
      "Power Outage (SI)\n",
      "Power Outage - Zip Codes 10466 & 10470 (BX)\n",
      "Power Outages in Staten Island (SI)\n",
      "Power Outage - Country Club (BX)\n",
      "Power Outage in Middle Village (QU)\n",
      "Power Outage - Eltingville (SI)\n",
      "Power Outage - Williamsbridge Area (BX)\n",
      "Power Outage SI\n",
      "LIPA Power Outage - Far Rockaway (QN)\n",
      "Power Outage - Glen Oaks (QN)\n",
      "Power Outage (BX)\n",
      "Power Outage - Tottenville (SI)\n",
      "Power Outage (SI)\n",
      "Power Outage (SI)\n",
      "Power Outage, ZIP Codes 10304 & 10305 (SI)\n",
      "Power Outage - Wakefield Section (BX)\n",
      "Power Outage (BX)\n",
      "Power Outage, ZIP Code 10314 (SI)\n",
      "Power Outage - Far Rockaway (QN)\n",
      "Power Outage QN\n",
      "Power Outage (SI)\n",
      "Power Outage BK\n",
      "Power Outage (BX)\n",
      "Power Outage - Middle Village (QN)\n",
      "Power Outage (SI)\n",
      "Power Outage in Rockaway Peninsula (QN)\n",
      "Roosevelt Island Power Outage (MN)\n",
      "Power Outage - Staten Island\n",
      "Roosevelt Island Power Outage (MN)\n",
      "Power Outage - Roosevelt Island (MN)\n",
      "Power Outage (SI)\n",
      "Power Outage - 10302 (SI)\n",
      "Power Outage - Hollis (QN)\n",
      "Power Outage - Port Richmond/Willowbrook (SI)\n",
      "Power Outage (BK)\n",
      "Power Outage (SI)\n",
      "Power Outage (SI)\n",
      "Planned Power Outage - The Rockaways (QN)\n",
      "Power Outage (QN)\n",
      "Power Outage (SI)\n",
      "Power Outage (SI)\n",
      "Power Outage - East Flushing (QN)\n",
      "Power Outage - Woodlawn/Wakefield (BX)\n",
      "Power Outage - Wakefield (BX)\n",
      "Power Outage (QN)\n",
      "Power Outage (QN)\n",
      "National Grid Power Outage\n",
      "Power Outage - South Beach (SI)\n",
      "Power Outage - Great Kills (SI)\n",
      "Power Outage - New Springfield (SI)\n",
      "Power Outage - South Ozone Park (QN)\n",
      "Power Outage (SI)\n",
      "Power Outage (QU)\n",
      "Power Outage (SI)\n",
      "Power Outage\n",
      "Power Outage - Middle Village (QN)\n",
      "Power Outage - Baychester (BX)\n",
      "Power Outage - Van Nest (BX)\n",
      "Power Outage in Rockaway Beach (QN)\n",
      "Power Outage - New Springfield (SI)\n",
      "Power Outage - Eltingville (SI)\n",
      "Power Outage College Point (QN)\n",
      "Power Outage (BK)\n",
      "Power Outage (BX)\n",
      "Power Outage in Rockaway Beach (QN)\n",
      "Power Outage - Staten Island\n",
      "Power Outage - Manhattan\n",
      "Con Ed Power Outages (MN)\n",
      "Power Outage - (QN)\n",
      "Power Outage - Tilden Loop (BK)\n",
      "Power Outage - Middle Village (QU)\n",
      "Power Outage - Eltingville (SI)\n",
      "Power Outage - South Ozone (QN)\n",
      "Power Outage - Eastchester (BX)\n",
      "Power Outage - Dongan Hill (SI)\n",
      "Power Outage - Gerritsen/Marine Park (BK)\n",
      "Power Outage - Old Town (SI)\n",
      "Power Outage - Staten Island University Hospital (SI)\n",
      "Power Outage - Dongan Hills (SI)\n",
      "Power Outage - Hollis, QN\n",
      "Power Outage - Rockaway Park (QN)\n",
      "Power Outage - Woodlawn (BX)\n",
      "Power Outage Kingsbay/Gerritsen beach (BK)\n",
      "Power Outage in Rosedale (QN)\n",
      "Power Outage - Hollis (QN)\n",
      "Power Outage - Coop City (BX)\n",
      "Power Outage in Port Richmond (SI)\n",
      "Power Outage in Middle Village (QN)\n",
      "Power Outage -  Eltingville/Lighthouse Hill (SI)\n",
      "Power Outage - Jamaica (QN)\n",
      "Power Outage - Hollis (QN)\n",
      "Power Outage - City Island (BX)\n",
      "Power Outage - Fort George (MN)\n",
      "Power Outage - Marine Park (BK)\n",
      "Power Outage - Fresh Kills (SI)\n",
      "Power Outage -  Northeast section (BX)\n",
      "Power Outage - Queens Village (QU)\n",
      "Power Outage - City Island (BX)\n",
      "Power Outage - Willowbrook and Todt Hill Sections (SI)\n",
      "Power Outage - Marine Park (BK)\n",
      "Power Outage - Maspeth Section (QN)\n",
      "Power Outage - Laurelton Section (QU)\n",
      "Power Outage - Flatbush Section (BK)\n",
      "Power Outage - Far Rockaway - Queens\n",
      "Power Outage - Williamsbridge (BX)\n",
      "Power Outage - Jamaica (QN)\n",
      "Power Outage - Eltingville (SI)\n",
      "Power Outage - Richmond Hill (QN)\n",
      "Power Outage - Huguenot (SI)\n",
      "Power Outage - Ozone Park (QN)\n",
      "Power Outage - Co-Op City (BX)\n",
      "Power Outage - New Springville (SI)\n",
      "Power Outage - Fresh Kills (SI)\n",
      "Power Outage - Ozone Park (QN)\n",
      "Power Outage - Far Rockaway - Queens\n",
      "Power Outage (SI)\n",
      "Power Outage - Auburndale (QN)\n",
      "Power Outage - Country Club (BX)\n",
      "Power Outage - Great Kills (SI)\n",
      "Power Outage - Ellingtonville section of Staten Island\n",
      "Power Outage\n",
      "Power Outage - Throgs Neck (BX)\n",
      "Power Outage - Mill Basin Area\n"
     ]
    }
   ],
   "source": [
    "for notification in open_nyc['Notification Title']:\n",
    "    print(notification)"
   ]
  },
  {
   "cell_type": "code",
   "execution_count": null,
   "metadata": {},
   "outputs": [],
   "source": []
  }
 ],
 "metadata": {
  "kernelspec": {
   "display_name": "Python 3",
   "language": "python",
   "name": "python3"
  },
  "language_info": {
   "codemirror_mode": {
    "name": "ipython",
    "version": 3
   },
   "file_extension": ".py",
   "mimetype": "text/x-python",
   "name": "python",
   "nbconvert_exporter": "python",
   "pygments_lexer": "ipython3",
   "version": "3.6.8"
  },
  "varInspector": {
   "cols": {
    "lenName": 16,
    "lenType": 16,
    "lenVar": 40
   },
   "kernels_config": {
    "python": {
     "delete_cmd_postfix": "",
     "delete_cmd_prefix": "del ",
     "library": "var_list.py",
     "varRefreshCmd": "print(var_dic_list())"
    },
    "r": {
     "delete_cmd_postfix": ") ",
     "delete_cmd_prefix": "rm(",
     "library": "var_list.r",
     "varRefreshCmd": "cat(var_dic_list()) "
    }
   },
   "types_to_exclude": [
    "module",
    "function",
    "builtin_function_or_method",
    "instance",
    "_Feature"
   ],
   "window_display": false
  }
 },
 "nbformat": 4,
 "nbformat_minor": 2
}
